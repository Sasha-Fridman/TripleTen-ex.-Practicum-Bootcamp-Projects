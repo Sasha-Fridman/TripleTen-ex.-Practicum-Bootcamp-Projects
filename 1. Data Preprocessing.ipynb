{
 "cells": [
  {
   "cell_type": "markdown",
   "metadata": {},
   "source": [
    "# Table of Contents\n",
    "\n",
    "1. [📖 Project Description](#Project-Description)\n",
    "2. [📚 Loading Data and Libraries](#📚-loading-data-and-libraries)\n",
    "3. [🔍 Data Exploration](#🔍-data-exploration)\n",
    "   - [Description of the data](#description-of-the-data)\n",
    "   - [Overall Observation](#overall-observation)\n",
    "   - [Conclusions](#conclusions)\n",
    "4. [🛠️ Data Transformation](#🛠️-data-transformation)\n",
    "5. [🛠️ Treating Missing Values](#🛠️-treating-missing-values)\n",
    "   - [Restoring missing Values in `total_income`](#restoring-missing-values-in-total_income)\n",
    "   - [Restoring Values in `days_employed`](#restoring-values-in-days_employed)\n",
    "6. [🛠️ Categorization of data](#🛠️-categorization-of-data)\n",
    "7. [🧪 Checking the Hypotheses](#🧪-checking-the-hypotheses)\n",
    "   - [Is there a correlation between having children and paying back on time?](#is-there-a-correlation-between-having-children-and-paying-back-on-time)\n",
    "   - [Is there a correlation between family status and paying back on time?](#is-there-a-correlation-between-family-status-and-paying-back-on-time)\n",
    "   - [Is there a correlation between income level and paying back on time?](#is-there-a-correlation-between-income-level-and-paying-back-on-time)\n",
    "   - [How does credit purpose affect the default rate?](#how-does-credit-purpose-affect-the-default-rate)\n",
    "   - [Combinations of Categories and Default Rate](#combinations-of-categories-and-default-rate)\n",
    "8. [📝 General Conclusions and Recommendations](#📝-general-conclusions-and-recommendations)\n",
    "   - [Data Cleaning Process](#data-cleaning-process)\n",
    "   - [Analysis](#analysis)\n",
    "   - [Conclusions on Hypotheses](#conclusions-on-hypotheses)\n",
    "   - [💡 A valuable insight](#💡-a-valuable-insight)\n",
    "   - [🎯 Recommendations](#🎯-recommendations)"
   ]
  },
  {
   "cell_type": "markdown",
   "metadata": {},
   "source": [
    "***"
   ]
  },
  {
   "cell_type": "markdown",
   "metadata": {},
   "source": [
    "# Borrower Reliability Analysis\n",
    "\n",
    "by Sasha Fridman, March 2024\n",
    "\n",
    "***\n",
    "\n",
    "## 📖 Project Description <a name=\"Project-Description\"></a>\n",
    "**The task is to prepare a report for a bank’s loan division.** We’ll need to find out if a customer’s marital status and number of children has an impact on whether they will default on a loan. The bank already has some data on customers’ credit worthiness.\n",
    "\n",
    "The **credit score** is used to evaluate the **ability** of a potential borrower **to repay a loan**."
   ]
  },
  {
   "cell_type": "markdown",
   "metadata": {},
   "source": [
    "We've got the following **questions to be answered:**\n",
    "1. Is there **a connection between having kids and repaying a loan on time**?\n",
    "1. Is there **a connection between marital status and repaying a loan on time**?\n",
    "1. Is there **la connection between income level and repaying a loan on time**?\n",
    "1. How do different **loan purposes affect on-time loan repayment**?\n",
    "\n",
    "Let's investigate the data, keeping in mind our goals."
   ]
  },
  {
   "cell_type": "markdown",
   "metadata": {},
   "source": [
    "## 📚 Loading Data and Libraries"
   ]
  },
  {
   "cell_type": "code",
   "execution_count": 1,
   "metadata": {},
   "outputs": [
    {
     "name": "stdout",
     "output_type": "stream",
     "text": [
      "Requirement already satisfied: sidetable in c:\\users\\4from\\anaconda3\\lib\\site-packages (0.9.0)\n",
      "Requirement already satisfied: pandas>=1.0 in c:\\users\\4from\\anaconda3\\lib\\site-packages (from sidetable) (2.0.3)\n",
      "Requirement already satisfied: python-dateutil>=2.8.2 in c:\\users\\4from\\anaconda3\\lib\\site-packages (from pandas>=1.0->sidetable) (2.8.2)\n",
      "Requirement already satisfied: pytz>=2020.1 in c:\\users\\4from\\anaconda3\\lib\\site-packages (from pandas>=1.0->sidetable) (2022.7)\n",
      "Requirement already satisfied: tzdata>=2022.1 in c:\\users\\4from\\anaconda3\\lib\\site-packages (from pandas>=1.0->sidetable) (2023.3)\n",
      "Requirement already satisfied: numpy>=1.20.3 in c:\\users\\4from\\anaconda3\\lib\\site-packages (from pandas>=1.0->sidetable) (1.24.3)\n",
      "Requirement already satisfied: six>=1.5 in c:\\users\\4from\\anaconda3\\lib\\site-packages (from python-dateutil>=2.8.2->pandas>=1.0->sidetable) (1.16.0)\n",
      "Note: you may need to restart the kernel to use updated packages.\n"
     ]
    }
   ],
   "source": [
    "pip install sidetable"
   ]
  },
  {
   "cell_type": "code",
   "execution_count": 2,
   "metadata": {},
   "outputs": [],
   "source": [
    "# Loading all the libraries\n",
    "import pandas as pd\n",
    "import numpy as np\n",
    "import seaborn as sns\n",
    "sns.set(font_scale=1.2) #changing font size\n",
    "import sidetable as stb\n",
    "import nltk\n",
    "from nltk.stem import WordNetLemmatizer\n",
    "wordnet_lemma = WordNetLemmatizer()\n",
    "\n",
    "# Printing more than 1 output\n",
    "from IPython.core.interactiveshell import InteractiveShell\n",
    "InteractiveShell.ast_node_interactivity = 'all'"
   ]
  },
  {
   "cell_type": "code",
   "execution_count": 3,
   "metadata": {},
   "outputs": [],
   "source": [
    "# Loading the data (making possible working through different connections)\n",
    "try:\n",
    "    data = pd.read_csv(r'C:\\Users\\4from\\Desktop\\Practicum\\2 Data preprocessing\\credit_scoring_eng.csv')\n",
    "except:\n",
    "    data = pd.read_csv('/datasets/credit_scoring_eng.csv')"
   ]
  },
  {
   "cell_type": "markdown",
   "metadata": {
    "slideshow": {
     "slide_type": ""
    },
    "tags": []
   },
   "source": [
    "## 🔍 Data Exploration"
   ]
  },
  {
   "cell_type": "markdown",
   "metadata": {},
   "source": [
    "### Description of the data\n",
    "\n",
    "File: `credit_scoring_eng.csv` includes the following fields:\n",
    "\n",
    "- `children` - the number of children in the family\n",
    "- `days_employed` - work experience in days\n",
    "- `dob_years` - client's age in years\n",
    "- `education` - client's education\n",
    "- `education_id` - education identifier\n",
    "- `family_status` - marital status\n",
    "- `family_status_id` - marital status identifier\n",
    "- `gender` - gender of the client\n",
    "- `income_type` - type of employment\n",
    "- `debt` - was there any debt on loan repayment\n",
    "- `total_income` - monthly income\n",
    "- `purpose` - the purpose of obtaining a loan"
   ]
  },
  {
   "cell_type": "markdown",
   "metadata": {},
   "source": [
    "### Overall Observation"
   ]
  },
  {
   "cell_type": "code",
   "execution_count": 4,
   "metadata": {},
   "outputs": [
    {
     "name": "stdout",
     "output_type": "stream",
     "text": [
      "<class 'pandas.core.frame.DataFrame'>\n",
      "RangeIndex: 21525 entries, 0 to 21524\n",
      "Data columns (total 12 columns):\n",
      " #   Column            Non-Null Count  Dtype  \n",
      "---  ------            --------------  -----  \n",
      " 0   children          21525 non-null  int64  \n",
      " 1   days_employed     19351 non-null  float64\n",
      " 2   dob_years         21525 non-null  int64  \n",
      " 3   education         21525 non-null  object \n",
      " 4   education_id      21525 non-null  int64  \n",
      " 5   family_status     21525 non-null  object \n",
      " 6   family_status_id  21525 non-null  int64  \n",
      " 7   gender            21525 non-null  object \n",
      " 8   income_type       21525 non-null  object \n",
      " 9   debt              21525 non-null  int64  \n",
      " 10  total_income      19351 non-null  float64\n",
      " 11  purpose           21525 non-null  object \n",
      "dtypes: float64(2), int64(5), object(5)\n",
      "memory usage: 2.0+ MB\n"
     ]
    }
   ],
   "source": [
    "# Let's see how many rows and columns our dataset has\n",
    "data.info()"
   ]
  },
  {
   "cell_type": "markdown",
   "metadata": {},
   "source": [
    " - **2 out of 11 columns have obvious missing values: `days_employed` and `total_income`**\n",
    "- data types are OK (relevant to the data characteristics). Meanwhile, it would be better to transform floats into integers. We can do it later on after getting rid of missing values (that can cause errors when proceeding with transformation)."
   ]
  },
  {
   "cell_type": "code",
   "execution_count": 5,
   "metadata": {},
   "outputs": [
    {
     "data": {
      "text/html": [
       "<div>\n",
       "<style scoped>\n",
       "    .dataframe tbody tr th:only-of-type {\n",
       "        vertical-align: middle;\n",
       "    }\n",
       "\n",
       "    .dataframe tbody tr th {\n",
       "        vertical-align: top;\n",
       "    }\n",
       "\n",
       "    .dataframe thead th {\n",
       "        text-align: right;\n",
       "    }\n",
       "</style>\n",
       "<table border=\"1\" class=\"dataframe\">\n",
       "  <thead>\n",
       "    <tr style=\"text-align: right;\">\n",
       "      <th></th>\n",
       "      <th>children</th>\n",
       "      <th>days_employed</th>\n",
       "      <th>dob_years</th>\n",
       "      <th>education_id</th>\n",
       "      <th>family_status_id</th>\n",
       "      <th>debt</th>\n",
       "      <th>total_income</th>\n",
       "    </tr>\n",
       "  </thead>\n",
       "  <tbody>\n",
       "    <tr>\n",
       "      <th>count</th>\n",
       "      <td>21525.000000</td>\n",
       "      <td>19351.000000</td>\n",
       "      <td>21525.000000</td>\n",
       "      <td>21525.000000</td>\n",
       "      <td>21525.000000</td>\n",
       "      <td>21525.000000</td>\n",
       "      <td>19351.000000</td>\n",
       "    </tr>\n",
       "    <tr>\n",
       "      <th>mean</th>\n",
       "      <td>0.538908</td>\n",
       "      <td>63046.497661</td>\n",
       "      <td>43.293380</td>\n",
       "      <td>0.817236</td>\n",
       "      <td>0.972544</td>\n",
       "      <td>0.080883</td>\n",
       "      <td>26787.568355</td>\n",
       "    </tr>\n",
       "    <tr>\n",
       "      <th>std</th>\n",
       "      <td>1.381587</td>\n",
       "      <td>140827.311974</td>\n",
       "      <td>12.574584</td>\n",
       "      <td>0.548138</td>\n",
       "      <td>1.420324</td>\n",
       "      <td>0.272661</td>\n",
       "      <td>16475.450632</td>\n",
       "    </tr>\n",
       "    <tr>\n",
       "      <th>min</th>\n",
       "      <td>-1.000000</td>\n",
       "      <td>-18388.949901</td>\n",
       "      <td>0.000000</td>\n",
       "      <td>0.000000</td>\n",
       "      <td>0.000000</td>\n",
       "      <td>0.000000</td>\n",
       "      <td>3306.762000</td>\n",
       "    </tr>\n",
       "    <tr>\n",
       "      <th>25%</th>\n",
       "      <td>0.000000</td>\n",
       "      <td>-2747.423625</td>\n",
       "      <td>33.000000</td>\n",
       "      <td>1.000000</td>\n",
       "      <td>0.000000</td>\n",
       "      <td>0.000000</td>\n",
       "      <td>16488.504500</td>\n",
       "    </tr>\n",
       "    <tr>\n",
       "      <th>50%</th>\n",
       "      <td>0.000000</td>\n",
       "      <td>-1203.369529</td>\n",
       "      <td>42.000000</td>\n",
       "      <td>1.000000</td>\n",
       "      <td>0.000000</td>\n",
       "      <td>0.000000</td>\n",
       "      <td>23202.870000</td>\n",
       "    </tr>\n",
       "    <tr>\n",
       "      <th>75%</th>\n",
       "      <td>1.000000</td>\n",
       "      <td>-291.095954</td>\n",
       "      <td>53.000000</td>\n",
       "      <td>1.000000</td>\n",
       "      <td>1.000000</td>\n",
       "      <td>0.000000</td>\n",
       "      <td>32549.611000</td>\n",
       "    </tr>\n",
       "    <tr>\n",
       "      <th>max</th>\n",
       "      <td>20.000000</td>\n",
       "      <td>401755.400475</td>\n",
       "      <td>75.000000</td>\n",
       "      <td>4.000000</td>\n",
       "      <td>4.000000</td>\n",
       "      <td>1.000000</td>\n",
       "      <td>362496.645000</td>\n",
       "    </tr>\n",
       "  </tbody>\n",
       "</table>\n",
       "</div>"
      ],
      "text/plain": [
       "           children  days_employed     dob_years  education_id  \\\n",
       "count  21525.000000   19351.000000  21525.000000  21525.000000   \n",
       "mean       0.538908   63046.497661     43.293380      0.817236   \n",
       "std        1.381587  140827.311974     12.574584      0.548138   \n",
       "min       -1.000000  -18388.949901      0.000000      0.000000   \n",
       "25%        0.000000   -2747.423625     33.000000      1.000000   \n",
       "50%        0.000000   -1203.369529     42.000000      1.000000   \n",
       "75%        1.000000    -291.095954     53.000000      1.000000   \n",
       "max       20.000000  401755.400475     75.000000      4.000000   \n",
       "\n",
       "       family_status_id          debt   total_income  \n",
       "count      21525.000000  21525.000000   19351.000000  \n",
       "mean           0.972544      0.080883   26787.568355  \n",
       "std            1.420324      0.272661   16475.450632  \n",
       "min            0.000000      0.000000    3306.762000  \n",
       "25%            0.000000      0.000000   16488.504500  \n",
       "50%            0.000000      0.000000   23202.870000  \n",
       "75%            1.000000      0.000000   32549.611000  \n",
       "max            4.000000      1.000000  362496.645000  "
      ]
     },
     "execution_count": 5,
     "metadata": {},
     "output_type": "execute_result"
    }
   ],
   "source": [
    "# Let's see the main descriptive statistics of data\n",
    "data.describe()"
   ]
  },
  {
   "cell_type": "markdown",
   "metadata": {},
   "source": [
    "Here we see the following issues:\n",
    "- **negative values in the `children` column**\n",
    "- **doubtfully high maximum number of children** (taking in account relatively low number of mean and upper quartile)\n",
    "- **negative values in the 'days_employed' column**\n",
    "- **enormous numbers in the 'days_employed' column** (days employed worth of several human lives)"
   ]
  },
  {
   "cell_type": "code",
   "execution_count": 6,
   "metadata": {
    "scrolled": true
   },
   "outputs": [
    {
     "data": {
      "text/html": [
       "<div>\n",
       "<style scoped>\n",
       "    .dataframe tbody tr th:only-of-type {\n",
       "        vertical-align: middle;\n",
       "    }\n",
       "\n",
       "    .dataframe tbody tr th {\n",
       "        vertical-align: top;\n",
       "    }\n",
       "\n",
       "    .dataframe thead th {\n",
       "        text-align: right;\n",
       "    }\n",
       "</style>\n",
       "<table border=\"1\" class=\"dataframe\">\n",
       "  <thead>\n",
       "    <tr style=\"text-align: right;\">\n",
       "      <th></th>\n",
       "      <th>children</th>\n",
       "      <th>days_employed</th>\n",
       "      <th>dob_years</th>\n",
       "      <th>education</th>\n",
       "      <th>education_id</th>\n",
       "      <th>family_status</th>\n",
       "      <th>family_status_id</th>\n",
       "      <th>gender</th>\n",
       "      <th>income_type</th>\n",
       "      <th>debt</th>\n",
       "      <th>total_income</th>\n",
       "      <th>purpose</th>\n",
       "    </tr>\n",
       "  </thead>\n",
       "  <tbody>\n",
       "    <tr>\n",
       "      <th>0</th>\n",
       "      <td>1</td>\n",
       "      <td>-8437.673028</td>\n",
       "      <td>42</td>\n",
       "      <td>bachelor's degree</td>\n",
       "      <td>0</td>\n",
       "      <td>married</td>\n",
       "      <td>0</td>\n",
       "      <td>F</td>\n",
       "      <td>employee</td>\n",
       "      <td>0</td>\n",
       "      <td>40620.102</td>\n",
       "      <td>purchase of the house</td>\n",
       "    </tr>\n",
       "    <tr>\n",
       "      <th>1</th>\n",
       "      <td>1</td>\n",
       "      <td>-4024.803754</td>\n",
       "      <td>36</td>\n",
       "      <td>secondary education</td>\n",
       "      <td>1</td>\n",
       "      <td>married</td>\n",
       "      <td>0</td>\n",
       "      <td>F</td>\n",
       "      <td>employee</td>\n",
       "      <td>0</td>\n",
       "      <td>17932.802</td>\n",
       "      <td>car purchase</td>\n",
       "    </tr>\n",
       "    <tr>\n",
       "      <th>2</th>\n",
       "      <td>0</td>\n",
       "      <td>-5623.422610</td>\n",
       "      <td>33</td>\n",
       "      <td>Secondary Education</td>\n",
       "      <td>1</td>\n",
       "      <td>married</td>\n",
       "      <td>0</td>\n",
       "      <td>M</td>\n",
       "      <td>employee</td>\n",
       "      <td>0</td>\n",
       "      <td>23341.752</td>\n",
       "      <td>purchase of the house</td>\n",
       "    </tr>\n",
       "    <tr>\n",
       "      <th>3</th>\n",
       "      <td>3</td>\n",
       "      <td>-4124.747207</td>\n",
       "      <td>32</td>\n",
       "      <td>secondary education</td>\n",
       "      <td>1</td>\n",
       "      <td>married</td>\n",
       "      <td>0</td>\n",
       "      <td>M</td>\n",
       "      <td>employee</td>\n",
       "      <td>0</td>\n",
       "      <td>42820.568</td>\n",
       "      <td>supplementary education</td>\n",
       "    </tr>\n",
       "    <tr>\n",
       "      <th>4</th>\n",
       "      <td>0</td>\n",
       "      <td>340266.072047</td>\n",
       "      <td>53</td>\n",
       "      <td>secondary education</td>\n",
       "      <td>1</td>\n",
       "      <td>civil partnership</td>\n",
       "      <td>1</td>\n",
       "      <td>F</td>\n",
       "      <td>retiree</td>\n",
       "      <td>0</td>\n",
       "      <td>25378.572</td>\n",
       "      <td>to have a wedding</td>\n",
       "    </tr>\n",
       "    <tr>\n",
       "      <th>5</th>\n",
       "      <td>0</td>\n",
       "      <td>-926.185831</td>\n",
       "      <td>27</td>\n",
       "      <td>bachelor's degree</td>\n",
       "      <td>0</td>\n",
       "      <td>civil partnership</td>\n",
       "      <td>1</td>\n",
       "      <td>M</td>\n",
       "      <td>business</td>\n",
       "      <td>0</td>\n",
       "      <td>40922.170</td>\n",
       "      <td>purchase of the house</td>\n",
       "    </tr>\n",
       "    <tr>\n",
       "      <th>6</th>\n",
       "      <td>0</td>\n",
       "      <td>-2879.202052</td>\n",
       "      <td>43</td>\n",
       "      <td>bachelor's degree</td>\n",
       "      <td>0</td>\n",
       "      <td>married</td>\n",
       "      <td>0</td>\n",
       "      <td>F</td>\n",
       "      <td>business</td>\n",
       "      <td>0</td>\n",
       "      <td>38484.156</td>\n",
       "      <td>housing transactions</td>\n",
       "    </tr>\n",
       "    <tr>\n",
       "      <th>7</th>\n",
       "      <td>0</td>\n",
       "      <td>-152.779569</td>\n",
       "      <td>50</td>\n",
       "      <td>SECONDARY EDUCATION</td>\n",
       "      <td>1</td>\n",
       "      <td>married</td>\n",
       "      <td>0</td>\n",
       "      <td>M</td>\n",
       "      <td>employee</td>\n",
       "      <td>0</td>\n",
       "      <td>21731.829</td>\n",
       "      <td>education</td>\n",
       "    </tr>\n",
       "    <tr>\n",
       "      <th>8</th>\n",
       "      <td>2</td>\n",
       "      <td>-6929.865299</td>\n",
       "      <td>35</td>\n",
       "      <td>BACHELOR'S DEGREE</td>\n",
       "      <td>0</td>\n",
       "      <td>civil partnership</td>\n",
       "      <td>1</td>\n",
       "      <td>F</td>\n",
       "      <td>employee</td>\n",
       "      <td>0</td>\n",
       "      <td>15337.093</td>\n",
       "      <td>having a wedding</td>\n",
       "    </tr>\n",
       "    <tr>\n",
       "      <th>9</th>\n",
       "      <td>0</td>\n",
       "      <td>-2188.756445</td>\n",
       "      <td>41</td>\n",
       "      <td>secondary education</td>\n",
       "      <td>1</td>\n",
       "      <td>married</td>\n",
       "      <td>0</td>\n",
       "      <td>M</td>\n",
       "      <td>employee</td>\n",
       "      <td>0</td>\n",
       "      <td>23108.150</td>\n",
       "      <td>purchase of the house for my family</td>\n",
       "    </tr>\n",
       "    <tr>\n",
       "      <th>10</th>\n",
       "      <td>2</td>\n",
       "      <td>-4171.483647</td>\n",
       "      <td>36</td>\n",
       "      <td>bachelor's degree</td>\n",
       "      <td>0</td>\n",
       "      <td>married</td>\n",
       "      <td>0</td>\n",
       "      <td>M</td>\n",
       "      <td>business</td>\n",
       "      <td>0</td>\n",
       "      <td>18230.959</td>\n",
       "      <td>buy real estate</td>\n",
       "    </tr>\n",
       "    <tr>\n",
       "      <th>11</th>\n",
       "      <td>0</td>\n",
       "      <td>-792.701887</td>\n",
       "      <td>40</td>\n",
       "      <td>secondary education</td>\n",
       "      <td>1</td>\n",
       "      <td>married</td>\n",
       "      <td>0</td>\n",
       "      <td>F</td>\n",
       "      <td>employee</td>\n",
       "      <td>0</td>\n",
       "      <td>12331.077</td>\n",
       "      <td>buy commercial real estate</td>\n",
       "    </tr>\n",
       "    <tr>\n",
       "      <th>12</th>\n",
       "      <td>0</td>\n",
       "      <td>NaN</td>\n",
       "      <td>65</td>\n",
       "      <td>secondary education</td>\n",
       "      <td>1</td>\n",
       "      <td>civil partnership</td>\n",
       "      <td>1</td>\n",
       "      <td>M</td>\n",
       "      <td>retiree</td>\n",
       "      <td>0</td>\n",
       "      <td>NaN</td>\n",
       "      <td>to have a wedding</td>\n",
       "    </tr>\n",
       "    <tr>\n",
       "      <th>13</th>\n",
       "      <td>0</td>\n",
       "      <td>-1846.641941</td>\n",
       "      <td>54</td>\n",
       "      <td>some college</td>\n",
       "      <td>2</td>\n",
       "      <td>married</td>\n",
       "      <td>0</td>\n",
       "      <td>F</td>\n",
       "      <td>employee</td>\n",
       "      <td>0</td>\n",
       "      <td>20873.317</td>\n",
       "      <td>car purchase</td>\n",
       "    </tr>\n",
       "    <tr>\n",
       "      <th>14</th>\n",
       "      <td>0</td>\n",
       "      <td>-1844.956182</td>\n",
       "      <td>56</td>\n",
       "      <td>bachelor's degree</td>\n",
       "      <td>0</td>\n",
       "      <td>civil partnership</td>\n",
       "      <td>1</td>\n",
       "      <td>F</td>\n",
       "      <td>business</td>\n",
       "      <td>1</td>\n",
       "      <td>26420.466</td>\n",
       "      <td>buy residential real estate</td>\n",
       "    </tr>\n",
       "    <tr>\n",
       "      <th>15</th>\n",
       "      <td>1</td>\n",
       "      <td>-972.364419</td>\n",
       "      <td>26</td>\n",
       "      <td>secondary education</td>\n",
       "      <td>1</td>\n",
       "      <td>married</td>\n",
       "      <td>0</td>\n",
       "      <td>F</td>\n",
       "      <td>employee</td>\n",
       "      <td>0</td>\n",
       "      <td>18691.345</td>\n",
       "      <td>construction of own property</td>\n",
       "    </tr>\n",
       "    <tr>\n",
       "      <th>16</th>\n",
       "      <td>0</td>\n",
       "      <td>-1719.934226</td>\n",
       "      <td>35</td>\n",
       "      <td>secondary education</td>\n",
       "      <td>1</td>\n",
       "      <td>married</td>\n",
       "      <td>0</td>\n",
       "      <td>F</td>\n",
       "      <td>employee</td>\n",
       "      <td>0</td>\n",
       "      <td>46272.433</td>\n",
       "      <td>property</td>\n",
       "    </tr>\n",
       "    <tr>\n",
       "      <th>17</th>\n",
       "      <td>0</td>\n",
       "      <td>-2369.999720</td>\n",
       "      <td>33</td>\n",
       "      <td>bachelor's degree</td>\n",
       "      <td>0</td>\n",
       "      <td>civil partnership</td>\n",
       "      <td>1</td>\n",
       "      <td>M</td>\n",
       "      <td>employee</td>\n",
       "      <td>0</td>\n",
       "      <td>14465.694</td>\n",
       "      <td>building a property</td>\n",
       "    </tr>\n",
       "    <tr>\n",
       "      <th>18</th>\n",
       "      <td>0</td>\n",
       "      <td>400281.136913</td>\n",
       "      <td>53</td>\n",
       "      <td>secondary education</td>\n",
       "      <td>1</td>\n",
       "      <td>widow / widower</td>\n",
       "      <td>2</td>\n",
       "      <td>F</td>\n",
       "      <td>retiree</td>\n",
       "      <td>0</td>\n",
       "      <td>9091.804</td>\n",
       "      <td>buying a second-hand car</td>\n",
       "    </tr>\n",
       "    <tr>\n",
       "      <th>19</th>\n",
       "      <td>0</td>\n",
       "      <td>-10038.818549</td>\n",
       "      <td>48</td>\n",
       "      <td>SECONDARY EDUCATION</td>\n",
       "      <td>1</td>\n",
       "      <td>divorced</td>\n",
       "      <td>3</td>\n",
       "      <td>F</td>\n",
       "      <td>employee</td>\n",
       "      <td>0</td>\n",
       "      <td>38852.977</td>\n",
       "      <td>buying my own car</td>\n",
       "    </tr>\n",
       "  </tbody>\n",
       "</table>\n",
       "</div>"
      ],
      "text/plain": [
       "    children  days_employed  dob_years            education  education_id  \\\n",
       "0          1   -8437.673028         42    bachelor's degree             0   \n",
       "1          1   -4024.803754         36  secondary education             1   \n",
       "2          0   -5623.422610         33  Secondary Education             1   \n",
       "3          3   -4124.747207         32  secondary education             1   \n",
       "4          0  340266.072047         53  secondary education             1   \n",
       "5          0    -926.185831         27    bachelor's degree             0   \n",
       "6          0   -2879.202052         43    bachelor's degree             0   \n",
       "7          0    -152.779569         50  SECONDARY EDUCATION             1   \n",
       "8          2   -6929.865299         35    BACHELOR'S DEGREE             0   \n",
       "9          0   -2188.756445         41  secondary education             1   \n",
       "10         2   -4171.483647         36    bachelor's degree             0   \n",
       "11         0    -792.701887         40  secondary education             1   \n",
       "12         0            NaN         65  secondary education             1   \n",
       "13         0   -1846.641941         54         some college             2   \n",
       "14         0   -1844.956182         56    bachelor's degree             0   \n",
       "15         1    -972.364419         26  secondary education             1   \n",
       "16         0   -1719.934226         35  secondary education             1   \n",
       "17         0   -2369.999720         33    bachelor's degree             0   \n",
       "18         0  400281.136913         53  secondary education             1   \n",
       "19         0  -10038.818549         48  SECONDARY EDUCATION             1   \n",
       "\n",
       "        family_status  family_status_id gender income_type  debt  \\\n",
       "0             married                 0      F    employee     0   \n",
       "1             married                 0      F    employee     0   \n",
       "2             married                 0      M    employee     0   \n",
       "3             married                 0      M    employee     0   \n",
       "4   civil partnership                 1      F     retiree     0   \n",
       "5   civil partnership                 1      M    business     0   \n",
       "6             married                 0      F    business     0   \n",
       "7             married                 0      M    employee     0   \n",
       "8   civil partnership                 1      F    employee     0   \n",
       "9             married                 0      M    employee     0   \n",
       "10            married                 0      M    business     0   \n",
       "11            married                 0      F    employee     0   \n",
       "12  civil partnership                 1      M     retiree     0   \n",
       "13            married                 0      F    employee     0   \n",
       "14  civil partnership                 1      F    business     1   \n",
       "15            married                 0      F    employee     0   \n",
       "16            married                 0      F    employee     0   \n",
       "17  civil partnership                 1      M    employee     0   \n",
       "18    widow / widower                 2      F     retiree     0   \n",
       "19           divorced                 3      F    employee     0   \n",
       "\n",
       "    total_income                              purpose  \n",
       "0      40620.102                purchase of the house  \n",
       "1      17932.802                         car purchase  \n",
       "2      23341.752                purchase of the house  \n",
       "3      42820.568              supplementary education  \n",
       "4      25378.572                    to have a wedding  \n",
       "5      40922.170                purchase of the house  \n",
       "6      38484.156                 housing transactions  \n",
       "7      21731.829                            education  \n",
       "8      15337.093                     having a wedding  \n",
       "9      23108.150  purchase of the house for my family  \n",
       "10     18230.959                      buy real estate  \n",
       "11     12331.077           buy commercial real estate  \n",
       "12           NaN                    to have a wedding  \n",
       "13     20873.317                         car purchase  \n",
       "14     26420.466          buy residential real estate  \n",
       "15     18691.345         construction of own property  \n",
       "16     46272.433                             property  \n",
       "17     14465.694                  building a property  \n",
       "18      9091.804             buying a second-hand car  \n",
       "19     38852.977                    buying my own car  "
      ]
     },
     "execution_count": 6,
     "metadata": {},
     "output_type": "execute_result"
    }
   ],
   "source": [
    "# let's print the first rows\n",
    "data.head(20)"
   ]
  },
  {
   "cell_type": "markdown",
   "metadata": {},
   "source": [
    "- Here we see **duplicates in `education' column** (statuses with the same meaning but written both with uppercase and lowercase letters)"
   ]
  },
  {
   "cell_type": "code",
   "execution_count": 7,
   "metadata": {},
   "outputs": [
    {
     "name": "stdout",
     "output_type": "stream",
     "text": [
      "Missing values:\n",
      "days_employed - 2174\n",
      "days_employed - 10 %\n",
      "total_income - 2174\n",
      "total_income - 10 %\n"
     ]
    }
   ],
   "source": [
    "# Checking the number of missing values and calculate the percentage of them compared to the whole dataset\n",
    "print('Missing values:')\n",
    "for i in data:    \n",
    "    if data[i].isna().sum()>0:\n",
    "        print(i,'-', data[i].isna().sum()) # checking the number of missing values        \n",
    "        print(i,'-', round(data[i].isna().sum()/len(data)*100), '%') # hecking the % of missing values"
   ]
  },
  {
   "cell_type": "markdown",
   "metadata": {},
   "source": [
    "What we can see here:\n",
    "- (as we mentioned above) only two columns have obvious **missing values: `days_employed` and `total_income` columns**.\n",
    "- as the numbers of these missing values in two columns are equal, there is **a (high) chance that these cases are interconnected**, further investigations are needed as well."
   ]
  },
  {
   "cell_type": "code",
   "execution_count": 8,
   "metadata": {
    "scrolled": true
   },
   "outputs": [
    {
     "data": {
      "text/html": [
       "<div>\n",
       "<style scoped>\n",
       "    .dataframe tbody tr th:only-of-type {\n",
       "        vertical-align: middle;\n",
       "    }\n",
       "\n",
       "    .dataframe tbody tr th {\n",
       "        vertical-align: top;\n",
       "    }\n",
       "\n",
       "    .dataframe thead th {\n",
       "        text-align: right;\n",
       "    }\n",
       "</style>\n",
       "<table border=\"1\" class=\"dataframe\">\n",
       "  <thead>\n",
       "    <tr style=\"text-align: right;\">\n",
       "      <th></th>\n",
       "      <th>children</th>\n",
       "      <th>days_employed</th>\n",
       "      <th>dob_years</th>\n",
       "      <th>education</th>\n",
       "      <th>education_id</th>\n",
       "      <th>family_status</th>\n",
       "      <th>family_status_id</th>\n",
       "      <th>gender</th>\n",
       "      <th>income_type</th>\n",
       "      <th>debt</th>\n",
       "      <th>total_income</th>\n",
       "      <th>purpose</th>\n",
       "    </tr>\n",
       "  </thead>\n",
       "  <tbody>\n",
       "    <tr>\n",
       "      <th>12</th>\n",
       "      <td>0</td>\n",
       "      <td>NaN</td>\n",
       "      <td>65</td>\n",
       "      <td>secondary education</td>\n",
       "      <td>1</td>\n",
       "      <td>civil partnership</td>\n",
       "      <td>1</td>\n",
       "      <td>M</td>\n",
       "      <td>retiree</td>\n",
       "      <td>0</td>\n",
       "      <td>NaN</td>\n",
       "      <td>to have a wedding</td>\n",
       "    </tr>\n",
       "    <tr>\n",
       "      <th>26</th>\n",
       "      <td>0</td>\n",
       "      <td>NaN</td>\n",
       "      <td>41</td>\n",
       "      <td>secondary education</td>\n",
       "      <td>1</td>\n",
       "      <td>married</td>\n",
       "      <td>0</td>\n",
       "      <td>M</td>\n",
       "      <td>civil servant</td>\n",
       "      <td>0</td>\n",
       "      <td>NaN</td>\n",
       "      <td>education</td>\n",
       "    </tr>\n",
       "    <tr>\n",
       "      <th>29</th>\n",
       "      <td>0</td>\n",
       "      <td>NaN</td>\n",
       "      <td>63</td>\n",
       "      <td>secondary education</td>\n",
       "      <td>1</td>\n",
       "      <td>unmarried</td>\n",
       "      <td>4</td>\n",
       "      <td>F</td>\n",
       "      <td>retiree</td>\n",
       "      <td>0</td>\n",
       "      <td>NaN</td>\n",
       "      <td>building a real estate</td>\n",
       "    </tr>\n",
       "    <tr>\n",
       "      <th>41</th>\n",
       "      <td>0</td>\n",
       "      <td>NaN</td>\n",
       "      <td>50</td>\n",
       "      <td>secondary education</td>\n",
       "      <td>1</td>\n",
       "      <td>married</td>\n",
       "      <td>0</td>\n",
       "      <td>F</td>\n",
       "      <td>civil servant</td>\n",
       "      <td>0</td>\n",
       "      <td>NaN</td>\n",
       "      <td>second-hand car purchase</td>\n",
       "    </tr>\n",
       "    <tr>\n",
       "      <th>55</th>\n",
       "      <td>0</td>\n",
       "      <td>NaN</td>\n",
       "      <td>54</td>\n",
       "      <td>secondary education</td>\n",
       "      <td>1</td>\n",
       "      <td>civil partnership</td>\n",
       "      <td>1</td>\n",
       "      <td>F</td>\n",
       "      <td>retiree</td>\n",
       "      <td>1</td>\n",
       "      <td>NaN</td>\n",
       "      <td>to have a wedding</td>\n",
       "    </tr>\n",
       "    <tr>\n",
       "      <th>...</th>\n",
       "      <td>...</td>\n",
       "      <td>...</td>\n",
       "      <td>...</td>\n",
       "      <td>...</td>\n",
       "      <td>...</td>\n",
       "      <td>...</td>\n",
       "      <td>...</td>\n",
       "      <td>...</td>\n",
       "      <td>...</td>\n",
       "      <td>...</td>\n",
       "      <td>...</td>\n",
       "      <td>...</td>\n",
       "    </tr>\n",
       "    <tr>\n",
       "      <th>21489</th>\n",
       "      <td>2</td>\n",
       "      <td>NaN</td>\n",
       "      <td>47</td>\n",
       "      <td>Secondary Education</td>\n",
       "      <td>1</td>\n",
       "      <td>married</td>\n",
       "      <td>0</td>\n",
       "      <td>M</td>\n",
       "      <td>business</td>\n",
       "      <td>0</td>\n",
       "      <td>NaN</td>\n",
       "      <td>purchase of a car</td>\n",
       "    </tr>\n",
       "    <tr>\n",
       "      <th>21495</th>\n",
       "      <td>1</td>\n",
       "      <td>NaN</td>\n",
       "      <td>50</td>\n",
       "      <td>secondary education</td>\n",
       "      <td>1</td>\n",
       "      <td>civil partnership</td>\n",
       "      <td>1</td>\n",
       "      <td>F</td>\n",
       "      <td>employee</td>\n",
       "      <td>0</td>\n",
       "      <td>NaN</td>\n",
       "      <td>wedding ceremony</td>\n",
       "    </tr>\n",
       "    <tr>\n",
       "      <th>21497</th>\n",
       "      <td>0</td>\n",
       "      <td>NaN</td>\n",
       "      <td>48</td>\n",
       "      <td>BACHELOR'S DEGREE</td>\n",
       "      <td>0</td>\n",
       "      <td>married</td>\n",
       "      <td>0</td>\n",
       "      <td>F</td>\n",
       "      <td>business</td>\n",
       "      <td>0</td>\n",
       "      <td>NaN</td>\n",
       "      <td>building a property</td>\n",
       "    </tr>\n",
       "    <tr>\n",
       "      <th>21502</th>\n",
       "      <td>1</td>\n",
       "      <td>NaN</td>\n",
       "      <td>42</td>\n",
       "      <td>secondary education</td>\n",
       "      <td>1</td>\n",
       "      <td>married</td>\n",
       "      <td>0</td>\n",
       "      <td>F</td>\n",
       "      <td>employee</td>\n",
       "      <td>0</td>\n",
       "      <td>NaN</td>\n",
       "      <td>building a real estate</td>\n",
       "    </tr>\n",
       "    <tr>\n",
       "      <th>21510</th>\n",
       "      <td>2</td>\n",
       "      <td>NaN</td>\n",
       "      <td>28</td>\n",
       "      <td>secondary education</td>\n",
       "      <td>1</td>\n",
       "      <td>married</td>\n",
       "      <td>0</td>\n",
       "      <td>F</td>\n",
       "      <td>employee</td>\n",
       "      <td>0</td>\n",
       "      <td>NaN</td>\n",
       "      <td>car purchase</td>\n",
       "    </tr>\n",
       "  </tbody>\n",
       "</table>\n",
       "<p>2174 rows × 12 columns</p>\n",
       "</div>"
      ],
      "text/plain": [
       "       children  days_employed  dob_years            education  education_id  \\\n",
       "12            0            NaN         65  secondary education             1   \n",
       "26            0            NaN         41  secondary education             1   \n",
       "29            0            NaN         63  secondary education             1   \n",
       "41            0            NaN         50  secondary education             1   \n",
       "55            0            NaN         54  secondary education             1   \n",
       "...         ...            ...        ...                  ...           ...   \n",
       "21489         2            NaN         47  Secondary Education             1   \n",
       "21495         1            NaN         50  secondary education             1   \n",
       "21497         0            NaN         48    BACHELOR'S DEGREE             0   \n",
       "21502         1            NaN         42  secondary education             1   \n",
       "21510         2            NaN         28  secondary education             1   \n",
       "\n",
       "           family_status  family_status_id gender    income_type  debt  \\\n",
       "12     civil partnership                 1      M        retiree     0   \n",
       "26               married                 0      M  civil servant     0   \n",
       "29             unmarried                 4      F        retiree     0   \n",
       "41               married                 0      F  civil servant     0   \n",
       "55     civil partnership                 1      F        retiree     1   \n",
       "...                  ...               ...    ...            ...   ...   \n",
       "21489            married                 0      M       business     0   \n",
       "21495  civil partnership                 1      F       employee     0   \n",
       "21497            married                 0      F       business     0   \n",
       "21502            married                 0      F       employee     0   \n",
       "21510            married                 0      F       employee     0   \n",
       "\n",
       "       total_income                   purpose  \n",
       "12              NaN         to have a wedding  \n",
       "26              NaN                 education  \n",
       "29              NaN    building a real estate  \n",
       "41              NaN  second-hand car purchase  \n",
       "55              NaN         to have a wedding  \n",
       "...             ...                       ...  \n",
       "21489           NaN         purchase of a car  \n",
       "21495           NaN          wedding ceremony  \n",
       "21497           NaN       building a property  \n",
       "21502           NaN    building a real estate  \n",
       "21510           NaN              car purchase  \n",
       "\n",
       "[2174 rows x 12 columns]"
      ]
     },
     "execution_count": 8,
     "metadata": {},
     "output_type": "execute_result"
    }
   ],
   "source": [
    "# Let's look in the filtered table with missing data in the 'days_employed' column \n",
    "data[data['days_employed'].isna()]"
   ]
  },
  {
   "cell_type": "markdown",
   "metadata": {},
   "source": [
    "Here we see that **missing values in days_employed and total_income colmns seem to be in the same rows / cases all the time**. We can easily check this, to be sure in our assumption."
   ]
  },
  {
   "cell_type": "code",
   "execution_count": 9,
   "metadata": {},
   "outputs": [
    {
     "data": {
      "text/html": [
       "<div>\n",
       "<style scoped>\n",
       "    .dataframe tbody tr th:only-of-type {\n",
       "        vertical-align: middle;\n",
       "    }\n",
       "\n",
       "    .dataframe tbody tr th {\n",
       "        vertical-align: top;\n",
       "    }\n",
       "\n",
       "    .dataframe thead th {\n",
       "        text-align: right;\n",
       "    }\n",
       "</style>\n",
       "<table border=\"1\" class=\"dataframe\">\n",
       "  <thead>\n",
       "    <tr style=\"text-align: right;\">\n",
       "      <th></th>\n",
       "      <th>children</th>\n",
       "      <th>days_employed</th>\n",
       "      <th>dob_years</th>\n",
       "      <th>education</th>\n",
       "      <th>education_id</th>\n",
       "      <th>family_status</th>\n",
       "      <th>family_status_id</th>\n",
       "      <th>gender</th>\n",
       "      <th>income_type</th>\n",
       "      <th>debt</th>\n",
       "      <th>total_income</th>\n",
       "      <th>purpose</th>\n",
       "    </tr>\n",
       "  </thead>\n",
       "  <tbody>\n",
       "    <tr>\n",
       "      <th>12</th>\n",
       "      <td>0</td>\n",
       "      <td>NaN</td>\n",
       "      <td>65</td>\n",
       "      <td>secondary education</td>\n",
       "      <td>1</td>\n",
       "      <td>civil partnership</td>\n",
       "      <td>1</td>\n",
       "      <td>M</td>\n",
       "      <td>retiree</td>\n",
       "      <td>0</td>\n",
       "      <td>NaN</td>\n",
       "      <td>to have a wedding</td>\n",
       "    </tr>\n",
       "    <tr>\n",
       "      <th>26</th>\n",
       "      <td>0</td>\n",
       "      <td>NaN</td>\n",
       "      <td>41</td>\n",
       "      <td>secondary education</td>\n",
       "      <td>1</td>\n",
       "      <td>married</td>\n",
       "      <td>0</td>\n",
       "      <td>M</td>\n",
       "      <td>civil servant</td>\n",
       "      <td>0</td>\n",
       "      <td>NaN</td>\n",
       "      <td>education</td>\n",
       "    </tr>\n",
       "    <tr>\n",
       "      <th>29</th>\n",
       "      <td>0</td>\n",
       "      <td>NaN</td>\n",
       "      <td>63</td>\n",
       "      <td>secondary education</td>\n",
       "      <td>1</td>\n",
       "      <td>unmarried</td>\n",
       "      <td>4</td>\n",
       "      <td>F</td>\n",
       "      <td>retiree</td>\n",
       "      <td>0</td>\n",
       "      <td>NaN</td>\n",
       "      <td>building a real estate</td>\n",
       "    </tr>\n",
       "    <tr>\n",
       "      <th>41</th>\n",
       "      <td>0</td>\n",
       "      <td>NaN</td>\n",
       "      <td>50</td>\n",
       "      <td>secondary education</td>\n",
       "      <td>1</td>\n",
       "      <td>married</td>\n",
       "      <td>0</td>\n",
       "      <td>F</td>\n",
       "      <td>civil servant</td>\n",
       "      <td>0</td>\n",
       "      <td>NaN</td>\n",
       "      <td>second-hand car purchase</td>\n",
       "    </tr>\n",
       "    <tr>\n",
       "      <th>55</th>\n",
       "      <td>0</td>\n",
       "      <td>NaN</td>\n",
       "      <td>54</td>\n",
       "      <td>secondary education</td>\n",
       "      <td>1</td>\n",
       "      <td>civil partnership</td>\n",
       "      <td>1</td>\n",
       "      <td>F</td>\n",
       "      <td>retiree</td>\n",
       "      <td>1</td>\n",
       "      <td>NaN</td>\n",
       "      <td>to have a wedding</td>\n",
       "    </tr>\n",
       "    <tr>\n",
       "      <th>...</th>\n",
       "      <td>...</td>\n",
       "      <td>...</td>\n",
       "      <td>...</td>\n",
       "      <td>...</td>\n",
       "      <td>...</td>\n",
       "      <td>...</td>\n",
       "      <td>...</td>\n",
       "      <td>...</td>\n",
       "      <td>...</td>\n",
       "      <td>...</td>\n",
       "      <td>...</td>\n",
       "      <td>...</td>\n",
       "    </tr>\n",
       "    <tr>\n",
       "      <th>21489</th>\n",
       "      <td>2</td>\n",
       "      <td>NaN</td>\n",
       "      <td>47</td>\n",
       "      <td>Secondary Education</td>\n",
       "      <td>1</td>\n",
       "      <td>married</td>\n",
       "      <td>0</td>\n",
       "      <td>M</td>\n",
       "      <td>business</td>\n",
       "      <td>0</td>\n",
       "      <td>NaN</td>\n",
       "      <td>purchase of a car</td>\n",
       "    </tr>\n",
       "    <tr>\n",
       "      <th>21495</th>\n",
       "      <td>1</td>\n",
       "      <td>NaN</td>\n",
       "      <td>50</td>\n",
       "      <td>secondary education</td>\n",
       "      <td>1</td>\n",
       "      <td>civil partnership</td>\n",
       "      <td>1</td>\n",
       "      <td>F</td>\n",
       "      <td>employee</td>\n",
       "      <td>0</td>\n",
       "      <td>NaN</td>\n",
       "      <td>wedding ceremony</td>\n",
       "    </tr>\n",
       "    <tr>\n",
       "      <th>21497</th>\n",
       "      <td>0</td>\n",
       "      <td>NaN</td>\n",
       "      <td>48</td>\n",
       "      <td>BACHELOR'S DEGREE</td>\n",
       "      <td>0</td>\n",
       "      <td>married</td>\n",
       "      <td>0</td>\n",
       "      <td>F</td>\n",
       "      <td>business</td>\n",
       "      <td>0</td>\n",
       "      <td>NaN</td>\n",
       "      <td>building a property</td>\n",
       "    </tr>\n",
       "    <tr>\n",
       "      <th>21502</th>\n",
       "      <td>1</td>\n",
       "      <td>NaN</td>\n",
       "      <td>42</td>\n",
       "      <td>secondary education</td>\n",
       "      <td>1</td>\n",
       "      <td>married</td>\n",
       "      <td>0</td>\n",
       "      <td>F</td>\n",
       "      <td>employee</td>\n",
       "      <td>0</td>\n",
       "      <td>NaN</td>\n",
       "      <td>building a real estate</td>\n",
       "    </tr>\n",
       "    <tr>\n",
       "      <th>21510</th>\n",
       "      <td>2</td>\n",
       "      <td>NaN</td>\n",
       "      <td>28</td>\n",
       "      <td>secondary education</td>\n",
       "      <td>1</td>\n",
       "      <td>married</td>\n",
       "      <td>0</td>\n",
       "      <td>F</td>\n",
       "      <td>employee</td>\n",
       "      <td>0</td>\n",
       "      <td>NaN</td>\n",
       "      <td>car purchase</td>\n",
       "    </tr>\n",
       "  </tbody>\n",
       "</table>\n",
       "<p>2174 rows × 12 columns</p>\n",
       "</div>"
      ],
      "text/plain": [
       "       children  days_employed  dob_years            education  education_id  \\\n",
       "12            0            NaN         65  secondary education             1   \n",
       "26            0            NaN         41  secondary education             1   \n",
       "29            0            NaN         63  secondary education             1   \n",
       "41            0            NaN         50  secondary education             1   \n",
       "55            0            NaN         54  secondary education             1   \n",
       "...         ...            ...        ...                  ...           ...   \n",
       "21489         2            NaN         47  Secondary Education             1   \n",
       "21495         1            NaN         50  secondary education             1   \n",
       "21497         0            NaN         48    BACHELOR'S DEGREE             0   \n",
       "21502         1            NaN         42  secondary education             1   \n",
       "21510         2            NaN         28  secondary education             1   \n",
       "\n",
       "           family_status  family_status_id gender    income_type  debt  \\\n",
       "12     civil partnership                 1      M        retiree     0   \n",
       "26               married                 0      M  civil servant     0   \n",
       "29             unmarried                 4      F        retiree     0   \n",
       "41               married                 0      F  civil servant     0   \n",
       "55     civil partnership                 1      F        retiree     1   \n",
       "...                  ...               ...    ...            ...   ...   \n",
       "21489            married                 0      M       business     0   \n",
       "21495  civil partnership                 1      F       employee     0   \n",
       "21497            married                 0      F       business     0   \n",
       "21502            married                 0      F       employee     0   \n",
       "21510            married                 0      F       employee     0   \n",
       "\n",
       "       total_income                   purpose  \n",
       "12              NaN         to have a wedding  \n",
       "26              NaN                 education  \n",
       "29              NaN    building a real estate  \n",
       "41              NaN  second-hand car purchase  \n",
       "55              NaN         to have a wedding  \n",
       "...             ...                       ...  \n",
       "21489           NaN         purchase of a car  \n",
       "21495           NaN          wedding ceremony  \n",
       "21497           NaN       building a property  \n",
       "21502           NaN    building a real estate  \n",
       "21510           NaN              car purchase  \n",
       "\n",
       "[2174 rows x 12 columns]"
      ]
     },
     "execution_count": 9,
     "metadata": {},
     "output_type": "execute_result"
    }
   ],
   "source": [
    "# Let's apply multiple conditions for filtering data and look at the number of rows in the filtered table.\n",
    "data[(data['days_employed'].isna()) & (data['total_income'].isna())]"
   ]
  },
  {
   "cell_type": "markdown",
   "metadata": {},
   "source": [
    "**Intermediate Conclusions**\n",
    "\n",
    "**The number of rows in the subset of the data above** (where the values are missing in both columns at the same time) **is the same as in our previous dataset** (where just one of those columns contains missing values only). So, 2174 rows = 2174 rows.\n",
    "Thus **we can conclude that these missing values are not random**.\n",
    "\n",
    "All these missing values probably could be explained by saying that people with no working experience have no income and thus there should be zeros instead of missed data. But we can debunk this assumption right here - it's seen even from the small slice of data above, that there are mentioned types of income (e.g. such as business and employee) even in the cases with missing data in `total_income` column.\n",
    "\n",
    "**Probably there is a connection between missed values in days_employed column and such characteristics as type of income and family status**. To check this assumption we can compare the distribution of defined characteristics in a set of data filtered by missed values in `days_employed` with the distribution in the initial dataframe.\n",
    "\n",
    "Since **the share of missing values is quite significant (affects 10% of the whole dataset), we shouldn't just drop it out**. It's worth performing a further investigation. \n",
    "\n",
    "We also should check whether there are not only missing values but **also zeros** (and how many of them, if any) in these columns - they **can represent missing values** in fact."
   ]
  },
  {
   "cell_type": "code",
   "execution_count": 10,
   "metadata": {},
   "outputs": [
    {
     "name": "stdout",
     "output_type": "stream",
     "text": [
      "Number of zeros in days_employed column\n",
      "0\n",
      " \n",
      "Income type distribution when only missing values in days_employed column, %\n",
      "income_type\n",
      "employee         50.827967\n",
      "business         23.367065\n",
      "retiree          18.997240\n",
      "civil servant     6.761730\n",
      "entrepreneur      0.045998\n",
      "Name: count, dtype: float64\n",
      " \n",
      "Family statuses distribution when only missing values in days_employed column, %\n",
      "family_status\n",
      "married              56.899724\n",
      "civil partnership    20.331187\n",
      "unmarried            13.247470\n",
      "divorced              5.151794\n",
      "widow / widower       4.369825\n",
      "Name: count, dtype: float64\n",
      "--------------------------------------------------\n",
      "Income type distribution in the raw dataframe, %\n",
      "income_type\n",
      "employee                       51.656214\n",
      "business                       23.623693\n",
      "retiree                        17.914053\n",
      "civil servant                   6.778165\n",
      "unemployed                      0.009292\n",
      "entrepreneur                    0.009292\n",
      "student                         0.004646\n",
      "paternity / maternity leave     0.004646\n",
      "Name: count, dtype: float64\n",
      " \n",
      "Family statuses distribution in the raw dataframe, %\n",
      "family_status\n",
      "married              57.514518\n",
      "civil partnership    19.405343\n",
      "unmarried            13.068525\n",
      "divorced              5.551684\n",
      "widow / widower       4.459930\n",
      "Name: count, dtype: float64\n",
      "--------------------------------------------------\n",
      "Comparison of income types distributions, %\n",
      "income_type\n",
      "business                      -0.256628\n",
      "civil servant                 -0.016435\n",
      "employee                      -0.828247\n",
      "entrepreneur                   0.036707\n",
      "paternity / maternity leave         NaN\n",
      "retiree                        1.083187\n",
      "student                             NaN\n",
      "unemployed                          NaN\n",
      "Name: count, dtype: float64\n",
      " \n",
      "Comparison of family statuses distributions, %\n",
      "family_status\n",
      "married             -0.614794\n",
      "civil partnership    0.925844\n",
      "unmarried            0.178945\n",
      "divorced            -0.399890\n",
      "widow / widower     -0.090105\n",
      "Name: count, dtype: float64\n"
     ]
    }
   ],
   "source": [
    "# let's check the number of zeros in 'days_employed' column and\n",
    "# connections between missed values in 'days_employed' column and types of income and family statuses.\n",
    "\n",
    "count_days_employed_missed = len(data[data['days_employed'].isna()])\n",
    "                             \n",
    "print('Number of zeros in days_employed column')\n",
    "print(len(data[data['days_employed'] == 0]))\n",
    "print(' ')\n",
    "print('Income type distribution when only missing values in days_employed column, %')\n",
    "print(data[data['days_employed'].isna()]['income_type'].value_counts()\n",
    "    / count_days_employed_missed\n",
    "    * 100)\n",
    "print(' ')\n",
    "\n",
    "print('Family statuses distribution when only missing values in days_employed column, %')\n",
    "print(\n",
    "    data[data['days_employed'].isna()]['family_status'].value_counts()\n",
    "    / count_days_employed_missed\n",
    "    * 100\n",
    ")\n",
    "print('-' * 50)\n",
    "\n",
    "print('Income type distribution in the raw dataframe, %')\n",
    "print(data['income_type'].value_counts() / len(data) * 100)\n",
    "print(' ')\n",
    "\n",
    "print('Family statuses distribution in the raw dataframe, %')\n",
    "print(data['family_status'].value_counts() / len(data) * 100)\n",
    "print('-' * 50)\n",
    "\n",
    "print('Comparison of income types distributions, %')\n",
    "print(\n",
    "    data[data['days_employed'].isna()]['income_type'].value_counts()\n",
    "    / count_days_employed_missed\n",
    "    * 100\n",
    "    - data['income_type'].value_counts() / len(data) * 100\n",
    ")\n",
    "print(' ')\n",
    "print('Comparison of family statuses distributions, %')\n",
    "print(\n",
    "    data[data['days_employed'].isna()]['family_status'].value_counts()\n",
    "    / count_days_employed_missed\n",
    "    * 100\n",
    "    - data['family_status'].value_counts() / len(data) * 100\n",
    ")"
   ]
  },
  {
   "cell_type": "markdown",
   "metadata": {},
   "source": [
    "**We can see that:**\n",
    "- there are no zeros in `days_employed` column, **it's likely that missing values could/must be zeros in fact (at least some of them)**\n",
    "- it's odd that **in the all cases with missed values in 'total_income' and `days_employed` columns, there are mentioned values in 'income_type' column** (this is an argument towards the idea that instead of missing values there should be some, not zero values) \n",
    "- it seems that **there is no or insignificant correlation between missed values in `days_employed` column and `type of income` and `family status` characteristics** (for all characteristics less than 1% difference between numbers based on raw and filtered data)\n",
    "    \n",
    "In order to find other (non-obvious) missing values, we can check the zeros in the other characteristics (where they are not expected, as some of them could also mean missing data)."
   ]
  },
  {
   "cell_type": "code",
   "execution_count": 11,
   "metadata": {},
   "outputs": [
    {
     "name": "stdout",
     "output_type": "stream",
     "text": [
      "Zeros in data:\n",
      "children - 14149\n",
      "dob_years - 101\n",
      "education_id - 5260\n",
      "family_status_id - 12380\n",
      "debt - 19784\n"
     ]
    }
   ],
   "source": [
    "# Let's investigate suspicious zero values (other reasons that could lead to missing values)\n",
    "print('Zeros in data:')\n",
    "for i in data: \n",
    "    if len(data[data[i]==0])>0:\n",
    "        print(i,'-', len(data[data[i]==0]))"
   ]
  },
  {
   "cell_type": "code",
   "execution_count": 12,
   "metadata": {},
   "outputs": [
    {
     "name": "stdout",
     "output_type": "stream",
     "text": [
      "\"dob_years\" zeros share of total data:\n",
      "0.4692218350754936 %\n"
     ]
    }
   ],
   "source": [
    "## Let's see whether the zero values in the 'dob_years' column are a significant part of all data\n",
    " \n",
    "print('\\\"dob_years\\\" zeros share of total data:')\n",
    "print(len(data[(data[\"dob_years\"] == 0)]) / len(data) * 100, \"%\")"
   ]
  },
  {
   "cell_type": "code",
   "execution_count": 13,
   "metadata": {},
   "outputs": [
    {
     "name": "stdout",
     "output_type": "stream",
     "text": [
      "Dob_years distribution by education, %\n",
      "education\n",
      "secondary education    58.42\n",
      "bachelor's degree      31.68\n",
      "Secondary Education     2.97\n",
      "Bachelor's Degree       1.98\n",
      "some college            1.98\n",
      "SECONDARY EDUCATION     1.98\n",
      "BACHELOR'S DEGREE       0.99\n",
      "Name: count, dtype: float64\n",
      " \n",
      "Dob_years distribution by family_status, %\n",
      "family_status\n",
      "married              48.51\n",
      "civil partnership    20.79\n",
      "unmarried            15.84\n",
      "divorced              9.90\n",
      "widow / widower       4.95\n",
      "Name: count, dtype: float64\n",
      " \n",
      "Dob_years distribution by gender, %\n",
      "gender\n",
      "F    71.29\n",
      "M    28.71\n",
      "Name: count, dtype: float64\n",
      " \n",
      "Dob_years distribution by income_type, %\n",
      "income_type\n",
      "employee         54.46\n",
      "retiree          19.80\n",
      "business         19.80\n",
      "civil servant     5.94\n",
      "Name: count, dtype: float64\n"
     ]
    }
   ],
   "source": [
    "## Let's check distribution of the 'dob_years' column with zeros by charactersistics\n",
    "\n",
    "count_dob_years_zero = len(data[(data['dob_years'] == 0)])\n",
    "\n",
    "print('Dob_years distribution by education, %')\n",
    "print((data[(data['dob_years'] == 0)]['education'].value_counts() / count_dob_years_zero * 100).round(2))\n",
    "print(' ')\n",
    "\n",
    "print('Dob_years distribution by family_status, %')\n",
    "print((data[(data['dob_years'] == 0)]['family_status'].value_counts() / count_dob_years_zero * 100).round(2))\n",
    "print(' ')\n",
    "\n",
    "print('Dob_years distribution by gender, %')\n",
    "print((data[(data['dob_years'] == 0)]['gender'].value_counts() / count_dob_years_zero * 100).round(2))\n",
    "print(' ')\n",
    "\n",
    "print('Dob_years distribution by income_type, %')\n",
    "print((data[(data['dob_years'] == 0)]['income_type'].value_counts() / count_dob_years_zero * 100).round(2))\n"
   ]
  },
  {
   "cell_type": "code",
   "execution_count": 14,
   "metadata": {},
   "outputs": [
    {
     "data": {
      "text/plain": [
       "array(['married'], dtype=object)"
      ]
     },
     "execution_count": 14,
     "metadata": {},
     "output_type": "execute_result"
    }
   ],
   "source": [
    "# Let's check values in the'family_status\" column when 'family_status_id' value = 0\n",
    "data[data['family_status_id'] == 0]['family_status'].unique()"
   ]
  },
  {
   "cell_type": "code",
   "execution_count": 15,
   "metadata": {},
   "outputs": [
    {
     "data": {
      "text/plain": [
       "array([\"bachelor's degree\", \"BACHELOR'S DEGREE\", \"Bachelor's Degree\"],\n",
       "      dtype=object)"
      ]
     },
     "execution_count": 15,
     "metadata": {},
     "output_type": "execute_result"
    }
   ],
   "source": [
    "# Let's check valuesin 'education\" column when 'education_id' value = 0\n",
    "data[data['education_id'] == 0]['education'].unique()"
   ]
  },
  {
   "cell_type": "code",
   "execution_count": 16,
   "metadata": {},
   "outputs": [
    {
     "name": "stdout",
     "output_type": "stream",
     "text": [
      "children < 0:  47\n",
      "children < 0:  0 %\n",
      " \n",
      "days employed < 0:  15906\n",
      "days employed < 0:  74 %\n",
      " \n",
      "work experience > 70 years:  3445\n",
      "work experience > 70 years:  16 %\n"
     ]
    }
   ],
   "source": [
    "# let's check other reasons of poor data\n",
    "\n",
    "# checking the number  and  % of negative values in `children` column\n",
    "print('children < 0: ', len(data[data['children'] < 0]))\n",
    "print('children < 0: ', round(len(data[data['children'] < 0]) / len(data) * 100), '%')\n",
    "print(' ')\n",
    "\n",
    "# checking the number and  % of negative values in 'days_employed' column\n",
    "print('days employed < 0: ', len(data[data['days_employed'] < 0]))\n",
    "print('days employed < 0: ', round(len(data[data['days_employed'] < 0]) / len(data) * 100), '%')\n",
    "print(' ')\n",
    "\n",
    "# checking the number and % of values with work experience over 70 years ()\n",
    "print('work experience > 70 years: ', len(data[data['days_employed'] > 70*365]))\n",
    "print('work experience > 70 years: ', round(len(data[data['days_employed'] > 70*365]) / len(data) * 100), '%')"
   ]
  },
  {
   "cell_type": "markdown",
   "metadata": {},
   "source": [
    "**The odd things here:**\n",
    "- the **share of negative values in children column is insignificant**\n",
    "- the **share of negative values `days_employed` column is dramatic**\n",
    "- the **share of enormous work experience (over 70 years) is significant**\n",
    "- **in `days_employed` column** we have 10% of missed values, 74% negative values and 16% of values representing unbelievable work experience. Taking all this in account we can state that **we don't have any valid data** in this column. \n",
    "\n",
    "Since further investigations / actions on these part of data in order to improve it won't help us answering any of the Project questions, we can leave it as it is. *We can fix it later if we see that it's needed e.g. for categorization purposes.*"
   ]
  },
  {
   "cell_type": "code",
   "execution_count": 17,
   "metadata": {
    "scrolled": true
   },
   "outputs": [
    {
     "name": "stdout",
     "output_type": "stream",
     "text": [
      "education - [\"bachelor's degree\" 'secondary education' 'Secondary Education'\n",
      " 'SECONDARY EDUCATION' \"BACHELOR'S DEGREE\" 'some college'\n",
      " 'primary education' \"Bachelor's Degree\" 'SOME COLLEGE' 'Some College'\n",
      " 'PRIMARY EDUCATION' 'Primary Education' 'Graduate Degree'\n",
      " 'GRADUATE DEGREE' 'graduate degree']\n",
      " \n",
      "family_status - ['married' 'civil partnership' 'widow / widower' 'divorced' 'unmarried']\n",
      " \n",
      "gender - ['F' 'M' 'XNA']\n",
      " \n",
      "income_type - ['employee' 'retiree' 'business' 'civil servant' 'unemployed'\n",
      " 'entrepreneur' 'student' 'paternity / maternity leave']\n",
      " \n",
      "purpose - ['purchase of the house' 'car purchase' 'supplementary education'\n",
      " 'to have a wedding' 'housing transactions' 'education' 'having a wedding'\n",
      " 'purchase of the house for my family' 'buy real estate'\n",
      " 'buy commercial real estate' 'buy residential real estate'\n",
      " 'construction of own property' 'property' 'building a property'\n",
      " 'buying a second-hand car' 'buying my own car'\n",
      " 'transactions with commercial real estate' 'building a real estate'\n",
      " 'housing' 'transactions with my real estate' 'cars' 'to become educated'\n",
      " 'second-hand car purchase' 'getting an education' 'car'\n",
      " 'wedding ceremony' 'to get a supplementary education'\n",
      " 'purchase of my own house' 'real estate transactions'\n",
      " 'getting higher education' 'to own a car' 'purchase of a car'\n",
      " 'profile education' 'university education'\n",
      " 'buying property for renting out' 'to buy a car' 'housing renovation'\n",
      " 'going to university']\n",
      " \n"
     ]
    }
   ],
   "source": [
    "# let's check all categorical characteristics to see whether they consist of duplicates\n",
    "\n",
    "for characteristic in data: # going through all column names\n",
    "    if data[characteristic].dtype == 'object': #  if a column type is 'object'       \n",
    "        print(characteristic, '-', data[characteristic].unique()) # print its unique values\n",
    "        print(' ')    "
   ]
  },
  {
   "cell_type": "markdown",
   "metadata": {},
   "source": [
    "**Observations:**\n",
    "- as we mentioned in the first steps of data exploration, there are **duplicates in `education` column**\n",
    "- **some of _different_ values in 'purpose' column in fact have the same meaning**, we need to categorize them to answer one of the Project questions\n",
    "- values in other columns are Ok from duplicates point of view"
   ]
  },
  {
   "cell_type": "markdown",
   "metadata": {},
   "source": [
    "### Conclusions\n",
    "    \n",
    "- **the main thing that we've determined so far is missing data in `days_employed` and `total_income` columns**.\n",
    "- by checking the numbers of rows in filtered tables **we proved that these missing values are interconnected, not random**.\n",
    "- **the share of missing values in these two columns - 10 % is pretty high. Meanwhile, we couldn't reveal any significant patterns and find reasons for missing values**. \n",
    "- we could say that there should be zeros instead of missing values proving it with an assumption like: no days employed = no income. But we see that in such cases there are mentioned income types with 'business' and 'employee' among them. So we can conclude that there should be at least a part of non-zero values in missing fields. **We can fix the data by counting and putting relevant mean/median values instead of missed ones**.\n",
    "- we've also found **several other issues in data** like different registers in categorical values, zero values where they are not expected to be, odd negative, and unbelievably huge numbers in some fields. **We will address it later on, where it's needed** for answering Project questions. As well as duplicates in data.\n",
    "\n",
    "*There are **no zero values in the `total_income` column, which is somewhat unusual** for such a significant dataset. However, **more than 10% of the values are missing**.* \n",
    "\n",
    "*Certainly, we could replace these missing values with mean/median values, assuming that they are not zeros but rather due to unknown reasons. However, this approach could introduce \"synthetic\" data that might skew our conclusions. For instance, replacing missing values with mean/median values could artificially decrease the default rate, while replacing them with zeros could artificially increase it.* \n",
    "\n",
    "*On the other hand, these missing values represent a significant portion of the entire dataset. Therefore, deciding to remove this data entirely could potentially adversely impact our outcomes. Given the context of the current project, where there are no means to clarify these missing values, there is a trade-off to consider.* \n",
    "\n",
    "*In this scenario, **it seems somewhat safer** to categorize the data appropriately, calculate their means/medians, and use them **to fill in the missing data. This approach aims to mitigate the potential distortion of the dataset while acknowledging the limitations of our available information.***"
   ]
  },
  {
   "cell_type": "markdown",
   "metadata": {},
   "source": [
    "## 🛠️ Data Transformation"
   ]
  },
  {
   "cell_type": "code",
   "execution_count": 18,
   "metadata": {},
   "outputs": [
    {
     "data": {
      "text/plain": [
       "array([\"bachelor's degree\", 'secondary education', 'Secondary Education',\n",
       "       'SECONDARY EDUCATION', \"BACHELOR'S DEGREE\", 'some college',\n",
       "       'primary education', \"Bachelor's Degree\", 'SOME COLLEGE',\n",
       "       'Some College', 'PRIMARY EDUCATION', 'Primary Education',\n",
       "       'Graduate Degree', 'GRADUATE DEGREE', 'graduate degree'],\n",
       "      dtype=object)"
      ]
     },
     "execution_count": 18,
     "metadata": {},
     "output_type": "execute_result"
    }
   ],
   "source": [
    "# Let's see all values in education column (we've already revealed issues there)\n",
    "data['education'].unique()"
   ]
  },
  {
   "cell_type": "code",
   "execution_count": 19,
   "metadata": {
    "scrolled": true
   },
   "outputs": [],
   "source": [
    "# Fixing the registers\n",
    "data['education'] = data['education'].str.lower()"
   ]
  },
  {
   "cell_type": "code",
   "execution_count": 20,
   "metadata": {},
   "outputs": [
    {
     "data": {
      "text/plain": [
       "array([\"bachelor's degree\", 'secondary education', 'some college',\n",
       "       'primary education', 'graduate degree'], dtype=object)"
      ]
     },
     "execution_count": 20,
     "metadata": {},
     "output_type": "execute_result"
    }
   ],
   "source": [
    "# Checking all the values in the column to make sure we fixed them\n",
    "data['education'].unique()"
   ]
  },
  {
   "cell_type": "markdown",
   "metadata": {},
   "source": [
    "Now the registers are fine, no duplicates in this category anymore. "
   ]
  },
  {
   "cell_type": "code",
   "execution_count": 21,
   "metadata": {},
   "outputs": [
    {
     "data": {
      "text/plain": [
       "children\n",
       " 0     14149\n",
       " 1      4818\n",
       " 2      2055\n",
       " 3       330\n",
       " 20       76\n",
       "-1        47\n",
       " 4        41\n",
       " 5         9\n",
       "Name: count, dtype: int64"
      ]
     },
     "execution_count": 21,
     "metadata": {},
     "output_type": "execute_result"
    }
   ],
   "source": [
    "# Let's see the distribution of values in the `children` column \n",
    "data['children'].value_counts()"
   ]
  },
  {
   "cell_type": "markdown",
   "metadata": {},
   "source": [
    "We see here odd numbers like -1, what surely is a mistake. Also having 20 children seems to be odd. As there are 76 such cases, while none others with more than 5 children, we can conclude that there are put here by mistake as well. "
   ]
  },
  {
   "cell_type": "markdown",
   "metadata": {},
   "source": [
    "So what we've got here:\n",
    "- **we see zeros in a column where they are not expected to be: `dob_years`**. It is most likely due to missing values in it.\n",
    "\n",
    "- meanwhile, it seems ok to have zeros in the following characteristics:\n",
    "    + number of children (not everybody has them)\n",
    "    + education_id (having zero value here - just a sign of Bachelor's Degree)\n",
    "    + family_status_id (having zero value here - just a sign of being married) \n",
    "    + debt (an easy one, surely not everybody has debts)\n",
    "    \n",
    "- **we could restore these zeros / aka missing values in  `dob_years` column, but since that doesn't lead us to answering any of the Project questions, we won't do that**. Furthermore, such missing values represent less than 0.5% of the whole dataframe. In any case, we can do it later on, if we see that addressing this data would be helpful for the Project goals (e.g.for categorization purposes).   "
   ]
  },
  {
   "cell_type": "code",
   "execution_count": 22,
   "metadata": {},
   "outputs": [
    {
     "name": "stdout",
     "output_type": "stream",
     "text": [
      "children\n",
      " 0     65.732869\n",
      " 1     22.383275\n",
      " 2      9.547038\n",
      " 3      1.533101\n",
      " 20     0.353078\n",
      "-1      0.218351\n",
      " 4      0.190476\n",
      " 5      0.041812\n",
      "Name: count, dtype: float64 %\n"
     ]
    }
   ],
   "source": [
    "# Let's see the distribution of values in the `children` column as a share of total data\n",
    "print(data['children'].value_counts() / len(data) * 100, '%')"
   ]
  },
  {
   "cell_type": "code",
   "execution_count": 23,
   "metadata": {},
   "outputs": [
    {
     "name": "stdout",
     "output_type": "stream",
     "text": [
      "Mean value in 'children' column, unfiltered data: 0.54\n",
      "Mean value in 'children' column, filtered data: 0.47\n",
      " \n",
      "Number of filtered out rows: 123\n"
     ]
    }
   ],
   "source": [
    "#Let's compare the mean values in the 'children' column between the initial dataframe and the filtered one.\n",
    "print('Mean value in \\'children\\' column, unfiltered data:',\n",
    "     round(data['children'].mean(), 2))\n",
    "\n",
    "#filtered data (excluding '-1' and '20' values in `children` column/0\n",
    "data_children_ok = data[(data['children']!= 20) & (data['children']!= -1)] \n",
    "\n",
    "print('Mean value in \\'children\\' column, filtered data:',\n",
    "      round(data_children_ok['children'].mean(), 2))\n",
    "print(' ')\n",
    "\n",
    "print('Number of filtered out rows:', \n",
    "      len(data)-len(data[(data['children']!= 20) & (data['children']!= -1)]))"
   ]
  },
  {
   "cell_type": "markdown",
   "metadata": {},
   "source": [
    "On the one hand, the odd numbers of '-1' and '20' children represent less than 1% of all data. On the other hand, they significantly affect the mean number in the `children` column (by more than 10%). Knowing the correct number of kids is crucial for answering one of the Project questions. Taking this into account, we must address these mistakes. We don't know for sure what number there should be. But we can check whether we can find any pattern."
   ]
  },
  {
   "cell_type": "code",
   "execution_count": 24,
   "metadata": {},
   "outputs": [
    {
     "name": "stdout",
     "output_type": "stream",
     "text": [
      "       children  days_employed  dob_years            education  education_id  \\\n",
      "606          20    -880.221113         21  secondary education             1   \n",
      "720          20    -855.595512         44  secondary education             1   \n",
      "1074         20   -3310.411598         56  secondary education             1   \n",
      "2510         20   -2714.161249         59    bachelor's degree             0   \n",
      "2941         20   -2161.591519          0  secondary education             1   \n",
      "...         ...            ...        ...                  ...           ...   \n",
      "21008        20   -1240.257910         40  secondary education             1   \n",
      "21325        20    -601.174883         37  secondary education             1   \n",
      "21390        20            NaN         53  secondary education             1   \n",
      "21404        20    -494.788448         52  secondary education             1   \n",
      "21491        20    -173.954460         27  secondary education             1   \n",
      "\n",
      "         family_status  family_status_id gender income_type  debt  \\\n",
      "606            married                 0      M    business     0   \n",
      "720            married                 0      F    business     0   \n",
      "1074           married                 0      F    employee     1   \n",
      "2510   widow / widower                 2      F    employee     0   \n",
      "2941           married                 0      F    employee     0   \n",
      "...                ...               ...    ...         ...   ...   \n",
      "21008          married                 0      F    employee     1   \n",
      "21325          married                 0      F    business     0   \n",
      "21390          married                 0      M    business     0   \n",
      "21404          married                 0      M    business     0   \n",
      "21491          married                 0      F    employee     0   \n",
      "\n",
      "       total_income                                   purpose  \n",
      "606       23253.578                     purchase of the house  \n",
      "720       18079.798                           buy real estate  \n",
      "1074      36722.966                      getting an education  \n",
      "2510      42315.974  transactions with commercial real estate  \n",
      "2941      31958.391                              to buy a car  \n",
      "...             ...                                       ...  \n",
      "21008     21363.842                              to own a car  \n",
      "21325     16477.771                         profile education  \n",
      "21390           NaN               buy residential real estate  \n",
      "21404     25060.749          transactions with my real estate  \n",
      "21491     24883.344                  buying a second-hand car  \n",
      "\n",
      "[76 rows x 12 columns]\n",
      " \n",
      "       children  days_employed  dob_years  education_id  family_status_id  \\\n",
      "count      76.0      67.000000  76.000000     76.000000         76.000000   \n",
      "mean       20.0   35779.535997  41.815789      0.842105          0.815789   \n",
      "std         0.0  112008.279425  12.065058      0.433671          1.363432   \n",
      "min        20.0  -11937.171389   0.000000      0.000000          0.000000   \n",
      "25%        20.0   -2629.663890  33.750000      1.000000          0.000000   \n",
      "50%        20.0    -957.251278  41.500000      1.000000          0.000000   \n",
      "75%        20.0    -478.364082  50.000000      1.000000          1.000000   \n",
      "max        20.0  385267.263676  69.000000      2.000000          4.000000   \n",
      "\n",
      "            debt  total_income  \n",
      "count  76.000000     67.000000  \n",
      "mean    0.105263  26995.284209  \n",
      "std     0.308931  12936.278062  \n",
      "min     0.000000   8635.452000  \n",
      "25%     0.000000  18346.981000  \n",
      "50%     0.000000  23127.125000  \n",
      "75%     0.000000  34885.391500  \n",
      "max     1.000000  70675.413000  \n"
     ]
    }
   ],
   "source": [
    "#let's glance whether we can find something intersting in the data with 20 children to find any pattern\n",
    "print(data[data['children'] == 20])\n",
    "print(' ')\n",
    "print(data[data['children'] == 20].describe())"
   ]
  },
  {
   "cell_type": "markdown",
   "metadata": {},
   "source": [
    "We can't see any patterns here, so we will just replace '20' and '-1' values as well with the *central* value of the dataset."
   ]
  },
  {
   "cell_type": "code",
   "execution_count": 25,
   "metadata": {},
   "outputs": [
    {
     "data": {
      "image/png": "[encoded data removed]",
      "text/plain": [
       "<Figure size 432x288 with 1 Axes>"
      ]
     },
     "metadata": {},
     "output_type": "display_data"
    }
   ],
   "source": [
    "# let's check the distribution of 'children' column\n",
    "sns.histplot(data_children_ok['children'], binwidth=0.5).set_title('Distribution of Children');"
   ]
  },
  {
   "cell_type": "markdown",
   "metadata": {},
   "source": [
    "As we see, there are no outliers anymore, as we look at filtered data. Anyway the distribution is unsymmetrical, so  median (rather than mean) does a better job of capturing the *typical* number of children in our dataset.  "
   ]
  },
  {
   "cell_type": "code",
   "execution_count": 26,
   "metadata": {},
   "outputs": [
    {
     "data": {
      "text/plain": [
       "0.0"
      ]
     },
     "execution_count": 26,
     "metadata": {},
     "output_type": "execute_result"
    },
    {
     "data": {
      "text/plain": [
       "income_type\n",
       "business                       0.0\n",
       "civil servant                  0.0\n",
       "employee                       0.0\n",
       "entrepreneur                   0.0\n",
       "paternity / maternity leave    2.0\n",
       "retiree                        0.0\n",
       "student                        0.0\n",
       "unemployed                     0.5\n",
       "Name: children, dtype: float64"
      ]
     },
     "execution_count": 26,
     "metadata": {},
     "output_type": "execute_result"
    },
    {
     "data": {
      "text/plain": [
       "family_status\n",
       "civil partnership    0.0\n",
       "divorced             0.0\n",
       "married              0.0\n",
       "unmarried            0.0\n",
       "widow / widower      0.0\n",
       "Name: children, dtype: float64"
      ]
     },
     "execution_count": 26,
     "metadata": {},
     "output_type": "execute_result"
    }
   ],
   "source": [
    "# let's check median values of children column itself and grouped by e.g.type of income and by family status\n",
    "data_children_ok['children'].median()\n",
    "data_children_ok.groupby('income_type')['children'].median()\n",
    "data_children_ok.groupby('family_status')['children'].median()"
   ]
  },
  {
   "cell_type": "markdown",
   "metadata": {},
   "source": [
    "From the data above we see that the median depends on income type. Meanwhile, as the share of odd values '20' and '-1' altogether is lower than 1% of the whole dataset, we won't go on figuring out median values by different categories and will just use the common one. Furthermore, it would look better to represent whole numbers of children in our final output (it's '0' for the common median), rather than having fractional ones (as it would be if we continue with calculating medians for number of children by different categories)."
   ]
  },
  {
   "cell_type": "code",
   "execution_count": 27,
   "metadata": {},
   "outputs": [],
   "source": [
    "# fixing data by replacing odd numbers with median numbers\n",
    "number = [20, -1] #values that we want to replace\n",
    "for i in number:\n",
    "    data.loc[data['children'] == i, 'children'] = data_children_ok['children'].median()"
   ]
  },
  {
   "cell_type": "code",
   "execution_count": 28,
   "metadata": {},
   "outputs": [
    {
     "data": {
      "text/plain": [
       "children\n",
       "0    14272\n",
       "1     4818\n",
       "2     2055\n",
       "3      330\n",
       "4       41\n",
       "5        9\n",
       "Name: count, dtype: int64"
      ]
     },
     "execution_count": 28,
     "metadata": {},
     "output_type": "execute_result"
    }
   ],
   "source": [
    "# Checking the 'children' column again to make sure it's all fixed\n",
    "data['children'].value_counts()"
   ]
  },
  {
   "cell_type": "markdown",
   "metadata": {},
   "source": [
    "Now numbers in 'children' column are OK."
   ]
  },
  {
   "cell_type": "markdown",
   "metadata": {},
   "source": [
    "We've already investigated some minor issues in `dob_years` column (zero values, while there should be none of them). But these mistakes in data don't play any crucial role to us and we won't go on fixing it (e.g. by filling mean values). "
   ]
  },
  {
   "cell_type": "code",
   "execution_count": 29,
   "metadata": {},
   "outputs": [
    {
     "data": {
      "text/plain": [
       "family_status\n",
       "married              12380\n",
       "civil partnership     4177\n",
       "unmarried             2813\n",
       "divorced              1195\n",
       "widow / widower        960\n",
       "Name: count, dtype: int64"
      ]
     },
     "execution_count": 29,
     "metadata": {},
     "output_type": "execute_result"
    }
   ],
   "source": [
    "# let's check the distribution of `family_status` column\n",
    "data['family_status'].value_counts()"
   ]
  },
  {
   "cell_type": "markdown",
   "metadata": {},
   "source": [
    "Everything looks fine with family statuses and their numbers. "
   ]
  },
  {
   "cell_type": "code",
   "execution_count": 30,
   "metadata": {},
   "outputs": [
    {
     "data": {
      "text/plain": [
       "gender\n",
       "F      14236\n",
       "M       7288\n",
       "XNA        1\n",
       "Name: count, dtype: int64"
      ]
     },
     "execution_count": 30,
     "metadata": {},
     "output_type": "execute_result"
    }
   ],
   "source": [
    "# let's check the distribution of 'gender' column\n",
    "data['gender'].value_counts()"
   ]
  },
  {
   "cell_type": "markdown",
   "metadata": {},
   "source": [
    "Everything looks fine here as well."
   ]
  },
  {
   "cell_type": "code",
   "execution_count": 31,
   "metadata": {},
   "outputs": [
    {
     "name": "stdout",
     "output_type": "stream",
     "text": [
      "income_type\n",
      "employee                       11119\n",
      "business                        5085\n",
      "retiree                         3856\n",
      "civil servant                   1459\n",
      "unemployed                         2\n",
      "entrepreneur                       2\n",
      "student                            1\n",
      "paternity / maternity leave        1\n",
      "Name: count, dtype: int64\n"
     ]
    }
   ],
   "source": [
    "# let's check the distribution of 'income_type' column\n",
    "print(data['income_type'].value_counts())"
   ]
  },
  {
   "cell_type": "markdown",
   "metadata": {},
   "source": [
    "It's a bit strange - having such a low number of 'entrepreneur', 'student', 'unemployed' and 'paternity / maternity leave' categories. Meanwhile, further investigations of these data don't seem to be necessary."
   ]
  },
  {
   "cell_type": "code",
   "execution_count": 32,
   "metadata": {
    "scrolled": true
   },
   "outputs": [
    {
     "name": "stdout",
     "output_type": "stream",
     "text": [
      "Number of duplicates: 71 \n",
      "Share of duplicates: 0.33 %\n",
      "-------\n",
      "      children  days_employed  dob_years            education  education_id  \\\n",
      "2849         0            NaN         41  secondary education             1   \n",
      "3290         0            NaN         58  secondary education             1   \n",
      "4182         1            NaN         34    bachelor's degree             0   \n",
      "4851         0            NaN         60  secondary education             1   \n",
      "5557         0            NaN         58  secondary education             1   \n",
      "6312         0            NaN         30  secondary education             1   \n",
      "7808         0            NaN         57  secondary education             1   \n",
      "7921         0            NaN         64    bachelor's degree             0   \n",
      "7938         0            NaN         71  secondary education             1   \n",
      "8583         0            NaN         58    bachelor's degree             0   \n",
      "\n",
      "          family_status  family_status_id gender income_type  debt  \\\n",
      "2849            married                 0      F    employee     0   \n",
      "3290  civil partnership                 1      F     retiree     0   \n",
      "4182  civil partnership                 1      F    employee     0   \n",
      "4851  civil partnership                 1      F     retiree     0   \n",
      "5557  civil partnership                 1      F     retiree     0   \n",
      "6312            married                 0      M    employee     0   \n",
      "7808  civil partnership                 1      F     retiree     0   \n",
      "7921  civil partnership                 1      F     retiree     0   \n",
      "7938  civil partnership                 1      F     retiree     0   \n",
      "8583          unmarried                 4      F     retiree     0   \n",
      "\n",
      "      total_income                              purpose  \n",
      "2849           NaN  purchase of the house for my family  \n",
      "3290           NaN                    to have a wedding  \n",
      "4182           NaN                     wedding ceremony  \n",
      "4851           NaN                     wedding ceremony  \n",
      "5557           NaN                    to have a wedding  \n",
      "6312           NaN               building a real estate  \n",
      "7808           NaN                     having a wedding  \n",
      "7921           NaN                     having a wedding  \n",
      "7938           NaN                     having a wedding  \n",
      "8583           NaN              supplementary education  \n"
     ]
    }
   ],
   "source": [
    "# Let's check if we have any duplicates in our data.\n",
    "print('Number of duplicates:', data.duplicated().sum(), \n",
    "      '\\nShare of duplicates:', round(data.duplicated().sum()/len(data)*100, 2), '%')\n",
    "print('-------')\n",
    "print(data[data.duplicated()].head(10))"
   ]
  },
  {
   "cell_type": "markdown",
   "metadata": {},
   "source": [
    "We can assume that there could be two reasons for having duplicates here:\n",
    "- the same borrower (with the same set of features) several times applied for the same loan\n",
    "- there are several borrowers with the same sets of features. This assumption is less likely to be the main, as work experience in days is quite unique data. "
   ]
  },
  {
   "cell_type": "code",
   "execution_count": 33,
   "metadata": {},
   "outputs": [],
   "source": [
    "# Addressing the duplicates\n",
    "data = data.drop_duplicates().reset_index(drop=True)"
   ]
  },
  {
   "cell_type": "code",
   "execution_count": 34,
   "metadata": {},
   "outputs": [
    {
     "name": "stdout",
     "output_type": "stream",
     "text": [
      "0\n"
     ]
    }
   ],
   "source": [
    "# Last check whether we have any duplicates anymore\n",
    "print(data.duplicated().sum())"
   ]
  },
  {
   "cell_type": "code",
   "execution_count": 35,
   "metadata": {},
   "outputs": [
    {
     "data": {
      "text/plain": [
       "21454"
      ]
     },
     "execution_count": 35,
     "metadata": {},
     "output_type": "execute_result"
    }
   ],
   "source": [
    "# Check the size of the dataset that you now have after your first manipulations with it\n",
    "len(data)"
   ]
  },
  {
   "cell_type": "markdown",
   "metadata": {},
   "source": [
    "We've fixed the duplicates and thus dataset became 0.33 % shorter."
   ]
  },
  {
   "cell_type": "markdown",
   "metadata": {},
   "source": [
    "## 🛠️ Treating Missing Values"
   ]
  },
  {
   "cell_type": "markdown",
   "metadata": {},
   "source": [
    "As we revealed above, there are missing values in `total_income` and `days_employed` columns. Let's address them by replacing them with relevant *typical* values. Categorization of such characteristic as 'age' would make finding best *typical* values easier. "
   ]
  },
  {
   "cell_type": "markdown",
   "metadata": {},
   "source": [
    "### Restoring missing Values in `total_income`"
   ]
  },
  {
   "cell_type": "code",
   "execution_count": 36,
   "metadata": {},
   "outputs": [],
   "source": [
    "# Let's write a function that calculates the age category \n",
    "\n",
    "def age_group(age):\n",
    "    \n",
    "    \"\"\"\n",
    "    The function returns the age group according to the follofing rules:\n",
    "\n",
    "    *'a  mistake' for age < 0\n",
    "    'children' for age <= 18\n",
    "    'young adults' for 19 <= age <= 34\n",
    "    'adults' for 35 <= age <= 49\n",
    "    'seniours' for 50 <= age <= 64\n",
    "    'retired' for 65 <= age <= 119\n",
    "    *'a God or a mistake' for age >= 120\n",
    "\n",
    "    * - actually we don't need these categories for the current dataset, meanwhile, \n",
    "        it could be useful in case we need to work with a different dataset in the future)\n",
    "    \"\"\"     \n",
    "      \n",
    "    if age < 0:\n",
    "        return 'a mistake'   \n",
    "    if age <= 18:\n",
    "        return 'children'\n",
    "    if 19 <= age <= 34:\n",
    "        return 'young adults'\n",
    "    if 35 <= age <= 49:\n",
    "        return 'adults'\n",
    "    if 50 <= age <= 64:\n",
    "        return 'seniours'    \n",
    "    if 65 <= age <= 119:\n",
    "        return 'retired'\n",
    "    if age >= 120:\n",
    "        return 'a God or a mistake'    "
   ]
  },
  {
   "cell_type": "code",
   "execution_count": 37,
   "metadata": {},
   "outputs": [
    {
     "name": "stdout",
     "output_type": "stream",
     "text": [
      "age \"-2\": a mistake\n",
      "age \"16\": children\n",
      "age \"21\": young adults\n",
      "age \"38\": adults\n",
      "age \"52\": seniours\n",
      "age \"89\": retired\n",
      "age \"221\": a God or a mistake\n"
     ]
    }
   ],
   "source": [
    "# Test whether the function works as supposed\n",
    "print('age \\\"-2\\\":', age_group(-2))\n",
    "print('age \\\"16\\\":',age_group(16))\n",
    "print('age \\\"21\\\":',age_group(21))\n",
    "print('age \\\"38\\\":',age_group(38))\n",
    "print('age \\\"52\\\":',age_group(52))\n",
    "print('age \\\"89\\\":',age_group(89))\n",
    "print('age \\\"221\\\":',age_group(221))"
   ]
  },
  {
   "cell_type": "code",
   "execution_count": 38,
   "metadata": {},
   "outputs": [],
   "source": [
    "# Creating new column based on the function\n",
    "data['age_group']=data['dob_years'].apply(age_group)"
   ]
  },
  {
   "cell_type": "code",
   "execution_count": 39,
   "metadata": {},
   "outputs": [
    {
     "data": {
      "text/plain": [
       "age_group\n",
       "adults          8229\n",
       "seniours        6262\n",
       "young adults    5967\n",
       "retired          895\n",
       "children         101\n",
       "Name: count, dtype: int64"
      ]
     },
     "execution_count": 39,
     "metadata": {},
     "output_type": "execute_result"
    }
   ],
   "source": [
    "# Checking values in the new column\n",
    "data['age_group'].value_counts()"
   ]
  },
  {
   "cell_type": "markdown",
   "metadata": {},
   "source": [
    "These 101 values in 'children' category seem to be zeros in this field, what we've already found out by now. We will address them later on if needed. "
   ]
  },
  {
   "cell_type": "markdown",
   "metadata": {},
   "source": [
    "Let's check `total_income` distribution and descriptive statistics of several characteristics. This will help us find which one would be best for counting *typical* values for replacing missed ones."
   ]
  },
  {
   "cell_type": "code",
   "execution_count": 40,
   "metadata": {},
   "outputs": [
    {
     "data": {
      "text/html": [
       "<div>\n",
       "<style scoped>\n",
       "    .dataframe tbody tr th:only-of-type {\n",
       "        vertical-align: middle;\n",
       "    }\n",
       "\n",
       "    .dataframe tbody tr th {\n",
       "        vertical-align: top;\n",
       "    }\n",
       "\n",
       "    .dataframe thead th {\n",
       "        text-align: right;\n",
       "    }\n",
       "</style>\n",
       "<table border=\"1\" class=\"dataframe\">\n",
       "  <thead>\n",
       "    <tr style=\"text-align: right;\">\n",
       "      <th></th>\n",
       "      <th>count</th>\n",
       "      <th>median</th>\n",
       "      <th>mean</th>\n",
       "      <th>std</th>\n",
       "      <th>var</th>\n",
       "    </tr>\n",
       "    <tr>\n",
       "      <th>income_type</th>\n",
       "      <th></th>\n",
       "      <th></th>\n",
       "      <th></th>\n",
       "      <th></th>\n",
       "      <th></th>\n",
       "    </tr>\n",
       "  </thead>\n",
       "  <tbody>\n",
       "    <tr>\n",
       "      <th>business</th>\n",
       "      <td>4577</td>\n",
       "      <td>27,577.27</td>\n",
       "      <td>32,386.79</td>\n",
       "      <td>20,876.98</td>\n",
       "      <td>435,848,098.82</td>\n",
       "    </tr>\n",
       "    <tr>\n",
       "      <th>civil servant</th>\n",
       "      <td>1312</td>\n",
       "      <td>24,071.67</td>\n",
       "      <td>27,343.73</td>\n",
       "      <td>15,500.60</td>\n",
       "      <td>240,268,666.99</td>\n",
       "    </tr>\n",
       "    <tr>\n",
       "      <th>employee</th>\n",
       "      <td>10014</td>\n",
       "      <td>22,815.10</td>\n",
       "      <td>25,820.84</td>\n",
       "      <td>14,611.60</td>\n",
       "      <td>213,498,923.76</td>\n",
       "    </tr>\n",
       "    <tr>\n",
       "      <th>entrepreneur</th>\n",
       "      <td>1</td>\n",
       "      <td>79,866.10</td>\n",
       "      <td>79,866.10</td>\n",
       "      <td>NaN</td>\n",
       "      <td>NaN</td>\n",
       "    </tr>\n",
       "    <tr>\n",
       "      <th>paternity / maternity leave</th>\n",
       "      <td>1</td>\n",
       "      <td>8,612.66</td>\n",
       "      <td>8,612.66</td>\n",
       "      <td>NaN</td>\n",
       "      <td>NaN</td>\n",
       "    </tr>\n",
       "    <tr>\n",
       "      <th>retiree</th>\n",
       "      <td>3443</td>\n",
       "      <td>18,962.32</td>\n",
       "      <td>21,940.39</td>\n",
       "      <td>12,839.51</td>\n",
       "      <td>164,853,081.81</td>\n",
       "    </tr>\n",
       "    <tr>\n",
       "      <th>student</th>\n",
       "      <td>1</td>\n",
       "      <td>15,712.26</td>\n",
       "      <td>15,712.26</td>\n",
       "      <td>NaN</td>\n",
       "      <td>NaN</td>\n",
       "    </tr>\n",
       "    <tr>\n",
       "      <th>unemployed</th>\n",
       "      <td>2</td>\n",
       "      <td>21,014.36</td>\n",
       "      <td>21,014.36</td>\n",
       "      <td>16,152.07</td>\n",
       "      <td>260,889,514.80</td>\n",
       "    </tr>\n",
       "  </tbody>\n",
       "</table>\n",
       "</div>"
      ],
      "text/plain": [
       "                             count               median                 mean  \\\n",
       "income_type                                                                    \n",
       "business                      4577            27,577.27            32,386.79   \n",
       "civil servant                 1312            24,071.67            27,343.73   \n",
       "employee                     10014            22,815.10            25,820.84   \n",
       "entrepreneur                     1            79,866.10            79,866.10   \n",
       "paternity / maternity leave      1             8,612.66             8,612.66   \n",
       "retiree                       3443            18,962.32            21,940.39   \n",
       "student                          1            15,712.26            15,712.26   \n",
       "unemployed                       2            21,014.36            21,014.36   \n",
       "\n",
       "                                             std                  var  \n",
       "income_type                                                            \n",
       "business                               20,876.98       435,848,098.82  \n",
       "civil servant                          15,500.60       240,268,666.99  \n",
       "employee                               14,611.60       213,498,923.76  \n",
       "entrepreneur                                 NaN                  NaN  \n",
       "paternity / maternity leave                  NaN                  NaN  \n",
       "retiree                                12,839.51       164,853,081.81  \n",
       "student                                      NaN                  NaN  \n",
       "unemployed                             16,152.07       260,889,514.80  "
      ]
     },
     "execution_count": 40,
     "metadata": {},
     "output_type": "execute_result"
    },
    {
     "data": {
      "text/html": [
       "<div>\n",
       "<style scoped>\n",
       "    .dataframe tbody tr th:only-of-type {\n",
       "        vertical-align: middle;\n",
       "    }\n",
       "\n",
       "    .dataframe tbody tr th {\n",
       "        vertical-align: top;\n",
       "    }\n",
       "\n",
       "    .dataframe thead th {\n",
       "        text-align: right;\n",
       "    }\n",
       "</style>\n",
       "<table border=\"1\" class=\"dataframe\">\n",
       "  <thead>\n",
       "    <tr style=\"text-align: right;\">\n",
       "      <th></th>\n",
       "      <th>count</th>\n",
       "      <th>median</th>\n",
       "      <th>mean</th>\n",
       "      <th>std</th>\n",
       "      <th>var</th>\n",
       "    </tr>\n",
       "    <tr>\n",
       "      <th>age_group</th>\n",
       "      <th></th>\n",
       "      <th></th>\n",
       "      <th></th>\n",
       "      <th></th>\n",
       "      <th></th>\n",
       "    </tr>\n",
       "  </thead>\n",
       "  <tbody>\n",
       "    <tr>\n",
       "      <th>adults</th>\n",
       "      <td>7429</td>\n",
       "      <td>24,795.83</td>\n",
       "      <td>28,583.38</td>\n",
       "      <td>18,237.96</td>\n",
       "      <td>332,623,032.45</td>\n",
       "    </tr>\n",
       "    <tr>\n",
       "      <th>children</th>\n",
       "      <td>91</td>\n",
       "      <td>24,387.07</td>\n",
       "      <td>25,334.07</td>\n",
       "      <td>11,901.10</td>\n",
       "      <td>141,636,098.66</td>\n",
       "    </tr>\n",
       "    <tr>\n",
       "      <th>retired</th>\n",
       "      <td>818</td>\n",
       "      <td>18,471.39</td>\n",
       "      <td>21,542.65</td>\n",
       "      <td>13,145.45</td>\n",
       "      <td>172,802,847.79</td>\n",
       "    </tr>\n",
       "    <tr>\n",
       "      <th>seniours</th>\n",
       "      <td>5615</td>\n",
       "      <td>21,830.25</td>\n",
       "      <td>25,313.12</td>\n",
       "      <td>15,772.28</td>\n",
       "      <td>248,764,954.37</td>\n",
       "    </tr>\n",
       "    <tr>\n",
       "      <th>young adults</th>\n",
       "      <td>5398</td>\n",
       "      <td>23,399.82</td>\n",
       "      <td>26,669.11</td>\n",
       "      <td>14,737.66</td>\n",
       "      <td>217,198,477.63</td>\n",
       "    </tr>\n",
       "  </tbody>\n",
       "</table>\n",
       "</div>"
      ],
      "text/plain": [
       "              count               median                 mean  \\\n",
       "age_group                                                       \n",
       "adults         7429            24,795.83            28,583.38   \n",
       "children         91            24,387.07            25,334.07   \n",
       "retired         818            18,471.39            21,542.65   \n",
       "seniours       5615            21,830.25            25,313.12   \n",
       "young adults   5398            23,399.82            26,669.11   \n",
       "\n",
       "                              std                  var  \n",
       "age_group                                               \n",
       "adults                  18,237.96       332,623,032.45  \n",
       "children                11,901.10       141,636,098.66  \n",
       "retired                 13,145.45       172,802,847.79  \n",
       "seniours                15,772.28       248,764,954.37  \n",
       "young adults            14,737.66       217,198,477.63  "
      ]
     },
     "execution_count": 40,
     "metadata": {},
     "output_type": "execute_result"
    },
    {
     "data": {
      "text/html": [
       "<div>\n",
       "<style scoped>\n",
       "    .dataframe tbody tr th:only-of-type {\n",
       "        vertical-align: middle;\n",
       "    }\n",
       "\n",
       "    .dataframe tbody tr th {\n",
       "        vertical-align: top;\n",
       "    }\n",
       "\n",
       "    .dataframe thead th {\n",
       "        text-align: right;\n",
       "    }\n",
       "</style>\n",
       "<table border=\"1\" class=\"dataframe\">\n",
       "  <thead>\n",
       "    <tr style=\"text-align: right;\">\n",
       "      <th></th>\n",
       "      <th>count</th>\n",
       "      <th>median</th>\n",
       "      <th>mean</th>\n",
       "      <th>std</th>\n",
       "      <th>var</th>\n",
       "    </tr>\n",
       "    <tr>\n",
       "      <th>gender</th>\n",
       "      <th></th>\n",
       "      <th></th>\n",
       "      <th></th>\n",
       "      <th></th>\n",
       "      <th></th>\n",
       "    </tr>\n",
       "  </thead>\n",
       "  <tbody>\n",
       "    <tr>\n",
       "      <th>F</th>\n",
       "      <td>12752</td>\n",
       "      <td>21,464.85</td>\n",
       "      <td>24,655.60</td>\n",
       "      <td>14,455.05</td>\n",
       "      <td>208,948,416.39</td>\n",
       "    </tr>\n",
       "    <tr>\n",
       "      <th>M</th>\n",
       "      <td>6598</td>\n",
       "      <td>26,834.30</td>\n",
       "      <td>30,907.14</td>\n",
       "      <td>19,145.39</td>\n",
       "      <td>366,545,781.86</td>\n",
       "    </tr>\n",
       "    <tr>\n",
       "      <th>XNA</th>\n",
       "      <td>1</td>\n",
       "      <td>32,624.83</td>\n",
       "      <td>32,624.83</td>\n",
       "      <td>NaN</td>\n",
       "      <td>NaN</td>\n",
       "    </tr>\n",
       "  </tbody>\n",
       "</table>\n",
       "</div>"
      ],
      "text/plain": [
       "        count               median                 mean                  std  \\\n",
       "gender                                                                         \n",
       "F       12752            21,464.85            24,655.60            14,455.05   \n",
       "M        6598            26,834.30            30,907.14            19,145.39   \n",
       "XNA         1            32,624.83            32,624.83                  NaN   \n",
       "\n",
       "                        var  \n",
       "gender                       \n",
       "F            208,948,416.39  \n",
       "M            366,545,781.86  \n",
       "XNA                     NaN  "
      ]
     },
     "execution_count": 40,
     "metadata": {},
     "output_type": "execute_result"
    },
    {
     "data": {
      "text/html": [
       "<div>\n",
       "<style scoped>\n",
       "    .dataframe tbody tr th:only-of-type {\n",
       "        vertical-align: middle;\n",
       "    }\n",
       "\n",
       "    .dataframe tbody tr th {\n",
       "        vertical-align: top;\n",
       "    }\n",
       "\n",
       "    .dataframe thead th {\n",
       "        text-align: right;\n",
       "    }\n",
       "</style>\n",
       "<table border=\"1\" class=\"dataframe\">\n",
       "  <thead>\n",
       "    <tr style=\"text-align: right;\">\n",
       "      <th></th>\n",
       "      <th>count</th>\n",
       "      <th>median</th>\n",
       "      <th>mean</th>\n",
       "      <th>std</th>\n",
       "      <th>var</th>\n",
       "    </tr>\n",
       "    <tr>\n",
       "      <th>education</th>\n",
       "      <th></th>\n",
       "      <th></th>\n",
       "      <th></th>\n",
       "      <th></th>\n",
       "      <th></th>\n",
       "    </tr>\n",
       "  </thead>\n",
       "  <tbody>\n",
       "    <tr>\n",
       "      <th>bachelor's degree</th>\n",
       "      <td>4716</td>\n",
       "      <td>28,054.53</td>\n",
       "      <td>33,142.80</td>\n",
       "      <td>21,699.24</td>\n",
       "      <td>470,857,152.26</td>\n",
       "    </tr>\n",
       "    <tr>\n",
       "      <th>graduate degree</th>\n",
       "      <td>6</td>\n",
       "      <td>25,161.58</td>\n",
       "      <td>27,960.02</td>\n",
       "      <td>12,205.33</td>\n",
       "      <td>148,970,081.54</td>\n",
       "    </tr>\n",
       "    <tr>\n",
       "      <th>primary education</th>\n",
       "      <td>261</td>\n",
       "      <td>18,741.98</td>\n",
       "      <td>21,144.88</td>\n",
       "      <td>10,873.98</td>\n",
       "      <td>118,243,394.81</td>\n",
       "    </tr>\n",
       "    <tr>\n",
       "      <th>secondary education</th>\n",
       "      <td>13693</td>\n",
       "      <td>21,836.58</td>\n",
       "      <td>24,594.50</td>\n",
       "      <td>13,694.98</td>\n",
       "      <td>187,552,478.32</td>\n",
       "    </tr>\n",
       "    <tr>\n",
       "      <th>some college</th>\n",
       "      <td>675</td>\n",
       "      <td>25,618.46</td>\n",
       "      <td>29,045.44</td>\n",
       "      <td>15,633.69</td>\n",
       "      <td>244,412,336.81</td>\n",
       "    </tr>\n",
       "  </tbody>\n",
       "</table>\n",
       "</div>"
      ],
      "text/plain": [
       "                     count               median                 mean  \\\n",
       "education                                                              \n",
       "bachelor's degree     4716            28,054.53            33,142.80   \n",
       "graduate degree          6            25,161.58            27,960.02   \n",
       "primary education      261            18,741.98            21,144.88   \n",
       "secondary education  13693            21,836.58            24,594.50   \n",
       "some college           675            25,618.46            29,045.44   \n",
       "\n",
       "                                     std                  var  \n",
       "education                                                      \n",
       "bachelor's degree              21,699.24       470,857,152.26  \n",
       "graduate degree                12,205.33       148,970,081.54  \n",
       "primary education              10,873.98       118,243,394.81  \n",
       "secondary education            13,694.98       187,552,478.32  \n",
       "some college                   15,633.69       244,412,336.81  "
      ]
     },
     "execution_count": 40,
     "metadata": {},
     "output_type": "execute_result"
    }
   ],
   "source": [
    "pd.options.display.float_format = '{:20,.2f}'.format #Suppressing scientific notation in Pandas\n",
    "\n",
    "#checking distributions and descriptive statistics of 'total_income' by different categories\n",
    "data.groupby(['income_type'])['total_income'].agg(['count','median','mean','std','var'])\n",
    "data.groupby(['age_group'])['total_income'].agg(['count','median','mean','std','var'])\n",
    "data.groupby(['gender'])['total_income'].agg(['count','median','mean','std','var'])\n",
    "data.groupby(['education'])['total_income'].agg(['count','median','mean','std','var'])"
   ]
  },
  {
   "cell_type": "markdown",
   "metadata": {},
   "source": [
    "We see that income level depends a lot on all of the characteristics, but mostly on type of income."
   ]
  },
  {
   "cell_type": "code",
   "execution_count": 41,
   "metadata": {},
   "outputs": [
    {
     "data": {
      "text/html": [
       "<div>\n",
       "<style scoped>\n",
       "    .dataframe tbody tr th:only-of-type {\n",
       "        vertical-align: middle;\n",
       "    }\n",
       "\n",
       "    .dataframe tbody tr th {\n",
       "        vertical-align: top;\n",
       "    }\n",
       "\n",
       "    .dataframe thead th {\n",
       "        text-align: right;\n",
       "    }\n",
       "</style>\n",
       "<table border=\"1\" class=\"dataframe\">\n",
       "  <thead>\n",
       "    <tr style=\"text-align: right;\">\n",
       "      <th></th>\n",
       "      <th>children</th>\n",
       "      <th>days_employed</th>\n",
       "      <th>dob_years</th>\n",
       "      <th>education</th>\n",
       "      <th>education_id</th>\n",
       "      <th>family_status</th>\n",
       "      <th>family_status_id</th>\n",
       "      <th>gender</th>\n",
       "      <th>income_type</th>\n",
       "      <th>debt</th>\n",
       "      <th>total_income</th>\n",
       "      <th>purpose</th>\n",
       "      <th>age_group</th>\n",
       "    </tr>\n",
       "  </thead>\n",
       "  <tbody>\n",
       "    <tr>\n",
       "      <th>15771</th>\n",
       "      <td>0</td>\n",
       "      <td>-3,199.87</td>\n",
       "      <td>51</td>\n",
       "      <td>bachelor's degree</td>\n",
       "      <td>0</td>\n",
       "      <td>married</td>\n",
       "      <td>0</td>\n",
       "      <td>F</td>\n",
       "      <td>employee</td>\n",
       "      <td>0</td>\n",
       "      <td>39,588.74</td>\n",
       "      <td>getting an education</td>\n",
       "      <td>seniours</td>\n",
       "    </tr>\n",
       "    <tr>\n",
       "      <th>2637</th>\n",
       "      <td>1</td>\n",
       "      <td>-4,188.97</td>\n",
       "      <td>39</td>\n",
       "      <td>secondary education</td>\n",
       "      <td>1</td>\n",
       "      <td>married</td>\n",
       "      <td>0</td>\n",
       "      <td>M</td>\n",
       "      <td>employee</td>\n",
       "      <td>0</td>\n",
       "      <td>25,984.83</td>\n",
       "      <td>purchase of my own house</td>\n",
       "      <td>adults</td>\n",
       "    </tr>\n",
       "    <tr>\n",
       "      <th>16367</th>\n",
       "      <td>0</td>\n",
       "      <td>-4,078.55</td>\n",
       "      <td>49</td>\n",
       "      <td>secondary education</td>\n",
       "      <td>1</td>\n",
       "      <td>married</td>\n",
       "      <td>0</td>\n",
       "      <td>F</td>\n",
       "      <td>employee</td>\n",
       "      <td>0</td>\n",
       "      <td>13,287.96</td>\n",
       "      <td>transactions with commercial real estate</td>\n",
       "      <td>adults</td>\n",
       "    </tr>\n",
       "    <tr>\n",
       "      <th>17668</th>\n",
       "      <td>0</td>\n",
       "      <td>-1,898.52</td>\n",
       "      <td>43</td>\n",
       "      <td>secondary education</td>\n",
       "      <td>1</td>\n",
       "      <td>civil partnership</td>\n",
       "      <td>1</td>\n",
       "      <td>F</td>\n",
       "      <td>civil servant</td>\n",
       "      <td>0</td>\n",
       "      <td>21,540.67</td>\n",
       "      <td>construction of own property</td>\n",
       "      <td>adults</td>\n",
       "    </tr>\n",
       "    <tr>\n",
       "      <th>4987</th>\n",
       "      <td>1</td>\n",
       "      <td>-666.13</td>\n",
       "      <td>32</td>\n",
       "      <td>bachelor's degree</td>\n",
       "      <td>0</td>\n",
       "      <td>married</td>\n",
       "      <td>0</td>\n",
       "      <td>M</td>\n",
       "      <td>employee</td>\n",
       "      <td>0</td>\n",
       "      <td>23,044.79</td>\n",
       "      <td>to buy a car</td>\n",
       "      <td>young adults</td>\n",
       "    </tr>\n",
       "    <tr>\n",
       "      <th>17074</th>\n",
       "      <td>0</td>\n",
       "      <td>341,619.20</td>\n",
       "      <td>67</td>\n",
       "      <td>secondary education</td>\n",
       "      <td>1</td>\n",
       "      <td>married</td>\n",
       "      <td>0</td>\n",
       "      <td>F</td>\n",
       "      <td>retiree</td>\n",
       "      <td>0</td>\n",
       "      <td>9,353.67</td>\n",
       "      <td>purchase of a car</td>\n",
       "      <td>retired</td>\n",
       "    </tr>\n",
       "    <tr>\n",
       "      <th>10640</th>\n",
       "      <td>1</td>\n",
       "      <td>-799.03</td>\n",
       "      <td>25</td>\n",
       "      <td>secondary education</td>\n",
       "      <td>1</td>\n",
       "      <td>married</td>\n",
       "      <td>0</td>\n",
       "      <td>M</td>\n",
       "      <td>employee</td>\n",
       "      <td>0</td>\n",
       "      <td>21,087.28</td>\n",
       "      <td>to own a car</td>\n",
       "      <td>young adults</td>\n",
       "    </tr>\n",
       "    <tr>\n",
       "      <th>17813</th>\n",
       "      <td>0</td>\n",
       "      <td>349,331.30</td>\n",
       "      <td>53</td>\n",
       "      <td>secondary education</td>\n",
       "      <td>1</td>\n",
       "      <td>widow / widower</td>\n",
       "      <td>2</td>\n",
       "      <td>F</td>\n",
       "      <td>retiree</td>\n",
       "      <td>0</td>\n",
       "      <td>18,581.80</td>\n",
       "      <td>housing</td>\n",
       "      <td>seniours</td>\n",
       "    </tr>\n",
       "    <tr>\n",
       "      <th>18078</th>\n",
       "      <td>2</td>\n",
       "      <td>-10,216.01</td>\n",
       "      <td>58</td>\n",
       "      <td>secondary education</td>\n",
       "      <td>1</td>\n",
       "      <td>married</td>\n",
       "      <td>0</td>\n",
       "      <td>M</td>\n",
       "      <td>business</td>\n",
       "      <td>0</td>\n",
       "      <td>19,313.90</td>\n",
       "      <td>to buy a car</td>\n",
       "      <td>seniours</td>\n",
       "    </tr>\n",
       "    <tr>\n",
       "      <th>18859</th>\n",
       "      <td>0</td>\n",
       "      <td>398,599.14</td>\n",
       "      <td>60</td>\n",
       "      <td>secondary education</td>\n",
       "      <td>1</td>\n",
       "      <td>widow / widower</td>\n",
       "      <td>2</td>\n",
       "      <td>F</td>\n",
       "      <td>retiree</td>\n",
       "      <td>0</td>\n",
       "      <td>30,380.33</td>\n",
       "      <td>real estate transactions</td>\n",
       "      <td>seniours</td>\n",
       "    </tr>\n",
       "  </tbody>\n",
       "</table>\n",
       "</div>"
      ],
      "text/plain": [
       "       children        days_employed  dob_years            education  \\\n",
       "15771         0            -3,199.87         51    bachelor's degree   \n",
       "2637          1            -4,188.97         39  secondary education   \n",
       "16367         0            -4,078.55         49  secondary education   \n",
       "17668         0            -1,898.52         43  secondary education   \n",
       "4987          1              -666.13         32    bachelor's degree   \n",
       "17074         0           341,619.20         67  secondary education   \n",
       "10640         1              -799.03         25  secondary education   \n",
       "17813         0           349,331.30         53  secondary education   \n",
       "18078         2           -10,216.01         58  secondary education   \n",
       "18859         0           398,599.14         60  secondary education   \n",
       "\n",
       "       education_id      family_status  family_status_id gender  \\\n",
       "15771             0            married                 0      F   \n",
       "2637              1            married                 0      M   \n",
       "16367             1            married                 0      F   \n",
       "17668             1  civil partnership                 1      F   \n",
       "4987              0            married                 0      M   \n",
       "17074             1            married                 0      F   \n",
       "10640             1            married                 0      M   \n",
       "17813             1    widow / widower                 2      F   \n",
       "18078             1            married                 0      M   \n",
       "18859             1    widow / widower                 2      F   \n",
       "\n",
       "         income_type  debt         total_income  \\\n",
       "15771       employee     0            39,588.74   \n",
       "2637        employee     0            25,984.83   \n",
       "16367       employee     0            13,287.96   \n",
       "17668  civil servant     0            21,540.67   \n",
       "4987        employee     0            23,044.79   \n",
       "17074        retiree     0             9,353.67   \n",
       "10640       employee     0            21,087.28   \n",
       "17813        retiree     0            18,581.80   \n",
       "18078       business     0            19,313.90   \n",
       "18859        retiree     0            30,380.33   \n",
       "\n",
       "                                        purpose     age_group  \n",
       "15771                      getting an education      seniours  \n",
       "2637                   purchase of my own house        adults  \n",
       "16367  transactions with commercial real estate        adults  \n",
       "17668              construction of own property        adults  \n",
       "4987                               to buy a car  young adults  \n",
       "17074                         purchase of a car       retired  \n",
       "10640                              to own a car  young adults  \n",
       "17813                                   housing      seniours  \n",
       "18078                              to buy a car      seniours  \n",
       "18859                  real estate transactions      seniours  "
      ]
     },
     "execution_count": 41,
     "metadata": {},
     "output_type": "execute_result"
    }
   ],
   "source": [
    "# creating a table that only has data without missing values. This data will be used to restore the missing values.\n",
    "data_without_na=data[data['total_income'].notna()]\n",
    "\n",
    "#checking that it looks fine\n",
    "data_without_na.sample(10)"
   ]
  },
  {
   "cell_type": "code",
   "execution_count": 42,
   "metadata": {},
   "outputs": [
    {
     "data": {
      "image/png": "[encoded data removed]",
      "text/plain": [
       "<Figure size 432x288 with 1 Axes>"
      ]
     },
     "metadata": {},
     "output_type": "display_data"
    }
   ],
   "source": [
    "# let's check the distribution of 'total_income' column\n",
    "sns.histplot(data_without_na['total_income']).set_title('Distribution of Total Income');"
   ]
  },
  {
   "cell_type": "markdown",
   "metadata": {},
   "source": [
    "As this **distribution is fairly symmetrical** and there are no outliers in the current dataset, **we would rather use the mean to describe its center**."
   ]
  },
  {
   "cell_type": "code",
   "execution_count": 43,
   "metadata": {},
   "outputs": [],
   "source": [
    "# Filling missed values using 'transform' function \n",
    "data['total_income'] = data['total_income'].fillna(data.groupby('income_type')['total_income'].transform('mean'))"
   ]
  },
  {
   "cell_type": "code",
   "execution_count": 44,
   "metadata": {},
   "outputs": [
    {
     "data": {
      "text/html": [
       "<style type=\"text/css\">\n",
       "</style>\n",
       "<table id=\"T_b36ef\">\n",
       "  <thead>\n",
       "    <tr>\n",
       "      <th class=\"blank level0\" >&nbsp;</th>\n",
       "      <th id=\"T_b36ef_level0_col0\" class=\"col_heading level0 col0\" >missing</th>\n",
       "      <th id=\"T_b36ef_level0_col1\" class=\"col_heading level0 col1\" >total</th>\n",
       "      <th id=\"T_b36ef_level0_col2\" class=\"col_heading level0 col2\" >percent</th>\n",
       "    </tr>\n",
       "  </thead>\n",
       "  <tbody>\n",
       "    <tr>\n",
       "      <th id=\"T_b36ef_level0_row0\" class=\"row_heading level0 row0\" >days_employed</th>\n",
       "      <td id=\"T_b36ef_row0_col0\" class=\"data row0 col0\" >2,103</td>\n",
       "      <td id=\"T_b36ef_row0_col1\" class=\"data row0 col1\" >21,454</td>\n",
       "      <td id=\"T_b36ef_row0_col2\" class=\"data row0 col2\" >9.80%</td>\n",
       "    </tr>\n",
       "    <tr>\n",
       "      <th id=\"T_b36ef_level0_row1\" class=\"row_heading level0 row1\" >children</th>\n",
       "      <td id=\"T_b36ef_row1_col0\" class=\"data row1 col0\" >0</td>\n",
       "      <td id=\"T_b36ef_row1_col1\" class=\"data row1 col1\" >21,454</td>\n",
       "      <td id=\"T_b36ef_row1_col2\" class=\"data row1 col2\" >0.00%</td>\n",
       "    </tr>\n",
       "    <tr>\n",
       "      <th id=\"T_b36ef_level0_row2\" class=\"row_heading level0 row2\" >dob_years</th>\n",
       "      <td id=\"T_b36ef_row2_col0\" class=\"data row2 col0\" >0</td>\n",
       "      <td id=\"T_b36ef_row2_col1\" class=\"data row2 col1\" >21,454</td>\n",
       "      <td id=\"T_b36ef_row2_col2\" class=\"data row2 col2\" >0.00%</td>\n",
       "    </tr>\n",
       "    <tr>\n",
       "      <th id=\"T_b36ef_level0_row3\" class=\"row_heading level0 row3\" >education</th>\n",
       "      <td id=\"T_b36ef_row3_col0\" class=\"data row3 col0\" >0</td>\n",
       "      <td id=\"T_b36ef_row3_col1\" class=\"data row3 col1\" >21,454</td>\n",
       "      <td id=\"T_b36ef_row3_col2\" class=\"data row3 col2\" >0.00%</td>\n",
       "    </tr>\n",
       "    <tr>\n",
       "      <th id=\"T_b36ef_level0_row4\" class=\"row_heading level0 row4\" >education_id</th>\n",
       "      <td id=\"T_b36ef_row4_col0\" class=\"data row4 col0\" >0</td>\n",
       "      <td id=\"T_b36ef_row4_col1\" class=\"data row4 col1\" >21,454</td>\n",
       "      <td id=\"T_b36ef_row4_col2\" class=\"data row4 col2\" >0.00%</td>\n",
       "    </tr>\n",
       "    <tr>\n",
       "      <th id=\"T_b36ef_level0_row5\" class=\"row_heading level0 row5\" >family_status</th>\n",
       "      <td id=\"T_b36ef_row5_col0\" class=\"data row5 col0\" >0</td>\n",
       "      <td id=\"T_b36ef_row5_col1\" class=\"data row5 col1\" >21,454</td>\n",
       "      <td id=\"T_b36ef_row5_col2\" class=\"data row5 col2\" >0.00%</td>\n",
       "    </tr>\n",
       "    <tr>\n",
       "      <th id=\"T_b36ef_level0_row6\" class=\"row_heading level0 row6\" >family_status_id</th>\n",
       "      <td id=\"T_b36ef_row6_col0\" class=\"data row6 col0\" >0</td>\n",
       "      <td id=\"T_b36ef_row6_col1\" class=\"data row6 col1\" >21,454</td>\n",
       "      <td id=\"T_b36ef_row6_col2\" class=\"data row6 col2\" >0.00%</td>\n",
       "    </tr>\n",
       "    <tr>\n",
       "      <th id=\"T_b36ef_level0_row7\" class=\"row_heading level0 row7\" >gender</th>\n",
       "      <td id=\"T_b36ef_row7_col0\" class=\"data row7 col0\" >0</td>\n",
       "      <td id=\"T_b36ef_row7_col1\" class=\"data row7 col1\" >21,454</td>\n",
       "      <td id=\"T_b36ef_row7_col2\" class=\"data row7 col2\" >0.00%</td>\n",
       "    </tr>\n",
       "    <tr>\n",
       "      <th id=\"T_b36ef_level0_row8\" class=\"row_heading level0 row8\" >income_type</th>\n",
       "      <td id=\"T_b36ef_row8_col0\" class=\"data row8 col0\" >0</td>\n",
       "      <td id=\"T_b36ef_row8_col1\" class=\"data row8 col1\" >21,454</td>\n",
       "      <td id=\"T_b36ef_row8_col2\" class=\"data row8 col2\" >0.00%</td>\n",
       "    </tr>\n",
       "    <tr>\n",
       "      <th id=\"T_b36ef_level0_row9\" class=\"row_heading level0 row9\" >debt</th>\n",
       "      <td id=\"T_b36ef_row9_col0\" class=\"data row9 col0\" >0</td>\n",
       "      <td id=\"T_b36ef_row9_col1\" class=\"data row9 col1\" >21,454</td>\n",
       "      <td id=\"T_b36ef_row9_col2\" class=\"data row9 col2\" >0.00%</td>\n",
       "    </tr>\n",
       "    <tr>\n",
       "      <th id=\"T_b36ef_level0_row10\" class=\"row_heading level0 row10\" >total_income</th>\n",
       "      <td id=\"T_b36ef_row10_col0\" class=\"data row10 col0\" >0</td>\n",
       "      <td id=\"T_b36ef_row10_col1\" class=\"data row10 col1\" >21,454</td>\n",
       "      <td id=\"T_b36ef_row10_col2\" class=\"data row10 col2\" >0.00%</td>\n",
       "    </tr>\n",
       "    <tr>\n",
       "      <th id=\"T_b36ef_level0_row11\" class=\"row_heading level0 row11\" >purpose</th>\n",
       "      <td id=\"T_b36ef_row11_col0\" class=\"data row11 col0\" >0</td>\n",
       "      <td id=\"T_b36ef_row11_col1\" class=\"data row11 col1\" >21,454</td>\n",
       "      <td id=\"T_b36ef_row11_col2\" class=\"data row11 col2\" >0.00%</td>\n",
       "    </tr>\n",
       "    <tr>\n",
       "      <th id=\"T_b36ef_level0_row12\" class=\"row_heading level0 row12\" >age_group</th>\n",
       "      <td id=\"T_b36ef_row12_col0\" class=\"data row12 col0\" >0</td>\n",
       "      <td id=\"T_b36ef_row12_col1\" class=\"data row12 col1\" >21,454</td>\n",
       "      <td id=\"T_b36ef_row12_col2\" class=\"data row12 col2\" >0.00%</td>\n",
       "    </tr>\n",
       "  </tbody>\n",
       "</table>\n"
      ],
      "text/plain": [
       "<pandas.io.formats.style.Styler at 0x1eeb334ec10>"
      ]
     },
     "execution_count": 44,
     "metadata": {},
     "output_type": "execute_result"
    }
   ],
   "source": [
    "# let's check missing values (it's also easy to perform it by use of the 'missing()' method from Sidetable library)\n",
    "data.stb.missing(style=True)"
   ]
  },
  {
   "cell_type": "markdown",
   "metadata": {},
   "source": [
    "Everything looks fine here. In one table we see the absence of missing values in the `total_income` column. The total number of values in this column matches the number of values in the other ones."
   ]
  },
  {
   "cell_type": "markdown",
   "metadata": {},
   "source": [
    "###  Restoring Values in `days_employed`"
   ]
  },
  {
   "cell_type": "markdown",
   "metadata": {},
   "source": [
    "Above we've already revealed that there are about 10% of missing values in `days_employed` column. And 74% of negative values there, while none zeros. So **just some 16% of values in `days_employed` column occur to be positive values. But even though, they represent unbelievably huge working experience and this part of data we also can't consider to be OK**."
   ]
  },
  {
   "cell_type": "code",
   "execution_count": 45,
   "metadata": {},
   "outputs": [
    {
     "data": {
      "text/plain": [
       "16.05761163419409"
      ]
     },
     "execution_count": 45,
     "metadata": {},
     "output_type": "execute_result"
    }
   ],
   "source": [
    "# We noticed above that we've got just some 16% of correct data in 'days_employed' column. \n",
    "# Just in case let's check it another way.\n",
    "\n",
    "# data with just positive numbers in 'days_employed' column\n",
    "data_days_employed_positive = data[data['days_employed'] > 0]\n",
    "\n",
    "# share in % of data with just positive numbers in 'days_employed' column\n",
    "len(data_days_employed_positive) / len(data)*100 "
   ]
  },
  {
   "cell_type": "markdown",
   "metadata": {},
   "source": [
    "That's right what we expected to see."
   ]
  },
  {
   "cell_type": "markdown",
   "metadata": {},
   "source": [
    "*Let's try to bring some extra value and investigate the data a bit. It won't directly help us to answer the Project questions but if we find something interesting we could provide feedback that could lead to better quality of data in the future.* "
   ]
  },
  {
   "cell_type": "code",
   "execution_count": 46,
   "metadata": {},
   "outputs": [
    {
     "data": {
      "image/png": "[encoded data removed]",
      "text/plain": [
       "<Figure size 432x288 with 1 Axes>"
      ]
     },
     "metadata": {},
     "output_type": "display_data"
    }
   ],
   "source": [
    "# let's check `days_employed` column distribution as it is (just to visualize the numbers) \n",
    "sns.histplot(data['days_employed']).set_title('Distribution of Days employed');"
   ]
  },
  {
   "cell_type": "markdown",
   "metadata": {},
   "source": [
    "We see that numbers here are either negative or enormously high."
   ]
  },
  {
   "cell_type": "markdown",
   "metadata": {},
   "source": [
    "Let's check `days_employed` column with just positive numbers."
   ]
  },
  {
   "cell_type": "code",
   "execution_count": 47,
   "metadata": {},
   "outputs": [
    {
     "data": {
      "image/png": "[encoded data removed]",
      "text/plain": [
       "<Figure size 432x288 with 1 Axes>"
      ]
     },
     "metadata": {},
     "output_type": "display_data"
    }
   ],
   "source": [
    "# checking `days_employed` column distribution with just positive numbers\n",
    "sns.histplot(data_days_employed_positive['days_employed']).set_title('Distribution of Days employed (Positive only)');"
   ]
  },
  {
   "cell_type": "markdown",
   "metadata": {},
   "source": [
    "Let's check the `days_employed` distribution and descriptive statistics of several characteristics. May be this will help us find any patterns. "
   ]
  },
  {
   "cell_type": "markdown",
   "metadata": {},
   "source": [
    "`Let's fix problematic data in `days_employed` column, we will do that by filling missing and negative values with *typical* ones. `"
   ]
  },
  {
   "cell_type": "code",
   "execution_count": 48,
   "metadata": {},
   "outputs": [
    {
     "data": {
      "text/html": [
       "<div>\n",
       "<style scoped>\n",
       "    .dataframe tbody tr th:only-of-type {\n",
       "        vertical-align: middle;\n",
       "    }\n",
       "\n",
       "    .dataframe tbody tr th {\n",
       "        vertical-align: top;\n",
       "    }\n",
       "\n",
       "    .dataframe thead th {\n",
       "        text-align: right;\n",
       "    }\n",
       "</style>\n",
       "<table border=\"1\" class=\"dataframe\">\n",
       "  <thead>\n",
       "    <tr style=\"text-align: right;\">\n",
       "      <th></th>\n",
       "      <th>count</th>\n",
       "      <th>mean</th>\n",
       "      <th>median</th>\n",
       "      <th>std</th>\n",
       "      <th>var</th>\n",
       "    </tr>\n",
       "    <tr>\n",
       "      <th>income_type</th>\n",
       "      <th></th>\n",
       "      <th></th>\n",
       "      <th></th>\n",
       "      <th></th>\n",
       "      <th></th>\n",
       "    </tr>\n",
       "  </thead>\n",
       "  <tbody>\n",
       "    <tr>\n",
       "      <th>retiree</th>\n",
       "      <td>3443</td>\n",
       "      <td>365,003.49</td>\n",
       "      <td>365,213.31</td>\n",
       "      <td>21,069.61</td>\n",
       "      <td>443,928,299.75</td>\n",
       "    </tr>\n",
       "    <tr>\n",
       "      <th>unemployed</th>\n",
       "      <td>2</td>\n",
       "      <td>366,413.65</td>\n",
       "      <td>366,413.65</td>\n",
       "      <td>40,855.48</td>\n",
       "      <td>1,669,170,125.01</td>\n",
       "    </tr>\n",
       "  </tbody>\n",
       "</table>\n",
       "</div>"
      ],
      "text/plain": [
       "             count                 mean               median  \\\n",
       "income_type                                                    \n",
       "retiree       3443           365,003.49           365,213.31   \n",
       "unemployed       2           366,413.65           366,413.65   \n",
       "\n",
       "                             std                  var  \n",
       "income_type                                            \n",
       "retiree                21,069.61       443,928,299.75  \n",
       "unemployed             40,855.48     1,669,170,125.01  "
      ]
     },
     "execution_count": 48,
     "metadata": {},
     "output_type": "execute_result"
    },
    {
     "data": {
      "text/html": [
       "<div>\n",
       "<style scoped>\n",
       "    .dataframe tbody tr th:only-of-type {\n",
       "        vertical-align: middle;\n",
       "    }\n",
       "\n",
       "    .dataframe tbody tr th {\n",
       "        vertical-align: top;\n",
       "    }\n",
       "\n",
       "    .dataframe thead th {\n",
       "        text-align: right;\n",
       "    }\n",
       "</style>\n",
       "<table border=\"1\" class=\"dataframe\">\n",
       "  <thead>\n",
       "    <tr style=\"text-align: right;\">\n",
       "      <th></th>\n",
       "      <th>count</th>\n",
       "      <th>mean</th>\n",
       "      <th>median</th>\n",
       "      <th>std</th>\n",
       "      <th>var</th>\n",
       "    </tr>\n",
       "    <tr>\n",
       "      <th>age_group</th>\n",
       "      <th></th>\n",
       "      <th></th>\n",
       "      <th></th>\n",
       "      <th></th>\n",
       "      <th></th>\n",
       "    </tr>\n",
       "  </thead>\n",
       "  <tbody>\n",
       "    <tr>\n",
       "      <th>adults</th>\n",
       "      <td>149</td>\n",
       "      <td>367,050.84</td>\n",
       "      <td>366,904.81</td>\n",
       "      <td>22,041.15</td>\n",
       "      <td>485,812,481.42</td>\n",
       "    </tr>\n",
       "    <tr>\n",
       "      <th>children</th>\n",
       "      <td>17</td>\n",
       "      <td>362,537.52</td>\n",
       "      <td>366,067.78</td>\n",
       "      <td>24,439.83</td>\n",
       "      <td>597,305,093.63</td>\n",
       "    </tr>\n",
       "    <tr>\n",
       "      <th>retired</th>\n",
       "      <td>701</td>\n",
       "      <td>365,832.59</td>\n",
       "      <td>365,934.43</td>\n",
       "      <td>20,735.60</td>\n",
       "      <td>429,965,248.10</td>\n",
       "    </tr>\n",
       "    <tr>\n",
       "      <th>seniours</th>\n",
       "      <td>2562</td>\n",
       "      <td>364,702.40</td>\n",
       "      <td>364,717.08</td>\n",
       "      <td>21,057.26</td>\n",
       "      <td>443,408,333.86</td>\n",
       "    </tr>\n",
       "    <tr>\n",
       "      <th>young adults</th>\n",
       "      <td>16</td>\n",
       "      <td>360,620.94</td>\n",
       "      <td>358,702.12</td>\n",
       "      <td>25,720.86</td>\n",
       "      <td>661,562,734.89</td>\n",
       "    </tr>\n",
       "  </tbody>\n",
       "</table>\n",
       "</div>"
      ],
      "text/plain": [
       "              count                 mean               median  \\\n",
       "age_group                                                       \n",
       "adults          149           367,050.84           366,904.81   \n",
       "children         17           362,537.52           366,067.78   \n",
       "retired         701           365,832.59           365,934.43   \n",
       "seniours       2562           364,702.40           364,717.08   \n",
       "young adults     16           360,620.94           358,702.12   \n",
       "\n",
       "                              std                  var  \n",
       "age_group                                               \n",
       "adults                  22,041.15       485,812,481.42  \n",
       "children                24,439.83       597,305,093.63  \n",
       "retired                 20,735.60       429,965,248.10  \n",
       "seniours                21,057.26       443,408,333.86  \n",
       "young adults            25,720.86       661,562,734.89  "
      ]
     },
     "execution_count": 48,
     "metadata": {},
     "output_type": "execute_result"
    },
    {
     "data": {
      "text/html": [
       "<div>\n",
       "<style scoped>\n",
       "    .dataframe tbody tr th:only-of-type {\n",
       "        vertical-align: middle;\n",
       "    }\n",
       "\n",
       "    .dataframe tbody tr th {\n",
       "        vertical-align: top;\n",
       "    }\n",
       "\n",
       "    .dataframe thead th {\n",
       "        text-align: right;\n",
       "    }\n",
       "</style>\n",
       "<table border=\"1\" class=\"dataframe\">\n",
       "  <thead>\n",
       "    <tr style=\"text-align: right;\">\n",
       "      <th></th>\n",
       "      <th>count</th>\n",
       "      <th>mean</th>\n",
       "      <th>median</th>\n",
       "      <th>std</th>\n",
       "      <th>var</th>\n",
       "    </tr>\n",
       "    <tr>\n",
       "      <th>gender</th>\n",
       "      <th></th>\n",
       "      <th></th>\n",
       "      <th></th>\n",
       "      <th></th>\n",
       "      <th></th>\n",
       "    </tr>\n",
       "  </thead>\n",
       "  <tbody>\n",
       "    <tr>\n",
       "      <th>F</th>\n",
       "      <td>2807</td>\n",
       "      <td>365,401.89</td>\n",
       "      <td>366,206.05</td>\n",
       "      <td>20,950.36</td>\n",
       "      <td>438,917,428.71</td>\n",
       "    </tr>\n",
       "    <tr>\n",
       "      <th>M</th>\n",
       "      <td>638</td>\n",
       "      <td>363,255.09</td>\n",
       "      <td>361,766.84</td>\n",
       "      <td>21,544.60</td>\n",
       "      <td>464,169,894.68</td>\n",
       "    </tr>\n",
       "  </tbody>\n",
       "</table>\n",
       "</div>"
      ],
      "text/plain": [
       "        count                 mean               median                  std  \\\n",
       "gender                                                                         \n",
       "F        2807           365,401.89           366,206.05            20,950.36   \n",
       "M         638           363,255.09           361,766.84            21,544.60   \n",
       "\n",
       "                        var  \n",
       "gender                       \n",
       "F            438,917,428.71  \n",
       "M            464,169,894.68  "
      ]
     },
     "execution_count": 48,
     "metadata": {},
     "output_type": "execute_result"
    },
    {
     "data": {
      "text/html": [
       "<div>\n",
       "<style scoped>\n",
       "    .dataframe tbody tr th:only-of-type {\n",
       "        vertical-align: middle;\n",
       "    }\n",
       "\n",
       "    .dataframe tbody tr th {\n",
       "        vertical-align: top;\n",
       "    }\n",
       "\n",
       "    .dataframe thead th {\n",
       "        text-align: right;\n",
       "    }\n",
       "</style>\n",
       "<table border=\"1\" class=\"dataframe\">\n",
       "  <thead>\n",
       "    <tr style=\"text-align: right;\">\n",
       "      <th></th>\n",
       "      <th>count</th>\n",
       "      <th>mean</th>\n",
       "      <th>median</th>\n",
       "      <th>std</th>\n",
       "      <th>var</th>\n",
       "    </tr>\n",
       "    <tr>\n",
       "      <th>education</th>\n",
       "      <th></th>\n",
       "      <th></th>\n",
       "      <th></th>\n",
       "      <th></th>\n",
       "      <th></th>\n",
       "    </tr>\n",
       "  </thead>\n",
       "  <tbody>\n",
       "    <tr>\n",
       "      <th>bachelor's degree</th>\n",
       "      <td>521</td>\n",
       "      <td>365,234.13</td>\n",
       "      <td>366,159.82</td>\n",
       "      <td>21,346.48</td>\n",
       "      <td>455,672,142.39</td>\n",
       "    </tr>\n",
       "    <tr>\n",
       "      <th>graduate degree</th>\n",
       "      <td>2</td>\n",
       "      <td>356,930.52</td>\n",
       "      <td>356,930.52</td>\n",
       "      <td>27,358.95</td>\n",
       "      <td>748,512,370.61</td>\n",
       "    </tr>\n",
       "    <tr>\n",
       "      <th>primary education</th>\n",
       "      <td>93</td>\n",
       "      <td>362,288.37</td>\n",
       "      <td>360,264.99</td>\n",
       "      <td>20,741.10</td>\n",
       "      <td>430,193,027.32</td>\n",
       "    </tr>\n",
       "    <tr>\n",
       "      <th>secondary education</th>\n",
       "      <td>2794</td>\n",
       "      <td>364,997.62</td>\n",
       "      <td>365,005.40</td>\n",
       "      <td>21,041.60</td>\n",
       "      <td>442,749,018.95</td>\n",
       "    </tr>\n",
       "    <tr>\n",
       "      <th>some college</th>\n",
       "      <td>35</td>\n",
       "      <td>369,795.28</td>\n",
       "      <td>372,250.50</td>\n",
       "      <td>20,402.69</td>\n",
       "      <td>416,269,831.48</td>\n",
       "    </tr>\n",
       "  </tbody>\n",
       "</table>\n",
       "</div>"
      ],
      "text/plain": [
       "                     count                 mean               median  \\\n",
       "education                                                              \n",
       "bachelor's degree      521           365,234.13           366,159.82   \n",
       "graduate degree          2           356,930.52           356,930.52   \n",
       "primary education       93           362,288.37           360,264.99   \n",
       "secondary education   2794           364,997.62           365,005.40   \n",
       "some college            35           369,795.28           372,250.50   \n",
       "\n",
       "                                     std                  var  \n",
       "education                                                      \n",
       "bachelor's degree              21,346.48       455,672,142.39  \n",
       "graduate degree                27,358.95       748,512,370.61  \n",
       "primary education              20,741.10       430,193,027.32  \n",
       "secondary education            21,041.60       442,749,018.95  \n",
       "some college                   20,402.69       416,269,831.48  "
      ]
     },
     "execution_count": 48,
     "metadata": {},
     "output_type": "execute_result"
    }
   ],
   "source": [
    "# Distribution and descriptive Statistics of 'days_employed' column (positive values only) \n",
    "data_days_employed_positive.groupby(['income_type'])['days_employed'].agg(['count','mean','median','std','var'])\n",
    "data_days_employed_positive.groupby(['age_group'])['days_employed'].agg(['count','mean','median','std','var'])\n",
    "data_days_employed_positive.groupby(['gender'])['days_employed'].agg(['count','mean','median','std','var'])\n",
    "data_days_employed_positive.groupby(['education'])['days_employed'].agg(['count','mean','median','std','var'])"
   ]
  },
  {
   "cell_type": "markdown",
   "metadata": {},
   "source": [
    "Having just the 'retire' and 'unemployed' categories in filtered data (with just positive values) looks suspicious. Let's check the distribution of the 'income_type' column in the initial dataset and compare it with distribution in the filtered dataset."
   ]
  },
  {
   "cell_type": "code",
   "execution_count": 49,
   "metadata": {
    "scrolled": true
   },
   "outputs": [
    {
     "data": {
      "text/plain": [
       "income_type\n",
       "employee                       11084\n",
       "business                        5078\n",
       "retiree                         3829\n",
       "civil servant                   1457\n",
       "unemployed                         2\n",
       "entrepreneur                       2\n",
       "student                            1\n",
       "paternity / maternity leave        1\n",
       "Name: count, dtype: int64"
      ]
     },
     "execution_count": 49,
     "metadata": {},
     "output_type": "execute_result"
    }
   ],
   "source": [
    "# distribution of 'income_type' column in the initial dataset\n",
    "data['income_type'].value_counts()"
   ]
  },
  {
   "cell_type": "code",
   "execution_count": 50,
   "metadata": {},
   "outputs": [
    {
     "data": {
      "text/plain": [
       "income_type\n",
       "retiree       3443\n",
       "unemployed       2\n",
       "Name: count, dtype: int64"
      ]
     },
     "execution_count": 50,
     "metadata": {},
     "output_type": "execute_result"
    }
   ],
   "source": [
    "# distribution of 'income_type' column in the filtered dataset\n",
    "data_days_employed_positive['income_type'].value_counts()"
   ]
  },
  {
   "cell_type": "markdown",
   "metadata": {},
   "source": [
    "It turns out that **in the initial data there are positive values in `days_employed` column just in case of 'retiree' category in 'income_type' column** (and insignificant number in 'unemployed' category).\n",
    "\n",
    "The number of working days is huge. It seems like there should be 'working hours' instead of 'working days'. Let's check how the numbers would look like if it was so."
   ]
  },
  {
   "cell_type": "code",
   "execution_count": 51,
   "metadata": {},
   "outputs": [
    {
     "data": {
      "text/html": [
       "<div>\n",
       "<style scoped>\n",
       "    .dataframe tbody tr th:only-of-type {\n",
       "        vertical-align: middle;\n",
       "    }\n",
       "\n",
       "    .dataframe tbody tr th {\n",
       "        vertical-align: top;\n",
       "    }\n",
       "\n",
       "    .dataframe thead th {\n",
       "        text-align: right;\n",
       "    }\n",
       "</style>\n",
       "<table border=\"1\" class=\"dataframe\">\n",
       "  <thead>\n",
       "    <tr style=\"text-align: right;\">\n",
       "      <th></th>\n",
       "      <th>mean</th>\n",
       "      <th>median</th>\n",
       "      <th>std</th>\n",
       "      <th>var</th>\n",
       "    </tr>\n",
       "    <tr>\n",
       "      <th>income_type</th>\n",
       "      <th></th>\n",
       "      <th></th>\n",
       "      <th></th>\n",
       "      <th></th>\n",
       "    </tr>\n",
       "  </thead>\n",
       "  <tbody>\n",
       "    <tr>\n",
       "      <th>retiree</th>\n",
       "      <td>41.67</td>\n",
       "      <td>41.69</td>\n",
       "      <td>2.41</td>\n",
       "      <td>50,676.75</td>\n",
       "    </tr>\n",
       "    <tr>\n",
       "      <th>unemployed</th>\n",
       "      <td>41.83</td>\n",
       "      <td>41.83</td>\n",
       "      <td>4.66</td>\n",
       "      <td>190,544.53</td>\n",
       "    </tr>\n",
       "  </tbody>\n",
       "</table>\n",
       "</div>"
      ],
      "text/plain": [
       "                            mean               median                  std  \\\n",
       "income_type                                                                  \n",
       "retiree                    41.67                41.69                 2.41   \n",
       "unemployed                 41.83                41.83                 4.66   \n",
       "\n",
       "                             var  \n",
       "income_type                       \n",
       "retiree                50,676.75  \n",
       "unemployed            190,544.53  "
      ]
     },
     "execution_count": 51,
     "metadata": {},
     "output_type": "execute_result"
    }
   ],
   "source": [
    "# descriptive statistics of 'days_employed' column with just positive numbers and like hours switched into days\n",
    "data_days_employed_positive.groupby(['income_type'])['days_employed'].agg(['mean','median','std','var']) / 24 / 365"
   ]
  },
  {
   "cell_type": "markdown",
   "metadata": {},
   "source": [
    "Approximately 40 years of work experience before retirement looks quite realistic. If we could somehow verify our assumption *(e.g. by checking data sources, asking right person)*, we would definitely follow this approach and would change extremely huge numbers by dividing them by 24. But we can't make this verification."
   ]
  },
  {
   "cell_type": "markdown",
   "metadata": {},
   "source": [
    "Let's check the part of data with just negative values."
   ]
  },
  {
   "cell_type": "code",
   "execution_count": 52,
   "metadata": {},
   "outputs": [
    {
     "data": {
      "image/png": "[encoded data removed]",
      "text/plain": [
       "<Figure size 432x288 with 1 Axes>"
      ]
     },
     "metadata": {},
     "output_type": "display_data"
    }
   ],
   "source": [
    "# checking 'days_employed' column distribution with just negative numbers\n",
    "data_days_employed_negative = data[data['days_employed'] < 0] # data with negative numbers in 'days_employed' column\n",
    "len(data_days_employed_negative) / len(data) * 100 # share of data with negative numbers in 'days_employed' column\n",
    "sns.histplot(data_days_employed_negative['days_employed']).set_title('Distribution of `days_employed` Field (Negative Values Only)');"
   ]
  },
  {
   "cell_type": "markdown",
   "metadata": {},
   "source": [
    "Let's assume that the minuses here a put here by mistake and check how distribution would look like in case of having pluses instead of minuses here. To make the output more explicit we would also display the numbers in years."
   ]
  },
  {
   "cell_type": "code",
   "execution_count": 53,
   "metadata": {},
   "outputs": [
    {
     "data": {
      "text/html": [
       "<div>\n",
       "<style scoped>\n",
       "    .dataframe tbody tr th:only-of-type {\n",
       "        vertical-align: middle;\n",
       "    }\n",
       "\n",
       "    .dataframe tbody tr th {\n",
       "        vertical-align: top;\n",
       "    }\n",
       "\n",
       "    .dataframe thead th {\n",
       "        text-align: right;\n",
       "    }\n",
       "</style>\n",
       "<table border=\"1\" class=\"dataframe\">\n",
       "  <thead>\n",
       "    <tr style=\"text-align: right;\">\n",
       "      <th></th>\n",
       "      <th></th>\n",
       "      <th>mean</th>\n",
       "      <th>median</th>\n",
       "      <th>std</th>\n",
       "      <th>var</th>\n",
       "    </tr>\n",
       "    <tr>\n",
       "      <th>income_type</th>\n",
       "      <th>age_group</th>\n",
       "      <th></th>\n",
       "      <th></th>\n",
       "      <th></th>\n",
       "      <th></th>\n",
       "    </tr>\n",
       "  </thead>\n",
       "  <tbody>\n",
       "    <tr>\n",
       "      <th rowspan=\"5\" valign=\"top\">business</th>\n",
       "      <th>adults</th>\n",
       "      <td>6.34</td>\n",
       "      <td>4.98</td>\n",
       "      <td>5.41</td>\n",
       "      <td>10,695.84</td>\n",
       "    </tr>\n",
       "    <tr>\n",
       "      <th>children</th>\n",
       "      <td>4.90</td>\n",
       "      <td>2.94</td>\n",
       "      <td>4.09</td>\n",
       "      <td>6,114.66</td>\n",
       "    </tr>\n",
       "    <tr>\n",
       "      <th>retired</th>\n",
       "      <td>9.02</td>\n",
       "      <td>5.28</td>\n",
       "      <td>8.63</td>\n",
       "      <td>27,166.45</td>\n",
       "    </tr>\n",
       "    <tr>\n",
       "      <th>seniours</th>\n",
       "      <td>7.99</td>\n",
       "      <td>5.66</td>\n",
       "      <td>7.91</td>\n",
       "      <td>22,837.73</td>\n",
       "    </tr>\n",
       "    <tr>\n",
       "      <th>young adults</th>\n",
       "      <td>3.77</td>\n",
       "      <td>2.88</td>\n",
       "      <td>3.02</td>\n",
       "      <td>3,326.45</td>\n",
       "    </tr>\n",
       "    <tr>\n",
       "      <th rowspan=\"5\" valign=\"top\">civil servant</th>\n",
       "      <th>adults</th>\n",
       "      <td>10.34</td>\n",
       "      <td>9.23</td>\n",
       "      <td>7.04</td>\n",
       "      <td>18,093.28</td>\n",
       "    </tr>\n",
       "    <tr>\n",
       "      <th>children</th>\n",
       "      <td>16.11</td>\n",
       "      <td>13.55</td>\n",
       "      <td>8.29</td>\n",
       "      <td>25,109.35</td>\n",
       "    </tr>\n",
       "    <tr>\n",
       "      <th>retired</th>\n",
       "      <td>11.99</td>\n",
       "      <td>9.15</td>\n",
       "      <td>9.98</td>\n",
       "      <td>36,341.10</td>\n",
       "    </tr>\n",
       "    <tr>\n",
       "      <th>seniours</th>\n",
       "      <td>13.03</td>\n",
       "      <td>10.46</td>\n",
       "      <td>10.20</td>\n",
       "      <td>38,005.89</td>\n",
       "    </tr>\n",
       "    <tr>\n",
       "      <th>young adults</th>\n",
       "      <td>5.20</td>\n",
       "      <td>4.62</td>\n",
       "      <td>3.49</td>\n",
       "      <td>4,439.53</td>\n",
       "    </tr>\n",
       "    <tr>\n",
       "      <th rowspan=\"5\" valign=\"top\">employee</th>\n",
       "      <th>adults</th>\n",
       "      <td>6.89</td>\n",
       "      <td>4.99</td>\n",
       "      <td>6.14</td>\n",
       "      <td>13,745.95</td>\n",
       "    </tr>\n",
       "    <tr>\n",
       "      <th>children</th>\n",
       "      <td>5.22</td>\n",
       "      <td>4.11</td>\n",
       "      <td>5.19</td>\n",
       "      <td>9,831.30</td>\n",
       "    </tr>\n",
       "    <tr>\n",
       "      <th>retired</th>\n",
       "      <td>11.96</td>\n",
       "      <td>8.88</td>\n",
       "      <td>10.78</td>\n",
       "      <td>42,426.92</td>\n",
       "    </tr>\n",
       "    <tr>\n",
       "      <th>seniours</th>\n",
       "      <td>9.08</td>\n",
       "      <td>6.21</td>\n",
       "      <td>8.80</td>\n",
       "      <td>28,246.43</td>\n",
       "    </tr>\n",
       "    <tr>\n",
       "      <th>young adults</th>\n",
       "      <td>4.06</td>\n",
       "      <td>3.24</td>\n",
       "      <td>3.22</td>\n",
       "      <td>3,780.26</td>\n",
       "    </tr>\n",
       "    <tr>\n",
       "      <th>entrepreneur</th>\n",
       "      <th>young adults</th>\n",
       "      <td>1.43</td>\n",
       "      <td>1.43</td>\n",
       "      <td>NaN</td>\n",
       "      <td>NaN</td>\n",
       "    </tr>\n",
       "    <tr>\n",
       "      <th>paternity / maternity leave</th>\n",
       "      <th>adults</th>\n",
       "      <td>9.03</td>\n",
       "      <td>9.03</td>\n",
       "      <td>NaN</td>\n",
       "      <td>NaN</td>\n",
       "    </tr>\n",
       "    <tr>\n",
       "      <th>student</th>\n",
       "      <th>young adults</th>\n",
       "      <td>1.59</td>\n",
       "      <td>1.59</td>\n",
       "      <td>NaN</td>\n",
       "      <td>NaN</td>\n",
       "    </tr>\n",
       "  </tbody>\n",
       "</table>\n",
       "</div>"
      ],
      "text/plain": [
       "                                                         mean  \\\n",
       "income_type                 age_group                           \n",
       "business                    adults                       6.34   \n",
       "                            children                     4.90   \n",
       "                            retired                      9.02   \n",
       "                            seniours                     7.99   \n",
       "                            young adults                 3.77   \n",
       "civil servant               adults                      10.34   \n",
       "                            children                    16.11   \n",
       "                            retired                     11.99   \n",
       "                            seniours                    13.03   \n",
       "                            young adults                 5.20   \n",
       "employee                    adults                       6.89   \n",
       "                            children                     5.22   \n",
       "                            retired                     11.96   \n",
       "                            seniours                     9.08   \n",
       "                            young adults                 4.06   \n",
       "entrepreneur                young adults                 1.43   \n",
       "paternity / maternity leave adults                       9.03   \n",
       "student                     young adults                 1.59   \n",
       "\n",
       "                                                       median  \\\n",
       "income_type                 age_group                           \n",
       "business                    adults                       4.98   \n",
       "                            children                     2.94   \n",
       "                            retired                      5.28   \n",
       "                            seniours                     5.66   \n",
       "                            young adults                 2.88   \n",
       "civil servant               adults                       9.23   \n",
       "                            children                    13.55   \n",
       "                            retired                      9.15   \n",
       "                            seniours                    10.46   \n",
       "                            young adults                 4.62   \n",
       "employee                    adults                       4.99   \n",
       "                            children                     4.11   \n",
       "                            retired                      8.88   \n",
       "                            seniours                     6.21   \n",
       "                            young adults                 3.24   \n",
       "entrepreneur                young adults                 1.43   \n",
       "paternity / maternity leave adults                       9.03   \n",
       "student                     young adults                 1.59   \n",
       "\n",
       "                                                          std  \\\n",
       "income_type                 age_group                           \n",
       "business                    adults                       5.41   \n",
       "                            children                     4.09   \n",
       "                            retired                      8.63   \n",
       "                            seniours                     7.91   \n",
       "                            young adults                 3.02   \n",
       "civil servant               adults                       7.04   \n",
       "                            children                     8.29   \n",
       "                            retired                      9.98   \n",
       "                            seniours                    10.20   \n",
       "                            young adults                 3.49   \n",
       "employee                    adults                       6.14   \n",
       "                            children                     5.19   \n",
       "                            retired                     10.78   \n",
       "                            seniours                     8.80   \n",
       "                            young adults                 3.22   \n",
       "entrepreneur                young adults                  NaN   \n",
       "paternity / maternity leave adults                        NaN   \n",
       "student                     young adults                  NaN   \n",
       "\n",
       "                                                          var  \n",
       "income_type                 age_group                          \n",
       "business                    adults                  10,695.84  \n",
       "                            children                 6,114.66  \n",
       "                            retired                 27,166.45  \n",
       "                            seniours                22,837.73  \n",
       "                            young adults             3,326.45  \n",
       "civil servant               adults                  18,093.28  \n",
       "                            children                25,109.35  \n",
       "                            retired                 36,341.10  \n",
       "                            seniours                38,005.89  \n",
       "                            young adults             4,439.53  \n",
       "employee                    adults                  13,745.95  \n",
       "                            children                 9,831.30  \n",
       "                            retired                 42,426.92  \n",
       "                            seniours                28,246.43  \n",
       "                            young adults             3,780.26  \n",
       "entrepreneur                young adults                  NaN  \n",
       "paternity / maternity leave adults                        NaN  \n",
       "student                     young adults                  NaN  "
      ]
     },
     "execution_count": 53,
     "metadata": {},
     "output_type": "execute_result"
    }
   ],
   "source": [
    "# distribution of negative part of days_employed as if it was positive by categories (years)\n",
    "abs(data_days_employed_negative.groupby(['income_type','age_group'])['days_employed']\n",
    "    .agg(['mean','median','std','var']) \n",
    "    / 365) "
   ]
  },
  {
   "cell_type": "markdown",
   "metadata": {},
   "source": [
    "These numbers seem to be quite realistic, but lower than they are expected to be (~10 years mean of work experience for seniors  looks not enough). We again can't make any verification of these data to check our assumption."
   ]
  },
  {
   "cell_type": "markdown",
   "metadata": {},
   "source": [
    "Finally, we have two assumptions about the reasons for wrong data in `days_employed` column, but we can't verify them. Anyway, **it seems better to fix the mistakes in data using our assumptions rather than leave these confusing numbers.**\n",
    "\n",
    "So, **we will replace huge positive numbers with the same but divided by 24 (like it were hours, not days were must be put initially), and replace the negative numbers in this column with the same but positive ones.**"
   ]
  },
  {
   "cell_type": "code",
   "execution_count": 54,
   "metadata": {},
   "outputs": [],
   "source": [
    "# fixing data in 'days_employed' column, 'where()' method from Numpy library will by handy here\n",
    "\n",
    "# replacing huge positive numbers with the same but divided by 24\n",
    "data['days_employed'] = np.where(data['days_employed'] > 25550, data['days_employed'] / 24, data['days_employed'])\n",
    "\n",
    "# replacing negative numbers with the same but positive ones\n",
    "data['days_employed'] = np.where(data['days_employed'] < 0, abs(data['days_employed']), data['days_employed'])"
   ]
  },
  {
   "cell_type": "markdown",
   "metadata": {},
   "source": [
    "We saw above that 'days_employed' column values defer a lot by 'income type' characteristic.  So we will use its median to replace missing ones. We use the median (not mean) - as data distribution is not symmetric. "
   ]
  },
  {
   "cell_type": "code",
   "execution_count": 55,
   "metadata": {},
   "outputs": [],
   "source": [
    "# Filling missed values using 'transform' function \n",
    "data['days_employed'] = data['days_employed'].fillna(data.groupby('income_type')['days_employed']\n",
    "                                                     .transform('median'))"
   ]
  },
  {
   "cell_type": "code",
   "execution_count": 56,
   "metadata": {},
   "outputs": [
    {
     "data": {
      "text/html": [
       "<div>\n",
       "<style scoped>\n",
       "    .dataframe tbody tr th:only-of-type {\n",
       "        vertical-align: middle;\n",
       "    }\n",
       "\n",
       "    .dataframe tbody tr th {\n",
       "        vertical-align: top;\n",
       "    }\n",
       "\n",
       "    .dataframe thead th {\n",
       "        text-align: right;\n",
       "    }\n",
       "</style>\n",
       "<table border=\"1\" class=\"dataframe\">\n",
       "  <thead>\n",
       "    <tr style=\"text-align: right;\">\n",
       "      <th></th>\n",
       "      <th>children</th>\n",
       "      <th>days_employed</th>\n",
       "      <th>dob_years</th>\n",
       "      <th>education</th>\n",
       "      <th>education_id</th>\n",
       "      <th>family_status</th>\n",
       "      <th>family_status_id</th>\n",
       "      <th>gender</th>\n",
       "      <th>income_type</th>\n",
       "      <th>debt</th>\n",
       "      <th>total_income</th>\n",
       "      <th>purpose</th>\n",
       "      <th>age_group</th>\n",
       "    </tr>\n",
       "  </thead>\n",
       "  <tbody>\n",
       "    <tr>\n",
       "      <th>6414</th>\n",
       "      <td>2</td>\n",
       "      <td>680.07</td>\n",
       "      <td>31</td>\n",
       "      <td>secondary education</td>\n",
       "      <td>1</td>\n",
       "      <td>married</td>\n",
       "      <td>0</td>\n",
       "      <td>M</td>\n",
       "      <td>employee</td>\n",
       "      <td>0</td>\n",
       "      <td>60,300.66</td>\n",
       "      <td>second-hand car purchase</td>\n",
       "      <td>young adults</td>\n",
       "    </tr>\n",
       "    <tr>\n",
       "      <th>16934</th>\n",
       "      <td>1</td>\n",
       "      <td>7,308.56</td>\n",
       "      <td>38</td>\n",
       "      <td>bachelor's degree</td>\n",
       "      <td>0</td>\n",
       "      <td>civil partnership</td>\n",
       "      <td>1</td>\n",
       "      <td>F</td>\n",
       "      <td>employee</td>\n",
       "      <td>0</td>\n",
       "      <td>47,658.66</td>\n",
       "      <td>having a wedding</td>\n",
       "      <td>adults</td>\n",
       "    </tr>\n",
       "    <tr>\n",
       "      <th>14336</th>\n",
       "      <td>0</td>\n",
       "      <td>13,847.83</td>\n",
       "      <td>58</td>\n",
       "      <td>secondary education</td>\n",
       "      <td>1</td>\n",
       "      <td>married</td>\n",
       "      <td>0</td>\n",
       "      <td>F</td>\n",
       "      <td>retiree</td>\n",
       "      <td>0</td>\n",
       "      <td>6,931.66</td>\n",
       "      <td>getting an education</td>\n",
       "      <td>seniours</td>\n",
       "    </tr>\n",
       "    <tr>\n",
       "      <th>10877</th>\n",
       "      <td>0</td>\n",
       "      <td>1,574.20</td>\n",
       "      <td>23</td>\n",
       "      <td>secondary education</td>\n",
       "      <td>1</td>\n",
       "      <td>unmarried</td>\n",
       "      <td>4</td>\n",
       "      <td>M</td>\n",
       "      <td>employee</td>\n",
       "      <td>0</td>\n",
       "      <td>25,820.84</td>\n",
       "      <td>buy real estate</td>\n",
       "      <td>young adults</td>\n",
       "    </tr>\n",
       "    <tr>\n",
       "      <th>1030</th>\n",
       "      <td>2</td>\n",
       "      <td>1,055.24</td>\n",
       "      <td>33</td>\n",
       "      <td>secondary education</td>\n",
       "      <td>1</td>\n",
       "      <td>married</td>\n",
       "      <td>0</td>\n",
       "      <td>M</td>\n",
       "      <td>employee</td>\n",
       "      <td>0</td>\n",
       "      <td>16,207.40</td>\n",
       "      <td>housing</td>\n",
       "      <td>young adults</td>\n",
       "    </tr>\n",
       "    <tr>\n",
       "      <th>19204</th>\n",
       "      <td>2</td>\n",
       "      <td>1,245.99</td>\n",
       "      <td>40</td>\n",
       "      <td>secondary education</td>\n",
       "      <td>1</td>\n",
       "      <td>married</td>\n",
       "      <td>0</td>\n",
       "      <td>M</td>\n",
       "      <td>employee</td>\n",
       "      <td>0</td>\n",
       "      <td>26,633.33</td>\n",
       "      <td>building a real estate</td>\n",
       "      <td>adults</td>\n",
       "    </tr>\n",
       "    <tr>\n",
       "      <th>17910</th>\n",
       "      <td>2</td>\n",
       "      <td>947.86</td>\n",
       "      <td>34</td>\n",
       "      <td>secondary education</td>\n",
       "      <td>1</td>\n",
       "      <td>married</td>\n",
       "      <td>0</td>\n",
       "      <td>F</td>\n",
       "      <td>employee</td>\n",
       "      <td>0</td>\n",
       "      <td>15,822.07</td>\n",
       "      <td>construction of own property</td>\n",
       "      <td>young adults</td>\n",
       "    </tr>\n",
       "    <tr>\n",
       "      <th>5788</th>\n",
       "      <td>0</td>\n",
       "      <td>6,856.87</td>\n",
       "      <td>44</td>\n",
       "      <td>secondary education</td>\n",
       "      <td>1</td>\n",
       "      <td>married</td>\n",
       "      <td>0</td>\n",
       "      <td>M</td>\n",
       "      <td>employee</td>\n",
       "      <td>0</td>\n",
       "      <td>47,151.12</td>\n",
       "      <td>to buy a car</td>\n",
       "      <td>adults</td>\n",
       "    </tr>\n",
       "    <tr>\n",
       "      <th>186</th>\n",
       "      <td>0</td>\n",
       "      <td>225.12</td>\n",
       "      <td>34</td>\n",
       "      <td>secondary education</td>\n",
       "      <td>1</td>\n",
       "      <td>divorced</td>\n",
       "      <td>3</td>\n",
       "      <td>F</td>\n",
       "      <td>employee</td>\n",
       "      <td>0</td>\n",
       "      <td>32,264.06</td>\n",
       "      <td>transactions with commercial real estate</td>\n",
       "      <td>young adults</td>\n",
       "    </tr>\n",
       "    <tr>\n",
       "      <th>7782</th>\n",
       "      <td>0</td>\n",
       "      <td>2,653.02</td>\n",
       "      <td>38</td>\n",
       "      <td>secondary education</td>\n",
       "      <td>1</td>\n",
       "      <td>married</td>\n",
       "      <td>0</td>\n",
       "      <td>M</td>\n",
       "      <td>employee</td>\n",
       "      <td>0</td>\n",
       "      <td>15,827.12</td>\n",
       "      <td>real estate transactions</td>\n",
       "      <td>adults</td>\n",
       "    </tr>\n",
       "  </tbody>\n",
       "</table>\n",
       "</div>"
      ],
      "text/plain": [
       "       children        days_employed  dob_years            education  \\\n",
       "6414          2               680.07         31  secondary education   \n",
       "16934         1             7,308.56         38    bachelor's degree   \n",
       "14336         0            13,847.83         58  secondary education   \n",
       "10877         0             1,574.20         23  secondary education   \n",
       "1030          2             1,055.24         33  secondary education   \n",
       "19204         2             1,245.99         40  secondary education   \n",
       "17910         2               947.86         34  secondary education   \n",
       "5788          0             6,856.87         44  secondary education   \n",
       "186           0               225.12         34  secondary education   \n",
       "7782          0             2,653.02         38  secondary education   \n",
       "\n",
       "       education_id      family_status  family_status_id gender income_type  \\\n",
       "6414              1            married                 0      M    employee   \n",
       "16934             0  civil partnership                 1      F    employee   \n",
       "14336             1            married                 0      F     retiree   \n",
       "10877             1          unmarried                 4      M    employee   \n",
       "1030              1            married                 0      M    employee   \n",
       "19204             1            married                 0      M    employee   \n",
       "17910             1            married                 0      F    employee   \n",
       "5788              1            married                 0      M    employee   \n",
       "186               1           divorced                 3      F    employee   \n",
       "7782              1            married                 0      M    employee   \n",
       "\n",
       "       debt         total_income                                   purpose  \\\n",
       "6414      0            60,300.66                  second-hand car purchase   \n",
       "16934     0            47,658.66                          having a wedding   \n",
       "14336     0             6,931.66                      getting an education   \n",
       "10877     0            25,820.84                           buy real estate   \n",
       "1030      0            16,207.40                                   housing   \n",
       "19204     0            26,633.33                    building a real estate   \n",
       "17910     0            15,822.07              construction of own property   \n",
       "5788      0            47,151.12                              to buy a car   \n",
       "186       0            32,264.06  transactions with commercial real estate   \n",
       "7782      0            15,827.12                  real estate transactions   \n",
       "\n",
       "          age_group  \n",
       "6414   young adults  \n",
       "16934        adults  \n",
       "14336      seniours  \n",
       "10877  young adults  \n",
       "1030   young adults  \n",
       "19204        adults  \n",
       "17910  young adults  \n",
       "5788         adults  \n",
       "186    young adults  \n",
       "7782         adults  "
      ]
     },
     "execution_count": 56,
     "metadata": {},
     "output_type": "execute_result"
    }
   ],
   "source": [
    "# let's check a slice of data\n",
    "data.sample(10)"
   ]
  },
  {
   "cell_type": "code",
   "execution_count": 57,
   "metadata": {},
   "outputs": [
    {
     "data": {
      "text/html": [
       "<style type=\"text/css\">\n",
       "</style>\n",
       "<table id=\"T_994ed\">\n",
       "  <thead>\n",
       "    <tr>\n",
       "      <th class=\"blank level0\" >&nbsp;</th>\n",
       "      <th id=\"T_994ed_level0_col0\" class=\"col_heading level0 col0\" >missing</th>\n",
       "      <th id=\"T_994ed_level0_col1\" class=\"col_heading level0 col1\" >total</th>\n",
       "      <th id=\"T_994ed_level0_col2\" class=\"col_heading level0 col2\" >percent</th>\n",
       "    </tr>\n",
       "  </thead>\n",
       "  <tbody>\n",
       "    <tr>\n",
       "      <th id=\"T_994ed_level0_row0\" class=\"row_heading level0 row0\" >children</th>\n",
       "      <td id=\"T_994ed_row0_col0\" class=\"data row0 col0\" >0</td>\n",
       "      <td id=\"T_994ed_row0_col1\" class=\"data row0 col1\" >21,454</td>\n",
       "      <td id=\"T_994ed_row0_col2\" class=\"data row0 col2\" >0.00%</td>\n",
       "    </tr>\n",
       "    <tr>\n",
       "      <th id=\"T_994ed_level0_row1\" class=\"row_heading level0 row1\" >days_employed</th>\n",
       "      <td id=\"T_994ed_row1_col0\" class=\"data row1 col0\" >0</td>\n",
       "      <td id=\"T_994ed_row1_col1\" class=\"data row1 col1\" >21,454</td>\n",
       "      <td id=\"T_994ed_row1_col2\" class=\"data row1 col2\" >0.00%</td>\n",
       "    </tr>\n",
       "    <tr>\n",
       "      <th id=\"T_994ed_level0_row2\" class=\"row_heading level0 row2\" >dob_years</th>\n",
       "      <td id=\"T_994ed_row2_col0\" class=\"data row2 col0\" >0</td>\n",
       "      <td id=\"T_994ed_row2_col1\" class=\"data row2 col1\" >21,454</td>\n",
       "      <td id=\"T_994ed_row2_col2\" class=\"data row2 col2\" >0.00%</td>\n",
       "    </tr>\n",
       "    <tr>\n",
       "      <th id=\"T_994ed_level0_row3\" class=\"row_heading level0 row3\" >education</th>\n",
       "      <td id=\"T_994ed_row3_col0\" class=\"data row3 col0\" >0</td>\n",
       "      <td id=\"T_994ed_row3_col1\" class=\"data row3 col1\" >21,454</td>\n",
       "      <td id=\"T_994ed_row3_col2\" class=\"data row3 col2\" >0.00%</td>\n",
       "    </tr>\n",
       "    <tr>\n",
       "      <th id=\"T_994ed_level0_row4\" class=\"row_heading level0 row4\" >education_id</th>\n",
       "      <td id=\"T_994ed_row4_col0\" class=\"data row4 col0\" >0</td>\n",
       "      <td id=\"T_994ed_row4_col1\" class=\"data row4 col1\" >21,454</td>\n",
       "      <td id=\"T_994ed_row4_col2\" class=\"data row4 col2\" >0.00%</td>\n",
       "    </tr>\n",
       "    <tr>\n",
       "      <th id=\"T_994ed_level0_row5\" class=\"row_heading level0 row5\" >family_status</th>\n",
       "      <td id=\"T_994ed_row5_col0\" class=\"data row5 col0\" >0</td>\n",
       "      <td id=\"T_994ed_row5_col1\" class=\"data row5 col1\" >21,454</td>\n",
       "      <td id=\"T_994ed_row5_col2\" class=\"data row5 col2\" >0.00%</td>\n",
       "    </tr>\n",
       "    <tr>\n",
       "      <th id=\"T_994ed_level0_row6\" class=\"row_heading level0 row6\" >family_status_id</th>\n",
       "      <td id=\"T_994ed_row6_col0\" class=\"data row6 col0\" >0</td>\n",
       "      <td id=\"T_994ed_row6_col1\" class=\"data row6 col1\" >21,454</td>\n",
       "      <td id=\"T_994ed_row6_col2\" class=\"data row6 col2\" >0.00%</td>\n",
       "    </tr>\n",
       "    <tr>\n",
       "      <th id=\"T_994ed_level0_row7\" class=\"row_heading level0 row7\" >gender</th>\n",
       "      <td id=\"T_994ed_row7_col0\" class=\"data row7 col0\" >0</td>\n",
       "      <td id=\"T_994ed_row7_col1\" class=\"data row7 col1\" >21,454</td>\n",
       "      <td id=\"T_994ed_row7_col2\" class=\"data row7 col2\" >0.00%</td>\n",
       "    </tr>\n",
       "    <tr>\n",
       "      <th id=\"T_994ed_level0_row8\" class=\"row_heading level0 row8\" >income_type</th>\n",
       "      <td id=\"T_994ed_row8_col0\" class=\"data row8 col0\" >0</td>\n",
       "      <td id=\"T_994ed_row8_col1\" class=\"data row8 col1\" >21,454</td>\n",
       "      <td id=\"T_994ed_row8_col2\" class=\"data row8 col2\" >0.00%</td>\n",
       "    </tr>\n",
       "    <tr>\n",
       "      <th id=\"T_994ed_level0_row9\" class=\"row_heading level0 row9\" >debt</th>\n",
       "      <td id=\"T_994ed_row9_col0\" class=\"data row9 col0\" >0</td>\n",
       "      <td id=\"T_994ed_row9_col1\" class=\"data row9 col1\" >21,454</td>\n",
       "      <td id=\"T_994ed_row9_col2\" class=\"data row9 col2\" >0.00%</td>\n",
       "    </tr>\n",
       "    <tr>\n",
       "      <th id=\"T_994ed_level0_row10\" class=\"row_heading level0 row10\" >total_income</th>\n",
       "      <td id=\"T_994ed_row10_col0\" class=\"data row10 col0\" >0</td>\n",
       "      <td id=\"T_994ed_row10_col1\" class=\"data row10 col1\" >21,454</td>\n",
       "      <td id=\"T_994ed_row10_col2\" class=\"data row10 col2\" >0.00%</td>\n",
       "    </tr>\n",
       "    <tr>\n",
       "      <th id=\"T_994ed_level0_row11\" class=\"row_heading level0 row11\" >purpose</th>\n",
       "      <td id=\"T_994ed_row11_col0\" class=\"data row11 col0\" >0</td>\n",
       "      <td id=\"T_994ed_row11_col1\" class=\"data row11 col1\" >21,454</td>\n",
       "      <td id=\"T_994ed_row11_col2\" class=\"data row11 col2\" >0.00%</td>\n",
       "    </tr>\n",
       "    <tr>\n",
       "      <th id=\"T_994ed_level0_row12\" class=\"row_heading level0 row12\" >age_group</th>\n",
       "      <td id=\"T_994ed_row12_col0\" class=\"data row12 col0\" >0</td>\n",
       "      <td id=\"T_994ed_row12_col1\" class=\"data row12 col1\" >21,454</td>\n",
       "      <td id=\"T_994ed_row12_col2\" class=\"data row12 col2\" >0.00%</td>\n",
       "    </tr>\n",
       "  </tbody>\n",
       "</table>\n"
      ],
      "text/plain": [
       "<pandas.io.formats.style.Styler at 0x1eeb70598e0>"
      ]
     },
     "execution_count": 57,
     "metadata": {},
     "output_type": "execute_result"
    }
   ],
   "source": [
    "# let's check missing values \n",
    "data.stb.missing(style=True)"
   ]
  },
  {
   "cell_type": "markdown",
   "metadata": {},
   "source": [
    "The result looks fine. We don't see missing values in the `total_income` column anymore. The total number of values in this column matches the number of values in the other ones. "
   ]
  },
  {
   "cell_type": "code",
   "execution_count": 58,
   "metadata": {},
   "outputs": [
    {
     "data": {
      "image/png": "[encoded data removed]",
      "text/plain": [
       "<Figure size 432x288 with 1 Axes>"
      ]
     },
     "metadata": {},
     "output_type": "display_data"
    }
   ],
   "source": [
    "# let's take a look at the distribution of 'days_employed' column after fixing the data in it\n",
    "sns.histplot(data['days_employed']).set_title('The Distribution of `days_employed` Field (Fixed Values Only)');"
   ]
  },
  {
   "cell_type": "markdown",
   "metadata": {},
   "source": [
    "As we mentioned above, several columns have the real number data type while it's better to have integers. Now when we've got rid of missing values we can turn floats into integers without facing errors."
   ]
  },
  {
   "cell_type": "code",
   "execution_count": 59,
   "metadata": {},
   "outputs": [],
   "source": [
    "# Replacing float with integer data type \n",
    "for characteristic in data: # going through all column names\n",
    "    if data[characteristic].dtype == 'float64':\n",
    "        data[characteristic] = data[characteristic].astype('int64') "
   ]
  },
  {
   "cell_type": "code",
   "execution_count": 60,
   "metadata": {
    "scrolled": true
   },
   "outputs": [
    {
     "name": "stdout",
     "output_type": "stream",
     "text": [
      "<class 'pandas.core.frame.DataFrame'>\n",
      "RangeIndex: 21454 entries, 0 to 21453\n",
      "Data columns (total 13 columns):\n",
      " #   Column            Non-Null Count  Dtype \n",
      "---  ------            --------------  ----- \n",
      " 0   children          21454 non-null  int64 \n",
      " 1   days_employed     21454 non-null  int64 \n",
      " 2   dob_years         21454 non-null  int64 \n",
      " 3   education         21454 non-null  object\n",
      " 4   education_id      21454 non-null  int64 \n",
      " 5   family_status     21454 non-null  object\n",
      " 6   family_status_id  21454 non-null  int64 \n",
      " 7   gender            21454 non-null  object\n",
      " 8   income_type       21454 non-null  object\n",
      " 9   debt              21454 non-null  int64 \n",
      " 10  total_income      21454 non-null  int64 \n",
      " 11  purpose           21454 non-null  object\n",
      " 12  age_group         21454 non-null  object\n",
      "dtypes: int64(7), object(6)\n",
      "memory usage: 2.1+ MB\n"
     ]
    }
   ],
   "source": [
    "# let's check the data types\n",
    "data.info()"
   ]
  },
  {
   "cell_type": "markdown",
   "metadata": {},
   "source": [
    "All is fine now. We see 7 integer columns and 6 object data type columns. "
   ]
  },
  {
   "cell_type": "markdown",
   "metadata": {},
   "source": [
    "## 🛠️ Categorization of data"
   ]
  },
  {
   "cell_type": "markdown",
   "metadata": {},
   "source": [
    "To answer one of the Project questions (how do different loan purposes affect on-time loan repayment?) **it's needed to categorize the `purpose` column**. As we see, there are many purposes with the same meaning but written in other words.\n",
    "\n",
    "**Defining categories for `total_income` column is essential for answering another question of the Project** (is there a connection between income level and repaying a loan on time?)."
   ]
  },
  {
   "cell_type": "code",
   "execution_count": 61,
   "metadata": {
    "scrolled": true
   },
   "outputs": [
    {
     "data": {
      "text/plain": [
       "19450                   to have a wedding\n",
       "1284           buy commercial real estate\n",
       "1885                            education\n",
       "9282     to get a supplementary education\n",
       "11878              building a real estate\n",
       "14662    to get a supplementary education\n",
       "2647                              housing\n",
       "4687                   housing renovation\n",
       "20084                           education\n",
       "12837            getting higher education\n",
       "Name: purpose, dtype: object"
      ]
     },
     "execution_count": 61,
     "metadata": {},
     "output_type": "execute_result"
    }
   ],
   "source": [
    "# let's look at the 'purpose' column sample\n",
    "data['purpose'].sample(10)"
   ]
  },
  {
   "cell_type": "code",
   "execution_count": 62,
   "metadata": {},
   "outputs": [
    {
     "data": {
      "text/plain": [
       "array(['purchase of the house', 'car purchase', 'supplementary education',\n",
       "       'to have a wedding', 'housing transactions', 'education',\n",
       "       'having a wedding', 'purchase of the house for my family',\n",
       "       'buy real estate', 'buy commercial real estate',\n",
       "       'buy residential real estate', 'construction of own property',\n",
       "       'property', 'building a property', 'buying a second-hand car',\n",
       "       'buying my own car', 'transactions with commercial real estate',\n",
       "       'building a real estate', 'housing',\n",
       "       'transactions with my real estate', 'cars', 'to become educated',\n",
       "       'second-hand car purchase', 'getting an education', 'car',\n",
       "       'wedding ceremony', 'to get a supplementary education',\n",
       "       'purchase of my own house', 'real estate transactions',\n",
       "       'getting higher education', 'to own a car', 'purchase of a car',\n",
       "       'profile education', 'university education',\n",
       "       'buying property for renting out', 'to buy a car',\n",
       "       'housing renovation', 'going to university'], dtype=object)"
      ]
     },
     "execution_count": 62,
     "metadata": {},
     "output_type": "execute_result"
    }
   ],
   "source": [
    "# checking the unique values\n",
    "data['purpose'].unique()"
   ]
  },
  {
   "cell_type": "markdown",
   "metadata": {},
   "source": [
    "We can reveal such categories: real estate, car, education, wedding"
   ]
  },
  {
   "cell_type": "code",
   "execution_count": 63,
   "metadata": {},
   "outputs": [],
   "source": [
    "# Let's write a function to categorize the data based on common topics\n",
    "purpose_lemmas_list = []\n",
    "\n",
    "for purpose in data['purpose'].unique():\n",
    "    words = nltk.word_tokenize(purpose) #spliting words using tokenezation\n",
    "    lemmas = [wordnet_lemma.lemmatize(w, pos = 'n') for w in words] #lemmatizing words (getting innitial form)\n",
    "    lemmas=[l.lower() for l in lemmas] # making all letters lowercase (not needed now, in case of any in further data)\n",
    "    \n",
    "    for i in lemmas:\n",
    "        purpose_lemmas_list.append(i)"
   ]
  },
  {
   "cell_type": "code",
   "execution_count": 64,
   "metadata": {
    "scrolled": true,
    "tags": []
   },
   "outputs": [
    {
     "data": {
      "text/plain": [
       "['purchase',\n",
       " 'of',\n",
       " 'the',\n",
       " 'house',\n",
       " 'car',\n",
       " 'purchase',\n",
       " 'supplementary',\n",
       " 'education',\n",
       " 'to',\n",
       " 'have',\n",
       " 'a',\n",
       " 'wedding',\n",
       " 'housing',\n",
       " 'transaction',\n",
       " 'education',\n",
       " 'having',\n",
       " 'a',\n",
       " 'wedding',\n",
       " 'purchase',\n",
       " 'of',\n",
       " 'the',\n",
       " 'house',\n",
       " 'for',\n",
       " 'my',\n",
       " 'family',\n",
       " 'buy',\n",
       " 'real',\n",
       " 'estate',\n",
       " 'buy',\n",
       " 'commercial',\n",
       " 'real',\n",
       " 'estate',\n",
       " 'buy',\n",
       " 'residential',\n",
       " 'real',\n",
       " 'estate',\n",
       " 'construction',\n",
       " 'of',\n",
       " 'own',\n",
       " 'property',\n",
       " 'property',\n",
       " 'building',\n",
       " 'a',\n",
       " 'property',\n",
       " 'buying',\n",
       " 'a',\n",
       " 'second-hand',\n",
       " 'car',\n",
       " 'buying',\n",
       " 'my',\n",
       " 'own',\n",
       " 'car',\n",
       " 'transaction',\n",
       " 'with',\n",
       " 'commercial',\n",
       " 'real',\n",
       " 'estate',\n",
       " 'building',\n",
       " 'a',\n",
       " 'real',\n",
       " 'estate',\n",
       " 'housing',\n",
       " 'transaction',\n",
       " 'with',\n",
       " 'my',\n",
       " 'real',\n",
       " 'estate',\n",
       " 'car',\n",
       " 'to',\n",
       " 'become',\n",
       " 'educated',\n",
       " 'second-hand',\n",
       " 'car',\n",
       " 'purchase',\n",
       " 'getting',\n",
       " 'an',\n",
       " 'education',\n",
       " 'car',\n",
       " 'wedding',\n",
       " 'ceremony',\n",
       " 'to',\n",
       " 'get',\n",
       " 'a',\n",
       " 'supplementary',\n",
       " 'education',\n",
       " 'purchase',\n",
       " 'of',\n",
       " 'my',\n",
       " 'own',\n",
       " 'house',\n",
       " 'real',\n",
       " 'estate',\n",
       " 'transaction',\n",
       " 'getting',\n",
       " 'higher',\n",
       " 'education',\n",
       " 'to',\n",
       " 'own',\n",
       " 'a',\n",
       " 'car',\n",
       " 'purchase',\n",
       " 'of',\n",
       " 'a',\n",
       " 'car',\n",
       " 'profile',\n",
       " 'education',\n",
       " 'university',\n",
       " 'education',\n",
       " 'buying',\n",
       " 'property',\n",
       " 'for',\n",
       " 'renting',\n",
       " 'out',\n",
       " 'to',\n",
       " 'buy',\n",
       " 'a',\n",
       " 'car',\n",
       " 'housing',\n",
       " 'renovation',\n",
       " 'going',\n",
       " 'to',\n",
       " 'university']"
      ]
     },
     "execution_count": 64,
     "metadata": {},
     "output_type": "execute_result"
    }
   ],
   "source": [
    "# let's see what we have in the list of lemmas (canonical forms of words) \n",
    "purpose_lemmas_list"
   ]
  },
  {
   "cell_type": "code",
   "execution_count": 65,
   "metadata": {
    "scrolled": true,
    "tags": []
   },
   "outputs": [
    {
     "data": {
      "text/plain": [
       "['a',\n",
       " 'an',\n",
       " 'become',\n",
       " 'building',\n",
       " 'buy',\n",
       " 'buying',\n",
       " 'car',\n",
       " 'ceremony',\n",
       " 'commercial',\n",
       " 'construction',\n",
       " 'educated',\n",
       " 'education',\n",
       " 'estate',\n",
       " 'family',\n",
       " 'for',\n",
       " 'get',\n",
       " 'getting',\n",
       " 'going',\n",
       " 'have',\n",
       " 'having',\n",
       " 'higher',\n",
       " 'house',\n",
       " 'housing',\n",
       " 'my',\n",
       " 'of',\n",
       " 'out',\n",
       " 'own',\n",
       " 'profile',\n",
       " 'property',\n",
       " 'purchase',\n",
       " 'real',\n",
       " 'renovation',\n",
       " 'renting',\n",
       " 'residential',\n",
       " 'second-hand',\n",
       " 'supplementary',\n",
       " 'the',\n",
       " 'to',\n",
       " 'transaction',\n",
       " 'university',\n",
       " 'wedding',\n",
       " 'with']"
      ]
     },
     "execution_count": 65,
     "metadata": {},
     "output_type": "execute_result"
    }
   ],
   "source": [
    "# sorted list\n",
    "sorted(pd.Series(purpose_lemmas_list).unique())"
   ]
  },
  {
   "cell_type": "code",
   "execution_count": 66,
   "metadata": {
    "tags": []
   },
   "outputs": [
    {
     "data": {
      "text/plain": [
       "a                9\n",
       "car              9\n",
       "estate           7\n",
       "education        7\n",
       "real             7\n",
       "to               6\n",
       "purchase         6\n",
       "of               5\n",
       "property         4\n",
       "transaction      4\n",
       "own              4\n",
       "my               4\n",
       "buy              4\n",
       "house            3\n",
       "housing          3\n",
       "buying           3\n",
       "wedding          3\n",
       "building         2\n",
       "commercial       2\n",
       "university       2\n",
       "for              2\n",
       "with             2\n",
       "getting          2\n",
       "supplementary    2\n",
       "the              2\n",
       "second-hand      2\n",
       "profile          1\n",
       "higher           1\n",
       "renting          1\n",
       "ceremony         1\n",
       "out              1\n",
       "renovation       1\n",
       "get              1\n",
       "residential      1\n",
       "an               1\n",
       "educated         1\n",
       "become           1\n",
       "construction     1\n",
       "family           1\n",
       "having           1\n",
       "have             1\n",
       "going            1\n",
       "Name: count, dtype: int64"
      ]
     },
     "execution_count": 66,
     "metadata": {},
     "output_type": "execute_result"
    }
   ],
   "source": [
    "# counting number of entries of the words in the list\n",
    "pd.Series(purpose_lemmas_list).value_counts()"
   ]
  },
  {
   "cell_type": "code",
   "execution_count": 67,
   "metadata": {},
   "outputs": [],
   "source": [
    "# creating lists of keywords for defined categories\n",
    "real_estate_category = ['estate', 'real', 'property', 'house', 'housing', 'construction', 'renovation', 'residential']\n",
    "car_category = ['car']\n",
    "education_category = ['education', 'university', 'educated']\n",
    "wedding_category = ['wedding']"
   ]
  },
  {
   "cell_type": "code",
   "execution_count": 68,
   "metadata": {},
   "outputs": [],
   "source": [
    "# writing function giving lemma as output\n",
    "def lemmatization_func(line):\n",
    "    words = nltk.word_tokenize(line) #spliting words using tokenezation\n",
    "    lemmas = [wordnet_lemma.lemmatize(w, pos = 'n') for w in words]  #lemmatizing words (getting innitial form)\n",
    "    lemmas=[l.lower() for l in lemmas] # making all letters lowercase (not needed now, in case of any in further data)\n",
    "    return lemmas  # return the list of lemmatized words"
   ]
  },
  {
   "cell_type": "code",
   "execution_count": 69,
   "metadata": {},
   "outputs": [
    {
     "data": {
      "text/plain": [
       "'purchase of the house'"
      ]
     },
     "execution_count": 69,
     "metadata": {},
     "output_type": "execute_result"
    },
    {
     "data": {
      "text/plain": [
       "['purchase', 'of', 'the', 'house']"
      ]
     },
     "execution_count": 69,
     "metadata": {},
     "output_type": "execute_result"
    },
    {
     "name": "stdout",
     "output_type": "stream",
     "text": [
      "Real estate category: True\n",
      "Wedding category: False\n"
     ]
    }
   ],
   "source": [
    "# checking how the function works\n",
    "example = data.loc[0]['purpose']\n",
    "example #sample purpose\n",
    "\n",
    "lemmatization_func(example) #lemmatized sample\n",
    "\n",
    "#checking whether this sample meets criteria of 'real_estate_category'\n",
    "print('Real estate category:', any(word in lemmatization_func(example) for word in real_estate_category))\n",
    "\n",
    "#checking whether this sample meets criteria of 'wedding_category'\n",
    "print('Wedding category:',any(word in lemmatization_func(example) for word in wedding_category))"
   ]
  },
  {
   "cell_type": "markdown",
   "metadata": {},
   "source": [
    "Everything looks fine here, as expected. "
   ]
  },
  {
   "cell_type": "code",
   "execution_count": 70,
   "metadata": {},
   "outputs": [],
   "source": [
    "#function with only one possible category\n",
    "\n",
    "def lemmatization_func_category(line):   \n",
    "\n",
    "    \"\"\"\n",
    "    The function returns the category group according to the following rules:\n",
    "\n",
    "    'real_estate' for matching any word in 'purpose' with any word in the list: 'estate', 'real', 'property', 'house', 'housing', 'construction', 'renovation', 'residential'.\n",
    "    'car' for matching any word in 'purpose' with any word in the list: 'car'\n",
    "    'education' for matching any word in 'purpose' with any word in the list: 'education', 'university'\n",
    "    'wedding' for matching any word in 'purpose' with any word in the list: 'wedding', 'educated'\n",
    "    'other' for all other cases.\n",
    "    \"\"\"  \n",
    "    words = nltk.word_tokenize(line) #spliting words using tokenezation\n",
    "    lemmas = [wordnet_lemma.lemmatize(w, pos = 'n') for w in words]  #lemmatizing words (getting innitial form)\n",
    "    lemmas=[l.lower() for l in lemmas] # making all letters lowercase (not needed now, in case of any in further data)\n",
    "    \n",
    "    if any(word in lemmas for word in real_estate_category):\n",
    "        return 'real_estate'\n",
    "    elif  any(word in lemmas for word in car_category):\n",
    "        return 'car'\n",
    "    elif  any(word in lemmas for word in education_category):\n",
    "        return 'education'\n",
    "    elif  any(word in lemmas for word in wedding_category):\n",
    "        return 'wedding'\n",
    "    else:        \n",
    "        return 'other'"
   ]
  },
  {
   "cell_type": "code",
   "execution_count": 71,
   "metadata": {},
   "outputs": [
    {
     "data": {
      "text/plain": [
       "'real_estate'"
      ]
     },
     "execution_count": 71,
     "metadata": {},
     "output_type": "execute_result"
    }
   ],
   "source": [
    "# checking the function\n",
    "lemmatization_func_category(example)"
   ]
  },
  {
   "cell_type": "code",
   "execution_count": 72,
   "metadata": {},
   "outputs": [],
   "source": [
    "# creating 'purpose_category' column by use of this function\n",
    "data['purpose_category'] = data['purpose'].apply(lemmatization_func_category)"
   ]
  },
  {
   "cell_type": "code",
   "execution_count": 73,
   "metadata": {},
   "outputs": [
    {
     "data": {
      "text/html": [
       "<div>\n",
       "<style scoped>\n",
       "    .dataframe tbody tr th:only-of-type {\n",
       "        vertical-align: middle;\n",
       "    }\n",
       "\n",
       "    .dataframe tbody tr th {\n",
       "        vertical-align: top;\n",
       "    }\n",
       "\n",
       "    .dataframe thead th {\n",
       "        text-align: right;\n",
       "    }\n",
       "</style>\n",
       "<table border=\"1\" class=\"dataframe\">\n",
       "  <thead>\n",
       "    <tr style=\"text-align: right;\">\n",
       "      <th></th>\n",
       "      <th>children</th>\n",
       "      <th>days_employed</th>\n",
       "      <th>dob_years</th>\n",
       "      <th>education</th>\n",
       "      <th>education_id</th>\n",
       "      <th>family_status</th>\n",
       "      <th>family_status_id</th>\n",
       "      <th>gender</th>\n",
       "      <th>income_type</th>\n",
       "      <th>debt</th>\n",
       "      <th>total_income</th>\n",
       "      <th>purpose</th>\n",
       "      <th>age_group</th>\n",
       "      <th>purpose_category</th>\n",
       "    </tr>\n",
       "  </thead>\n",
       "  <tbody>\n",
       "    <tr>\n",
       "      <th>10797</th>\n",
       "      <td>1</td>\n",
       "      <td>2355</td>\n",
       "      <td>26</td>\n",
       "      <td>secondary education</td>\n",
       "      <td>1</td>\n",
       "      <td>divorced</td>\n",
       "      <td>3</td>\n",
       "      <td>F</td>\n",
       "      <td>employee</td>\n",
       "      <td>0</td>\n",
       "      <td>10875</td>\n",
       "      <td>transactions with commercial real estate</td>\n",
       "      <td>young adults</td>\n",
       "      <td>real_estate</td>\n",
       "    </tr>\n",
       "    <tr>\n",
       "      <th>4793</th>\n",
       "      <td>0</td>\n",
       "      <td>15703</td>\n",
       "      <td>63</td>\n",
       "      <td>secondary education</td>\n",
       "      <td>1</td>\n",
       "      <td>divorced</td>\n",
       "      <td>3</td>\n",
       "      <td>F</td>\n",
       "      <td>retiree</td>\n",
       "      <td>0</td>\n",
       "      <td>40826</td>\n",
       "      <td>construction of own property</td>\n",
       "      <td>seniours</td>\n",
       "      <td>real_estate</td>\n",
       "    </tr>\n",
       "    <tr>\n",
       "      <th>1922</th>\n",
       "      <td>0</td>\n",
       "      <td>16040</td>\n",
       "      <td>58</td>\n",
       "      <td>secondary education</td>\n",
       "      <td>1</td>\n",
       "      <td>civil partnership</td>\n",
       "      <td>1</td>\n",
       "      <td>F</td>\n",
       "      <td>retiree</td>\n",
       "      <td>0</td>\n",
       "      <td>12714</td>\n",
       "      <td>wedding ceremony</td>\n",
       "      <td>seniours</td>\n",
       "      <td>wedding</td>\n",
       "    </tr>\n",
       "    <tr>\n",
       "      <th>8543</th>\n",
       "      <td>0</td>\n",
       "      <td>870</td>\n",
       "      <td>55</td>\n",
       "      <td>secondary education</td>\n",
       "      <td>1</td>\n",
       "      <td>married</td>\n",
       "      <td>0</td>\n",
       "      <td>M</td>\n",
       "      <td>employee</td>\n",
       "      <td>0</td>\n",
       "      <td>35259</td>\n",
       "      <td>housing renovation</td>\n",
       "      <td>seniours</td>\n",
       "      <td>real_estate</td>\n",
       "    </tr>\n",
       "    <tr>\n",
       "      <th>16293</th>\n",
       "      <td>1</td>\n",
       "      <td>496</td>\n",
       "      <td>45</td>\n",
       "      <td>secondary education</td>\n",
       "      <td>1</td>\n",
       "      <td>widow / widower</td>\n",
       "      <td>2</td>\n",
       "      <td>F</td>\n",
       "      <td>employee</td>\n",
       "      <td>0</td>\n",
       "      <td>14220</td>\n",
       "      <td>housing transactions</td>\n",
       "      <td>adults</td>\n",
       "      <td>real_estate</td>\n",
       "    </tr>\n",
       "  </tbody>\n",
       "</table>\n",
       "</div>"
      ],
      "text/plain": [
       "       children  days_employed  dob_years            education  education_id  \\\n",
       "10797         1           2355         26  secondary education             1   \n",
       "4793          0          15703         63  secondary education             1   \n",
       "1922          0          16040         58  secondary education             1   \n",
       "8543          0            870         55  secondary education             1   \n",
       "16293         1            496         45  secondary education             1   \n",
       "\n",
       "           family_status  family_status_id gender income_type  debt  \\\n",
       "10797           divorced                 3      F    employee     0   \n",
       "4793            divorced                 3      F     retiree     0   \n",
       "1922   civil partnership                 1      F     retiree     0   \n",
       "8543             married                 0      M    employee     0   \n",
       "16293    widow / widower                 2      F    employee     0   \n",
       "\n",
       "       total_income                                   purpose     age_group  \\\n",
       "10797         10875  transactions with commercial real estate  young adults   \n",
       "4793          40826              construction of own property      seniours   \n",
       "1922          12714                          wedding ceremony      seniours   \n",
       "8543          35259                        housing renovation      seniours   \n",
       "16293         14220                      housing transactions        adults   \n",
       "\n",
       "      purpose_category  \n",
       "10797      real_estate  \n",
       "4793       real_estate  \n",
       "1922           wedding  \n",
       "8543       real_estate  \n",
       "16293      real_estate  "
      ]
     },
     "execution_count": 73,
     "metadata": {},
     "output_type": "execute_result"
    }
   ],
   "source": [
    "# looking at the dataset with new column\n",
    "data.sample(5)"
   ]
  },
  {
   "cell_type": "code",
   "execution_count": 74,
   "metadata": {},
   "outputs": [
    {
     "data": {
      "text/plain": [
       "purpose_category\n",
       "real_estate    10811\n",
       "car             4306\n",
       "education       4013\n",
       "wedding         2324\n",
       "Name: count, dtype: int64"
      ]
     },
     "execution_count": 74,
     "metadata": {},
     "output_type": "execute_result"
    }
   ],
   "source": [
    "# Looking at each categories values to see the distribution\n",
    "data['purpose_category'].value_counts()"
   ]
  },
  {
   "cell_type": "markdown",
   "metadata": {},
   "source": [
    "We are done by now with the categorization of the 'purpose' column. Next, let's define categories for `total_income` column as well."
   ]
  },
  {
   "cell_type": "code",
   "execution_count": 75,
   "metadata": {},
   "outputs": [
    {
     "data": {
      "text/plain": [
       "0        40620\n",
       "1        17932\n",
       "2        23341\n",
       "3        42820\n",
       "4        25378\n",
       "         ...  \n",
       "21449    35966\n",
       "21450    24959\n",
       "21451    14347\n",
       "21452    39054\n",
       "21453    13127\n",
       "Name: total_income, Length: 21454, dtype: int64"
      ]
     },
     "execution_count": 75,
     "metadata": {},
     "output_type": "execute_result"
    }
   ],
   "source": [
    "# Looking through all the numerical data in 'total_income' column \n",
    "data['total_income']"
   ]
  },
  {
   "cell_type": "code",
   "execution_count": 76,
   "metadata": {},
   "outputs": [
    {
     "data": {
      "text/plain": [
       "count              21,454.00\n",
       "mean               26,788.61\n",
       "std                15,689.70\n",
       "min                 3,306.00\n",
       "25%                17,219.50\n",
       "50%                24,301.50\n",
       "75%                32,386.00\n",
       "max               362,496.00\n",
       "Name: total_income, dtype: float64"
      ]
     },
     "execution_count": 76,
     "metadata": {},
     "output_type": "execute_result"
    }
   ],
   "source": [
    "# Getting summary statistics for the column\n",
    "data['total_income'].describe()"
   ]
  },
  {
   "cell_type": "code",
   "execution_count": 77,
   "metadata": {},
   "outputs": [],
   "source": [
    "# Creating function for categorizing into different numerical groups based on ranges\n",
    "\n",
    "def income_category(income):\n",
    "    \n",
    "    \"\"\"\n",
    "    The function returns the age group according to the following rules:\n",
    "\n",
    "    *'very low income' for income representing the lowest 20% of the dataset\n",
    "    'low income' for income between 20% and 40% from the bottom of the dataset\n",
    "    'medium income' for income between 40% and 60% from the bottom of the dataset\n",
    "    'high income' for income between 60% and 80% from the bottom of the dataset\n",
    "    'very high income' for the top 20% of values in the income column\n",
    "\n",
    "    * - actually we don't need this category for the current dataset, meanwhile, \n",
    "        it could be useful in case we need to work with a different dataset in the future)\n",
    "    \"\"\"\n",
    "    \n",
    "    if income < 0:\n",
    "        return 'a mistake'   \n",
    "    if income <= data['total_income'].quantile(0.2):\n",
    "        return 'very low income'\n",
    "    if data['total_income'].quantile(0.2) < income <= data['total_income'].quantile(0.4):\n",
    "        return 'low income'\n",
    "    if data['total_income'].quantile(0.4) < income <= data['total_income'].quantile(0.6):\n",
    "        return 'medium income'\n",
    "    if data['total_income'].quantile(0.6) < income <= data['total_income'].quantile(0.8):\n",
    "        return 'high income'    \n",
    "    if income >= data['total_income'].quantile(0.8):\n",
    "        return 'very high income'"
   ]
  },
  {
   "cell_type": "code",
   "execution_count": 78,
   "metadata": {},
   "outputs": [
    {
     "name": "stdout",
     "output_type": "stream",
     "text": [
      "income\"-5\": a mistake\n",
      "income \"12000\": very low income\n",
      "income \"38000\": very high income\n"
     ]
    }
   ],
   "source": [
    "# checking the function\n",
    "print('income\\\"-5\\\":', income_category(-5))\n",
    "print('income \\\"12000\\\":', income_category(12000))\n",
    "print('income \\\"38000\\\":', income_category(38000))"
   ]
  },
  {
   "cell_type": "markdown",
   "metadata": {},
   "source": [
    "The function works as supposed."
   ]
  },
  {
   "cell_type": "code",
   "execution_count": 79,
   "metadata": {},
   "outputs": [],
   "source": [
    "# creating 'income_category' column by use of the function\n",
    "data['income_category']=data['total_income'].apply(income_category)"
   ]
  },
  {
   "cell_type": "code",
   "execution_count": 80,
   "metadata": {},
   "outputs": [
    {
     "data": {
      "text/html": [
       "<div>\n",
       "<style scoped>\n",
       "    .dataframe tbody tr th:only-of-type {\n",
       "        vertical-align: middle;\n",
       "    }\n",
       "\n",
       "    .dataframe tbody tr th {\n",
       "        vertical-align: top;\n",
       "    }\n",
       "\n",
       "    .dataframe thead th {\n",
       "        text-align: right;\n",
       "    }\n",
       "</style>\n",
       "<table border=\"1\" class=\"dataframe\">\n",
       "  <thead>\n",
       "    <tr style=\"text-align: right;\">\n",
       "      <th></th>\n",
       "      <th>children</th>\n",
       "      <th>days_employed</th>\n",
       "      <th>dob_years</th>\n",
       "      <th>education</th>\n",
       "      <th>education_id</th>\n",
       "      <th>family_status</th>\n",
       "      <th>family_status_id</th>\n",
       "      <th>gender</th>\n",
       "      <th>income_type</th>\n",
       "      <th>debt</th>\n",
       "      <th>total_income</th>\n",
       "      <th>purpose</th>\n",
       "      <th>age_group</th>\n",
       "      <th>purpose_category</th>\n",
       "      <th>income_category</th>\n",
       "    </tr>\n",
       "  </thead>\n",
       "  <tbody>\n",
       "    <tr>\n",
       "      <th>10258</th>\n",
       "      <td>1</td>\n",
       "      <td>965</td>\n",
       "      <td>40</td>\n",
       "      <td>secondary education</td>\n",
       "      <td>1</td>\n",
       "      <td>married</td>\n",
       "      <td>0</td>\n",
       "      <td>M</td>\n",
       "      <td>employee</td>\n",
       "      <td>0</td>\n",
       "      <td>30566</td>\n",
       "      <td>university education</td>\n",
       "      <td>adults</td>\n",
       "      <td>education</td>\n",
       "      <td>high income</td>\n",
       "    </tr>\n",
       "    <tr>\n",
       "      <th>2437</th>\n",
       "      <td>1</td>\n",
       "      <td>951</td>\n",
       "      <td>37</td>\n",
       "      <td>secondary education</td>\n",
       "      <td>1</td>\n",
       "      <td>married</td>\n",
       "      <td>0</td>\n",
       "      <td>M</td>\n",
       "      <td>employee</td>\n",
       "      <td>0</td>\n",
       "      <td>32465</td>\n",
       "      <td>purchase of my own house</td>\n",
       "      <td>adults</td>\n",
       "      <td>real_estate</td>\n",
       "      <td>high income</td>\n",
       "    </tr>\n",
       "    <tr>\n",
       "      <th>6055</th>\n",
       "      <td>2</td>\n",
       "      <td>428</td>\n",
       "      <td>34</td>\n",
       "      <td>secondary education</td>\n",
       "      <td>1</td>\n",
       "      <td>married</td>\n",
       "      <td>0</td>\n",
       "      <td>F</td>\n",
       "      <td>employee</td>\n",
       "      <td>0</td>\n",
       "      <td>18485</td>\n",
       "      <td>purchase of a car</td>\n",
       "      <td>young adults</td>\n",
       "      <td>car</td>\n",
       "      <td>low income</td>\n",
       "    </tr>\n",
       "    <tr>\n",
       "      <th>11274</th>\n",
       "      <td>1</td>\n",
       "      <td>811</td>\n",
       "      <td>35</td>\n",
       "      <td>bachelor's degree</td>\n",
       "      <td>0</td>\n",
       "      <td>civil partnership</td>\n",
       "      <td>1</td>\n",
       "      <td>F</td>\n",
       "      <td>employee</td>\n",
       "      <td>0</td>\n",
       "      <td>32769</td>\n",
       "      <td>wedding ceremony</td>\n",
       "      <td>adults</td>\n",
       "      <td>wedding</td>\n",
       "      <td>high income</td>\n",
       "    </tr>\n",
       "    <tr>\n",
       "      <th>13378</th>\n",
       "      <td>0</td>\n",
       "      <td>595</td>\n",
       "      <td>42</td>\n",
       "      <td>secondary education</td>\n",
       "      <td>1</td>\n",
       "      <td>civil partnership</td>\n",
       "      <td>1</td>\n",
       "      <td>F</td>\n",
       "      <td>employee</td>\n",
       "      <td>0</td>\n",
       "      <td>20876</td>\n",
       "      <td>to have a wedding</td>\n",
       "      <td>adults</td>\n",
       "      <td>wedding</td>\n",
       "      <td>low income</td>\n",
       "    </tr>\n",
       "  </tbody>\n",
       "</table>\n",
       "</div>"
      ],
      "text/plain": [
       "       children  days_employed  dob_years            education  education_id  \\\n",
       "10258         1            965         40  secondary education             1   \n",
       "2437          1            951         37  secondary education             1   \n",
       "6055          2            428         34  secondary education             1   \n",
       "11274         1            811         35    bachelor's degree             0   \n",
       "13378         0            595         42  secondary education             1   \n",
       "\n",
       "           family_status  family_status_id gender income_type  debt  \\\n",
       "10258            married                 0      M    employee     0   \n",
       "2437             married                 0      M    employee     0   \n",
       "6055             married                 0      F    employee     0   \n",
       "11274  civil partnership                 1      F    employee     0   \n",
       "13378  civil partnership                 1      F    employee     0   \n",
       "\n",
       "       total_income                   purpose     age_group purpose_category  \\\n",
       "10258         30566      university education        adults        education   \n",
       "2437          32465  purchase of my own house        adults      real_estate   \n",
       "6055          18485         purchase of a car  young adults              car   \n",
       "11274         32769          wedding ceremony        adults          wedding   \n",
       "13378         20876         to have a wedding        adults          wedding   \n",
       "\n",
       "      income_category  \n",
       "10258     high income  \n",
       "2437      high income  \n",
       "6055       low income  \n",
       "11274     high income  \n",
       "13378      low income  "
      ]
     },
     "execution_count": 80,
     "metadata": {},
     "output_type": "execute_result"
    }
   ],
   "source": [
    "# looking at the dataset with new column\n",
    "data.sample(5)"
   ]
  },
  {
   "cell_type": "code",
   "execution_count": 81,
   "metadata": {},
   "outputs": [
    {
     "data": {
      "text/plain": [
       "purpose_category\n",
       "real_estate    10811\n",
       "car             4306\n",
       "education       4013\n",
       "wedding         2324\n",
       "Name: count, dtype: int64"
      ]
     },
     "execution_count": 81,
     "metadata": {},
     "output_type": "execute_result"
    }
   ],
   "source": [
    "# Looking at each categories values to see the distribution\n",
    "data['purpose_category'].value_counts()"
   ]
  },
  {
   "cell_type": "markdown",
   "metadata": {},
   "source": [
    "Everything looks fine here. With such categories answering the Project questions would be much easier."
   ]
  },
  {
   "cell_type": "markdown",
   "metadata": {},
   "source": [
    "## 🧪 Checking the Hypotheses"
   ]
  },
  {
   "cell_type": "markdown",
   "metadata": {},
   "source": [
    "Let's first define what a default rate is.\n",
    "\n",
    "> **Default rate = (number of defaulted loans) / (total number of loans) \\* 100**\n",
    "\n",
    "Let's recollect that '1' in the 'debt' column stands for having debt, while '0' stands for lack of debt.\n"
   ]
  },
  {
   "cell_type": "markdown",
   "metadata": {},
   "source": [
    "### Is there a correlation between having children and paying back on time?"
   ]
  },
  {
   "cell_type": "code",
   "execution_count": 82,
   "metadata": {},
   "outputs": [
    {
     "data": {
      "text/plain": [
       "children\n",
       "4                   9.76\n",
       "2                   9.45\n",
       "1                   9.23\n",
       "3                   8.18\n",
       "0                   7.54\n",
       "5                   0.00\n",
       "Name: debt, dtype: float64"
      ]
     },
     "execution_count": 82,
     "metadata": {},
     "output_type": "execute_result"
    }
   ],
   "source": [
    "# Calculating default-rate based on the number of children\n",
    "pd.Series(data.groupby('children')['debt'].sum() # number of defaulted loans\n",
    "          /data.groupby('children')['debt'].count() * 100).sort_values(ascending = False)  # totall number of loans"
   ]
  },
  {
   "cell_type": "markdown",
   "metadata": {},
   "source": [
    "It seems that using mean values would give us the same result, let's check it."
   ]
  },
  {
   "cell_type": "code",
   "execution_count": 83,
   "metadata": {},
   "outputs": [
    {
     "data": {
      "text/plain": [
       "children\n",
       "4                   9.76\n",
       "2                   9.45\n",
       "1                   9.23\n",
       "3                   8.18\n",
       "0                   7.54\n",
       "5                   0.00\n",
       "Name: debt, dtype: float64"
      ]
     },
     "execution_count": 83,
     "metadata": {},
     "output_type": "execute_result"
    }
   ],
   "source": [
    "# Calculating default-rate based on the number of children using means\n",
    "pd.Series(data.groupby('children')['debt'].mean() * 100).sort_values(ascending = False)"
   ]
  },
  {
   "cell_type": "markdown",
   "metadata": {},
   "source": [
    "As expected, mean as well represents default-rate here. So we will continue to use it for calculating default-rates."
   ]
  },
  {
   "cell_type": "code",
   "execution_count": 84,
   "metadata": {},
   "outputs": [
    {
     "data": {
      "text/html": [
       "<div>\n",
       "<style scoped>\n",
       "    .dataframe tbody tr th:only-of-type {\n",
       "        vertical-align: middle;\n",
       "    }\n",
       "\n",
       "    .dataframe tbody tr th {\n",
       "        vertical-align: top;\n",
       "    }\n",
       "\n",
       "    .dataframe thead th {\n",
       "        text-align: right;\n",
       "    }\n",
       "</style>\n",
       "<table border=\"1\" class=\"dataframe\">\n",
       "  <thead>\n",
       "    <tr style=\"text-align: right;\">\n",
       "      <th></th>\n",
       "      <th>children</th>\n",
       "      <th>defaulted_loans</th>\n",
       "      <th>total_loans</th>\n",
       "      <th>share</th>\n",
       "      <th>default_rate</th>\n",
       "    </tr>\n",
       "  </thead>\n",
       "  <tbody>\n",
       "    <tr>\n",
       "      <th>0</th>\n",
       "      <td>0</td>\n",
       "      <td>1072</td>\n",
       "      <td>14214</td>\n",
       "      <td>66.25</td>\n",
       "      <td>7.54</td>\n",
       "    </tr>\n",
       "    <tr>\n",
       "      <th>1</th>\n",
       "      <td>1</td>\n",
       "      <td>444</td>\n",
       "      <td>4808</td>\n",
       "      <td>22.41</td>\n",
       "      <td>9.23</td>\n",
       "    </tr>\n",
       "    <tr>\n",
       "      <th>2</th>\n",
       "      <td>2</td>\n",
       "      <td>194</td>\n",
       "      <td>2052</td>\n",
       "      <td>9.56</td>\n",
       "      <td>9.45</td>\n",
       "    </tr>\n",
       "    <tr>\n",
       "      <th>3</th>\n",
       "      <td>3</td>\n",
       "      <td>27</td>\n",
       "      <td>330</td>\n",
       "      <td>1.54</td>\n",
       "      <td>8.18</td>\n",
       "    </tr>\n",
       "    <tr>\n",
       "      <th>4</th>\n",
       "      <td>4</td>\n",
       "      <td>4</td>\n",
       "      <td>41</td>\n",
       "      <td>0.19</td>\n",
       "      <td>9.76</td>\n",
       "    </tr>\n",
       "    <tr>\n",
       "      <th>5</th>\n",
       "      <td>5</td>\n",
       "      <td>0</td>\n",
       "      <td>9</td>\n",
       "      <td>0.04</td>\n",
       "      <td>0.00</td>\n",
       "    </tr>\n",
       "  </tbody>\n",
       "</table>\n",
       "</div>"
      ],
      "text/plain": [
       "   children  defaulted_loans  total_loans                share  \\\n",
       "0         0             1072        14214                66.25   \n",
       "1         1              444         4808                22.41   \n",
       "2         2              194         2052                 9.56   \n",
       "3         3               27          330                 1.54   \n",
       "4         4                4           41                 0.19   \n",
       "5         5                0            9                 0.04   \n",
       "\n",
       "          default_rate  \n",
       "0                 7.54  \n",
       "1                 9.23  \n",
       "2                 9.45  \n",
       "3                 8.18  \n",
       "4                 9.76  \n",
       "5                 0.00  "
      ]
     },
     "execution_count": 84,
     "metadata": {},
     "output_type": "execute_result"
    }
   ],
   "source": [
    "# let's check the distribution and default rate by 'children' \n",
    "defaults_by_children = data.groupby('children')['debt'].agg(['sum','count']).reset_index()\n",
    "defaults_by_children.columns = ['children', 'defaulted_loans', 'total_loans']\n",
    "defaults_by_children['share'] = defaults_by_children['total_loans'] / len(data) * 100\n",
    "defaults_by_children['default_rate'] = (defaults_by_children['defaulted_loans'] \n",
    "                                        / defaults_by_children['total_loans'] \n",
    "                                        * 100)\n",
    "defaults_by_children"
   ]
  },
  {
   "cell_type": "markdown",
   "metadata": {},
   "source": [
    "**Conclusion**\n",
    "- yes, **there is a correlation between having children and paying back on time**.\n",
    "- at first sight, borrowers with 5 children are the most reliable (0 default cases for this group). But we shouldn't trust this assumption a lot, as this group represents less than 0,1% of all cases.\n",
    "- borrowers with 4 and 3 children also seem to be not the most reliable categories. They represent just 0,2% and 1,5% of all cases respectively. It's not worth trusting a lot to the outcomes of these groups.\n",
    "- **borrowers without children are the ones who most likely will pay the debt on time.** Theirs default-rate is the lowest (from those for whom we have enough data for verification) - 7,5%. We can be sure of this conclusion as this group of borrowers represents over 66% of all cases.\n",
    "- borrowers with 1 child are less likely to pay the debt (compare to those who don't have children). Their default-rate is 9,2%.\n",
    "- borrowers with 2 children are a bit less likely to pay the debt (compare to those who have 1 child). Their default-rate is 9,5%.\n",
    "- we can't make any conclusions for cases with more than 5 children (there are no such in our initial data set).\n",
    "- we can make **an assumption that higher number of children leads to higher default rate**. However, we don't have enough data (for cases with borrowers having more than 2 children) to be certain."
   ]
  },
  {
   "cell_type": "markdown",
   "metadata": {},
   "source": [
    "### Is there a correlation between family status and paying back on time?"
   ]
  },
  {
   "cell_type": "markdown",
   "metadata": {},
   "source": [
    "Let's try to answer this question by creating a pivot table."
   ]
  },
  {
   "cell_type": "code",
   "execution_count": 85,
   "metadata": {},
   "outputs": [
    {
     "data": {
      "text/html": [
       "<div>\n",
       "<style scoped>\n",
       "    .dataframe tbody tr th:only-of-type {\n",
       "        vertical-align: middle;\n",
       "    }\n",
       "\n",
       "    .dataframe tbody tr th {\n",
       "        vertical-align: top;\n",
       "    }\n",
       "\n",
       "    .dataframe thead th {\n",
       "        text-align: right;\n",
       "    }\n",
       "</style>\n",
       "<table border=\"1\" class=\"dataframe\">\n",
       "  <thead>\n",
       "    <tr style=\"text-align: right;\">\n",
       "      <th></th>\n",
       "      <th>family_status</th>\n",
       "      <th>defaulted_loans</th>\n",
       "      <th>total_loans</th>\n",
       "      <th>share</th>\n",
       "      <th>default_rate</th>\n",
       "    </tr>\n",
       "  </thead>\n",
       "  <tbody>\n",
       "    <tr>\n",
       "      <th>4</th>\n",
       "      <td>widow / widower</td>\n",
       "      <td>63</td>\n",
       "      <td>959</td>\n",
       "      <td>0.04</td>\n",
       "      <td>6.57</td>\n",
       "    </tr>\n",
       "    <tr>\n",
       "      <th>1</th>\n",
       "      <td>divorced</td>\n",
       "      <td>85</td>\n",
       "      <td>1195</td>\n",
       "      <td>0.06</td>\n",
       "      <td>7.11</td>\n",
       "    </tr>\n",
       "    <tr>\n",
       "      <th>2</th>\n",
       "      <td>married</td>\n",
       "      <td>931</td>\n",
       "      <td>12339</td>\n",
       "      <td>0.58</td>\n",
       "      <td>7.55</td>\n",
       "    </tr>\n",
       "    <tr>\n",
       "      <th>0</th>\n",
       "      <td>civil partnership</td>\n",
       "      <td>388</td>\n",
       "      <td>4151</td>\n",
       "      <td>0.19</td>\n",
       "      <td>9.35</td>\n",
       "    </tr>\n",
       "    <tr>\n",
       "      <th>3</th>\n",
       "      <td>unmarried</td>\n",
       "      <td>274</td>\n",
       "      <td>2810</td>\n",
       "      <td>0.13</td>\n",
       "      <td>9.75</td>\n",
       "    </tr>\n",
       "  </tbody>\n",
       "</table>\n",
       "</div>"
      ],
      "text/plain": [
       "       family_status  defaulted_loans  total_loans                share  \\\n",
       "4    widow / widower               63          959                 0.04   \n",
       "1           divorced               85         1195                 0.06   \n",
       "2            married              931        12339                 0.58   \n",
       "0  civil partnership              388         4151                 0.19   \n",
       "3          unmarried              274         2810                 0.13   \n",
       "\n",
       "          default_rate  \n",
       "4                 6.57  \n",
       "1                 7.11  \n",
       "2                 7.55  \n",
       "0                 9.35  \n",
       "3                 9.75  "
      ]
     },
     "execution_count": 85,
     "metadata": {},
     "output_type": "execute_result"
    }
   ],
   "source": [
    "# creating pivot table for 'family_status' and paying back on time\n",
    "pivot_family_status = data.pivot_table(\n",
    "    index = 'family_status', \n",
    "    values = 'debt', \n",
    "    aggfunc = ['sum','count']\n",
    ").reset_index()\n",
    "\n",
    "pivot_family_status.columns = ['family_status', 'defaulted_loans', 'total_loans']\n",
    "pivot_family_status['share'] = pivot_family_status['total_loans'] / len(data)\n",
    "pivot_family_status['default_rate'] = (pivot_family_status['defaulted_loans'] \n",
    "                                       / pivot_family_status['total_loans'] \n",
    "                                       * 100)\n",
    "pivot_family_status.sort_values(by = 'default_rate')"
   ]
  },
  {
   "cell_type": "markdown",
   "metadata": {},
   "source": [
    "Now we see all the needed data just in the one pivot table! "
   ]
  },
  {
   "cell_type": "markdown",
   "metadata": {},
   "source": [
    "**Conclusion**\n",
    "- yes, **there is a correlation between family status and paying back on time**.\n",
    "- **widowers are the ones who most likely will pay the debt on time.** Theirs default-rate is the lowest - 6,6%\n",
    "- **unmarried borrowers are the ones who most likely (compared with the other categories) will not pay the debt on time.** Theirs default-rate is the highest - 9,8%.\n",
    "- default rates of all family categories seem to be worth trusting, as each of them represents a significant share of data."
   ]
  },
  {
   "cell_type": "markdown",
   "metadata": {},
   "source": [
    "### Is there a correlation between income level and paying back on time?"
   ]
  },
  {
   "cell_type": "markdown",
   "metadata": {},
   "source": [
    "When answering this question, we will use 'income_category' values instead of 'income_level' values. Thus the output would be more lucid."
   ]
  },
  {
   "cell_type": "code",
   "execution_count": 86,
   "metadata": {},
   "outputs": [
    {
     "data": {
      "text/html": [
       "<div>\n",
       "<style scoped>\n",
       "    .dataframe tbody tr th:only-of-type {\n",
       "        vertical-align: middle;\n",
       "    }\n",
       "\n",
       "    .dataframe tbody tr th {\n",
       "        vertical-align: top;\n",
       "    }\n",
       "\n",
       "    .dataframe thead th {\n",
       "        text-align: right;\n",
       "    }\n",
       "</style>\n",
       "<table border=\"1\" class=\"dataframe\">\n",
       "  <thead>\n",
       "    <tr style=\"text-align: right;\">\n",
       "      <th></th>\n",
       "      <th>income_category</th>\n",
       "      <th>defaulted_loans</th>\n",
       "      <th>total_loans</th>\n",
       "      <th>share</th>\n",
       "      <th>default_rate</th>\n",
       "    </tr>\n",
       "  </thead>\n",
       "  <tbody>\n",
       "    <tr>\n",
       "      <th>3</th>\n",
       "      <td>very high income</td>\n",
       "      <td>300</td>\n",
       "      <td>4291</td>\n",
       "      <td>0.20</td>\n",
       "      <td>6.99</td>\n",
       "    </tr>\n",
       "    <tr>\n",
       "      <th>4</th>\n",
       "      <td>very low income</td>\n",
       "      <td>344</td>\n",
       "      <td>4291</td>\n",
       "      <td>0.20</td>\n",
       "      <td>8.02</td>\n",
       "    </tr>\n",
       "    <tr>\n",
       "      <th>1</th>\n",
       "      <td>low income</td>\n",
       "      <td>355</td>\n",
       "      <td>4291</td>\n",
       "      <td>0.20</td>\n",
       "      <td>8.27</td>\n",
       "    </tr>\n",
       "    <tr>\n",
       "      <th>0</th>\n",
       "      <td>high income</td>\n",
       "      <td>358</td>\n",
       "      <td>4290</td>\n",
       "      <td>0.20</td>\n",
       "      <td>8.34</td>\n",
       "    </tr>\n",
       "    <tr>\n",
       "      <th>2</th>\n",
       "      <td>medium income</td>\n",
       "      <td>384</td>\n",
       "      <td>4291</td>\n",
       "      <td>0.20</td>\n",
       "      <td>8.95</td>\n",
       "    </tr>\n",
       "  </tbody>\n",
       "</table>\n",
       "</div>"
      ],
      "text/plain": [
       "    income_category  defaulted_loans  total_loans                share  \\\n",
       "3  very high income              300         4291                 0.20   \n",
       "4   very low income              344         4291                 0.20   \n",
       "1        low income              355         4291                 0.20   \n",
       "0       high income              358         4290                 0.20   \n",
       "2     medium income              384         4291                 0.20   \n",
       "\n",
       "          default_rate  \n",
       "3                 6.99  \n",
       "4                 8.02  \n",
       "1                 8.27  \n",
       "0                 8.34  \n",
       "2                 8.95  "
      ]
     },
     "execution_count": 86,
     "metadata": {},
     "output_type": "execute_result"
    }
   ],
   "source": [
    "# creating pivot table for 'income_category' and paying back on time\n",
    "pivot_income_category = data.pivot_table(\n",
    "    index = 'income_category', \n",
    "    values = 'debt', \n",
    "    aggfunc = ['sum','count']\n",
    ").reset_index()\n",
    "\n",
    "pivot_income_category.columns =  ['income_category', 'defaulted_loans', 'total_loans']\n",
    "pivot_income_category['share'] = pivot_income_category['total_loans'] / len(data) \n",
    "pivot_income_category['default_rate'] = (pivot_income_category['defaulted_loans'] \n",
    "                                         / pivot_income_category['total_loans'] \n",
    "                                         * 100)\n",
    "pivot_income_category.sort_values(by = 'default_rate')"
   ]
  },
  {
   "cell_type": "markdown",
   "metadata": {},
   "source": [
    "**Conclusion**\n",
    "- yes, **there is a correlation between income level and paying back on time**.\n",
    "- **borrowers with very high incomes are the ones who most likely will pay the debt on time.** Theirs default-rate is the lowest - 7,0%.\n",
    "- **borrowers with medium income are the ones who most likely (compared with the other categories) will not pay the debt on time.** Theirs default-rate is the highest - 9,0%.\n",
    "- **the output is not very intuitively clear**. Most reliable borrowers from the highest income group seem to be predictable. But borrowers with very low income being the second most reliable category seem to be strange, as well as people with medium income in the last place. We can assume that e.g. people with very low income are trying harder to pay debts on time than people from just the low-income category. As they better care about their credit track (knowing that maybe they won't have a second chance). But it's not obvious how we can validate such assumptions, so we take the output for granted. "
   ]
  },
  {
   "cell_type": "markdown",
   "metadata": {},
   "source": [
    "### How does credit purpose affect the default rate?"
   ]
  },
  {
   "cell_type": "code",
   "execution_count": 87,
   "metadata": {},
   "outputs": [
    {
     "data": {
      "text/html": [
       "<div>\n",
       "<style scoped>\n",
       "    .dataframe tbody tr th:only-of-type {\n",
       "        vertical-align: middle;\n",
       "    }\n",
       "\n",
       "    .dataframe tbody tr th {\n",
       "        vertical-align: top;\n",
       "    }\n",
       "\n",
       "    .dataframe thead th {\n",
       "        text-align: right;\n",
       "    }\n",
       "</style>\n",
       "<table border=\"1\" class=\"dataframe\">\n",
       "  <thead>\n",
       "    <tr style=\"text-align: right;\">\n",
       "      <th></th>\n",
       "      <th>purpose_category</th>\n",
       "      <th>defaulted_loans</th>\n",
       "      <th>total_loans</th>\n",
       "      <th>share</th>\n",
       "      <th>default_rate</th>\n",
       "    </tr>\n",
       "  </thead>\n",
       "  <tbody>\n",
       "    <tr>\n",
       "      <th>2</th>\n",
       "      <td>real_estate</td>\n",
       "      <td>782</td>\n",
       "      <td>10811</td>\n",
       "      <td>0.50</td>\n",
       "      <td>7.23</td>\n",
       "    </tr>\n",
       "    <tr>\n",
       "      <th>3</th>\n",
       "      <td>wedding</td>\n",
       "      <td>186</td>\n",
       "      <td>2324</td>\n",
       "      <td>0.11</td>\n",
       "      <td>8.00</td>\n",
       "    </tr>\n",
       "    <tr>\n",
       "      <th>1</th>\n",
       "      <td>education</td>\n",
       "      <td>370</td>\n",
       "      <td>4013</td>\n",
       "      <td>0.19</td>\n",
       "      <td>9.22</td>\n",
       "    </tr>\n",
       "    <tr>\n",
       "      <th>0</th>\n",
       "      <td>car</td>\n",
       "      <td>403</td>\n",
       "      <td>4306</td>\n",
       "      <td>0.20</td>\n",
       "      <td>9.36</td>\n",
       "    </tr>\n",
       "  </tbody>\n",
       "</table>\n",
       "</div>"
      ],
      "text/plain": [
       "  purpose_category  defaulted_loans  total_loans                share  \\\n",
       "2      real_estate              782        10811                 0.50   \n",
       "3          wedding              186         2324                 0.11   \n",
       "1        education              370         4013                 0.19   \n",
       "0              car              403         4306                 0.20   \n",
       "\n",
       "          default_rate  \n",
       "2                 7.23  \n",
       "3                 8.00  \n",
       "1                 9.22  \n",
       "0                 9.36  "
      ]
     },
     "execution_count": 87,
     "metadata": {},
     "output_type": "execute_result"
    }
   ],
   "source": [
    "# creating pivot table for credit purpose and paying back on time\n",
    "pivot_purpose_category = data.pivot_table(\n",
    "    index = 'purpose_category', \n",
    "    values = 'debt', \n",
    "    aggfunc = ['sum','count']\n",
    ").reset_index()\n",
    "\n",
    "pivot_purpose_category.columns =  ['purpose_category', 'defaulted_loans', 'total_loans']\n",
    "pivot_purpose_category['share'] = pivot_purpose_category['total_loans'] / len(data) \n",
    "pivot_purpose_category['default_rate'] = (pivot_purpose_category['defaulted_loans'] \n",
    "                                          / pivot_purpose_category['total_loans'] \n",
    "                                          * 100)\n",
    "pivot_purpose_category.sort_values(by = 'default_rate')"
   ]
  },
  {
   "cell_type": "markdown",
   "metadata": {},
   "source": [
    "**Conclusion**\n",
    "- yes, **there is a correlation between credit purpose and paying back on time**.\n",
    "- **borrowers taking loans for real estate are the ones who most likely will pay the debt on time.** Theirs default-rate is the lowest - 7,2%.\n",
    "- **borrowers taking loans for cars are the ones who most likely (compared with the other categories) will not pay the debt on time.** Theirs default-rate is the highest - 9,4%.\n",
    "- default rates of all purpose categories seem to be worth trusting, as each of them represents a significant share of data."
   ]
  },
  {
   "cell_type": "markdown",
   "metadata": {},
   "source": [
    "### Combinations of Categories and Default Rate\n",
    "**We can go the extra mile and create a complex pivot table, describing which combinations of categories represent the most reliable borrowers and their share.**"
   ]
  },
  {
   "cell_type": "code",
   "execution_count": 88,
   "metadata": {},
   "outputs": [
    {
     "data": {
      "text/html": [
       "<div>\n",
       "<style scoped>\n",
       "    .dataframe tbody tr th:only-of-type {\n",
       "        vertical-align: middle;\n",
       "    }\n",
       "\n",
       "    .dataframe tbody tr th {\n",
       "        vertical-align: top;\n",
       "    }\n",
       "\n",
       "    .dataframe thead th {\n",
       "        text-align: right;\n",
       "    }\n",
       "</style>\n",
       "<table border=\"1\" class=\"dataframe\">\n",
       "  <thead>\n",
       "    <tr style=\"text-align: right;\">\n",
       "      <th></th>\n",
       "      <th>children</th>\n",
       "      <th>family_status</th>\n",
       "      <th>purpose_category</th>\n",
       "      <th>income_category</th>\n",
       "      <th>defaulted_loans</th>\n",
       "      <th>total_loans</th>\n",
       "      <th>share</th>\n",
       "      <th>default_rate</th>\n",
       "    </tr>\n",
       "  </thead>\n",
       "  <tbody>\n",
       "    <tr>\n",
       "      <th>49</th>\n",
       "      <td>0</td>\n",
       "      <td>married</td>\n",
       "      <td>real_estate</td>\n",
       "      <td>very low income</td>\n",
       "      <td>67</td>\n",
       "      <td>908</td>\n",
       "      <td>4.23</td>\n",
       "      <td>7.38</td>\n",
       "    </tr>\n",
       "    <tr>\n",
       "      <th>47</th>\n",
       "      <td>0</td>\n",
       "      <td>married</td>\n",
       "      <td>real_estate</td>\n",
       "      <td>medium income</td>\n",
       "      <td>70</td>\n",
       "      <td>855</td>\n",
       "      <td>3.99</td>\n",
       "      <td>8.19</td>\n",
       "    </tr>\n",
       "    <tr>\n",
       "      <th>48</th>\n",
       "      <td>0</td>\n",
       "      <td>married</td>\n",
       "      <td>real_estate</td>\n",
       "      <td>very high income</td>\n",
       "      <td>49</td>\n",
       "      <td>854</td>\n",
       "      <td>3.98</td>\n",
       "      <td>5.74</td>\n",
       "    </tr>\n",
       "    <tr>\n",
       "      <th>45</th>\n",
       "      <td>0</td>\n",
       "      <td>married</td>\n",
       "      <td>real_estate</td>\n",
       "      <td>high income</td>\n",
       "      <td>52</td>\n",
       "      <td>851</td>\n",
       "      <td>3.97</td>\n",
       "      <td>6.11</td>\n",
       "    </tr>\n",
       "    <tr>\n",
       "      <th>46</th>\n",
       "      <td>0</td>\n",
       "      <td>married</td>\n",
       "      <td>real_estate</td>\n",
       "      <td>low income</td>\n",
       "      <td>41</td>\n",
       "      <td>807</td>\n",
       "      <td>3.76</td>\n",
       "      <td>5.08</td>\n",
       "    </tr>\n",
       "    <tr>\n",
       "      <th>...</th>\n",
       "      <td>...</td>\n",
       "      <td>...</td>\n",
       "      <td>...</td>\n",
       "      <td>...</td>\n",
       "      <td>...</td>\n",
       "      <td>...</td>\n",
       "      <td>...</td>\n",
       "      <td>...</td>\n",
       "    </tr>\n",
       "    <tr>\n",
       "      <th>227</th>\n",
       "      <td>2</td>\n",
       "      <td>widow / widower</td>\n",
       "      <td>education</td>\n",
       "      <td>low income</td>\n",
       "      <td>0</td>\n",
       "      <td>1</td>\n",
       "      <td>0.00</td>\n",
       "      <td>0.00</td>\n",
       "    </tr>\n",
       "    <tr>\n",
       "      <th>284</th>\n",
       "      <td>4</td>\n",
       "      <td>civil partnership</td>\n",
       "      <td>car</td>\n",
       "      <td>low income</td>\n",
       "      <td>0</td>\n",
       "      <td>1</td>\n",
       "      <td>0.00</td>\n",
       "      <td>0.00</td>\n",
       "    </tr>\n",
       "    <tr>\n",
       "      <th>256</th>\n",
       "      <td>3</td>\n",
       "      <td>divorced</td>\n",
       "      <td>real_estate</td>\n",
       "      <td>very high income</td>\n",
       "      <td>0</td>\n",
       "      <td>1</td>\n",
       "      <td>0.00</td>\n",
       "      <td>0.00</td>\n",
       "    </tr>\n",
       "    <tr>\n",
       "      <th>286</th>\n",
       "      <td>4</td>\n",
       "      <td>civil partnership</td>\n",
       "      <td>real_estate</td>\n",
       "      <td>medium income</td>\n",
       "      <td>0</td>\n",
       "      <td>1</td>\n",
       "      <td>0.00</td>\n",
       "      <td>0.00</td>\n",
       "    </tr>\n",
       "    <tr>\n",
       "      <th>314</th>\n",
       "      <td>5</td>\n",
       "      <td>married</td>\n",
       "      <td>real_estate</td>\n",
       "      <td>very low income</td>\n",
       "      <td>0</td>\n",
       "      <td>1</td>\n",
       "      <td>0.00</td>\n",
       "      <td>0.00</td>\n",
       "    </tr>\n",
       "  </tbody>\n",
       "</table>\n",
       "<p>315 rows × 8 columns</p>\n",
       "</div>"
      ],
      "text/plain": [
       "     children      family_status purpose_category   income_category  \\\n",
       "49          0            married      real_estate   very low income   \n",
       "47          0            married      real_estate     medium income   \n",
       "48          0            married      real_estate  very high income   \n",
       "45          0            married      real_estate       high income   \n",
       "46          0            married      real_estate        low income   \n",
       "..        ...                ...              ...               ...   \n",
       "227         2    widow / widower        education        low income   \n",
       "284         4  civil partnership              car        low income   \n",
       "256         3           divorced      real_estate  very high income   \n",
       "286         4  civil partnership      real_estate     medium income   \n",
       "314         5            married      real_estate   very low income   \n",
       "\n",
       "     defaulted_loans  total_loans                share         default_rate  \n",
       "49                67          908                 4.23                 7.38  \n",
       "47                70          855                 3.99                 8.19  \n",
       "48                49          854                 3.98                 5.74  \n",
       "45                52          851                 3.97                 6.11  \n",
       "46                41          807                 3.76                 5.08  \n",
       "..               ...          ...                  ...                  ...  \n",
       "227                0            1                 0.00                 0.00  \n",
       "284                0            1                 0.00                 0.00  \n",
       "256                0            1                 0.00                 0.00  \n",
       "286                0            1                 0.00                 0.00  \n",
       "314                0            1                 0.00                 0.00  \n",
       "\n",
       "[315 rows x 8 columns]"
      ]
     },
     "execution_count": 88,
     "metadata": {},
     "output_type": "execute_result"
    }
   ],
   "source": [
    "# creating pivot table on investigating categories of borrowers\n",
    "data_total_pivot = data.pivot_table(\n",
    "    index = ['children', 'family_status', 'purpose_category', 'income_category'],\n",
    "    values = 'debt',\n",
    "    aggfunc = ['sum', 'count'],\n",
    ").reset_index()\n",
    "\n",
    "data_total_pivot.columns = (\n",
    "    ['children', 'family_status', 'purpose_category', 'income_category', 'defaulted_loans', 'total_loans'])\n",
    "\n",
    "data_total_pivot['share'] = data_total_pivot['total_loans'] / len(data) * 100\n",
    "data_total_pivot['default_rate'] = (data_total_pivot['defaulted_loans'] \n",
    "                                    / data_total_pivot['total_loans'] \n",
    "                                    * 100)\n",
    "data_total_pivot.sort_values(by = 'share', ascending = False)"
   ]
  },
  {
   "cell_type": "markdown",
   "metadata": {},
   "source": [
    "We can see 359 combinations of parameters and there share, where highest is 4.23% "
   ]
  },
  {
   "cell_type": "code",
   "execution_count": 89,
   "metadata": {},
   "outputs": [
    {
     "data": {
      "text/html": [
       "<div>\n",
       "<style scoped>\n",
       "    .dataframe tbody tr th:only-of-type {\n",
       "        vertical-align: middle;\n",
       "    }\n",
       "\n",
       "    .dataframe tbody tr th {\n",
       "        vertical-align: top;\n",
       "    }\n",
       "\n",
       "    .dataframe thead th {\n",
       "        text-align: right;\n",
       "    }\n",
       "</style>\n",
       "<table border=\"1\" class=\"dataframe\">\n",
       "  <thead>\n",
       "    <tr style=\"text-align: right;\">\n",
       "      <th></th>\n",
       "      <th>children</th>\n",
       "      <th>family_status</th>\n",
       "      <th>purpose_category</th>\n",
       "      <th>income_category</th>\n",
       "      <th>defaulted_loans</th>\n",
       "      <th>total_loans</th>\n",
       "      <th>share</th>\n",
       "      <th>default_rate</th>\n",
       "    </tr>\n",
       "  </thead>\n",
       "  <tbody>\n",
       "    <tr>\n",
       "      <th>46</th>\n",
       "      <td>0</td>\n",
       "      <td>married</td>\n",
       "      <td>real_estate</td>\n",
       "      <td>low income</td>\n",
       "      <td>41</td>\n",
       "      <td>807</td>\n",
       "      <td>3.76</td>\n",
       "      <td>5.08</td>\n",
       "    </tr>\n",
       "    <tr>\n",
       "      <th>48</th>\n",
       "      <td>0</td>\n",
       "      <td>married</td>\n",
       "      <td>real_estate</td>\n",
       "      <td>very high income</td>\n",
       "      <td>49</td>\n",
       "      <td>854</td>\n",
       "      <td>3.98</td>\n",
       "      <td>5.74</td>\n",
       "    </tr>\n",
       "    <tr>\n",
       "      <th>61</th>\n",
       "      <td>0</td>\n",
       "      <td>unmarried</td>\n",
       "      <td>real_estate</td>\n",
       "      <td>low income</td>\n",
       "      <td>16</td>\n",
       "      <td>276</td>\n",
       "      <td>1.29</td>\n",
       "      <td>5.80</td>\n",
       "    </tr>\n",
       "    <tr>\n",
       "      <th>64</th>\n",
       "      <td>0</td>\n",
       "      <td>unmarried</td>\n",
       "      <td>real_estate</td>\n",
       "      <td>very low income</td>\n",
       "      <td>15</td>\n",
       "      <td>249</td>\n",
       "      <td>1.16</td>\n",
       "      <td>6.02</td>\n",
       "    </tr>\n",
       "    <tr>\n",
       "      <th>18</th>\n",
       "      <td>0</td>\n",
       "      <td>civil partnership</td>\n",
       "      <td>wedding</td>\n",
       "      <td>very high income</td>\n",
       "      <td>18</td>\n",
       "      <td>295</td>\n",
       "      <td>1.38</td>\n",
       "      <td>6.10</td>\n",
       "    </tr>\n",
       "    <tr>\n",
       "      <th>43</th>\n",
       "      <td>0</td>\n",
       "      <td>married</td>\n",
       "      <td>education</td>\n",
       "      <td>very high income</td>\n",
       "      <td>19</td>\n",
       "      <td>311</td>\n",
       "      <td>1.45</td>\n",
       "      <td>6.11</td>\n",
       "    </tr>\n",
       "    <tr>\n",
       "      <th>45</th>\n",
       "      <td>0</td>\n",
       "      <td>married</td>\n",
       "      <td>real_estate</td>\n",
       "      <td>high income</td>\n",
       "      <td>52</td>\n",
       "      <td>851</td>\n",
       "      <td>3.97</td>\n",
       "      <td>6.11</td>\n",
       "    </tr>\n",
       "    <tr>\n",
       "      <th>126</th>\n",
       "      <td>1</td>\n",
       "      <td>married</td>\n",
       "      <td>real_estate</td>\n",
       "      <td>low income</td>\n",
       "      <td>20</td>\n",
       "      <td>325</td>\n",
       "      <td>1.51</td>\n",
       "      <td>6.15</td>\n",
       "    </tr>\n",
       "    <tr>\n",
       "      <th>127</th>\n",
       "      <td>1</td>\n",
       "      <td>married</td>\n",
       "      <td>real_estate</td>\n",
       "      <td>medium income</td>\n",
       "      <td>22</td>\n",
       "      <td>348</td>\n",
       "      <td>1.62</td>\n",
       "      <td>6.32</td>\n",
       "    </tr>\n",
       "    <tr>\n",
       "      <th>41</th>\n",
       "      <td>0</td>\n",
       "      <td>married</td>\n",
       "      <td>education</td>\n",
       "      <td>low income</td>\n",
       "      <td>21</td>\n",
       "      <td>332</td>\n",
       "      <td>1.55</td>\n",
       "      <td>6.33</td>\n",
       "    </tr>\n",
       "  </tbody>\n",
       "</table>\n",
       "</div>"
      ],
      "text/plain": [
       "     children      family_status purpose_category   income_category  \\\n",
       "46          0            married      real_estate        low income   \n",
       "48          0            married      real_estate  very high income   \n",
       "61          0          unmarried      real_estate        low income   \n",
       "64          0          unmarried      real_estate   very low income   \n",
       "18          0  civil partnership          wedding  very high income   \n",
       "43          0            married        education  very high income   \n",
       "45          0            married      real_estate       high income   \n",
       "126         1            married      real_estate        low income   \n",
       "127         1            married      real_estate     medium income   \n",
       "41          0            married        education        low income   \n",
       "\n",
       "     defaulted_loans  total_loans                share         default_rate  \n",
       "46                41          807                 3.76                 5.08  \n",
       "48                49          854                 3.98                 5.74  \n",
       "61                16          276                 1.29                 5.80  \n",
       "64                15          249                 1.16                 6.02  \n",
       "18                18          295                 1.38                 6.10  \n",
       "43                19          311                 1.45                 6.11  \n",
       "45                52          851                 3.97                 6.11  \n",
       "126               20          325                 1.51                 6.15  \n",
       "127               22          348                 1.62                 6.32  \n",
       "41                21          332                 1.55                 6.33  "
      ]
     },
     "execution_count": 89,
     "metadata": {},
     "output_type": "execute_result"
    }
   ],
   "source": [
    "# the most reliable combinations of categories, we display only cases with share over 1%\n",
    "data_total_pivot[data_total_pivot['share'] > 1].sort_values(by = 'default_rate', ascending = True).head(10)"
   ]
  },
  {
   "cell_type": "code",
   "execution_count": 90,
   "metadata": {},
   "outputs": [
    {
     "data": {
      "text/html": [
       "<div>\n",
       "<style scoped>\n",
       "    .dataframe tbody tr th:only-of-type {\n",
       "        vertical-align: middle;\n",
       "    }\n",
       "\n",
       "    .dataframe tbody tr th {\n",
       "        vertical-align: top;\n",
       "    }\n",
       "\n",
       "    .dataframe thead th {\n",
       "        text-align: right;\n",
       "    }\n",
       "</style>\n",
       "<table border=\"1\" class=\"dataframe\">\n",
       "  <thead>\n",
       "    <tr style=\"text-align: right;\">\n",
       "      <th></th>\n",
       "      <th>children</th>\n",
       "      <th>family_status</th>\n",
       "      <th>purpose_category</th>\n",
       "      <th>income_category</th>\n",
       "      <th>defaulted_loans</th>\n",
       "      <th>total_loans</th>\n",
       "      <th>share</th>\n",
       "      <th>default_rate</th>\n",
       "    </tr>\n",
       "  </thead>\n",
       "  <tbody>\n",
       "    <tr>\n",
       "      <th>17</th>\n",
       "      <td>0</td>\n",
       "      <td>civil partnership</td>\n",
       "      <td>wedding</td>\n",
       "      <td>medium income</td>\n",
       "      <td>32</td>\n",
       "      <td>294</td>\n",
       "      <td>1.37</td>\n",
       "      <td>10.88</td>\n",
       "    </tr>\n",
       "    <tr>\n",
       "      <th>129</th>\n",
       "      <td>1</td>\n",
       "      <td>married</td>\n",
       "      <td>real_estate</td>\n",
       "      <td>very low income</td>\n",
       "      <td>30</td>\n",
       "      <td>300</td>\n",
       "      <td>1.40</td>\n",
       "      <td>10.00</td>\n",
       "    </tr>\n",
       "    <tr>\n",
       "      <th>42</th>\n",
       "      <td>0</td>\n",
       "      <td>married</td>\n",
       "      <td>education</td>\n",
       "      <td>medium income</td>\n",
       "      <td>32</td>\n",
       "      <td>321</td>\n",
       "      <td>1.50</td>\n",
       "      <td>9.97</td>\n",
       "    </tr>\n",
       "    <tr>\n",
       "      <th>60</th>\n",
       "      <td>0</td>\n",
       "      <td>unmarried</td>\n",
       "      <td>real_estate</td>\n",
       "      <td>high income</td>\n",
       "      <td>26</td>\n",
       "      <td>267</td>\n",
       "      <td>1.24</td>\n",
       "      <td>9.74</td>\n",
       "    </tr>\n",
       "    <tr>\n",
       "      <th>35</th>\n",
       "      <td>0</td>\n",
       "      <td>married</td>\n",
       "      <td>car</td>\n",
       "      <td>high income</td>\n",
       "      <td>29</td>\n",
       "      <td>345</td>\n",
       "      <td>1.61</td>\n",
       "      <td>8.41</td>\n",
       "    </tr>\n",
       "    <tr>\n",
       "      <th>47</th>\n",
       "      <td>0</td>\n",
       "      <td>married</td>\n",
       "      <td>real_estate</td>\n",
       "      <td>medium income</td>\n",
       "      <td>70</td>\n",
       "      <td>855</td>\n",
       "      <td>3.99</td>\n",
       "      <td>8.19</td>\n",
       "    </tr>\n",
       "    <tr>\n",
       "      <th>44</th>\n",
       "      <td>0</td>\n",
       "      <td>married</td>\n",
       "      <td>education</td>\n",
       "      <td>very low income</td>\n",
       "      <td>26</td>\n",
       "      <td>331</td>\n",
       "      <td>1.54</td>\n",
       "      <td>7.85</td>\n",
       "    </tr>\n",
       "    <tr>\n",
       "      <th>16</th>\n",
       "      <td>0</td>\n",
       "      <td>civil partnership</td>\n",
       "      <td>wedding</td>\n",
       "      <td>low income</td>\n",
       "      <td>26</td>\n",
       "      <td>331</td>\n",
       "      <td>1.54</td>\n",
       "      <td>7.85</td>\n",
       "    </tr>\n",
       "    <tr>\n",
       "      <th>63</th>\n",
       "      <td>0</td>\n",
       "      <td>unmarried</td>\n",
       "      <td>real_estate</td>\n",
       "      <td>very high income</td>\n",
       "      <td>20</td>\n",
       "      <td>257</td>\n",
       "      <td>1.20</td>\n",
       "      <td>7.78</td>\n",
       "    </tr>\n",
       "    <tr>\n",
       "      <th>62</th>\n",
       "      <td>0</td>\n",
       "      <td>unmarried</td>\n",
       "      <td>real_estate</td>\n",
       "      <td>medium income</td>\n",
       "      <td>19</td>\n",
       "      <td>248</td>\n",
       "      <td>1.16</td>\n",
       "      <td>7.66</td>\n",
       "    </tr>\n",
       "  </tbody>\n",
       "</table>\n",
       "</div>"
      ],
      "text/plain": [
       "     children      family_status purpose_category   income_category  \\\n",
       "17          0  civil partnership          wedding     medium income   \n",
       "129         1            married      real_estate   very low income   \n",
       "42          0            married        education     medium income   \n",
       "60          0          unmarried      real_estate       high income   \n",
       "35          0            married              car       high income   \n",
       "47          0            married      real_estate     medium income   \n",
       "44          0            married        education   very low income   \n",
       "16          0  civil partnership          wedding        low income   \n",
       "63          0          unmarried      real_estate  very high income   \n",
       "62          0          unmarried      real_estate     medium income   \n",
       "\n",
       "     defaulted_loans  total_loans                share         default_rate  \n",
       "17                32          294                 1.37                10.88  \n",
       "129               30          300                 1.40                10.00  \n",
       "42                32          321                 1.50                 9.97  \n",
       "60                26          267                 1.24                 9.74  \n",
       "35                29          345                 1.61                 8.41  \n",
       "47                70          855                 3.99                 8.19  \n",
       "44                26          331                 1.54                 7.85  \n",
       "16                26          331                 1.54                 7.85  \n",
       "63                20          257                 1.20                 7.78  \n",
       "62                19          248                 1.16                 7.66  "
      ]
     },
     "execution_count": 90,
     "metadata": {},
     "output_type": "execute_result"
    }
   ],
   "source": [
    "# the less reliable combinations of categories, we display only cases with share over 1%\n",
    "data_total_pivot[data_total_pivot['share'] > 1].sort_values(by = 'default_rate', ascending = False).head(10)"
   ]
  },
  {
   "cell_type": "markdown",
   "metadata": {},
   "source": [
    "**Information in the last two tables helps to get an idea of the best and the worst combinations of categories we have been investigating.** *This pivot table would be more credible on larger datasets (with possibly less outliers on combinations of categories).*"
   ]
  },
  {
   "cell_type": "markdown",
   "metadata": {},
   "source": [
    "## 📝 General Conclusions and Recommendations"
   ]
  },
  {
   "cell_type": "markdown",
   "metadata": {},
   "source": [
    "### Data Cleaning Process\n",
    "\n",
    "1. **Identification of Missing Values**\n",
    "   - `days_employed` and `total_income` columns contained significant missing values, impacting 10% of the dataset.\n",
    "   - Investigations showed the missing values in both columns were interconnected, not random.\n",
    "\n",
    "\n",
    "2. **Exploring Missing Values**\n",
    "   - Assumption of missing values due to lack of working experience debunked, as various income types were present.\n",
    "   - No obvious patterns found between missing values and income type/family status.\n",
    "\n",
    "\n",
    "3. **Filling Missing Values**\n",
    "   - Utilized `fillna()` method with `transform()` function to fill missing values, opting for a shorter and more explicit approach.\n",
    "\n",
    "\n",
    "4. **Identification of Other Missing Values**\n",
    "   - Discovered unexpected zeros in `dob_years` column and corrected them.\n",
    "   - Detected and removed 71 duplicates, representing 0.33% of the data.\n",
    "\n",
    "\n",
    "5. **Handling Duplicates**\n",
    "   - Duplicates could be attributed to multiple loan applications or borrowers with identical characteristics.\n",
    "   - Fixed duplicates in `education` column by converting all entries to lowercase.\n",
    "\n",
    "\n",
    "6. **Standardizing 'Purpose' Column**\n",
    "   - Categorized 'purpose' column data using tokenization and lemmatization methods from NLTK Python package.\n",
    "\n",
    "\n",
    "7. **Data Type Conversion**\n",
    "   - Converted several columns to integer type using `astype()` method.\n",
    "\n",
    "\n",
    "8. **Addressing Artifacts**\n",
    "   - Addressed artifacts like negative values in `children` column and unrealistic values in 'days_employed' column.\n",
    "\n",
    "\n",
    "9. **Noting Data Anomalies**\n",
    "   - Identified anomalies indicating potential issues with data logging/gathering."
   ]
  },
  {
   "cell_type": "markdown",
   "metadata": {},
   "source": [
    "### Analysis\n",
    "\n",
    "- **Correlation Analysis**\n",
    "  - Established correlation between parameters (children, marital status, income level, loan purposes) and loan repayment.\n",
    "  - Calculated default rates using the formula: \n",
    "> Default rate (%) = (number of defaulted loans) / (total number of loans) * 100."
   ]
  },
  {
   "cell_type": "markdown",
   "metadata": {},
   "source": [
    "### Conclusions on Hypotheses\n",
    "\n",
    "1. **Is there a correlation between having children and paying back on time?**\n",
    "    - We found **a correlation between having children and paying back on time**. Borrowers without children showed the lowest default rates, while those with higher numbers of children displayed higher default rates. Borrowers with 5 children appeared to be the most reliable, but this group represented a very small portion of the dataset, making it less reliable.\n",
    "\n",
    "\n",
    "\n",
    "2. **Is there a correlation between family status and paying back on time?**\n",
    "    - Our analysis revealed that **widowers were the most reliable borrowers**, while unmarried individuals were the least reliable in terms of loan repayment. These findings were consistent with our expectations based on family stability and financial security.\n",
    "    \n",
    "    \n",
    "\n",
    "\n",
    "3. **Is there a correlation between income level and paying back on time?**\n",
    "    - We observed **a correlation between income level and loan repayment**. Borrowers with higher incomes demonstrated lower default rates, while those with lower incomes showed higher default rates. Interestingly, borrowers with very low incomes displayed a lower default rate compared to those with medium incomes, suggesting potential differences in financial management behavior.\n",
    "    \n",
    "    \n",
    "\n",
    "\n",
    "4. **How does credit purpose affect the default rate?**\n",
    "    - Our analysis indicated that **borrowers taking loans for real estate had the lowest default rates, while those taking loans for cars had the highest default rates**. This finding suggests that the purpose of the loan can impact the borrower's ability to repay."
   ]
  },
  {
   "cell_type": "markdown",
   "metadata": {},
   "source": [
    "### 💡 A valuable insight\n",
    "- **Borrowers without children, high-income earners, widowers, and those seeking real estate loans showed the lowest default rates**. However, **combining these favorable borrower categories did not result in the lowest default rate**, as demonstrated by an additional pivot table analysis."
   ]
  },
  {
   "cell_type": "markdown",
   "metadata": {},
   "source": [
    "### 🎯 Recommendations\n",
    "\n",
    "1. **Tailor Loan Products**: Develop loan products tailored to the needs and characteristics of different borrower segments. For example, consider offering special incentives or flexible terms for borrowers with higher incomes or those who need loans for real estate, as they exhibit lower default rates.\n",
    "\n",
    "2. **Risk-Based Pricing**: Implement risk-based pricing strategies to adjust interest rates or loan terms based on the borrower's risk profile. Higher-risk borrowers, such as those with medium incomes (surprisingly not lower incomes according to our study) or certain family statuses, may be charged higher rates to mitigate potential default risks.\n",
    "\n",
    "3. **Systematic Approach**: Single parameters do not always provide reliable insights when considered separately. Our study shows that even the most favorable borrower categories, when taken together, did not result in the lowest default rate. Thus, it would be worth considering both the most and least reliable combinations of borrower types when tailoring loan products and setting risk-based pricing. The pivot tables presented in the 'Combinations of Categories and Default Rate' part of the project should be handy for this purpose.\n",
    "\n",
    "4. **Financial Education**: Offer financial education programs to borrowers, especially those with higher default rates. Empowering borrowers with financial literacy skills can improve their ability to manage debt responsibly and reduce the likelihood of default. This extra effort may pay off in a highly competitive market where each new client matters.\n",
    "\n",
    "5. **Continuous Monitoring**: Implement robust monitoring systems to track borrower performance over time and identify early warning signs of default. Regularly review loan portfolios and adjust risk management strategies accordingly to minimize credit losses. Machine learning techniques should be handy for this purpose.\n",
    "\n",
    "By implementing these recommendations, the bank’s loan division can enhance its credit risk management practices and make more informed lending decisions, ultimately reducing default rates and improving overall portfolio performance.\n",
    "\n"
   ]
  }
 ],
 "metadata": {
  "ExecuteTimeLog": [
   {
    "duration": 2741,
    "start_time": "2021-10-21T01:08:49.480Z"
   },
   {
    "duration": 52,
    "start_time": "2021-10-21T01:08:53.315Z"
   },
   {
    "duration": 49,
    "start_time": "2021-10-21T01:08:57.432Z"
   },
   {
    "duration": 70,
    "start_time": "2021-10-21T01:09:07.706Z"
   },
   {
    "duration": 76,
    "start_time": "2022-08-28T13:40:07.089Z"
   },
   {
    "duration": 72,
    "start_time": "2022-08-28T13:40:07.785Z"
   },
   {
    "duration": 460,
    "start_time": "2022-08-28T13:40:21.132Z"
   },
   {
    "duration": 8,
    "start_time": "2022-08-28T13:41:23.929Z"
   },
   {
    "duration": 8,
    "start_time": "2022-08-28T13:41:29.848Z"
   },
   {
    "duration": 8,
    "start_time": "2022-08-28T13:41:48.530Z"
   },
   {
    "duration": 171,
    "start_time": "2022-08-28T13:43:04.592Z"
   },
   {
    "duration": 7,
    "start_time": "2022-08-28T13:43:42.844Z"
   },
   {
    "duration": 87,
    "start_time": "2022-08-28T13:48:03.139Z"
   },
   {
    "duration": 61,
    "start_time": "2022-08-28T13:50:47.130Z"
   },
   {
    "duration": 17,
    "start_time": "2022-08-28T13:50:50.938Z"
   },
   {
    "duration": 26,
    "start_time": "2022-08-28T13:51:46.841Z"
   },
   {
    "duration": 5,
    "start_time": "2022-08-28T13:52:16.904Z"
   },
   {
    "duration": 4,
    "start_time": "2022-08-28T13:52:21.051Z"
   },
   {
    "duration": 48,
    "start_time": "2022-08-28T13:52:25.330Z"
   },
   {
    "duration": 14,
    "start_time": "2022-08-28T13:53:01.083Z"
   },
   {
    "duration": 12,
    "start_time": "2022-08-28T13:55:58.298Z"
   },
   {
    "duration": 14,
    "start_time": "2022-08-28T13:57:05.782Z"
   },
   {
    "duration": 13,
    "start_time": "2022-08-28T13:57:18.733Z"
   },
   {
    "duration": 15,
    "start_time": "2022-08-28T14:04:13.206Z"
   },
   {
    "duration": 13,
    "start_time": "2022-08-28T14:08:11.688Z"
   },
   {
    "duration": 8,
    "start_time": "2022-08-28T14:08:22.033Z"
   },
   {
    "duration": 9,
    "start_time": "2022-08-28T14:10:10.634Z"
   },
   {
    "duration": 10,
    "start_time": "2022-08-28T14:10:23.080Z"
   },
   {
    "duration": 11,
    "start_time": "2022-08-28T14:10:41.990Z"
   },
   {
    "duration": 10,
    "start_time": "2022-08-28T14:10:52.739Z"
   },
   {
    "duration": 23,
    "start_time": "2022-08-28T14:12:19.285Z"
   },
   {
    "duration": 70,
    "start_time": "2022-08-28T14:14:41.089Z"
   },
   {
    "duration": 18,
    "start_time": "2022-08-28T14:15:56.740Z"
   },
   {
    "duration": 25,
    "start_time": "2022-08-28T14:16:05.679Z"
   },
   {
    "duration": 17,
    "start_time": "2022-08-28T14:16:29.835Z"
   },
   {
    "duration": 16,
    "start_time": "2022-08-28T14:20:36.621Z"
   },
   {
    "duration": 16,
    "start_time": "2022-08-28T14:20:43.244Z"
   },
   {
    "duration": 78,
    "start_time": "2022-08-28T14:23:45.401Z"
   },
   {
    "duration": 36,
    "start_time": "2022-08-28T14:24:06.790Z"
   },
   {
    "duration": 75,
    "start_time": "2022-08-28T14:25:35.910Z"
   },
   {
    "duration": 35,
    "start_time": "2022-08-28T14:25:54.841Z"
   },
   {
    "duration": 32,
    "start_time": "2022-08-28T14:26:07.895Z"
   },
   {
    "duration": 42,
    "start_time": "2022-08-28T14:26:15.061Z"
   },
   {
    "duration": 15,
    "start_time": "2022-08-28T14:43:51.908Z"
   },
   {
    "duration": 50,
    "start_time": "2022-08-28T14:44:18.943Z"
   },
   {
    "duration": 58,
    "start_time": "2022-08-28T14:44:42.415Z"
   },
   {
    "duration": 39,
    "start_time": "2022-08-28T14:45:18.425Z"
   },
   {
    "duration": 39,
    "start_time": "2022-08-28T14:45:30.539Z"
   },
   {
    "duration": 61,
    "start_time": "2022-08-28T14:45:38.981Z"
   },
   {
    "duration": 50,
    "start_time": "2022-08-28T14:46:06.668Z"
   },
   {
    "duration": 45,
    "start_time": "2022-08-28T14:47:01.555Z"
   },
   {
    "duration": 26,
    "start_time": "2022-08-28T14:49:53.626Z"
   },
   {
    "duration": 27,
    "start_time": "2022-08-28T14:50:25.184Z"
   },
   {
    "duration": 26,
    "start_time": "2022-08-28T14:50:37.992Z"
   },
   {
    "duration": 58,
    "start_time": "2022-08-28T14:50:59.535Z"
   },
   {
    "duration": 40,
    "start_time": "2022-08-28T14:51:07.960Z"
   },
   {
    "duration": 44,
    "start_time": "2022-08-28T14:51:48.418Z"
   },
   {
    "duration": 38,
    "start_time": "2022-08-28T14:52:21.933Z"
   },
   {
    "duration": 105,
    "start_time": "2022-08-28T14:53:04.515Z"
   },
   {
    "duration": 69,
    "start_time": "2022-08-28T14:53:24.399Z"
   },
   {
    "duration": 84,
    "start_time": "2022-08-28T14:53:29.052Z"
   },
   {
    "duration": 38,
    "start_time": "2022-08-28T14:53:42.065Z"
   },
   {
    "duration": 47,
    "start_time": "2022-08-28T14:54:22.497Z"
   },
   {
    "duration": 15,
    "start_time": "2022-08-28T15:08:25.240Z"
   },
   {
    "duration": 16,
    "start_time": "2022-08-28T15:08:28.355Z"
   },
   {
    "duration": 50,
    "start_time": "2022-08-28T15:08:36.119Z"
   },
   {
    "duration": 8,
    "start_time": "2022-08-28T15:14:08.439Z"
   },
   {
    "duration": 40,
    "start_time": "2022-08-28T15:14:54.393Z"
   },
   {
    "duration": 5,
    "start_time": "2022-08-28T15:16:13.652Z"
   },
   {
    "duration": 5,
    "start_time": "2022-08-28T15:20:25.920Z"
   },
   {
    "duration": 10,
    "start_time": "2022-08-28T15:20:38.363Z"
   },
   {
    "duration": 46,
    "start_time": "2022-08-29T16:32:23.627Z"
   },
   {
    "duration": 7,
    "start_time": "2022-08-29T16:32:44.704Z"
   },
   {
    "duration": 601,
    "start_time": "2022-08-29T16:32:56.968Z"
   },
   {
    "duration": 54,
    "start_time": "2022-08-29T16:32:59.080Z"
   },
   {
    "duration": 31,
    "start_time": "2022-08-29T16:32:59.858Z"
   },
   {
    "duration": 52,
    "start_time": "2022-08-29T16:33:00.500Z"
   },
   {
    "duration": 54,
    "start_time": "2022-08-29T16:33:09.674Z"
   },
   {
    "duration": 15,
    "start_time": "2022-08-29T16:33:09.730Z"
   },
   {
    "duration": 25,
    "start_time": "2022-08-29T16:33:09.746Z"
   },
   {
    "duration": 38,
    "start_time": "2022-08-29T16:33:09.773Z"
   },
   {
    "duration": 8,
    "start_time": "2022-08-29T16:33:09.813Z"
   },
   {
    "duration": 97,
    "start_time": "2022-08-29T16:33:09.822Z"
   },
   {
    "duration": 0,
    "start_time": "2022-08-29T16:33:09.920Z"
   },
   {
    "duration": 0,
    "start_time": "2022-08-29T16:33:09.921Z"
   },
   {
    "duration": 0,
    "start_time": "2022-08-29T16:33:09.922Z"
   },
   {
    "duration": 0,
    "start_time": "2022-08-29T16:33:09.923Z"
   },
   {
    "duration": 2,
    "start_time": "2022-08-29T16:33:09.952Z"
   },
   {
    "duration": 5,
    "start_time": "2022-08-29T16:33:09.955Z"
   },
   {
    "duration": 4,
    "start_time": "2022-08-29T16:33:09.961Z"
   },
   {
    "duration": 3,
    "start_time": "2022-08-29T16:33:09.967Z"
   },
   {
    "duration": 5,
    "start_time": "2022-08-29T16:33:09.971Z"
   },
   {
    "duration": 3,
    "start_time": "2022-08-29T16:33:09.978Z"
   },
   {
    "duration": 5,
    "start_time": "2022-08-29T16:33:09.983Z"
   },
   {
    "duration": 7,
    "start_time": "2022-08-29T16:33:09.989Z"
   },
   {
    "duration": 2,
    "start_time": "2022-08-29T16:33:10.080Z"
   },
   {
    "duration": 5,
    "start_time": "2022-08-29T16:33:10.083Z"
   },
   {
    "duration": 4,
    "start_time": "2022-08-29T16:33:10.090Z"
   },
   {
    "duration": 6,
    "start_time": "2022-08-29T16:33:10.096Z"
   },
   {
    "duration": 6,
    "start_time": "2022-08-29T16:33:10.103Z"
   },
   {
    "duration": 4,
    "start_time": "2022-08-29T16:33:10.111Z"
   },
   {
    "duration": 5,
    "start_time": "2022-08-29T16:33:10.116Z"
   },
   {
    "duration": 3,
    "start_time": "2022-08-29T16:33:10.123Z"
   },
   {
    "duration": 4,
    "start_time": "2022-08-29T16:33:10.128Z"
   },
   {
    "duration": 4,
    "start_time": "2022-08-29T16:33:10.134Z"
   },
   {
    "duration": 2,
    "start_time": "2022-08-29T16:33:10.204Z"
   },
   {
    "duration": 7,
    "start_time": "2022-08-29T16:33:10.208Z"
   },
   {
    "duration": 5,
    "start_time": "2022-08-29T16:33:10.216Z"
   },
   {
    "duration": 8,
    "start_time": "2022-08-29T16:33:10.223Z"
   },
   {
    "duration": 6,
    "start_time": "2022-08-29T16:33:10.232Z"
   },
   {
    "duration": 6,
    "start_time": "2022-08-29T16:33:10.239Z"
   },
   {
    "duration": 4,
    "start_time": "2022-08-29T16:33:10.247Z"
   },
   {
    "duration": 5,
    "start_time": "2022-08-29T16:33:10.253Z"
   },
   {
    "duration": 4,
    "start_time": "2022-08-29T16:33:10.260Z"
   },
   {
    "duration": 4,
    "start_time": "2022-08-29T16:33:10.266Z"
   },
   {
    "duration": 9,
    "start_time": "2022-08-29T16:33:10.272Z"
   },
   {
    "duration": 2,
    "start_time": "2022-08-29T16:33:10.376Z"
   },
   {
    "duration": 4,
    "start_time": "2022-08-29T16:33:10.380Z"
   },
   {
    "duration": 5,
    "start_time": "2022-08-29T16:33:10.385Z"
   },
   {
    "duration": 5,
    "start_time": "2022-08-29T16:33:10.391Z"
   },
   {
    "duration": 5,
    "start_time": "2022-08-29T16:33:10.397Z"
   },
   {
    "duration": 4,
    "start_time": "2022-08-29T16:33:10.403Z"
   },
   {
    "duration": 4,
    "start_time": "2022-08-29T16:33:10.409Z"
   },
   {
    "duration": 4,
    "start_time": "2022-08-29T16:33:10.414Z"
   },
   {
    "duration": 6,
    "start_time": "2022-08-29T16:33:10.420Z"
   },
   {
    "duration": 4,
    "start_time": "2022-08-29T16:33:10.427Z"
   },
   {
    "duration": 5,
    "start_time": "2022-08-29T16:33:10.433Z"
   },
   {
    "duration": 5,
    "start_time": "2022-08-29T16:33:10.439Z"
   },
   {
    "duration": 6,
    "start_time": "2022-08-29T16:33:10.445Z"
   },
   {
    "duration": 2,
    "start_time": "2022-08-29T16:33:10.527Z"
   },
   {
    "duration": 5,
    "start_time": "2022-08-29T16:33:10.531Z"
   },
   {
    "duration": 5,
    "start_time": "2022-08-29T16:33:10.537Z"
   },
   {
    "duration": 5,
    "start_time": "2022-08-29T16:33:10.543Z"
   },
   {
    "duration": 4,
    "start_time": "2022-08-29T16:33:10.550Z"
   },
   {
    "duration": 5,
    "start_time": "2022-08-29T16:33:10.555Z"
   },
   {
    "duration": 5,
    "start_time": "2022-08-29T16:33:10.562Z"
   },
   {
    "duration": 9,
    "start_time": "2022-08-29T16:33:10.568Z"
   },
   {
    "duration": 5,
    "start_time": "2022-08-29T16:33:10.578Z"
   },
   {
    "duration": 7,
    "start_time": "2022-08-29T16:33:10.584Z"
   },
   {
    "duration": 6,
    "start_time": "2022-08-29T16:33:10.592Z"
   },
   {
    "duration": 7,
    "start_time": "2022-08-29T16:33:10.600Z"
   },
   {
    "duration": 7,
    "start_time": "2022-08-29T16:33:10.609Z"
   },
   {
    "duration": 3,
    "start_time": "2022-08-29T16:33:10.618Z"
   },
   {
    "duration": 8,
    "start_time": "2022-08-29T16:33:10.623Z"
   },
   {
    "duration": 2,
    "start_time": "2022-08-29T16:33:10.658Z"
   },
   {
    "duration": 4,
    "start_time": "2022-08-29T16:33:10.662Z"
   },
   {
    "duration": 5,
    "start_time": "2022-08-29T16:33:10.667Z"
   },
   {
    "duration": 5,
    "start_time": "2022-08-29T16:33:10.673Z"
   },
   {
    "duration": 38,
    "start_time": "2022-08-29T16:33:41.619Z"
   },
   {
    "duration": 39,
    "start_time": "2022-08-29T16:35:41.248Z"
   },
   {
    "duration": 43,
    "start_time": "2022-08-29T16:36:00.771Z"
   },
   {
    "duration": 7,
    "start_time": "2022-08-29T16:36:56.627Z"
   },
   {
    "duration": 8,
    "start_time": "2022-08-29T16:38:15.364Z"
   },
   {
    "duration": 9,
    "start_time": "2022-08-29T16:38:16.982Z"
   },
   {
    "duration": 9,
    "start_time": "2022-08-29T16:38:26.074Z"
   },
   {
    "duration": 6,
    "start_time": "2022-08-29T16:49:11.345Z"
   },
   {
    "duration": 5,
    "start_time": "2022-08-29T16:49:23.959Z"
   },
   {
    "duration": 38,
    "start_time": "2022-08-29T16:49:50.214Z"
   },
   {
    "duration": 4,
    "start_time": "2022-08-29T16:50:02.889Z"
   },
   {
    "duration": 0,
    "start_time": "2022-08-29T16:50:24.631Z"
   },
   {
    "duration": 1554,
    "start_time": "2022-08-29T16:50:25.396Z"
   },
   {
    "duration": 18,
    "start_time": "2022-08-29T16:50:39.299Z"
   },
   {
    "duration": 21,
    "start_time": "2022-08-29T16:53:42.520Z"
   },
   {
    "duration": 24,
    "start_time": "2022-08-29T17:00:29.533Z"
   },
   {
    "duration": 123,
    "start_time": "2022-08-29T17:06:58.879Z"
   },
   {
    "duration": 24,
    "start_time": "2022-08-29T17:07:06.704Z"
   },
   {
    "duration": 20,
    "start_time": "2022-08-29T17:07:22.686Z"
   },
   {
    "duration": 7,
    "start_time": "2022-08-29T17:09:32.654Z"
   },
   {
    "duration": 20,
    "start_time": "2022-08-29T17:09:55.766Z"
   },
   {
    "duration": 0,
    "start_time": "2022-08-29T17:10:41.536Z"
   },
   {
    "duration": 1856,
    "start_time": "2022-08-29T17:10:45.383Z"
   },
   {
    "duration": 4,
    "start_time": "2022-08-29T17:10:57.466Z"
   },
   {
    "duration": 13,
    "start_time": "2022-08-29T17:12:36.707Z"
   },
   {
    "duration": 61,
    "start_time": "2022-08-29T17:14:50.389Z"
   },
   {
    "duration": 43,
    "start_time": "2022-08-29T17:17:19.881Z"
   },
   {
    "duration": 23,
    "start_time": "2022-08-29T17:22:33.400Z"
   },
   {
    "duration": 4,
    "start_time": "2022-08-29T17:23:52.408Z"
   },
   {
    "duration": 1905,
    "start_time": "2022-08-29T17:25:39.474Z"
   },
   {
    "duration": 0,
    "start_time": "2022-08-29T17:29:25.702Z"
   },
   {
    "duration": 18,
    "start_time": "2022-08-29T17:29:43.556Z"
   },
   {
    "duration": 30,
    "start_time": "2022-08-29T17:30:21.559Z"
   },
   {
    "duration": 6,
    "start_time": "2022-08-29T17:30:56.878Z"
   },
   {
    "duration": 5,
    "start_time": "2022-08-29T17:31:18.898Z"
   },
   {
    "duration": 5,
    "start_time": "2022-08-29T17:31:34.190Z"
   },
   {
    "duration": 4,
    "start_time": "2022-08-29T17:35:25.498Z"
   },
   {
    "duration": 7,
    "start_time": "2022-08-29T17:35:31.948Z"
   },
   {
    "duration": 35,
    "start_time": "2022-08-29T17:37:01.290Z"
   },
   {
    "duration": 19,
    "start_time": "2022-08-29T17:37:42.746Z"
   },
   {
    "duration": 7,
    "start_time": "2022-08-29T17:39:28.298Z"
   },
   {
    "duration": 4,
    "start_time": "2022-08-29T17:42:23.308Z"
   },
   {
    "duration": 13,
    "start_time": "2022-08-29T17:42:40.798Z"
   },
   {
    "duration": 17,
    "start_time": "2022-08-29T17:44:19.508Z"
   },
   {
    "duration": 14,
    "start_time": "2022-08-29T18:23:08.121Z"
   },
   {
    "duration": 13,
    "start_time": "2022-08-29T18:23:24.840Z"
   },
   {
    "duration": 13,
    "start_time": "2022-08-29T18:23:45.381Z"
   },
   {
    "duration": 14,
    "start_time": "2022-08-29T18:25:29.872Z"
   },
   {
    "duration": 5,
    "start_time": "2022-08-29T18:26:13.832Z"
   },
   {
    "duration": 17,
    "start_time": "2022-08-29T18:26:37.319Z"
   },
   {
    "duration": 14,
    "start_time": "2022-08-29T18:26:42.102Z"
   },
   {
    "duration": 17,
    "start_time": "2022-08-29T18:27:34.197Z"
   },
   {
    "duration": 18,
    "start_time": "2022-08-29T18:28:05.293Z"
   },
   {
    "duration": 15,
    "start_time": "2022-08-29T18:28:16.851Z"
   },
   {
    "duration": 14,
    "start_time": "2022-08-29T18:28:32.932Z"
   },
   {
    "duration": 19,
    "start_time": "2022-08-29T18:29:38.612Z"
   },
   {
    "duration": 16,
    "start_time": "2022-08-29T18:38:52.891Z"
   },
   {
    "duration": 18,
    "start_time": "2022-08-29T18:40:26.360Z"
   },
   {
    "duration": 5,
    "start_time": "2022-08-29T18:40:46.321Z"
   },
   {
    "duration": 6,
    "start_time": "2022-08-29T18:41:09.950Z"
   },
   {
    "duration": 7,
    "start_time": "2022-08-29T18:45:04.331Z"
   },
   {
    "duration": 4,
    "start_time": "2022-08-29T18:45:13.831Z"
   },
   {
    "duration": 6,
    "start_time": "2022-08-29T18:46:09.679Z"
   },
   {
    "duration": 104,
    "start_time": "2022-08-29T18:49:32.591Z"
   },
   {
    "duration": 116,
    "start_time": "2022-08-29T18:49:40.710Z"
   },
   {
    "duration": 114,
    "start_time": "2022-08-29T18:49:45.886Z"
   },
   {
    "duration": 138,
    "start_time": "2022-08-29T18:50:09.802Z"
   },
   {
    "duration": 143,
    "start_time": "2022-08-29T18:50:23.121Z"
   },
   {
    "duration": 143,
    "start_time": "2022-08-29T18:50:48.852Z"
   },
   {
    "duration": 105,
    "start_time": "2022-08-29T18:51:09.492Z"
   },
   {
    "duration": 3,
    "start_time": "2022-08-29T18:51:15.873Z"
   },
   {
    "duration": 3,
    "start_time": "2022-08-29T18:51:21.681Z"
   },
   {
    "duration": 2,
    "start_time": "2022-08-29T18:51:23.121Z"
   },
   {
    "duration": 3,
    "start_time": "2022-08-29T18:51:24.221Z"
   },
   {
    "duration": 3,
    "start_time": "2022-08-29T18:51:29.099Z"
   },
   {
    "duration": 5,
    "start_time": "2022-08-29T18:51:55.519Z"
   },
   {
    "duration": 1674,
    "start_time": "2022-08-29T18:52:16.837Z"
   },
   {
    "duration": 1915,
    "start_time": "2022-08-29T18:52:20.848Z"
   },
   {
    "duration": 4,
    "start_time": "2022-08-29T18:52:58.670Z"
   },
   {
    "duration": 1662,
    "start_time": "2022-08-29T18:53:02.510Z"
   },
   {
    "duration": 1683,
    "start_time": "2022-08-29T18:53:31.951Z"
   },
   {
    "duration": 4,
    "start_time": "2022-08-29T18:53:39.509Z"
   },
   {
    "duration": 5,
    "start_time": "2022-08-29T18:54:27.841Z"
   },
   {
    "duration": 5,
    "start_time": "2022-08-29T18:54:54.841Z"
   },
   {
    "duration": 101,
    "start_time": "2022-08-29T18:57:33.601Z"
   },
   {
    "duration": 103,
    "start_time": "2022-08-29T18:57:47.171Z"
   },
   {
    "duration": 5,
    "start_time": "2022-08-29T18:57:56.988Z"
   },
   {
    "duration": 6,
    "start_time": "2022-08-29T18:58:50.866Z"
   },
   {
    "duration": 7,
    "start_time": "2022-08-29T18:59:19.911Z"
   },
   {
    "duration": 5,
    "start_time": "2022-08-29T18:59:54.418Z"
   },
   {
    "duration": 10,
    "start_time": "2022-08-29T19:01:56.951Z"
   },
   {
    "duration": 13,
    "start_time": "2022-08-29T19:02:37.000Z"
   },
   {
    "duration": 26,
    "start_time": "2022-08-29T19:44:05.643Z"
   },
   {
    "duration": 9,
    "start_time": "2022-08-29T19:44:30.482Z"
   },
   {
    "duration": 4,
    "start_time": "2022-08-29T19:49:08.470Z"
   },
   {
    "duration": 70,
    "start_time": "2022-08-29T19:51:18.943Z"
   },
   {
    "duration": 43,
    "start_time": "2022-08-29T19:51:19.015Z"
   },
   {
    "duration": 18,
    "start_time": "2022-08-29T19:51:19.060Z"
   },
   {
    "duration": 25,
    "start_time": "2022-08-29T19:51:19.080Z"
   },
   {
    "duration": 20,
    "start_time": "2022-08-29T19:51:19.107Z"
   },
   {
    "duration": 48,
    "start_time": "2022-08-29T19:51:19.129Z"
   },
   {
    "duration": 27,
    "start_time": "2022-08-29T19:51:19.179Z"
   },
   {
    "duration": 64,
    "start_time": "2022-08-29T19:51:19.208Z"
   },
   {
    "duration": 33,
    "start_time": "2022-08-29T19:51:19.274Z"
   },
   {
    "duration": 9,
    "start_time": "2022-08-29T19:51:19.308Z"
   },
   {
    "duration": 119,
    "start_time": "2022-08-29T19:51:19.319Z"
   },
   {
    "duration": 0,
    "start_time": "2022-08-29T19:51:19.440Z"
   },
   {
    "duration": 0,
    "start_time": "2022-08-29T19:51:19.442Z"
   },
   {
    "duration": 0,
    "start_time": "2022-08-29T19:51:19.443Z"
   },
   {
    "duration": 0,
    "start_time": "2022-08-29T19:51:19.444Z"
   },
   {
    "duration": 0,
    "start_time": "2022-08-29T19:51:19.445Z"
   },
   {
    "duration": 0,
    "start_time": "2022-08-29T19:51:19.445Z"
   },
   {
    "duration": 0,
    "start_time": "2022-08-29T19:51:19.446Z"
   },
   {
    "duration": 0,
    "start_time": "2022-08-29T19:51:19.447Z"
   },
   {
    "duration": 0,
    "start_time": "2022-08-29T19:51:19.448Z"
   },
   {
    "duration": 0,
    "start_time": "2022-08-29T19:51:19.449Z"
   },
   {
    "duration": 0,
    "start_time": "2022-08-29T19:51:19.450Z"
   },
   {
    "duration": 0,
    "start_time": "2022-08-29T19:51:19.451Z"
   },
   {
    "duration": 0,
    "start_time": "2022-08-29T19:51:19.452Z"
   },
   {
    "duration": 0,
    "start_time": "2022-08-29T19:51:19.453Z"
   },
   {
    "duration": 0,
    "start_time": "2022-08-29T19:51:19.454Z"
   },
   {
    "duration": 0,
    "start_time": "2022-08-29T19:51:19.455Z"
   },
   {
    "duration": 0,
    "start_time": "2022-08-29T19:51:19.456Z"
   },
   {
    "duration": 0,
    "start_time": "2022-08-29T19:51:19.457Z"
   },
   {
    "duration": 0,
    "start_time": "2022-08-29T19:51:19.457Z"
   },
   {
    "duration": 0,
    "start_time": "2022-08-29T19:51:19.458Z"
   },
   {
    "duration": 0,
    "start_time": "2022-08-29T19:51:19.459Z"
   },
   {
    "duration": 0,
    "start_time": "2022-08-29T19:51:19.461Z"
   },
   {
    "duration": 0,
    "start_time": "2022-08-29T19:51:19.466Z"
   },
   {
    "duration": 0,
    "start_time": "2022-08-29T19:51:19.467Z"
   },
   {
    "duration": 0,
    "start_time": "2022-08-29T19:51:19.468Z"
   },
   {
    "duration": 0,
    "start_time": "2022-08-29T19:51:19.469Z"
   },
   {
    "duration": 0,
    "start_time": "2022-08-29T19:51:19.470Z"
   },
   {
    "duration": 0,
    "start_time": "2022-08-29T19:51:19.471Z"
   },
   {
    "duration": 0,
    "start_time": "2022-08-29T19:51:19.473Z"
   },
   {
    "duration": 0,
    "start_time": "2022-08-29T19:51:19.473Z"
   },
   {
    "duration": 0,
    "start_time": "2022-08-29T19:51:19.475Z"
   },
   {
    "duration": 0,
    "start_time": "2022-08-29T19:51:19.475Z"
   },
   {
    "duration": 0,
    "start_time": "2022-08-29T19:51:19.476Z"
   },
   {
    "duration": 0,
    "start_time": "2022-08-29T19:51:19.477Z"
   },
   {
    "duration": 0,
    "start_time": "2022-08-29T19:51:19.478Z"
   },
   {
    "duration": 0,
    "start_time": "2022-08-29T19:51:19.479Z"
   },
   {
    "duration": 0,
    "start_time": "2022-08-29T19:51:19.480Z"
   },
   {
    "duration": 0,
    "start_time": "2022-08-29T19:51:19.481Z"
   },
   {
    "duration": 0,
    "start_time": "2022-08-29T19:51:19.483Z"
   },
   {
    "duration": 0,
    "start_time": "2022-08-29T19:51:19.484Z"
   },
   {
    "duration": 0,
    "start_time": "2022-08-29T19:51:19.485Z"
   },
   {
    "duration": 0,
    "start_time": "2022-08-29T19:51:19.486Z"
   },
   {
    "duration": 0,
    "start_time": "2022-08-29T19:51:19.488Z"
   },
   {
    "duration": 0,
    "start_time": "2022-08-29T19:51:19.489Z"
   },
   {
    "duration": 0,
    "start_time": "2022-08-29T19:51:19.490Z"
   },
   {
    "duration": 0,
    "start_time": "2022-08-29T19:51:19.492Z"
   },
   {
    "duration": 0,
    "start_time": "2022-08-29T19:51:19.493Z"
   },
   {
    "duration": 0,
    "start_time": "2022-08-29T19:51:19.494Z"
   },
   {
    "duration": 0,
    "start_time": "2022-08-29T19:51:19.495Z"
   },
   {
    "duration": 0,
    "start_time": "2022-08-29T19:51:19.497Z"
   },
   {
    "duration": 0,
    "start_time": "2022-08-29T19:51:19.498Z"
   },
   {
    "duration": 0,
    "start_time": "2022-08-29T19:51:19.499Z"
   },
   {
    "duration": 0,
    "start_time": "2022-08-29T19:51:19.556Z"
   },
   {
    "duration": 0,
    "start_time": "2022-08-29T19:51:19.557Z"
   },
   {
    "duration": 0,
    "start_time": "2022-08-29T19:51:19.558Z"
   },
   {
    "duration": 0,
    "start_time": "2022-08-29T19:51:19.559Z"
   },
   {
    "duration": 0,
    "start_time": "2022-08-29T19:51:19.563Z"
   },
   {
    "duration": 0,
    "start_time": "2022-08-29T19:51:19.568Z"
   },
   {
    "duration": 0,
    "start_time": "2022-08-29T19:51:19.568Z"
   },
   {
    "duration": 0,
    "start_time": "2022-08-29T19:51:19.569Z"
   },
   {
    "duration": 0,
    "start_time": "2022-08-29T19:51:19.570Z"
   },
   {
    "duration": 0,
    "start_time": "2022-08-29T19:51:19.570Z"
   },
   {
    "duration": 18,
    "start_time": "2022-08-29T19:52:07.369Z"
   },
   {
    "duration": 12,
    "start_time": "2022-08-29T20:13:57.320Z"
   },
   {
    "duration": 4,
    "start_time": "2022-08-29T20:14:23.724Z"
   },
   {
    "duration": 15,
    "start_time": "2022-08-29T20:19:13.484Z"
   },
   {
    "duration": 20,
    "start_time": "2022-08-29T20:19:43.654Z"
   },
   {
    "duration": 7,
    "start_time": "2022-08-30T11:28:13.689Z"
   },
   {
    "duration": 41,
    "start_time": "2022-08-30T11:28:24.228Z"
   },
   {
    "duration": 608,
    "start_time": "2022-08-30T11:28:29.788Z"
   },
   {
    "duration": 37,
    "start_time": "2022-08-30T11:28:30.398Z"
   },
   {
    "duration": 18,
    "start_time": "2022-08-30T11:28:30.437Z"
   },
   {
    "duration": 34,
    "start_time": "2022-08-30T11:28:30.457Z"
   },
   {
    "duration": 23,
    "start_time": "2022-08-30T11:28:30.492Z"
   },
   {
    "duration": 18,
    "start_time": "2022-08-30T11:28:30.516Z"
   },
   {
    "duration": 8,
    "start_time": "2022-08-30T11:28:30.535Z"
   },
   {
    "duration": 46,
    "start_time": "2022-08-30T11:28:30.544Z"
   },
   {
    "duration": 37,
    "start_time": "2022-08-30T11:28:30.592Z"
   },
   {
    "duration": 68,
    "start_time": "2022-08-30T11:28:30.632Z"
   },
   {
    "duration": 14,
    "start_time": "2022-08-30T11:28:30.702Z"
   },
   {
    "duration": 42,
    "start_time": "2022-08-30T11:28:30.717Z"
   },
   {
    "duration": 26,
    "start_time": "2022-08-30T11:28:30.761Z"
   },
   {
    "duration": 17,
    "start_time": "2022-08-30T11:28:30.789Z"
   },
   {
    "duration": 14,
    "start_time": "2022-08-30T11:28:30.808Z"
   },
   {
    "duration": 29,
    "start_time": "2022-08-30T11:28:30.823Z"
   },
   {
    "duration": 15,
    "start_time": "2022-08-30T11:28:30.854Z"
   },
   {
    "duration": 21,
    "start_time": "2022-08-30T11:28:30.871Z"
   },
   {
    "duration": 36,
    "start_time": "2022-08-30T11:28:30.893Z"
   },
   {
    "duration": 22,
    "start_time": "2022-08-30T11:28:30.930Z"
   },
   {
    "duration": 29,
    "start_time": "2022-08-30T11:28:30.954Z"
   },
   {
    "duration": 10,
    "start_time": "2022-08-30T11:28:30.984Z"
   },
   {
    "duration": 8,
    "start_time": "2022-08-30T11:28:30.995Z"
   },
   {
    "duration": 14,
    "start_time": "2022-08-30T11:28:31.005Z"
   },
   {
    "duration": 24,
    "start_time": "2022-08-30T11:28:31.021Z"
   },
   {
    "duration": 22,
    "start_time": "2022-08-30T11:28:31.046Z"
   },
   {
    "duration": 32,
    "start_time": "2022-08-30T11:28:31.070Z"
   },
   {
    "duration": 3,
    "start_time": "2022-08-30T11:28:31.105Z"
   },
   {
    "duration": 12,
    "start_time": "2022-08-30T11:28:31.110Z"
   },
   {
    "duration": 13,
    "start_time": "2022-08-30T11:28:31.123Z"
   },
   {
    "duration": 7,
    "start_time": "2022-08-30T11:28:31.137Z"
   },
   {
    "duration": 17,
    "start_time": "2022-08-30T11:28:31.145Z"
   },
   {
    "duration": 22,
    "start_time": "2022-08-30T11:28:31.163Z"
   },
   {
    "duration": 25,
    "start_time": "2022-08-30T11:28:31.187Z"
   },
   {
    "duration": 18,
    "start_time": "2022-08-30T11:28:31.214Z"
   },
   {
    "duration": 14,
    "start_time": "2022-08-30T11:28:31.234Z"
   },
   {
    "duration": 14,
    "start_time": "2022-08-30T11:28:31.249Z"
   },
   {
    "duration": 22,
    "start_time": "2022-08-30T11:28:31.264Z"
   },
   {
    "duration": 7,
    "start_time": "2022-08-30T11:28:31.287Z"
   },
   {
    "duration": 11,
    "start_time": "2022-08-30T11:28:31.295Z"
   },
   {
    "duration": 8,
    "start_time": "2022-08-30T11:28:31.307Z"
   },
   {
    "duration": 9,
    "start_time": "2022-08-30T11:28:31.316Z"
   },
   {
    "duration": 7,
    "start_time": "2022-08-30T11:28:31.327Z"
   },
   {
    "duration": 6,
    "start_time": "2022-08-30T11:28:31.335Z"
   },
   {
    "duration": 4,
    "start_time": "2022-08-30T11:28:31.343Z"
   },
   {
    "duration": 4,
    "start_time": "2022-08-30T11:28:31.348Z"
   },
   {
    "duration": 8,
    "start_time": "2022-08-30T11:28:31.354Z"
   },
   {
    "duration": 10,
    "start_time": "2022-08-30T11:28:31.364Z"
   },
   {
    "duration": 7,
    "start_time": "2022-08-30T11:28:31.375Z"
   },
   {
    "duration": 4,
    "start_time": "2022-08-30T11:28:31.384Z"
   },
   {
    "duration": 17,
    "start_time": "2022-08-30T11:28:31.389Z"
   },
   {
    "duration": 7,
    "start_time": "2022-08-30T11:28:31.407Z"
   },
   {
    "duration": 6,
    "start_time": "2022-08-30T11:28:31.416Z"
   },
   {
    "duration": 7,
    "start_time": "2022-08-30T11:28:31.423Z"
   },
   {
    "duration": 10,
    "start_time": "2022-08-30T11:28:31.431Z"
   },
   {
    "duration": 8,
    "start_time": "2022-08-30T11:28:31.442Z"
   },
   {
    "duration": 19,
    "start_time": "2022-08-30T11:28:31.452Z"
   },
   {
    "duration": 8,
    "start_time": "2022-08-30T11:28:31.472Z"
   },
   {
    "duration": 7,
    "start_time": "2022-08-30T11:28:31.482Z"
   },
   {
    "duration": 8,
    "start_time": "2022-08-30T11:28:31.490Z"
   },
   {
    "duration": 18,
    "start_time": "2022-08-30T11:28:31.499Z"
   },
   {
    "duration": 10,
    "start_time": "2022-08-30T11:28:31.518Z"
   },
   {
    "duration": 11,
    "start_time": "2022-08-30T11:28:31.530Z"
   },
   {
    "duration": 7,
    "start_time": "2022-08-30T11:28:31.543Z"
   },
   {
    "duration": 6,
    "start_time": "2022-08-30T11:28:31.552Z"
   },
   {
    "duration": 5,
    "start_time": "2022-08-30T11:28:31.559Z"
   },
   {
    "duration": 8,
    "start_time": "2022-08-30T11:28:31.566Z"
   },
   {
    "duration": 5,
    "start_time": "2022-08-30T11:28:31.575Z"
   },
   {
    "duration": 6,
    "start_time": "2022-08-30T11:28:31.581Z"
   },
   {
    "duration": 12,
    "start_time": "2022-08-30T11:28:31.588Z"
   },
   {
    "duration": 6,
    "start_time": "2022-08-30T11:28:31.602Z"
   },
   {
    "duration": 4,
    "start_time": "2022-08-30T11:28:31.610Z"
   },
   {
    "duration": 8,
    "start_time": "2022-08-30T11:28:31.615Z"
   },
   {
    "duration": 12,
    "start_time": "2022-08-30T11:28:31.624Z"
   },
   {
    "duration": 9,
    "start_time": "2022-08-30T11:29:31.903Z"
   },
   {
    "duration": 8,
    "start_time": "2022-08-30T11:29:33.388Z"
   },
   {
    "duration": 5,
    "start_time": "2022-08-30T11:30:10.636Z"
   },
   {
    "duration": 7,
    "start_time": "2022-08-30T11:33:47.719Z"
   },
   {
    "duration": 4,
    "start_time": "2022-08-30T11:33:57.794Z"
   },
   {
    "duration": 5,
    "start_time": "2022-08-30T11:34:14.264Z"
   },
   {
    "duration": 12,
    "start_time": "2022-08-30T11:34:58.995Z"
   },
   {
    "duration": 10,
    "start_time": "2022-08-30T11:35:13.475Z"
   },
   {
    "duration": 10,
    "start_time": "2022-08-30T11:35:29.499Z"
   },
   {
    "duration": 8,
    "start_time": "2022-08-30T11:36:36.271Z"
   },
   {
    "duration": 10,
    "start_time": "2022-08-30T11:38:02.910Z"
   },
   {
    "duration": 36,
    "start_time": "2022-08-30T11:39:00.108Z"
   },
   {
    "duration": 12,
    "start_time": "2022-08-30T11:39:18.363Z"
   },
   {
    "duration": 11,
    "start_time": "2022-08-30T11:40:03.722Z"
   },
   {
    "duration": 11,
    "start_time": "2022-08-30T11:40:45.644Z"
   },
   {
    "duration": 4,
    "start_time": "2022-08-30T11:40:56.114Z"
   },
   {
    "duration": 11,
    "start_time": "2022-08-30T11:41:01.366Z"
   },
   {
    "duration": 10,
    "start_time": "2022-08-30T11:42:44.560Z"
   },
   {
    "duration": 13,
    "start_time": "2022-08-30T11:44:37.235Z"
   },
   {
    "duration": 10,
    "start_time": "2022-08-30T11:44:48.286Z"
   },
   {
    "duration": 70,
    "start_time": "2022-08-30T11:53:59.428Z"
   },
   {
    "duration": 11,
    "start_time": "2022-08-30T11:54:10.000Z"
   },
   {
    "duration": 12,
    "start_time": "2022-08-30T12:00:48.813Z"
   },
   {
    "duration": 2,
    "start_time": "2022-08-30T12:00:50.858Z"
   },
   {
    "duration": 2,
    "start_time": "2022-08-30T12:01:00.823Z"
   },
   {
    "duration": 23,
    "start_time": "2022-08-30T14:40:34.595Z"
   },
   {
    "duration": 22,
    "start_time": "2022-08-30T14:47:07.616Z"
   },
   {
    "duration": 25,
    "start_time": "2022-08-30T14:47:20.703Z"
   },
   {
    "duration": 35,
    "start_time": "2022-08-30T14:47:39.887Z"
   },
   {
    "duration": 18,
    "start_time": "2022-08-30T14:51:06.066Z"
   },
   {
    "duration": 21,
    "start_time": "2022-08-30T14:51:20.738Z"
   },
   {
    "duration": 18,
    "start_time": "2022-08-30T14:51:29.452Z"
   },
   {
    "duration": 28,
    "start_time": "2022-08-30T14:51:40.521Z"
   },
   {
    "duration": 5,
    "start_time": "2022-08-30T14:52:23.147Z"
   },
   {
    "duration": 157,
    "start_time": "2022-08-30T14:52:27.467Z"
   },
   {
    "duration": 117,
    "start_time": "2022-08-30T14:53:05.315Z"
   },
   {
    "duration": 166,
    "start_time": "2022-08-30T14:53:26.573Z"
   },
   {
    "duration": 111,
    "start_time": "2022-08-30T14:53:41.837Z"
   },
   {
    "duration": 32,
    "start_time": "2022-08-30T14:54:11.496Z"
   },
   {
    "duration": 101,
    "start_time": "2022-08-30T14:54:36.765Z"
   },
   {
    "duration": 23,
    "start_time": "2022-08-30T14:54:49.227Z"
   },
   {
    "duration": 24,
    "start_time": "2022-08-30T14:55:35.732Z"
   },
   {
    "duration": 24,
    "start_time": "2022-08-30T14:56:20.763Z"
   },
   {
    "duration": 24,
    "start_time": "2022-08-30T14:56:33.811Z"
   },
   {
    "duration": 23,
    "start_time": "2022-08-30T14:58:34.439Z"
   },
   {
    "duration": 21,
    "start_time": "2022-08-30T14:58:37.244Z"
   },
   {
    "duration": 27,
    "start_time": "2022-08-30T15:01:04.222Z"
   },
   {
    "duration": 173,
    "start_time": "2022-08-30T15:01:50.141Z"
   },
   {
    "duration": 23,
    "start_time": "2022-08-30T15:02:18.151Z"
   },
   {
    "duration": 33,
    "start_time": "2022-08-30T15:02:42.511Z"
   },
   {
    "duration": 23,
    "start_time": "2022-08-30T15:16:29.958Z"
   },
   {
    "duration": 37,
    "start_time": "2022-08-30T15:19:43.380Z"
   },
   {
    "duration": 25,
    "start_time": "2022-08-30T15:20:15.095Z"
   },
   {
    "duration": 24,
    "start_time": "2022-08-30T15:20:21.000Z"
   },
   {
    "duration": 26,
    "start_time": "2022-08-30T15:20:44.720Z"
   },
   {
    "duration": 30,
    "start_time": "2022-08-30T15:21:10.177Z"
   },
   {
    "duration": 37,
    "start_time": "2022-08-30T15:23:36.663Z"
   },
   {
    "duration": 35,
    "start_time": "2022-08-30T15:24:11.057Z"
   },
   {
    "duration": 33,
    "start_time": "2022-08-30T15:26:36.288Z"
   },
   {
    "duration": 37,
    "start_time": "2022-08-30T15:30:13.854Z"
   },
   {
    "duration": 39,
    "start_time": "2022-08-30T15:30:44.879Z"
   },
   {
    "duration": 39,
    "start_time": "2022-08-30T15:30:49.163Z"
   },
   {
    "duration": 43,
    "start_time": "2022-08-30T15:39:27.433Z"
   },
   {
    "duration": 45,
    "start_time": "2022-08-30T15:46:33.381Z"
   },
   {
    "duration": 85,
    "start_time": "2022-08-30T15:56:22.159Z"
   },
   {
    "duration": 73,
    "start_time": "2022-08-30T15:56:56.586Z"
   },
   {
    "duration": 16,
    "start_time": "2022-08-30T15:57:08.110Z"
   },
   {
    "duration": 20,
    "start_time": "2022-08-30T15:57:22.214Z"
   },
   {
    "duration": 21,
    "start_time": "2022-08-30T15:57:39.115Z"
   },
   {
    "duration": 15,
    "start_time": "2022-08-30T15:58:30.831Z"
   },
   {
    "duration": 19,
    "start_time": "2022-08-30T15:59:33.106Z"
   },
   {
    "duration": 9,
    "start_time": "2022-08-30T15:59:40.215Z"
   },
   {
    "duration": 9,
    "start_time": "2022-08-30T15:59:56.742Z"
   },
   {
    "duration": 8,
    "start_time": "2022-08-30T16:00:10.774Z"
   },
   {
    "duration": 9,
    "start_time": "2022-08-30T16:00:42.466Z"
   },
   {
    "duration": 8,
    "start_time": "2022-08-30T16:00:56.713Z"
   },
   {
    "duration": 29,
    "start_time": "2022-08-30T16:04:48.742Z"
   },
   {
    "duration": 37,
    "start_time": "2022-08-30T16:07:52.158Z"
   },
   {
    "duration": 35,
    "start_time": "2022-08-30T16:09:13.904Z"
   },
   {
    "duration": 68,
    "start_time": "2022-08-30T16:11:43.826Z"
   },
   {
    "duration": 7,
    "start_time": "2022-08-30T16:14:34.274Z"
   },
   {
    "duration": 6,
    "start_time": "2022-08-30T16:14:41.982Z"
   },
   {
    "duration": 814,
    "start_time": "2022-08-30T16:15:25.159Z"
   },
   {
    "duration": 0,
    "start_time": "2022-08-30T16:17:28.113Z"
   },
   {
    "duration": 2996,
    "start_time": "2022-08-30T16:17:33.157Z"
   },
   {
    "duration": 15,
    "start_time": "2022-08-30T16:19:06.858Z"
   },
   {
    "duration": 30,
    "start_time": "2022-08-30T16:19:36.701Z"
   },
   {
    "duration": 5,
    "start_time": "2022-08-30T16:20:37.820Z"
   },
   {
    "duration": 5,
    "start_time": "2022-08-30T16:21:57.212Z"
   },
   {
    "duration": 9,
    "start_time": "2022-08-30T16:22:35.516Z"
   },
   {
    "duration": 8,
    "start_time": "2022-08-30T16:22:47.137Z"
   },
   {
    "duration": 9,
    "start_time": "2022-08-30T16:23:30.479Z"
   },
   {
    "duration": 12,
    "start_time": "2022-08-30T16:24:37.704Z"
   },
   {
    "duration": 10,
    "start_time": "2022-08-30T16:24:39.250Z"
   },
   {
    "duration": 6,
    "start_time": "2022-08-30T16:24:47.537Z"
   },
   {
    "duration": 48,
    "start_time": "2022-08-30T19:17:41.072Z"
   },
   {
    "duration": 583,
    "start_time": "2022-08-30T19:17:46.333Z"
   },
   {
    "duration": 33,
    "start_time": "2022-08-30T19:17:46.918Z"
   },
   {
    "duration": 20,
    "start_time": "2022-08-30T19:17:46.953Z"
   },
   {
    "duration": 36,
    "start_time": "2022-08-30T19:17:46.975Z"
   },
   {
    "duration": 19,
    "start_time": "2022-08-30T19:17:47.013Z"
   },
   {
    "duration": 18,
    "start_time": "2022-08-30T19:17:47.033Z"
   },
   {
    "duration": 61,
    "start_time": "2022-08-30T19:17:47.053Z"
   },
   {
    "duration": 24,
    "start_time": "2022-08-30T19:17:47.115Z"
   },
   {
    "duration": 13,
    "start_time": "2022-08-30T19:17:47.140Z"
   },
   {
    "duration": 25,
    "start_time": "2022-08-30T19:17:47.155Z"
   },
   {
    "duration": 80,
    "start_time": "2022-08-30T19:17:47.181Z"
   },
   {
    "duration": 23,
    "start_time": "2022-08-30T19:17:47.262Z"
   },
   {
    "duration": 34,
    "start_time": "2022-08-30T19:17:47.287Z"
   },
   {
    "duration": 11,
    "start_time": "2022-08-30T19:17:47.322Z"
   },
   {
    "duration": 5,
    "start_time": "2022-08-30T19:17:47.334Z"
   },
   {
    "duration": 12,
    "start_time": "2022-08-30T19:17:47.340Z"
   },
   {
    "duration": 6,
    "start_time": "2022-08-30T19:17:47.353Z"
   },
   {
    "duration": 7,
    "start_time": "2022-08-30T19:17:47.360Z"
   },
   {
    "duration": 6,
    "start_time": "2022-08-30T19:17:47.369Z"
   },
   {
    "duration": 35,
    "start_time": "2022-08-30T19:17:47.376Z"
   },
   {
    "duration": 2,
    "start_time": "2022-08-30T19:17:47.412Z"
   },
   {
    "duration": 4,
    "start_time": "2022-08-30T19:17:47.416Z"
   },
   {
    "duration": 5,
    "start_time": "2022-08-30T19:17:47.422Z"
   },
   {
    "duration": 5,
    "start_time": "2022-08-30T19:17:47.429Z"
   },
   {
    "duration": 7,
    "start_time": "2022-08-30T19:17:47.435Z"
   },
   {
    "duration": 12,
    "start_time": "2022-08-30T19:17:47.443Z"
   },
   {
    "duration": 7,
    "start_time": "2022-08-30T19:17:47.457Z"
   },
   {
    "duration": 2,
    "start_time": "2022-08-30T19:17:47.469Z"
   },
   {
    "duration": 4,
    "start_time": "2022-08-30T19:17:47.473Z"
   },
   {
    "duration": 4,
    "start_time": "2022-08-30T19:17:47.478Z"
   },
   {
    "duration": 6,
    "start_time": "2022-08-30T19:17:47.483Z"
   },
   {
    "duration": 21,
    "start_time": "2022-08-30T19:17:47.490Z"
   },
   {
    "duration": 6,
    "start_time": "2022-08-30T19:17:47.512Z"
   },
   {
    "duration": 6,
    "start_time": "2022-08-30T19:17:47.519Z"
   },
   {
    "duration": 5,
    "start_time": "2022-08-30T19:17:47.527Z"
   },
   {
    "duration": 7,
    "start_time": "2022-08-30T19:17:47.534Z"
   },
   {
    "duration": 4,
    "start_time": "2022-08-30T19:17:47.542Z"
   },
   {
    "duration": 4,
    "start_time": "2022-08-30T19:17:47.547Z"
   },
   {
    "duration": 3,
    "start_time": "2022-08-30T19:17:47.553Z"
   },
   {
    "duration": 4,
    "start_time": "2022-08-30T19:17:47.558Z"
   },
   {
    "duration": 7,
    "start_time": "2022-08-30T19:17:47.563Z"
   },
   {
    "duration": 4,
    "start_time": "2022-08-30T19:17:47.572Z"
   },
   {
    "duration": 4,
    "start_time": "2022-08-30T19:17:47.577Z"
   },
   {
    "duration": 4,
    "start_time": "2022-08-30T19:17:47.583Z"
   },
   {
    "duration": 5,
    "start_time": "2022-08-30T19:17:47.588Z"
   },
   {
    "duration": 18,
    "start_time": "2022-08-30T19:17:47.594Z"
   },
   {
    "duration": 5,
    "start_time": "2022-08-30T19:17:47.614Z"
   },
   {
    "duration": 6,
    "start_time": "2022-08-30T19:17:47.621Z"
   },
   {
    "duration": 8,
    "start_time": "2022-08-30T19:17:47.628Z"
   },
   {
    "duration": 5,
    "start_time": "2022-08-30T19:17:47.637Z"
   },
   {
    "duration": 4,
    "start_time": "2022-08-30T19:17:47.643Z"
   },
   {
    "duration": 4,
    "start_time": "2022-08-30T19:17:47.648Z"
   },
   {
    "duration": 4,
    "start_time": "2022-08-30T19:17:47.654Z"
   },
   {
    "duration": 6,
    "start_time": "2022-08-30T19:17:47.659Z"
   },
   {
    "duration": 8,
    "start_time": "2022-08-30T19:17:47.666Z"
   },
   {
    "duration": 7,
    "start_time": "2022-08-30T19:17:47.675Z"
   },
   {
    "duration": 7,
    "start_time": "2022-08-30T19:17:47.684Z"
   },
   {
    "duration": 8,
    "start_time": "2022-08-30T19:17:47.692Z"
   },
   {
    "duration": 9,
    "start_time": "2022-08-30T19:17:47.702Z"
   },
   {
    "duration": 10,
    "start_time": "2022-08-30T19:17:47.712Z"
   },
   {
    "duration": 6,
    "start_time": "2022-08-30T19:17:47.723Z"
   },
   {
    "duration": 9,
    "start_time": "2022-08-30T19:17:47.730Z"
   },
   {
    "duration": 5,
    "start_time": "2022-08-30T19:17:47.741Z"
   },
   {
    "duration": 5,
    "start_time": "2022-08-30T19:17:47.747Z"
   },
   {
    "duration": 10,
    "start_time": "2022-08-30T19:17:47.753Z"
   },
   {
    "duration": 4,
    "start_time": "2022-08-30T19:17:47.764Z"
   },
   {
    "duration": 4,
    "start_time": "2022-08-30T19:17:47.770Z"
   },
   {
    "duration": 4,
    "start_time": "2022-08-30T19:17:47.776Z"
   },
   {
    "duration": 5,
    "start_time": "2022-08-30T19:17:47.782Z"
   },
   {
    "duration": 9,
    "start_time": "2022-08-30T19:17:47.788Z"
   },
   {
    "duration": 8,
    "start_time": "2022-08-30T19:17:47.799Z"
   },
   {
    "duration": 6,
    "start_time": "2022-08-30T19:17:47.808Z"
   },
   {
    "duration": 5,
    "start_time": "2022-08-30T19:17:47.816Z"
   },
   {
    "duration": 21,
    "start_time": "2022-08-30T19:17:47.822Z"
   },
   {
    "duration": 6,
    "start_time": "2022-08-30T19:19:00.412Z"
   },
   {
    "duration": 13,
    "start_time": "2022-08-30T19:19:53.176Z"
   },
   {
    "duration": 20,
    "start_time": "2022-08-30T19:21:21.241Z"
   },
   {
    "duration": 14,
    "start_time": "2022-08-30T19:23:07.658Z"
   },
   {
    "duration": 14,
    "start_time": "2022-08-30T19:23:43.476Z"
   },
   {
    "duration": 14,
    "start_time": "2022-08-30T19:24:00.700Z"
   },
   {
    "duration": 5,
    "start_time": "2022-08-30T19:47:04.059Z"
   },
   {
    "duration": 5,
    "start_time": "2022-08-30T19:47:55.485Z"
   },
   {
    "duration": 6,
    "start_time": "2022-08-30T19:48:21.908Z"
   },
   {
    "duration": 17,
    "start_time": "2022-08-30T19:50:31.312Z"
   },
   {
    "duration": 14,
    "start_time": "2022-08-30T19:50:39.239Z"
   },
   {
    "duration": 40,
    "start_time": "2022-08-30T19:52:48.095Z"
   },
   {
    "duration": 40,
    "start_time": "2022-08-30T19:55:00.114Z"
   },
   {
    "duration": 16,
    "start_time": "2022-08-30T19:55:09.246Z"
   },
   {
    "duration": 14,
    "start_time": "2022-08-30T19:55:11.178Z"
   },
   {
    "duration": 2,
    "start_time": "2022-08-30T19:55:18.527Z"
   },
   {
    "duration": 2,
    "start_time": "2022-08-30T19:55:31.323Z"
   },
   {
    "duration": 38,
    "start_time": "2022-08-30T20:00:36.724Z"
   },
   {
    "duration": 161,
    "start_time": "2022-08-30T20:01:01.003Z"
   },
   {
    "duration": 32,
    "start_time": "2022-08-30T20:01:03.271Z"
   },
   {
    "duration": 16,
    "start_time": "2022-08-30T20:01:03.985Z"
   },
   {
    "duration": 39,
    "start_time": "2022-08-30T20:01:29.603Z"
   },
   {
    "duration": 122,
    "start_time": "2022-08-30T20:02:20.847Z"
   },
   {
    "duration": 189,
    "start_time": "2022-08-30T20:02:28.682Z"
   },
   {
    "duration": 79,
    "start_time": "2022-08-30T20:03:17.847Z"
   },
   {
    "duration": 76,
    "start_time": "2022-08-30T20:03:24.710Z"
   },
   {
    "duration": 104,
    "start_time": "2022-08-30T20:03:28.467Z"
   },
   {
    "duration": 96,
    "start_time": "2022-08-30T20:05:36.564Z"
   },
   {
    "duration": 117,
    "start_time": "2022-08-30T20:05:44.275Z"
   },
   {
    "duration": 39,
    "start_time": "2022-08-30T20:06:56.006Z"
   },
   {
    "duration": 48,
    "start_time": "2022-08-30T20:07:13.972Z"
   },
   {
    "duration": 41,
    "start_time": "2022-08-30T20:07:23.033Z"
   },
   {
    "duration": 38,
    "start_time": "2022-08-30T20:07:28.112Z"
   },
   {
    "duration": 39,
    "start_time": "2022-08-30T20:07:48.064Z"
   },
   {
    "duration": 39,
    "start_time": "2022-08-30T20:07:56.615Z"
   },
   {
    "duration": 40,
    "start_time": "2022-08-30T20:08:12.921Z"
   },
   {
    "duration": 2,
    "start_time": "2022-08-30T20:10:02.137Z"
   },
   {
    "duration": 1165,
    "start_time": "2022-08-30T20:23:12.557Z"
   },
   {
    "duration": 6,
    "start_time": "2022-08-30T20:23:54.888Z"
   },
   {
    "duration": 35,
    "start_time": "2022-08-30T20:24:19.498Z"
   },
   {
    "duration": 6,
    "start_time": "2022-08-30T20:24:33.815Z"
   },
   {
    "duration": 6,
    "start_time": "2022-08-30T20:29:53.861Z"
   },
   {
    "duration": 6,
    "start_time": "2022-08-30T20:30:06.672Z"
   },
   {
    "duration": 4,
    "start_time": "2022-08-30T20:30:07.855Z"
   },
   {
    "duration": 2,
    "start_time": "2022-08-30T20:30:09.273Z"
   },
   {
    "duration": 4,
    "start_time": "2022-08-30T20:36:35.053Z"
   },
   {
    "duration": 3,
    "start_time": "2022-08-30T20:37:02.250Z"
   },
   {
    "duration": 4,
    "start_time": "2022-08-30T20:37:03.800Z"
   },
   {
    "duration": 4,
    "start_time": "2022-08-30T20:37:18.158Z"
   },
   {
    "duration": 4,
    "start_time": "2022-08-30T20:37:18.757Z"
   },
   {
    "duration": 80,
    "start_time": "2022-08-30T20:40:40.206Z"
   },
   {
    "duration": 88,
    "start_time": "2022-08-30T20:41:11.738Z"
   },
   {
    "duration": 81,
    "start_time": "2022-08-30T20:41:44.204Z"
   },
   {
    "duration": 6,
    "start_time": "2022-08-30T20:41:48.988Z"
   },
   {
    "duration": 7,
    "start_time": "2022-08-30T20:42:50.216Z"
   },
   {
    "duration": 4,
    "start_time": "2022-08-30T20:42:56.779Z"
   },
   {
    "duration": 3,
    "start_time": "2022-08-30T20:42:58.778Z"
   },
   {
    "duration": 8,
    "start_time": "2022-08-30T20:43:01.188Z"
   },
   {
    "duration": 8,
    "start_time": "2022-08-30T20:43:03.101Z"
   },
   {
    "duration": 8,
    "start_time": "2022-08-30T20:43:05.076Z"
   },
   {
    "duration": 3,
    "start_time": "2022-08-30T20:43:27.066Z"
   },
   {
    "duration": 3,
    "start_time": "2022-08-30T20:43:28.614Z"
   },
   {
    "duration": 8,
    "start_time": "2022-08-30T20:43:30.238Z"
   },
   {
    "duration": 7,
    "start_time": "2022-08-30T20:43:30.925Z"
   },
   {
    "duration": 10,
    "start_time": "2022-08-30T20:44:11.797Z"
   },
   {
    "duration": 22,
    "start_time": "2022-08-30T20:58:16.228Z"
   },
   {
    "duration": 73,
    "start_time": "2022-08-30T20:59:06.099Z"
   },
   {
    "duration": 66,
    "start_time": "2022-08-30T20:59:14.809Z"
   },
   {
    "duration": 22,
    "start_time": "2022-08-30T21:02:40.858Z"
   },
   {
    "duration": 3798,
    "start_time": "2022-08-30T21:02:49.901Z"
   },
   {
    "duration": 67,
    "start_time": "2022-08-30T21:03:32.562Z"
   },
   {
    "duration": 58,
    "start_time": "2022-08-30T21:04:31.310Z"
   },
   {
    "duration": 50,
    "start_time": "2022-08-30T21:04:43.800Z"
   },
   {
    "duration": 592,
    "start_time": "2022-08-31T11:31:53.457Z"
   },
   {
    "duration": 41,
    "start_time": "2022-08-31T11:31:54.051Z"
   },
   {
    "duration": 21,
    "start_time": "2022-08-31T11:31:54.093Z"
   },
   {
    "duration": 24,
    "start_time": "2022-08-31T11:31:54.116Z"
   },
   {
    "duration": 33,
    "start_time": "2022-08-31T11:31:54.142Z"
   },
   {
    "duration": 32,
    "start_time": "2022-08-31T11:31:54.177Z"
   },
   {
    "duration": 36,
    "start_time": "2022-08-31T11:31:54.211Z"
   },
   {
    "duration": 25,
    "start_time": "2022-08-31T11:31:54.258Z"
   },
   {
    "duration": 14,
    "start_time": "2022-08-31T11:31:54.285Z"
   },
   {
    "duration": 62,
    "start_time": "2022-08-31T11:31:54.301Z"
   },
   {
    "duration": 62,
    "start_time": "2022-08-31T11:31:54.365Z"
   },
   {
    "duration": 49,
    "start_time": "2022-08-31T11:31:54.428Z"
   },
   {
    "duration": 15,
    "start_time": "2022-08-31T11:31:54.479Z"
   },
   {
    "duration": 12,
    "start_time": "2022-08-31T11:31:54.496Z"
   },
   {
    "duration": 5,
    "start_time": "2022-08-31T11:31:54.509Z"
   },
   {
    "duration": 48,
    "start_time": "2022-08-31T11:31:54.516Z"
   },
   {
    "duration": 13,
    "start_time": "2022-08-31T11:31:54.565Z"
   },
   {
    "duration": 20,
    "start_time": "2022-08-31T11:31:54.580Z"
   },
   {
    "duration": 2,
    "start_time": "2022-08-31T11:31:54.602Z"
   },
   {
    "duration": 7,
    "start_time": "2022-08-31T11:31:54.606Z"
   },
   {
    "duration": 7,
    "start_time": "2022-08-31T11:31:54.614Z"
   },
   {
    "duration": 7,
    "start_time": "2022-08-31T11:31:54.623Z"
   },
   {
    "duration": 5,
    "start_time": "2022-08-31T11:31:54.632Z"
   },
   {
    "duration": 7,
    "start_time": "2022-08-31T11:31:54.638Z"
   },
   {
    "duration": 2,
    "start_time": "2022-08-31T11:31:54.657Z"
   },
   {
    "duration": 5,
    "start_time": "2022-08-31T11:31:54.661Z"
   },
   {
    "duration": 8,
    "start_time": "2022-08-31T11:31:54.667Z"
   },
   {
    "duration": 3,
    "start_time": "2022-08-31T11:31:54.680Z"
   },
   {
    "duration": 3,
    "start_time": "2022-08-31T11:31:54.684Z"
   },
   {
    "duration": 9,
    "start_time": "2022-08-31T11:31:54.689Z"
   },
   {
    "duration": 8,
    "start_time": "2022-08-31T11:31:54.700Z"
   },
   {
    "duration": 7,
    "start_time": "2022-08-31T11:31:54.709Z"
   },
   {
    "duration": 10,
    "start_time": "2022-08-31T11:31:54.718Z"
   },
   {
    "duration": 6,
    "start_time": "2022-08-31T11:31:54.730Z"
   },
   {
    "duration": 2,
    "start_time": "2022-08-31T11:31:54.758Z"
   },
   {
    "duration": 46,
    "start_time": "2022-08-31T11:31:54.762Z"
   },
   {
    "duration": 18,
    "start_time": "2022-08-31T11:31:54.810Z"
   },
   {
    "duration": 44,
    "start_time": "2022-08-31T11:31:54.829Z"
   },
   {
    "duration": 7,
    "start_time": "2022-08-31T11:31:54.874Z"
   },
   {
    "duration": 17,
    "start_time": "2022-08-31T11:31:54.882Z"
   },
   {
    "duration": 14,
    "start_time": "2022-08-31T11:31:54.901Z"
   },
   {
    "duration": 6,
    "start_time": "2022-08-31T11:31:54.917Z"
   },
   {
    "duration": 63,
    "start_time": "2022-08-31T11:31:54.925Z"
   },
   {
    "duration": 0,
    "start_time": "2022-08-31T11:31:54.990Z"
   },
   {
    "duration": 0,
    "start_time": "2022-08-31T11:31:54.991Z"
   },
   {
    "duration": 0,
    "start_time": "2022-08-31T11:31:54.992Z"
   },
   {
    "duration": 0,
    "start_time": "2022-08-31T11:31:54.993Z"
   },
   {
    "duration": 0,
    "start_time": "2022-08-31T11:31:54.994Z"
   },
   {
    "duration": 0,
    "start_time": "2022-08-31T11:31:54.995Z"
   },
   {
    "duration": 0,
    "start_time": "2022-08-31T11:31:54.996Z"
   },
   {
    "duration": 0,
    "start_time": "2022-08-31T11:31:54.998Z"
   },
   {
    "duration": 0,
    "start_time": "2022-08-31T11:31:54.999Z"
   },
   {
    "duration": 0,
    "start_time": "2022-08-31T11:31:55.000Z"
   },
   {
    "duration": 0,
    "start_time": "2022-08-31T11:31:55.001Z"
   },
   {
    "duration": 0,
    "start_time": "2022-08-31T11:31:55.002Z"
   },
   {
    "duration": 0,
    "start_time": "2022-08-31T11:31:55.004Z"
   },
   {
    "duration": 0,
    "start_time": "2022-08-31T11:31:55.005Z"
   },
   {
    "duration": 0,
    "start_time": "2022-08-31T11:31:55.007Z"
   },
   {
    "duration": 0,
    "start_time": "2022-08-31T11:31:55.008Z"
   },
   {
    "duration": 0,
    "start_time": "2022-08-31T11:31:55.009Z"
   },
   {
    "duration": 0,
    "start_time": "2022-08-31T11:31:55.011Z"
   },
   {
    "duration": 0,
    "start_time": "2022-08-31T11:31:55.012Z"
   },
   {
    "duration": 0,
    "start_time": "2022-08-31T11:31:55.013Z"
   },
   {
    "duration": 0,
    "start_time": "2022-08-31T11:31:55.015Z"
   },
   {
    "duration": 0,
    "start_time": "2022-08-31T11:31:55.016Z"
   },
   {
    "duration": 0,
    "start_time": "2022-08-31T11:31:55.017Z"
   },
   {
    "duration": 0,
    "start_time": "2022-08-31T11:31:55.018Z"
   },
   {
    "duration": 0,
    "start_time": "2022-08-31T11:31:55.019Z"
   },
   {
    "duration": 0,
    "start_time": "2022-08-31T11:31:55.057Z"
   },
   {
    "duration": 0,
    "start_time": "2022-08-31T11:31:55.058Z"
   },
   {
    "duration": 0,
    "start_time": "2022-08-31T11:31:55.059Z"
   },
   {
    "duration": 0,
    "start_time": "2022-08-31T11:31:55.060Z"
   },
   {
    "duration": 0,
    "start_time": "2022-08-31T11:31:55.061Z"
   },
   {
    "duration": 0,
    "start_time": "2022-08-31T11:31:55.062Z"
   },
   {
    "duration": 0,
    "start_time": "2022-08-31T11:31:55.063Z"
   },
   {
    "duration": 14,
    "start_time": "2022-08-31T11:32:47.819Z"
   },
   {
    "duration": 14,
    "start_time": "2022-08-31T11:36:43.324Z"
   },
   {
    "duration": 18,
    "start_time": "2022-08-31T11:36:54.929Z"
   },
   {
    "duration": 13,
    "start_time": "2022-08-31T11:37:16.632Z"
   },
   {
    "duration": 77,
    "start_time": "2022-08-31T11:38:30.136Z"
   },
   {
    "duration": 15,
    "start_time": "2022-08-31T11:38:36.640Z"
   },
   {
    "duration": 13,
    "start_time": "2022-08-31T11:38:52.467Z"
   },
   {
    "duration": 12,
    "start_time": "2022-08-31T11:38:57.721Z"
   },
   {
    "duration": 13,
    "start_time": "2022-08-31T11:39:37.927Z"
   },
   {
    "duration": 14,
    "start_time": "2022-08-31T11:39:50.114Z"
   },
   {
    "duration": 14,
    "start_time": "2022-08-31T11:39:56.242Z"
   },
   {
    "duration": 35,
    "start_time": "2022-08-31T11:40:20.769Z"
   },
   {
    "duration": 35,
    "start_time": "2022-08-31T11:41:59.701Z"
   },
   {
    "duration": 14,
    "start_time": "2022-08-31T11:45:22.774Z"
   },
   {
    "duration": 27,
    "start_time": "2022-08-31T11:49:56.453Z"
   },
   {
    "duration": 35,
    "start_time": "2022-08-31T12:17:41.510Z"
   },
   {
    "duration": 14,
    "start_time": "2022-08-31T12:40:54.704Z"
   },
   {
    "duration": 12,
    "start_time": "2022-08-31T12:41:05.016Z"
   },
   {
    "duration": 11,
    "start_time": "2022-08-31T12:42:02.951Z"
   },
   {
    "duration": 5,
    "start_time": "2022-08-31T12:44:08.615Z"
   },
   {
    "duration": 7,
    "start_time": "2022-08-31T12:44:27.257Z"
   },
   {
    "duration": 1447,
    "start_time": "2022-08-31T12:45:14.630Z"
   },
   {
    "duration": 1677,
    "start_time": "2022-08-31T12:45:16.502Z"
   },
   {
    "duration": 992,
    "start_time": "2022-08-31T12:45:18.858Z"
   },
   {
    "duration": 65,
    "start_time": "2022-08-31T12:45:50.705Z"
   },
   {
    "duration": 627,
    "start_time": "2022-08-31T12:45:55.416Z"
   },
   {
    "duration": 1216,
    "start_time": "2022-08-31T12:46:22.209Z"
   },
   {
    "duration": 95,
    "start_time": "2022-08-31T12:46:52.427Z"
   },
   {
    "duration": 11,
    "start_time": "2022-08-31T12:47:05.516Z"
   },
   {
    "duration": 14,
    "start_time": "2022-08-31T12:47:18.546Z"
   },
   {
    "duration": 18,
    "start_time": "2022-08-31T13:01:57.932Z"
   },
   {
    "duration": 20,
    "start_time": "2022-08-31T13:04:22.734Z"
   },
   {
    "duration": 16,
    "start_time": "2022-08-31T13:04:46.727Z"
   },
   {
    "duration": 23,
    "start_time": "2022-08-31T13:04:53.380Z"
   },
   {
    "duration": 69,
    "start_time": "2022-08-31T13:06:47.197Z"
   },
   {
    "duration": 36,
    "start_time": "2022-08-31T13:07:01.405Z"
   },
   {
    "duration": 5,
    "start_time": "2022-08-31T13:14:20.903Z"
   },
   {
    "duration": 41,
    "start_time": "2022-08-31T13:14:25.343Z"
   },
   {
    "duration": 38,
    "start_time": "2022-08-31T13:14:58.203Z"
   },
   {
    "duration": 32,
    "start_time": "2022-08-31T13:16:53.894Z"
   },
   {
    "duration": 12,
    "start_time": "2022-08-31T13:17:21.016Z"
   },
   {
    "duration": 16,
    "start_time": "2022-08-31T13:17:45.581Z"
   },
   {
    "duration": 16,
    "start_time": "2022-08-31T13:19:08.231Z"
   },
   {
    "duration": 26,
    "start_time": "2022-08-31T13:30:20.999Z"
   },
   {
    "duration": 34,
    "start_time": "2022-08-31T13:30:27.299Z"
   },
   {
    "duration": 28,
    "start_time": "2022-08-31T15:08:55.704Z"
   },
   {
    "duration": 31,
    "start_time": "2022-08-31T15:11:08.795Z"
   },
   {
    "duration": 30,
    "start_time": "2022-08-31T15:13:30.947Z"
   },
   {
    "duration": 5,
    "start_time": "2022-08-31T15:16:00.048Z"
   },
   {
    "duration": 6,
    "start_time": "2022-08-31T15:16:48.707Z"
   },
   {
    "duration": 4,
    "start_time": "2022-08-31T15:37:48.340Z"
   },
   {
    "duration": 4,
    "start_time": "2022-08-31T15:39:27.799Z"
   },
   {
    "duration": 4,
    "start_time": "2022-08-31T15:42:18.348Z"
   },
   {
    "duration": 18,
    "start_time": "2022-08-31T15:48:34.885Z"
   },
   {
    "duration": 32,
    "start_time": "2022-08-31T15:50:12.737Z"
   },
   {
    "duration": 10,
    "start_time": "2022-08-31T15:54:08.053Z"
   },
   {
    "duration": 4,
    "start_time": "2022-08-31T15:54:16.426Z"
   },
   {
    "duration": 6,
    "start_time": "2022-08-31T15:54:44.576Z"
   },
   {
    "duration": 8,
    "start_time": "2022-08-31T15:55:06.768Z"
   },
   {
    "duration": 5,
    "start_time": "2022-08-31T15:55:27.548Z"
   },
   {
    "duration": 13,
    "start_time": "2022-08-31T15:56:23.884Z"
   },
   {
    "duration": 9,
    "start_time": "2022-08-31T15:56:52.267Z"
   },
   {
    "duration": 3,
    "start_time": "2022-08-31T15:57:19.306Z"
   },
   {
    "duration": 4,
    "start_time": "2022-08-31T15:58:29.284Z"
   },
   {
    "duration": 17,
    "start_time": "2022-08-31T15:58:52.174Z"
   },
   {
    "duration": 16,
    "start_time": "2022-08-31T15:59:10.382Z"
   },
   {
    "duration": 5,
    "start_time": "2022-08-31T16:03:27.464Z"
   },
   {
    "duration": 4,
    "start_time": "2022-08-31T16:03:41.052Z"
   },
   {
    "duration": 76,
    "start_time": "2022-08-31T16:06:43.706Z"
   },
   {
    "duration": 54,
    "start_time": "2022-08-31T16:06:54.738Z"
   },
   {
    "duration": 6,
    "start_time": "2022-08-31T16:07:09.628Z"
   },
   {
    "duration": 5,
    "start_time": "2022-08-31T16:07:26.094Z"
   },
   {
    "duration": 14,
    "start_time": "2022-08-31T16:07:43.127Z"
   },
   {
    "duration": 22,
    "start_time": "2022-08-31T16:07:48.645Z"
   },
   {
    "duration": 4,
    "start_time": "2022-08-31T16:08:04.225Z"
   },
   {
    "duration": 4,
    "start_time": "2022-08-31T16:08:16.669Z"
   },
   {
    "duration": 5,
    "start_time": "2022-08-31T16:08:26.573Z"
   },
   {
    "duration": 4,
    "start_time": "2022-08-31T16:08:41.472Z"
   },
   {
    "duration": 44,
    "start_time": "2022-08-31T16:09:07.644Z"
   },
   {
    "duration": 5,
    "start_time": "2022-08-31T16:46:32.459Z"
   },
   {
    "duration": 5,
    "start_time": "2022-08-31T16:46:56.864Z"
   },
   {
    "duration": 5,
    "start_time": "2022-08-31T16:47:48.252Z"
   },
   {
    "duration": 6,
    "start_time": "2022-08-31T16:47:51.955Z"
   },
   {
    "duration": 9,
    "start_time": "2022-08-31T16:49:05.146Z"
   },
   {
    "duration": 4,
    "start_time": "2022-08-31T16:51:34.905Z"
   },
   {
    "duration": 9,
    "start_time": "2022-08-31T16:51:48.825Z"
   },
   {
    "duration": 9,
    "start_time": "2022-08-31T16:52:26.401Z"
   },
   {
    "duration": 3,
    "start_time": "2022-08-31T16:53:10.702Z"
   },
   {
    "duration": 12,
    "start_time": "2022-08-31T16:53:56.116Z"
   },
   {
    "duration": 7,
    "start_time": "2022-08-31T16:54:23.073Z"
   },
   {
    "duration": 6,
    "start_time": "2022-08-31T16:54:26.849Z"
   },
   {
    "duration": 48,
    "start_time": "2022-08-31T16:54:46.651Z"
   },
   {
    "duration": 4,
    "start_time": "2022-08-31T16:54:53.036Z"
   },
   {
    "duration": 6,
    "start_time": "2022-08-31T16:56:44.203Z"
   },
   {
    "duration": 5,
    "start_time": "2022-08-31T16:56:47.304Z"
   },
   {
    "duration": 5,
    "start_time": "2022-08-31T16:57:35.473Z"
   },
   {
    "duration": 6,
    "start_time": "2022-08-31T17:01:50.102Z"
   },
   {
    "duration": 6,
    "start_time": "2022-08-31T17:09:24.372Z"
   },
   {
    "duration": 6,
    "start_time": "2022-08-31T17:09:48.049Z"
   },
   {
    "duration": 4,
    "start_time": "2022-08-31T17:10:15.173Z"
   },
   {
    "duration": 2,
    "start_time": "2022-08-31T17:17:18.593Z"
   },
   {
    "duration": 5,
    "start_time": "2022-08-31T17:34:40.924Z"
   },
   {
    "duration": 14,
    "start_time": "2022-08-31T17:35:09.870Z"
   },
   {
    "duration": 8,
    "start_time": "2022-08-31T17:35:45.599Z"
   },
   {
    "duration": 8,
    "start_time": "2022-08-31T17:35:59.222Z"
   },
   {
    "duration": 6,
    "start_time": "2022-08-31T17:36:10.316Z"
   },
   {
    "duration": 6,
    "start_time": "2022-08-31T17:37:00.140Z"
   },
   {
    "duration": 6,
    "start_time": "2022-08-31T17:37:26.842Z"
   },
   {
    "duration": 13,
    "start_time": "2022-08-31T17:38:40.748Z"
   },
   {
    "duration": 7,
    "start_time": "2022-08-31T17:39:00.331Z"
   },
   {
    "duration": 8,
    "start_time": "2022-08-31T17:39:05.212Z"
   },
   {
    "duration": 4,
    "start_time": "2022-08-31T17:39:47.241Z"
   },
   {
    "duration": 18,
    "start_time": "2022-08-31T17:39:53.877Z"
   },
   {
    "duration": 7,
    "start_time": "2022-08-31T17:40:11.148Z"
   },
   {
    "duration": 9,
    "start_time": "2022-08-31T17:40:46.229Z"
   },
   {
    "duration": 8,
    "start_time": "2022-08-31T17:40:53.687Z"
   },
   {
    "duration": 5,
    "start_time": "2022-08-31T17:42:47.160Z"
   },
   {
    "duration": 5,
    "start_time": "2022-08-31T17:42:56.028Z"
   },
   {
    "duration": 5,
    "start_time": "2022-08-31T17:45:06.789Z"
   },
   {
    "duration": 3,
    "start_time": "2022-08-31T17:46:30.028Z"
   },
   {
    "duration": 5,
    "start_time": "2022-08-31T17:46:34.554Z"
   },
   {
    "duration": 38,
    "start_time": "2022-08-31T17:46:47.902Z"
   },
   {
    "duration": 10,
    "start_time": "2022-08-31T17:46:55.242Z"
   },
   {
    "duration": 12,
    "start_time": "2022-08-31T17:48:38.227Z"
   },
   {
    "duration": 1558,
    "start_time": "2022-08-31T18:09:23.607Z"
   },
   {
    "duration": 16,
    "start_time": "2022-08-31T18:09:41.643Z"
   },
   {
    "duration": 12,
    "start_time": "2022-08-31T18:10:24.715Z"
   },
   {
    "duration": 24,
    "start_time": "2022-08-31T18:11:29.909Z"
   },
   {
    "duration": 4,
    "start_time": "2022-08-31T18:33:35.303Z"
   },
   {
    "duration": 7,
    "start_time": "2022-08-31T18:33:49.971Z"
   },
   {
    "duration": 9,
    "start_time": "2022-08-31T18:37:55.244Z"
   },
   {
    "duration": 7,
    "start_time": "2022-08-31T18:38:11.351Z"
   },
   {
    "duration": 13,
    "start_time": "2022-08-31T18:44:47.204Z"
   },
   {
    "duration": 6,
    "start_time": "2022-08-31T18:58:56.933Z"
   },
   {
    "duration": 5,
    "start_time": "2022-08-31T18:59:31.171Z"
   },
   {
    "duration": 23,
    "start_time": "2022-08-31T18:59:38.183Z"
   },
   {
    "duration": 8,
    "start_time": "2022-08-31T19:01:01.253Z"
   },
   {
    "duration": 4,
    "start_time": "2022-08-31T19:03:33.853Z"
   },
   {
    "duration": 16,
    "start_time": "2022-08-31T19:03:36.742Z"
   },
   {
    "duration": 16,
    "start_time": "2022-08-31T19:04:08.703Z"
   },
   {
    "duration": 20,
    "start_time": "2022-08-31T19:05:44.801Z"
   },
   {
    "duration": 4,
    "start_time": "2022-08-31T19:07:01.495Z"
   },
   {
    "duration": 7,
    "start_time": "2022-08-31T19:07:04.183Z"
   },
   {
    "duration": 3,
    "start_time": "2022-08-31T19:07:11.318Z"
   },
   {
    "duration": 3,
    "start_time": "2022-08-31T19:07:13.753Z"
   },
   {
    "duration": 6,
    "start_time": "2022-08-31T19:07:17.423Z"
   },
   {
    "duration": 133,
    "start_time": "2022-08-31T19:07:47.586Z"
   },
   {
    "duration": 14,
    "start_time": "2022-08-31T19:07:47.720Z"
   },
   {
    "duration": 24,
    "start_time": "2022-08-31T19:07:47.735Z"
   },
   {
    "duration": 14,
    "start_time": "2022-08-31T19:07:47.761Z"
   },
   {
    "duration": 12,
    "start_time": "2022-08-31T19:07:47.777Z"
   },
   {
    "duration": 22,
    "start_time": "2022-08-31T19:07:47.790Z"
   },
   {
    "duration": 45,
    "start_time": "2022-08-31T19:07:47.813Z"
   },
   {
    "duration": 32,
    "start_time": "2022-08-31T19:07:47.860Z"
   },
   {
    "duration": 77,
    "start_time": "2022-08-31T19:07:47.894Z"
   },
   {
    "duration": 26,
    "start_time": "2022-08-31T19:07:47.973Z"
   },
   {
    "duration": 4,
    "start_time": "2022-08-31T19:07:48.000Z"
   },
   {
    "duration": 13,
    "start_time": "2022-08-31T19:07:48.006Z"
   },
   {
    "duration": 42,
    "start_time": "2022-08-31T19:07:48.021Z"
   },
   {
    "duration": 10,
    "start_time": "2022-08-31T19:07:48.066Z"
   },
   {
    "duration": 4,
    "start_time": "2022-08-31T19:07:48.078Z"
   },
   {
    "duration": 11,
    "start_time": "2022-08-31T19:07:48.083Z"
   },
   {
    "duration": 7,
    "start_time": "2022-08-31T19:07:48.095Z"
   },
   {
    "duration": 6,
    "start_time": "2022-08-31T19:07:48.103Z"
   },
   {
    "duration": 9,
    "start_time": "2022-08-31T19:07:48.111Z"
   },
   {
    "duration": 3,
    "start_time": "2022-08-31T19:07:48.121Z"
   },
   {
    "duration": 33,
    "start_time": "2022-08-31T19:07:48.157Z"
   },
   {
    "duration": 5,
    "start_time": "2022-08-31T19:07:48.191Z"
   },
   {
    "duration": 7,
    "start_time": "2022-08-31T19:07:48.197Z"
   },
   {
    "duration": 5,
    "start_time": "2022-08-31T19:07:48.205Z"
   },
   {
    "duration": 55,
    "start_time": "2022-08-31T19:07:48.211Z"
   },
   {
    "duration": 2,
    "start_time": "2022-08-31T19:07:48.268Z"
   },
   {
    "duration": 5,
    "start_time": "2022-08-31T19:07:48.273Z"
   },
   {
    "duration": 4,
    "start_time": "2022-08-31T19:07:48.280Z"
   },
   {
    "duration": 4,
    "start_time": "2022-08-31T19:07:48.286Z"
   },
   {
    "duration": 8,
    "start_time": "2022-08-31T19:07:48.291Z"
   },
   {
    "duration": 14,
    "start_time": "2022-08-31T19:07:48.301Z"
   },
   {
    "duration": 2,
    "start_time": "2022-08-31T19:07:48.316Z"
   },
   {
    "duration": 37,
    "start_time": "2022-08-31T19:07:48.320Z"
   },
   {
    "duration": 5,
    "start_time": "2022-08-31T19:07:48.358Z"
   },
   {
    "duration": 4,
    "start_time": "2022-08-31T19:07:48.365Z"
   },
   {
    "duration": 4,
    "start_time": "2022-08-31T19:07:48.371Z"
   },
   {
    "duration": 6,
    "start_time": "2022-08-31T19:07:48.377Z"
   },
   {
    "duration": 4,
    "start_time": "2022-08-31T19:07:48.385Z"
   },
   {
    "duration": 5,
    "start_time": "2022-08-31T19:07:48.390Z"
   },
   {
    "duration": 44,
    "start_time": "2022-08-31T19:07:48.396Z"
   },
   {
    "duration": 30,
    "start_time": "2022-08-31T19:07:48.441Z"
   },
   {
    "duration": 13,
    "start_time": "2022-08-31T19:07:48.472Z"
   },
   {
    "duration": 2,
    "start_time": "2022-08-31T19:07:48.487Z"
   },
   {
    "duration": 5,
    "start_time": "2022-08-31T19:07:48.491Z"
   },
   {
    "duration": 18,
    "start_time": "2022-08-31T19:07:48.497Z"
   },
   {
    "duration": 3,
    "start_time": "2022-08-31T19:07:48.517Z"
   },
   {
    "duration": 14,
    "start_time": "2022-08-31T19:07:48.521Z"
   },
   {
    "duration": 0,
    "start_time": "2022-08-31T19:07:48.557Z"
   },
   {
    "duration": 0,
    "start_time": "2022-08-31T19:07:48.558Z"
   },
   {
    "duration": 0,
    "start_time": "2022-08-31T19:07:48.559Z"
   },
   {
    "duration": 0,
    "start_time": "2022-08-31T19:07:48.560Z"
   },
   {
    "duration": 0,
    "start_time": "2022-08-31T19:07:48.561Z"
   },
   {
    "duration": 0,
    "start_time": "2022-08-31T19:07:48.562Z"
   },
   {
    "duration": 0,
    "start_time": "2022-08-31T19:07:48.564Z"
   },
   {
    "duration": 0,
    "start_time": "2022-08-31T19:07:48.565Z"
   },
   {
    "duration": 0,
    "start_time": "2022-08-31T19:07:48.566Z"
   },
   {
    "duration": 0,
    "start_time": "2022-08-31T19:07:48.567Z"
   },
   {
    "duration": 0,
    "start_time": "2022-08-31T19:07:48.568Z"
   },
   {
    "duration": 0,
    "start_time": "2022-08-31T19:07:48.569Z"
   },
   {
    "duration": 0,
    "start_time": "2022-08-31T19:07:48.570Z"
   },
   {
    "duration": 0,
    "start_time": "2022-08-31T19:07:48.572Z"
   },
   {
    "duration": 0,
    "start_time": "2022-08-31T19:07:48.572Z"
   },
   {
    "duration": 0,
    "start_time": "2022-08-31T19:07:48.574Z"
   },
   {
    "duration": 0,
    "start_time": "2022-08-31T19:07:48.575Z"
   },
   {
    "duration": 0,
    "start_time": "2022-08-31T19:07:48.576Z"
   },
   {
    "duration": 0,
    "start_time": "2022-08-31T19:07:48.577Z"
   },
   {
    "duration": 0,
    "start_time": "2022-08-31T19:07:48.578Z"
   },
   {
    "duration": 0,
    "start_time": "2022-08-31T19:07:48.578Z"
   },
   {
    "duration": 0,
    "start_time": "2022-08-31T19:07:48.580Z"
   },
   {
    "duration": 0,
    "start_time": "2022-08-31T19:07:48.580Z"
   },
   {
    "duration": 0,
    "start_time": "2022-08-31T19:07:48.581Z"
   },
   {
    "duration": 0,
    "start_time": "2022-08-31T19:07:48.582Z"
   },
   {
    "duration": 0,
    "start_time": "2022-08-31T19:07:48.583Z"
   },
   {
    "duration": 0,
    "start_time": "2022-08-31T19:07:48.584Z"
   },
   {
    "duration": 0,
    "start_time": "2022-08-31T19:07:48.585Z"
   },
   {
    "duration": 0,
    "start_time": "2022-08-31T19:07:48.586Z"
   },
   {
    "duration": 0,
    "start_time": "2022-08-31T19:07:48.587Z"
   },
   {
    "duration": 0,
    "start_time": "2022-08-31T19:07:48.588Z"
   },
   {
    "duration": 0,
    "start_time": "2022-08-31T19:07:48.589Z"
   },
   {
    "duration": 5,
    "start_time": "2022-08-31T19:08:19.782Z"
   },
   {
    "duration": 6,
    "start_time": "2022-08-31T19:08:35.244Z"
   },
   {
    "duration": 5,
    "start_time": "2022-08-31T19:08:38.035Z"
   },
   {
    "duration": 899,
    "start_time": "2022-08-31T19:08:47.110Z"
   },
   {
    "duration": 8,
    "start_time": "2022-08-31T19:09:51.312Z"
   },
   {
    "duration": 9,
    "start_time": "2022-08-31T19:10:12.428Z"
   },
   {
    "duration": 9,
    "start_time": "2022-08-31T19:10:14.492Z"
   },
   {
    "duration": 6,
    "start_time": "2022-08-31T19:16:26.538Z"
   },
   {
    "duration": 13,
    "start_time": "2022-08-31T19:16:36.322Z"
   },
   {
    "duration": 22,
    "start_time": "2022-08-31T19:16:52.141Z"
   },
   {
    "duration": 22,
    "start_time": "2022-08-31T19:17:10.102Z"
   },
   {
    "duration": 24,
    "start_time": "2022-08-31T19:17:44.799Z"
   },
   {
    "duration": 26,
    "start_time": "2022-08-31T19:18:03.291Z"
   },
   {
    "duration": 25,
    "start_time": "2022-08-31T19:19:33.641Z"
   },
   {
    "duration": 27,
    "start_time": "2022-08-31T19:19:40.210Z"
   },
   {
    "duration": 25,
    "start_time": "2022-08-31T19:19:46.617Z"
   },
   {
    "duration": 7,
    "start_time": "2022-08-31T19:19:54.241Z"
   },
   {
    "duration": 6,
    "start_time": "2022-08-31T19:20:20.461Z"
   },
   {
    "duration": 6,
    "start_time": "2022-08-31T19:21:14.762Z"
   },
   {
    "duration": 7,
    "start_time": "2022-08-31T19:21:55.241Z"
   },
   {
    "duration": 6,
    "start_time": "2022-08-31T19:22:19.861Z"
   },
   {
    "duration": 5,
    "start_time": "2022-08-31T19:22:26.228Z"
   },
   {
    "duration": 6,
    "start_time": "2022-08-31T19:22:37.998Z"
   },
   {
    "duration": 28,
    "start_time": "2022-08-31T20:00:31.545Z"
   },
   {
    "duration": 8,
    "start_time": "2022-08-31T20:10:45.087Z"
   }
  ],
  "kernelspec": {
   "display_name": "Python 3",
   "language": "python",
   "name": "python3"
  },
  "language_info": {
   "codemirror_mode": {
    "name": "ipython",
    "version": 3
   },
   "file_extension": ".py",
   "mimetype": "text/x-python",
   "name": "python",
   "nbconvert_exporter": "python",
   "pygments_lexer": "ipython3",
   "version": "3.8.5"
  },
  "toc": {
   "base_numbering": 1,
   "nav_menu": {},
   "number_sections": true,
   "sideBar": true,
   "skip_h1_title": true,
   "title_cell": "Table of Contents",
   "title_sidebar": "Contents",
   "toc_cell": true,
   "toc_position": {},
   "toc_section_display": true,
   "toc_window_display": true
  },
  "toc-autonumbering": true,
  "toc-showmarkdowntxt": false
 },
 "nbformat": 4,
 "nbformat_minor": 4
}
