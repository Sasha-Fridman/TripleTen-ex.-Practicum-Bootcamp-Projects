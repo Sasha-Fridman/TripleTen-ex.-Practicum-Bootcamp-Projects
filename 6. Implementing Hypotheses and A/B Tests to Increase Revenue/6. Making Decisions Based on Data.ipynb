{
 "cells": [
  {
   "cell_type": "markdown",
   "metadata": {},
   "source": [
    "# Project description\n",
    "\n",
    "**The task is to boost revenues for a major online store** by prioritizing hypotheses, launching an A/B test, and comprehensive result analysis.\n"
   ]
  },
  {
   "cell_type": "markdown",
   "metadata": {},
   "source": [
    "## Description of the data\n",
    "\n",
    "**Data used in the first part of the project:** \n",
    "\n",
    "file: **hypotheses_us.csv**:  \n",
    "- `Hypotheses` — brief descriptions of the hypotheses  \n",
    "- `Reach` — user reach, on a scale of one to ten  \n",
    "- `Impact` — impact on users, on a scale of one to ten  \n",
    "- `Confidence` — confidence in the hypothesis, on a scale of one to ten  \n",
    "- `Effort` — the resources required to test a hypothesis, on a scale of one to ten. The higher the Effort value, the more resource-intensive the test.  \n",
    "\n",
    "<br>\n",
    "\n",
    "**Data used in the second part of the project:**\n",
    "\n",
    "file: **orders_us.csv**\n",
    "- `transactionId` — order identifier\n",
    "- `visitorId` — identifier of the user who placed the order\n",
    "- `date` — of the order\n",
    "- `revenue` — from the order\n",
    "- `group` — the A/B test group that the user belongs to\n",
    "\n",
    "file: **datasets/visits_us.csv**\n",
    "- `date` — date\n",
    "- `group` — A/B test group\n",
    "- `visits` — the number of visits on the date specified in the A/B test group specified"
   ]
  },
  {
   "cell_type": "markdown",
   "metadata": {},
   "source": [
    "# Downloading the data and preparing it for analysis\n"
   ]
  },
  {
   "cell_type": "markdown",
   "metadata": {},
   "source": [
    "## Initialization"
   ]
  },
  {
   "cell_type": "code",
   "execution_count": 215,
   "metadata": {},
   "outputs": [],
   "source": [
    "# Loading the libraries\n",
    "import pandas as pd\n",
    "import numpy as np\n",
    "import seaborn as sns\n",
    "import sidetable as stb\n",
    "import matplotlib.pyplot as plt\n",
    "import plotly.express as px\n",
    "import plotly.graph_objects as go\n",
    "from scipy import stats\n",
    "import datetime as dt\n",
    "from datetime import timedelta\n",
    "\n",
    "# printing more than 1 output\n",
    "from IPython.core.interactiveshell import InteractiveShell\n",
    "InteractiveShell.ast_node_interactivity = 'all'\n",
    "\n",
    "# making possible to display all columns/rows in output\n",
    "pd.set_option('display.max_columns', 100)\n",
    "pd.set_option('display.max_rows', 100)\n",
    "pd.set_option('display.max_colwidth', 100)"
   ]
  },
  {
   "cell_type": "markdown",
   "metadata": {},
   "source": [
    "## Loading the data"
   ]
  },
  {
   "cell_type": "code",
   "execution_count": 7,
   "metadata": {},
   "outputs": [],
   "source": [
    "# Load the data\n",
    "try:    \n",
    "    hypotheses_df = pd.read_csv(r'C:\\Users\\4from\\Desktop\\Practicum\\8. AB\\datasets\\hypotheses_us.csv', sep=';')\n",
    "    orders_df = pd.read_csv(r'C:\\Users\\4from\\Desktop\\Practicum\\8. AB\\datasets\\orders_us.csv')\n",
    "    visits_df = pd.read_csv(r'C:\\Users\\4from\\Desktop\\Practicum\\8. AB\\datasets\\visits_us.csv')\n",
    "\n",
    "except:\n",
    "    hypotheses_df = pd.read_csv('/datasets/hypotheses_us.csv')\n",
    "    orders_df = pd.read_csv('/datasets/orders_us.csv')\n",
    "    visits_df = pd.read_csv('/datasets/visits_us.csv')\n",
    "    \n",
    "# setting the names to our dataframes so we can refer to them later on     \n",
    "hypotheses_df.name = 'hypotheses_df'   \n",
    "orders_df.name = 'orders_df'\n",
    "visits_df.name = 'visits_df'"
   ]
  },
  {
   "cell_type": "markdown",
   "metadata": {},
   "source": [
    "Since we have several interconnected dataframes it looks reasonable to create a unified approach for checking them. For each dataframe we will study its' concise summary, overview - top rows, descriptive statistics, missing values and duplicates if any. Then we will address our findings."
   ]
  },
  {
   "cell_type": "markdown",
   "metadata": {},
   "source": [
    "## Studying the data"
   ]
  },
  {
   "cell_type": "code",
   "execution_count": 10,
   "metadata": {},
   "outputs": [],
   "source": [
    "data = [hypotheses_df, orders_df, visits_df]"
   ]
  },
  {
   "cell_type": "code",
   "execution_count": 11,
   "metadata": {},
   "outputs": [
    {
     "name": "stdout",
     "output_type": "stream",
     "text": [
      "\n",
      " Concise summary: hypotheses_df\n",
      "<class 'pandas.core.frame.DataFrame'>\n",
      "RangeIndex: 9 entries, 0 to 8\n",
      "Data columns (total 5 columns):\n",
      " #   Column      Non-Null Count  Dtype \n",
      "---  ------      --------------  ----- \n",
      " 0   Hypothesis  9 non-null      object\n",
      " 1   Reach       9 non-null      int64 \n",
      " 2   Impact      9 non-null      int64 \n",
      " 3   Confidence  9 non-null      int64 \n",
      " 4   Effort      9 non-null      int64 \n",
      "dtypes: int64(4), object(1)\n",
      "memory usage: 1.6 KB\n",
      "\n",
      " Top rows: hypotheses_df\n"
     ]
    },
    {
     "data": {
      "text/html": [
       "<div>\n",
       "<style scoped>\n",
       "    .dataframe tbody tr th:only-of-type {\n",
       "        vertical-align: middle;\n",
       "    }\n",
       "\n",
       "    .dataframe tbody tr th {\n",
       "        vertical-align: top;\n",
       "    }\n",
       "\n",
       "    .dataframe thead th {\n",
       "        text-align: right;\n",
       "    }\n",
       "</style>\n",
       "<table border=\"1\" class=\"dataframe\">\n",
       "  <thead>\n",
       "    <tr style=\"text-align: right;\">\n",
       "      <th></th>\n",
       "      <th>Hypothesis</th>\n",
       "      <th>Reach</th>\n",
       "      <th>Impact</th>\n",
       "      <th>Confidence</th>\n",
       "      <th>Effort</th>\n",
       "    </tr>\n",
       "  </thead>\n",
       "  <tbody>\n",
       "    <tr>\n",
       "      <th>0</th>\n",
       "      <td>Add two new channels for attracting traffic. This will bring 30% more users</td>\n",
       "      <td>3</td>\n",
       "      <td>10</td>\n",
       "      <td>8</td>\n",
       "      <td>6</td>\n",
       "    </tr>\n",
       "    <tr>\n",
       "      <th>1</th>\n",
       "      <td>Launch your own delivery service. This will shorten delivery time</td>\n",
       "      <td>2</td>\n",
       "      <td>5</td>\n",
       "      <td>4</td>\n",
       "      <td>10</td>\n",
       "    </tr>\n",
       "    <tr>\n",
       "      <th>2</th>\n",
       "      <td>Add product recommendation blocks to the store's site. This will increase conversion and average...</td>\n",
       "      <td>8</td>\n",
       "      <td>3</td>\n",
       "      <td>7</td>\n",
       "      <td>3</td>\n",
       "    </tr>\n",
       "    <tr>\n",
       "      <th>3</th>\n",
       "      <td>Change the category structure. This will increase conversion since users will find the products ...</td>\n",
       "      <td>8</td>\n",
       "      <td>3</td>\n",
       "      <td>3</td>\n",
       "      <td>8</td>\n",
       "    </tr>\n",
       "    <tr>\n",
       "      <th>4</th>\n",
       "      <td>Change the background color on the main page. This will increase user engagement</td>\n",
       "      <td>3</td>\n",
       "      <td>1</td>\n",
       "      <td>1</td>\n",
       "      <td>1</td>\n",
       "    </tr>\n",
       "  </tbody>\n",
       "</table>\n",
       "</div>"
      ],
      "text/plain": [
       "                                                                                            Hypothesis  \\\n",
       "0                          Add two new channels for attracting traffic. This will bring 30% more users   \n",
       "1                                    Launch your own delivery service. This will shorten delivery time   \n",
       "2  Add product recommendation blocks to the store's site. This will increase conversion and average...   \n",
       "3  Change the category structure. This will increase conversion since users will find the products ...   \n",
       "4                     Change the background color on the main page. This will increase user engagement   \n",
       "\n",
       "   Reach  Impact  Confidence  Effort  \n",
       "0      3      10           8       6  \n",
       "1      2       5           4      10  \n",
       "2      8       3           7       3  \n",
       "3      8       3           3       8  \n",
       "4      3       1           1       1  "
      ]
     },
     "execution_count": 11,
     "metadata": {},
     "output_type": "execute_result"
    },
    {
     "name": "stdout",
     "output_type": "stream",
     "text": [
      "\n",
      " Descriptive statistics: hypotheses_df\n"
     ]
    },
    {
     "data": {
      "text/html": [
       "<div>\n",
       "<style scoped>\n",
       "    .dataframe tbody tr th:only-of-type {\n",
       "        vertical-align: middle;\n",
       "    }\n",
       "\n",
       "    .dataframe tbody tr th {\n",
       "        vertical-align: top;\n",
       "    }\n",
       "\n",
       "    .dataframe thead th {\n",
       "        text-align: right;\n",
       "    }\n",
       "</style>\n",
       "<table border=\"1\" class=\"dataframe\">\n",
       "  <thead>\n",
       "    <tr style=\"text-align: right;\">\n",
       "      <th></th>\n",
       "      <th>Reach</th>\n",
       "      <th>Impact</th>\n",
       "      <th>Confidence</th>\n",
       "      <th>Effort</th>\n",
       "    </tr>\n",
       "  </thead>\n",
       "  <tbody>\n",
       "    <tr>\n",
       "      <th>count</th>\n",
       "      <td>9.000000</td>\n",
       "      <td>9.000000</td>\n",
       "      <td>9.000000</td>\n",
       "      <td>9.000000</td>\n",
       "    </tr>\n",
       "    <tr>\n",
       "      <th>mean</th>\n",
       "      <td>4.777778</td>\n",
       "      <td>4.777778</td>\n",
       "      <td>5.555556</td>\n",
       "      <td>4.888889</td>\n",
       "    </tr>\n",
       "    <tr>\n",
       "      <th>std</th>\n",
       "      <td>3.153481</td>\n",
       "      <td>3.192874</td>\n",
       "      <td>3.045944</td>\n",
       "      <td>2.803767</td>\n",
       "    </tr>\n",
       "    <tr>\n",
       "      <th>min</th>\n",
       "      <td>1.000000</td>\n",
       "      <td>1.000000</td>\n",
       "      <td>1.000000</td>\n",
       "      <td>1.000000</td>\n",
       "    </tr>\n",
       "    <tr>\n",
       "      <th>25%</th>\n",
       "      <td>3.000000</td>\n",
       "      <td>3.000000</td>\n",
       "      <td>3.000000</td>\n",
       "      <td>3.000000</td>\n",
       "    </tr>\n",
       "    <tr>\n",
       "      <th>50%</th>\n",
       "      <td>3.000000</td>\n",
       "      <td>3.000000</td>\n",
       "      <td>7.000000</td>\n",
       "      <td>5.000000</td>\n",
       "    </tr>\n",
       "    <tr>\n",
       "      <th>75%</th>\n",
       "      <td>8.000000</td>\n",
       "      <td>7.000000</td>\n",
       "      <td>8.000000</td>\n",
       "      <td>6.000000</td>\n",
       "    </tr>\n",
       "    <tr>\n",
       "      <th>max</th>\n",
       "      <td>10.000000</td>\n",
       "      <td>10.000000</td>\n",
       "      <td>9.000000</td>\n",
       "      <td>10.000000</td>\n",
       "    </tr>\n",
       "  </tbody>\n",
       "</table>\n",
       "</div>"
      ],
      "text/plain": [
       "           Reach     Impact  Confidence     Effort\n",
       "count   9.000000   9.000000    9.000000   9.000000\n",
       "mean    4.777778   4.777778    5.555556   4.888889\n",
       "std     3.153481   3.192874    3.045944   2.803767\n",
       "min     1.000000   1.000000    1.000000   1.000000\n",
       "25%     3.000000   3.000000    3.000000   3.000000\n",
       "50%     3.000000   3.000000    7.000000   5.000000\n",
       "75%     8.000000   7.000000    8.000000   6.000000\n",
       "max    10.000000  10.000000    9.000000  10.000000"
      ]
     },
     "execution_count": 11,
     "metadata": {},
     "output_type": "execute_result"
    },
    {
     "name": "stdout",
     "output_type": "stream",
     "text": [
      "\n",
      " Missing values: hypotheses_df\n"
     ]
    },
    {
     "data": {
      "text/html": [
       "<style type=\"text/css\">\n",
       "</style>\n",
       "<table id=\"T_91b97\">\n",
       "  <thead>\n",
       "    <tr>\n",
       "      <th class=\"blank level0\" >&nbsp;</th>\n",
       "      <th id=\"T_91b97_level0_col0\" class=\"col_heading level0 col0\" >missing</th>\n",
       "      <th id=\"T_91b97_level0_col1\" class=\"col_heading level0 col1\" >total</th>\n",
       "      <th id=\"T_91b97_level0_col2\" class=\"col_heading level0 col2\" >percent</th>\n",
       "    </tr>\n",
       "  </thead>\n",
       "  <tbody>\n",
       "    <tr>\n",
       "      <th id=\"T_91b97_level0_row0\" class=\"row_heading level0 row0\" >Hypothesis</th>\n",
       "      <td id=\"T_91b97_row0_col0\" class=\"data row0 col0\" >0</td>\n",
       "      <td id=\"T_91b97_row0_col1\" class=\"data row0 col1\" >9</td>\n",
       "      <td id=\"T_91b97_row0_col2\" class=\"data row0 col2\" >0.00%</td>\n",
       "    </tr>\n",
       "    <tr>\n",
       "      <th id=\"T_91b97_level0_row1\" class=\"row_heading level0 row1\" >Reach</th>\n",
       "      <td id=\"T_91b97_row1_col0\" class=\"data row1 col0\" >0</td>\n",
       "      <td id=\"T_91b97_row1_col1\" class=\"data row1 col1\" >9</td>\n",
       "      <td id=\"T_91b97_row1_col2\" class=\"data row1 col2\" >0.00%</td>\n",
       "    </tr>\n",
       "    <tr>\n",
       "      <th id=\"T_91b97_level0_row2\" class=\"row_heading level0 row2\" >Impact</th>\n",
       "      <td id=\"T_91b97_row2_col0\" class=\"data row2 col0\" >0</td>\n",
       "      <td id=\"T_91b97_row2_col1\" class=\"data row2 col1\" >9</td>\n",
       "      <td id=\"T_91b97_row2_col2\" class=\"data row2 col2\" >0.00%</td>\n",
       "    </tr>\n",
       "    <tr>\n",
       "      <th id=\"T_91b97_level0_row3\" class=\"row_heading level0 row3\" >Confidence</th>\n",
       "      <td id=\"T_91b97_row3_col0\" class=\"data row3 col0\" >0</td>\n",
       "      <td id=\"T_91b97_row3_col1\" class=\"data row3 col1\" >9</td>\n",
       "      <td id=\"T_91b97_row3_col2\" class=\"data row3 col2\" >0.00%</td>\n",
       "    </tr>\n",
       "    <tr>\n",
       "      <th id=\"T_91b97_level0_row4\" class=\"row_heading level0 row4\" >Effort</th>\n",
       "      <td id=\"T_91b97_row4_col0\" class=\"data row4 col0\" >0</td>\n",
       "      <td id=\"T_91b97_row4_col1\" class=\"data row4 col1\" >9</td>\n",
       "      <td id=\"T_91b97_row4_col2\" class=\"data row4 col2\" >0.00%</td>\n",
       "    </tr>\n",
       "  </tbody>\n",
       "</table>\n"
      ],
      "text/plain": [
       "<pandas.io.formats.style.Styler at 0x2a2fe1ae3d0>"
      ]
     },
     "execution_count": 11,
     "metadata": {},
     "output_type": "execute_result"
    },
    {
     "name": "stdout",
     "output_type": "stream",
     "text": [
      "\n",
      " Number of duplicates: hypotheses_df\n"
     ]
    },
    {
     "data": {
      "text/plain": [
       "0"
      ]
     },
     "execution_count": 11,
     "metadata": {},
     "output_type": "execute_result"
    },
    {
     "name": "stdout",
     "output_type": "stream",
     "text": [
      "Share of duplicates: 0.0 %\n",
      "--------------------------\n",
      "Duplicates:\n",
      "Empty DataFrame\n",
      "Columns: [Hypothesis, Reach, Impact, Confidence, Effort]\n",
      "Index: []\n",
      "\n",
      " **********************************************************************\n",
      "\n",
      " Concise summary: orders_df\n",
      "<class 'pandas.core.frame.DataFrame'>\n",
      "RangeIndex: 1197 entries, 0 to 1196\n",
      "Data columns (total 5 columns):\n",
      " #   Column         Non-Null Count  Dtype  \n",
      "---  ------         --------------  -----  \n",
      " 0   transactionId  1197 non-null   int64  \n",
      " 1   visitorId      1197 non-null   int64  \n",
      " 2   date           1197 non-null   object \n",
      " 3   revenue        1197 non-null   float64\n",
      " 4   group          1197 non-null   object \n",
      "dtypes: float64(1), int64(2), object(2)\n",
      "memory usage: 174.3 KB\n",
      "\n",
      " Top rows: orders_df\n"
     ]
    },
    {
     "data": {
      "text/html": [
       "<div>\n",
       "<style scoped>\n",
       "    .dataframe tbody tr th:only-of-type {\n",
       "        vertical-align: middle;\n",
       "    }\n",
       "\n",
       "    .dataframe tbody tr th {\n",
       "        vertical-align: top;\n",
       "    }\n",
       "\n",
       "    .dataframe thead th {\n",
       "        text-align: right;\n",
       "    }\n",
       "</style>\n",
       "<table border=\"1\" class=\"dataframe\">\n",
       "  <thead>\n",
       "    <tr style=\"text-align: right;\">\n",
       "      <th></th>\n",
       "      <th>transactionId</th>\n",
       "      <th>visitorId</th>\n",
       "      <th>date</th>\n",
       "      <th>revenue</th>\n",
       "      <th>group</th>\n",
       "    </tr>\n",
       "  </thead>\n",
       "  <tbody>\n",
       "    <tr>\n",
       "      <th>0</th>\n",
       "      <td>3667963787</td>\n",
       "      <td>3312258926</td>\n",
       "      <td>2019-08-15</td>\n",
       "      <td>30.4</td>\n",
       "      <td>B</td>\n",
       "    </tr>\n",
       "    <tr>\n",
       "      <th>1</th>\n",
       "      <td>2804400009</td>\n",
       "      <td>3642806036</td>\n",
       "      <td>2019-08-15</td>\n",
       "      <td>15.2</td>\n",
       "      <td>B</td>\n",
       "    </tr>\n",
       "    <tr>\n",
       "      <th>2</th>\n",
       "      <td>2961555356</td>\n",
       "      <td>4069496402</td>\n",
       "      <td>2019-08-15</td>\n",
       "      <td>10.2</td>\n",
       "      <td>A</td>\n",
       "    </tr>\n",
       "    <tr>\n",
       "      <th>3</th>\n",
       "      <td>3797467345</td>\n",
       "      <td>1196621759</td>\n",
       "      <td>2019-08-15</td>\n",
       "      <td>155.1</td>\n",
       "      <td>B</td>\n",
       "    </tr>\n",
       "    <tr>\n",
       "      <th>4</th>\n",
       "      <td>2282983706</td>\n",
       "      <td>2322279887</td>\n",
       "      <td>2019-08-15</td>\n",
       "      <td>40.5</td>\n",
       "      <td>B</td>\n",
       "    </tr>\n",
       "  </tbody>\n",
       "</table>\n",
       "</div>"
      ],
      "text/plain": [
       "   transactionId   visitorId        date  revenue group\n",
       "0     3667963787  3312258926  2019-08-15     30.4     B\n",
       "1     2804400009  3642806036  2019-08-15     15.2     B\n",
       "2     2961555356  4069496402  2019-08-15     10.2     A\n",
       "3     3797467345  1196621759  2019-08-15    155.1     B\n",
       "4     2282983706  2322279887  2019-08-15     40.5     B"
      ]
     },
     "execution_count": 11,
     "metadata": {},
     "output_type": "execute_result"
    },
    {
     "name": "stdout",
     "output_type": "stream",
     "text": [
      "\n",
      " Descriptive statistics: orders_df\n"
     ]
    },
    {
     "data": {
      "text/html": [
       "<div>\n",
       "<style scoped>\n",
       "    .dataframe tbody tr th:only-of-type {\n",
       "        vertical-align: middle;\n",
       "    }\n",
       "\n",
       "    .dataframe tbody tr th {\n",
       "        vertical-align: top;\n",
       "    }\n",
       "\n",
       "    .dataframe thead th {\n",
       "        text-align: right;\n",
       "    }\n",
       "</style>\n",
       "<table border=\"1\" class=\"dataframe\">\n",
       "  <thead>\n",
       "    <tr style=\"text-align: right;\">\n",
       "      <th></th>\n",
       "      <th>transactionId</th>\n",
       "      <th>visitorId</th>\n",
       "      <th>revenue</th>\n",
       "    </tr>\n",
       "  </thead>\n",
       "  <tbody>\n",
       "    <tr>\n",
       "      <th>count</th>\n",
       "      <td>1.197000e+03</td>\n",
       "      <td>1.197000e+03</td>\n",
       "      <td>1197.000000</td>\n",
       "    </tr>\n",
       "    <tr>\n",
       "      <th>mean</th>\n",
       "      <td>2.155621e+09</td>\n",
       "      <td>2.165960e+09</td>\n",
       "      <td>131.491646</td>\n",
       "    </tr>\n",
       "    <tr>\n",
       "      <th>std</th>\n",
       "      <td>1.229085e+09</td>\n",
       "      <td>1.236014e+09</td>\n",
       "      <td>603.004729</td>\n",
       "    </tr>\n",
       "    <tr>\n",
       "      <th>min</th>\n",
       "      <td>1.062393e+06</td>\n",
       "      <td>5.114589e+06</td>\n",
       "      <td>5.000000</td>\n",
       "    </tr>\n",
       "    <tr>\n",
       "      <th>25%</th>\n",
       "      <td>1.166776e+09</td>\n",
       "      <td>1.111826e+09</td>\n",
       "      <td>20.800000</td>\n",
       "    </tr>\n",
       "    <tr>\n",
       "      <th>50%</th>\n",
       "      <td>2.145194e+09</td>\n",
       "      <td>2.217985e+09</td>\n",
       "      <td>50.200000</td>\n",
       "    </tr>\n",
       "    <tr>\n",
       "      <th>75%</th>\n",
       "      <td>3.237740e+09</td>\n",
       "      <td>3.177606e+09</td>\n",
       "      <td>130.400000</td>\n",
       "    </tr>\n",
       "    <tr>\n",
       "      <th>max</th>\n",
       "      <td>4.293856e+09</td>\n",
       "      <td>4.283872e+09</td>\n",
       "      <td>19920.400000</td>\n",
       "    </tr>\n",
       "  </tbody>\n",
       "</table>\n",
       "</div>"
      ],
      "text/plain": [
       "       transactionId     visitorId       revenue\n",
       "count   1.197000e+03  1.197000e+03   1197.000000\n",
       "mean    2.155621e+09  2.165960e+09    131.491646\n",
       "std     1.229085e+09  1.236014e+09    603.004729\n",
       "min     1.062393e+06  5.114589e+06      5.000000\n",
       "25%     1.166776e+09  1.111826e+09     20.800000\n",
       "50%     2.145194e+09  2.217985e+09     50.200000\n",
       "75%     3.237740e+09  3.177606e+09    130.400000\n",
       "max     4.293856e+09  4.283872e+09  19920.400000"
      ]
     },
     "execution_count": 11,
     "metadata": {},
     "output_type": "execute_result"
    },
    {
     "name": "stdout",
     "output_type": "stream",
     "text": [
      "\n",
      " Missing values: orders_df\n"
     ]
    },
    {
     "data": {
      "text/html": [
       "<style type=\"text/css\">\n",
       "</style>\n",
       "<table id=\"T_ac9ee\">\n",
       "  <thead>\n",
       "    <tr>\n",
       "      <th class=\"blank level0\" >&nbsp;</th>\n",
       "      <th id=\"T_ac9ee_level0_col0\" class=\"col_heading level0 col0\" >missing</th>\n",
       "      <th id=\"T_ac9ee_level0_col1\" class=\"col_heading level0 col1\" >total</th>\n",
       "      <th id=\"T_ac9ee_level0_col2\" class=\"col_heading level0 col2\" >percent</th>\n",
       "    </tr>\n",
       "  </thead>\n",
       "  <tbody>\n",
       "    <tr>\n",
       "      <th id=\"T_ac9ee_level0_row0\" class=\"row_heading level0 row0\" >transactionId</th>\n",
       "      <td id=\"T_ac9ee_row0_col0\" class=\"data row0 col0\" >0</td>\n",
       "      <td id=\"T_ac9ee_row0_col1\" class=\"data row0 col1\" >1,197</td>\n",
       "      <td id=\"T_ac9ee_row0_col2\" class=\"data row0 col2\" >0.00%</td>\n",
       "    </tr>\n",
       "    <tr>\n",
       "      <th id=\"T_ac9ee_level0_row1\" class=\"row_heading level0 row1\" >visitorId</th>\n",
       "      <td id=\"T_ac9ee_row1_col0\" class=\"data row1 col0\" >0</td>\n",
       "      <td id=\"T_ac9ee_row1_col1\" class=\"data row1 col1\" >1,197</td>\n",
       "      <td id=\"T_ac9ee_row1_col2\" class=\"data row1 col2\" >0.00%</td>\n",
       "    </tr>\n",
       "    <tr>\n",
       "      <th id=\"T_ac9ee_level0_row2\" class=\"row_heading level0 row2\" >date</th>\n",
       "      <td id=\"T_ac9ee_row2_col0\" class=\"data row2 col0\" >0</td>\n",
       "      <td id=\"T_ac9ee_row2_col1\" class=\"data row2 col1\" >1,197</td>\n",
       "      <td id=\"T_ac9ee_row2_col2\" class=\"data row2 col2\" >0.00%</td>\n",
       "    </tr>\n",
       "    <tr>\n",
       "      <th id=\"T_ac9ee_level0_row3\" class=\"row_heading level0 row3\" >revenue</th>\n",
       "      <td id=\"T_ac9ee_row3_col0\" class=\"data row3 col0\" >0</td>\n",
       "      <td id=\"T_ac9ee_row3_col1\" class=\"data row3 col1\" >1,197</td>\n",
       "      <td id=\"T_ac9ee_row3_col2\" class=\"data row3 col2\" >0.00%</td>\n",
       "    </tr>\n",
       "    <tr>\n",
       "      <th id=\"T_ac9ee_level0_row4\" class=\"row_heading level0 row4\" >group</th>\n",
       "      <td id=\"T_ac9ee_row4_col0\" class=\"data row4 col0\" >0</td>\n",
       "      <td id=\"T_ac9ee_row4_col1\" class=\"data row4 col1\" >1,197</td>\n",
       "      <td id=\"T_ac9ee_row4_col2\" class=\"data row4 col2\" >0.00%</td>\n",
       "    </tr>\n",
       "  </tbody>\n",
       "</table>\n"
      ],
      "text/plain": [
       "<pandas.io.formats.style.Styler at 0x2a2fe59dfd0>"
      ]
     },
     "execution_count": 11,
     "metadata": {},
     "output_type": "execute_result"
    },
    {
     "name": "stdout",
     "output_type": "stream",
     "text": [
      "\n",
      " Number of duplicates: orders_df\n"
     ]
    },
    {
     "data": {
      "text/plain": [
       "0"
      ]
     },
     "execution_count": 11,
     "metadata": {},
     "output_type": "execute_result"
    },
    {
     "name": "stdout",
     "output_type": "stream",
     "text": [
      "Share of duplicates: 0.0 %\n",
      "--------------------------\n",
      "Duplicates:\n",
      "Empty DataFrame\n",
      "Columns: [transactionId, visitorId, date, revenue, group]\n",
      "Index: []\n",
      "\n",
      " **********************************************************************\n",
      "\n",
      " Concise summary: visits_df\n",
      "<class 'pandas.core.frame.DataFrame'>\n",
      "RangeIndex: 62 entries, 0 to 61\n",
      "Data columns (total 3 columns):\n",
      " #   Column  Non-Null Count  Dtype \n",
      "---  ------  --------------  ----- \n",
      " 0   date    62 non-null     object\n",
      " 1   group   62 non-null     object\n",
      " 2   visits  62 non-null     int64 \n",
      "dtypes: int64(1), object(2)\n",
      "memory usage: 8.2 KB\n",
      "\n",
      " Top rows: visits_df\n"
     ]
    },
    {
     "data": {
      "text/html": [
       "<div>\n",
       "<style scoped>\n",
       "    .dataframe tbody tr th:only-of-type {\n",
       "        vertical-align: middle;\n",
       "    }\n",
       "\n",
       "    .dataframe tbody tr th {\n",
       "        vertical-align: top;\n",
       "    }\n",
       "\n",
       "    .dataframe thead th {\n",
       "        text-align: right;\n",
       "    }\n",
       "</style>\n",
       "<table border=\"1\" class=\"dataframe\">\n",
       "  <thead>\n",
       "    <tr style=\"text-align: right;\">\n",
       "      <th></th>\n",
       "      <th>date</th>\n",
       "      <th>group</th>\n",
       "      <th>visits</th>\n",
       "    </tr>\n",
       "  </thead>\n",
       "  <tbody>\n",
       "    <tr>\n",
       "      <th>0</th>\n",
       "      <td>2019-08-01</td>\n",
       "      <td>A</td>\n",
       "      <td>719</td>\n",
       "    </tr>\n",
       "    <tr>\n",
       "      <th>1</th>\n",
       "      <td>2019-08-02</td>\n",
       "      <td>A</td>\n",
       "      <td>619</td>\n",
       "    </tr>\n",
       "    <tr>\n",
       "      <th>2</th>\n",
       "      <td>2019-08-03</td>\n",
       "      <td>A</td>\n",
       "      <td>507</td>\n",
       "    </tr>\n",
       "    <tr>\n",
       "      <th>3</th>\n",
       "      <td>2019-08-04</td>\n",
       "      <td>A</td>\n",
       "      <td>717</td>\n",
       "    </tr>\n",
       "    <tr>\n",
       "      <th>4</th>\n",
       "      <td>2019-08-05</td>\n",
       "      <td>A</td>\n",
       "      <td>756</td>\n",
       "    </tr>\n",
       "  </tbody>\n",
       "</table>\n",
       "</div>"
      ],
      "text/plain": [
       "         date group  visits\n",
       "0  2019-08-01     A     719\n",
       "1  2019-08-02     A     619\n",
       "2  2019-08-03     A     507\n",
       "3  2019-08-04     A     717\n",
       "4  2019-08-05     A     756"
      ]
     },
     "execution_count": 11,
     "metadata": {},
     "output_type": "execute_result"
    },
    {
     "name": "stdout",
     "output_type": "stream",
     "text": [
      "\n",
      " Descriptive statistics: visits_df\n"
     ]
    },
    {
     "data": {
      "text/html": [
       "<div>\n",
       "<style scoped>\n",
       "    .dataframe tbody tr th:only-of-type {\n",
       "        vertical-align: middle;\n",
       "    }\n",
       "\n",
       "    .dataframe tbody tr th {\n",
       "        vertical-align: top;\n",
       "    }\n",
       "\n",
       "    .dataframe thead th {\n",
       "        text-align: right;\n",
       "    }\n",
       "</style>\n",
       "<table border=\"1\" class=\"dataframe\">\n",
       "  <thead>\n",
       "    <tr style=\"text-align: right;\">\n",
       "      <th></th>\n",
       "      <th>visits</th>\n",
       "    </tr>\n",
       "  </thead>\n",
       "  <tbody>\n",
       "    <tr>\n",
       "      <th>count</th>\n",
       "      <td>62.000000</td>\n",
       "    </tr>\n",
       "    <tr>\n",
       "      <th>mean</th>\n",
       "      <td>607.290323</td>\n",
       "    </tr>\n",
       "    <tr>\n",
       "      <th>std</th>\n",
       "      <td>114.400560</td>\n",
       "    </tr>\n",
       "    <tr>\n",
       "      <th>min</th>\n",
       "      <td>361.000000</td>\n",
       "    </tr>\n",
       "    <tr>\n",
       "      <th>25%</th>\n",
       "      <td>534.000000</td>\n",
       "    </tr>\n",
       "    <tr>\n",
       "      <th>50%</th>\n",
       "      <td>624.500000</td>\n",
       "    </tr>\n",
       "    <tr>\n",
       "      <th>75%</th>\n",
       "      <td>710.500000</td>\n",
       "    </tr>\n",
       "    <tr>\n",
       "      <th>max</th>\n",
       "      <td>770.000000</td>\n",
       "    </tr>\n",
       "  </tbody>\n",
       "</table>\n",
       "</div>"
      ],
      "text/plain": [
       "           visits\n",
       "count   62.000000\n",
       "mean   607.290323\n",
       "std    114.400560\n",
       "min    361.000000\n",
       "25%    534.000000\n",
       "50%    624.500000\n",
       "75%    710.500000\n",
       "max    770.000000"
      ]
     },
     "execution_count": 11,
     "metadata": {},
     "output_type": "execute_result"
    },
    {
     "name": "stdout",
     "output_type": "stream",
     "text": [
      "\n",
      " Missing values: visits_df\n"
     ]
    },
    {
     "data": {
      "text/html": [
       "<style type=\"text/css\">\n",
       "</style>\n",
       "<table id=\"T_14c99\">\n",
       "  <thead>\n",
       "    <tr>\n",
       "      <th class=\"blank level0\" >&nbsp;</th>\n",
       "      <th id=\"T_14c99_level0_col0\" class=\"col_heading level0 col0\" >missing</th>\n",
       "      <th id=\"T_14c99_level0_col1\" class=\"col_heading level0 col1\" >total</th>\n",
       "      <th id=\"T_14c99_level0_col2\" class=\"col_heading level0 col2\" >percent</th>\n",
       "    </tr>\n",
       "  </thead>\n",
       "  <tbody>\n",
       "    <tr>\n",
       "      <th id=\"T_14c99_level0_row0\" class=\"row_heading level0 row0\" >date</th>\n",
       "      <td id=\"T_14c99_row0_col0\" class=\"data row0 col0\" >0</td>\n",
       "      <td id=\"T_14c99_row0_col1\" class=\"data row0 col1\" >62</td>\n",
       "      <td id=\"T_14c99_row0_col2\" class=\"data row0 col2\" >0.00%</td>\n",
       "    </tr>\n",
       "    <tr>\n",
       "      <th id=\"T_14c99_level0_row1\" class=\"row_heading level0 row1\" >group</th>\n",
       "      <td id=\"T_14c99_row1_col0\" class=\"data row1 col0\" >0</td>\n",
       "      <td id=\"T_14c99_row1_col1\" class=\"data row1 col1\" >62</td>\n",
       "      <td id=\"T_14c99_row1_col2\" class=\"data row1 col2\" >0.00%</td>\n",
       "    </tr>\n",
       "    <tr>\n",
       "      <th id=\"T_14c99_level0_row2\" class=\"row_heading level0 row2\" >visits</th>\n",
       "      <td id=\"T_14c99_row2_col0\" class=\"data row2 col0\" >0</td>\n",
       "      <td id=\"T_14c99_row2_col1\" class=\"data row2 col1\" >62</td>\n",
       "      <td id=\"T_14c99_row2_col2\" class=\"data row2 col2\" >0.00%</td>\n",
       "    </tr>\n",
       "  </tbody>\n",
       "</table>\n"
      ],
      "text/plain": [
       "<pandas.io.formats.style.Styler at 0x2a2fe59dfd0>"
      ]
     },
     "execution_count": 11,
     "metadata": {},
     "output_type": "execute_result"
    },
    {
     "name": "stdout",
     "output_type": "stream",
     "text": [
      "\n",
      " Number of duplicates: visits_df\n"
     ]
    },
    {
     "data": {
      "text/plain": [
       "0"
      ]
     },
     "execution_count": 11,
     "metadata": {},
     "output_type": "execute_result"
    },
    {
     "name": "stdout",
     "output_type": "stream",
     "text": [
      "Share of duplicates: 0.0 %\n",
      "--------------------------\n",
      "Duplicates:\n",
      "Empty DataFrame\n",
      "Columns: [date, group, visits]\n",
      "Index: []\n",
      "\n",
      " **********************************************************************\n"
     ]
    }
   ],
   "source": [
    "for df in data:\n",
    "    print(f'\\n Concise summary: {df.name}') \n",
    "    df.info(memory_usage='deep') # In order to find the exact size of the data, we add the parameter memory_usage='deep'\n",
    "    print(f'\\n Top rows: {df.name}') \n",
    "    df.head(5)\n",
    "    print(f'\\n Descriptive statistics: {df.name}') \n",
    "    df.describe()\n",
    "    print(f'\\n Missing values: {df.name}') \n",
    "    df.stb.missing(style=True)\n",
    "    print(f'\\n Number of duplicates: {df.name}')\n",
    "    df.duplicated().sum()\n",
    "    print('Share of duplicates:', round(df.duplicated().mean(), 2), '%')\n",
    "    print('-'*26)\n",
    "    print('Duplicates:')\n",
    "    print(df[df.duplicated()].head(10))\n",
    "    print('\\n','*'*70)"
   ]
  },
  {
   "cell_type": "markdown",
   "metadata": {},
   "source": [
    "### Observations\n",
    "- data we see matches the Projects' description.\n",
    "- no full duplicates revealed\n",
    "- no missing values revealed\n",
    "- the names of some columns are written not according to the \"snake_case\" format \n",
    "- significant memory usage in orders_df - we can fix it by adjusting the data type of \"group\" column (from \"object\" to \"category\")"
   ]
  },
  {
   "cell_type": "markdown",
   "metadata": {},
   "source": [
    "## Preparing the data"
   ]
  },
  {
   "cell_type": "code",
   "execution_count": 14,
   "metadata": {},
   "outputs": [],
   "source": [
    "# addressing the observations\n",
    "hypotheses_df.columns = hypotheses_df.columns.str.lower()\n",
    "orders_df = orders_df.rename(columns={'visitorId': 'visitor_id', 'transactionId': 'transaction_id'})\n",
    "\n",
    "orders_df['group'] = orders_df['group'].astype('category')\n",
    "visits_df['group'] = visits_df['group'].astype('category')\n",
    "\n",
    "orders_df['date'] = pd.to_datetime(orders_df['date'] ,format=\"%Y-%m-%d\")\n",
    "visits_df['date'] = pd.to_datetime(visits_df['date'] ,format=\"%Y-%m-%d\")"
   ]
  },
  {
   "cell_type": "code",
   "execution_count": 15,
   "metadata": {},
   "outputs": [
    {
     "name": "stdout",
     "output_type": "stream",
     "text": [
      "hypotheses_df columns: Index(['hypothesis', 'reach', 'impact', 'confidence', 'effort'], dtype='object') \n",
      "\n",
      "orders_df:\n",
      "<class 'pandas.core.frame.DataFrame'>\n",
      "RangeIndex: 1197 entries, 0 to 1196\n",
      "Data columns (total 5 columns):\n",
      " #   Column          Non-Null Count  Dtype         \n",
      "---  ------          --------------  -----         \n",
      " 0   transaction_id  1197 non-null   int64         \n",
      " 1   visitor_id      1197 non-null   int64         \n",
      " 2   date            1197 non-null   datetime64[ns]\n",
      " 3   revenue         1197 non-null   float64       \n",
      " 4   group           1197 non-null   category      \n",
      "dtypes: category(1), datetime64[ns](1), float64(1), int64(2)\n",
      "memory usage: 38.9 KB\n",
      "None \n",
      "\n",
      "visits_df:\n",
      "<class 'pandas.core.frame.DataFrame'>\n",
      "RangeIndex: 62 entries, 0 to 61\n",
      "Data columns (total 3 columns):\n",
      " #   Column  Non-Null Count  Dtype         \n",
      "---  ------  --------------  -----         \n",
      " 0   date    62 non-null     datetime64[ns]\n",
      " 1   group   62 non-null     category      \n",
      " 2   visits  62 non-null     int64         \n",
      "dtypes: category(1), datetime64[ns](1), int64(1)\n",
      "memory usage: 1.3 KB\n"
     ]
    }
   ],
   "source": [
    "# checking result\n",
    "print('hypotheses_df columns:', hypotheses_df.columns, '\\n')\n",
    "\n",
    "print('orders_df:')\n",
    "print(orders_df.info(memory_usage='deep'), '\\n')\n",
    "\n",
    "print('visits_df:')\n",
    "visits_df.info()"
   ]
  },
  {
   "cell_type": "code",
   "execution_count": 16,
   "metadata": {},
   "outputs": [
    {
     "name": "stdout",
     "output_type": "stream",
     "text": [
      "Number of users that are present in both A and B groups: 58\n"
     ]
    }
   ],
   "source": [
    "# checking if there are users that present in both A and B groups\n",
    "visitors_in_both_groups = orders_df.groupby('visitor_id', as_index=False)['group']\\\n",
    "                                   .nunique().query('group > 1')\n",
    "        \n",
    "print('Number of users that are present in both A and B groups:', len(visitors_in_both_groups))"
   ]
  },
  {
   "cell_type": "code",
   "execution_count": 17,
   "metadata": {},
   "outputs": [],
   "source": [
    "# getting rid of duplicated visitors\n",
    "orders_cleaned_df = orders_df[~orders_df['visitor_id']\n",
    "                          .isin(visitors_in_both_groups['visitor_id'])]"
   ]
  },
  {
   "cell_type": "code",
   "execution_count": 18,
   "metadata": {},
   "outputs": [
    {
     "name": "stdout",
     "output_type": "stream",
     "text": [
      "Original size: 1197\n",
      "Size without duplicated visitors: 1016\n",
      "Share of data to be deleted : 4.8 %\n"
     ]
    }
   ],
   "source": [
    "# checking result\n",
    "print('Original size:', orders_df.shape[0])\n",
    "print('Size without duplicated visitors:', orders_cleaned_df.shape[0])\n",
    "print(\n",
    "    'Share of data to be deleted :', \n",
    "    round(len(visitors_in_both_groups)/orders_df.shape[0]*100, 1),\n",
    "    '%'\n",
    ")"
   ]
  },
  {
   "cell_type": "code",
   "execution_count": 19,
   "metadata": {},
   "outputs": [],
   "source": [
    "# getting rid of rows with duplicated visitors\n",
    "orders_df = orders_cleaned_df"
   ]
  },
  {
   "cell_type": "code",
   "execution_count": 20,
   "metadata": {},
   "outputs": [
    {
     "data": {
      "text/plain": [
       "1016"
      ]
     },
     "execution_count": 20,
     "metadata": {},
     "output_type": "execute_result"
    }
   ],
   "source": [
    "# checking result\n",
    "orders_df.shape[0]"
   ]
  },
  {
   "cell_type": "markdown",
   "metadata": {},
   "source": [
    "### Summary on data preprocessing\n",
    "- we addressed our observations (data types, formats of names)\n",
    "- we found that there are users present in both A and B groups in orders_df (most likely that happened due to shortcomings in data collection). These duplicated visitors could affect our analysis so we got rid of them. "
   ]
  },
  {
   "cell_type": "markdown",
   "metadata": {},
   "source": [
    "# Prioritizing Hypotheses"
   ]
  },
  {
   "cell_type": "markdown",
   "metadata": {},
   "source": [
    "## ICE framework to prioritize hypotheses"
   ]
  },
  {
   "cell_type": "markdown",
   "metadata": {},
   "source": [
    "Let's recollect that ICE stands for Impact, Confidence, Effort (or Ease).\n",
    ">The formula is: **ICE score = Impact * Confidence / Effort**"
   ]
  },
  {
   "cell_type": "code",
   "execution_count": 25,
   "metadata": {},
   "outputs": [],
   "source": [
    "# calculating ICE score\n",
    "hypotheses_df['ICE'] = (\n",
    "    hypotheses_df['impact'] \n",
    "    * hypotheses_df['confidence'] \n",
    "    / hypotheses_df['effort']\n",
    ")\n",
    "hypotheses_df['ICE'] = round(hypotheses_df['ICE'], 1)"
   ]
  },
  {
   "cell_type": "code",
   "execution_count": 26,
   "metadata": {},
   "outputs": [
    {
     "data": {
      "text/html": [
       "<div>\n",
       "<style scoped>\n",
       "    .dataframe tbody tr th:only-of-type {\n",
       "        vertical-align: middle;\n",
       "    }\n",
       "\n",
       "    .dataframe tbody tr th {\n",
       "        vertical-align: top;\n",
       "    }\n",
       "\n",
       "    .dataframe thead th {\n",
       "        text-align: right;\n",
       "    }\n",
       "</style>\n",
       "<table border=\"1\" class=\"dataframe\">\n",
       "  <thead>\n",
       "    <tr style=\"text-align: right;\">\n",
       "      <th></th>\n",
       "      <th>hypothesis</th>\n",
       "      <th>ICE</th>\n",
       "    </tr>\n",
       "  </thead>\n",
       "  <tbody>\n",
       "    <tr>\n",
       "      <th>8</th>\n",
       "      <td>Launch a promotion that gives users discounts on their birthdays</td>\n",
       "      <td>16.2</td>\n",
       "    </tr>\n",
       "    <tr>\n",
       "      <th>0</th>\n",
       "      <td>Add two new channels for attracting traffic. This will bring 30% more users</td>\n",
       "      <td>13.3</td>\n",
       "    </tr>\n",
       "    <tr>\n",
       "      <th>7</th>\n",
       "      <td>Add a subscription form to all the main pages. This will help you compile a mailing list</td>\n",
       "      <td>11.2</td>\n",
       "    </tr>\n",
       "    <tr>\n",
       "      <th>6</th>\n",
       "      <td>Show banners with current offers and sales on the main page. This will boost conversion</td>\n",
       "      <td>8.0</td>\n",
       "    </tr>\n",
       "    <tr>\n",
       "      <th>2</th>\n",
       "      <td>Add product recommendation blocks to the store's site. This will increase conversion and average...</td>\n",
       "      <td>7.0</td>\n",
       "    </tr>\n",
       "  </tbody>\n",
       "</table>\n",
       "</div>"
      ],
      "text/plain": [
       "                                                                                            hypothesis  \\\n",
       "8                                     Launch a promotion that gives users discounts on their birthdays   \n",
       "0                          Add two new channels for attracting traffic. This will bring 30% more users   \n",
       "7             Add a subscription form to all the main pages. This will help you compile a mailing list   \n",
       "6              Show banners with current offers and sales on the main page. This will boost conversion   \n",
       "2  Add product recommendation blocks to the store's site. This will increase conversion and average...   \n",
       "\n",
       "    ICE  \n",
       "8  16.2  \n",
       "0  13.3  \n",
       "7  11.2  \n",
       "6   8.0  \n",
       "2   7.0  "
      ]
     },
     "execution_count": 26,
     "metadata": {},
     "output_type": "execute_result"
    }
   ],
   "source": [
    "ICE = hypotheses_df[['hypothesis','ICE']].sort_values(by='ICE', ascending=False)\n",
    "ICE.head(5)"
   ]
  },
  {
   "cell_type": "markdown",
   "metadata": {},
   "source": [
    "## RICE framework to prioritize hypotheses"
   ]
  },
  {
   "cell_type": "markdown",
   "metadata": {},
   "source": [
    "Let's recollect that RICE stands for Reach, Impact, Confidence, Effort (or Ease).\n",
    ">The formula is: **ICE score = Reach * Impact * Confidence / Effort**"
   ]
  },
  {
   "cell_type": "code",
   "execution_count": 29,
   "metadata": {},
   "outputs": [],
   "source": [
    "# calculating RICE score\n",
    "hypotheses_df['RICE'] = (\n",
    "    hypotheses_df['reach'] \n",
    "    * hypotheses_df['impact'] \n",
    "    * hypotheses_df['confidence'] \n",
    "    / hypotheses_df['effort']\n",
    ")\n",
    "hypotheses_df['RICE'] = round(hypotheses_df['RICE'], 1)"
   ]
  },
  {
   "cell_type": "code",
   "execution_count": 30,
   "metadata": {},
   "outputs": [
    {
     "data": {
      "text/html": [
       "<div>\n",
       "<style scoped>\n",
       "    .dataframe tbody tr th:only-of-type {\n",
       "        vertical-align: middle;\n",
       "    }\n",
       "\n",
       "    .dataframe tbody tr th {\n",
       "        vertical-align: top;\n",
       "    }\n",
       "\n",
       "    .dataframe thead th {\n",
       "        text-align: right;\n",
       "    }\n",
       "</style>\n",
       "<table border=\"1\" class=\"dataframe\">\n",
       "  <thead>\n",
       "    <tr style=\"text-align: right;\">\n",
       "      <th></th>\n",
       "      <th>hypothesis</th>\n",
       "      <th>RICE</th>\n",
       "    </tr>\n",
       "  </thead>\n",
       "  <tbody>\n",
       "    <tr>\n",
       "      <th>7</th>\n",
       "      <td>Add a subscription form to all the main pages. This will help you compile a mailing list</td>\n",
       "      <td>112.0</td>\n",
       "    </tr>\n",
       "    <tr>\n",
       "      <th>2</th>\n",
       "      <td>Add product recommendation blocks to the store's site. This will increase conversion and average...</td>\n",
       "      <td>56.0</td>\n",
       "    </tr>\n",
       "    <tr>\n",
       "      <th>0</th>\n",
       "      <td>Add two new channels for attracting traffic. This will bring 30% more users</td>\n",
       "      <td>40.0</td>\n",
       "    </tr>\n",
       "    <tr>\n",
       "      <th>6</th>\n",
       "      <td>Show banners with current offers and sales on the main page. This will boost conversion</td>\n",
       "      <td>40.0</td>\n",
       "    </tr>\n",
       "    <tr>\n",
       "      <th>8</th>\n",
       "      <td>Launch a promotion that gives users discounts on their birthdays</td>\n",
       "      <td>16.2</td>\n",
       "    </tr>\n",
       "  </tbody>\n",
       "</table>\n",
       "</div>"
      ],
      "text/plain": [
       "                                                                                            hypothesis  \\\n",
       "7             Add a subscription form to all the main pages. This will help you compile a mailing list   \n",
       "2  Add product recommendation blocks to the store's site. This will increase conversion and average...   \n",
       "0                          Add two new channels for attracting traffic. This will bring 30% more users   \n",
       "6              Show banners with current offers and sales on the main page. This will boost conversion   \n",
       "8                                     Launch a promotion that gives users discounts on their birthdays   \n",
       "\n",
       "    RICE  \n",
       "7  112.0  \n",
       "2   56.0  \n",
       "0   40.0  \n",
       "6   40.0  \n",
       "8   16.2  "
      ]
     },
     "execution_count": 30,
     "metadata": {},
     "output_type": "execute_result"
    }
   ],
   "source": [
    "RICE = hypotheses_df[['hypothesis','RICE']].sort_values(by='RICE', ascending=False)\n",
    "RICE.head(5)"
   ]
  },
  {
   "cell_type": "code",
   "execution_count": 31,
   "metadata": {},
   "outputs": [
    {
     "data": {
      "image/png": "[encoded data removed]",
      "text/plain": [
       "<Figure size 700x700 with 1 Axes>"
      ]
     },
     "metadata": {},
     "output_type": "display_data"
    }
   ],
   "source": [
    "# create a scatter plot for ICE and RICE scores\n",
    "plt.figure(figsize=(7, 7))\n",
    "plt.scatter(hypotheses_df['ICE'], hypotheses_df['RICE'], s=1000, alpha=0.4)\n",
    "\n",
    "# add text labels for each hypothesis index\n",
    "for i in hypotheses_df.index:\n",
    "    ice_score = hypotheses_df['ICE'].iloc[i]\n",
    "    rice_score = hypotheses_df['RICE'].iloc[i]\n",
    "    plt.text(ice_score, rice_score+0, str(i), ha='center', va='center', fontsize=11, color='darkblue')\n",
    "\n",
    "plt.xlabel('ICE Scores')\n",
    "plt.ylabel('RICE Scores')\n",
    "plt.title('ICE vs. RICE Scores for Hypotheses')\n",
    "plt.grid(True);"
   ]
  },
  {
   "cell_type": "markdown",
   "metadata": {},
   "source": [
    "### Observations\n",
    "The top 5 hypotheses align in both ICE and RICE frameworks, but their prioritization differs due to the significant impact of the 'reach' factor.\n",
    "\n",
    "For example, hypothesis №8, \"Launch a promotion that gives users discounts on their birthdays\", is the highest in ICE due to its impact and confidence. However, considering its relatively small reach in RICE, it loses priority.\n",
    "\n",
    "The 'reach' factor plays a crucial role in prioritization, as hypotheses with high impact and confidence may not be top priorities if their potential reach is limited. RICE ensures a more balanced approach by factoring in the reach metric.\n",
    "\n",
    "The scatter plot visualizes the priorities for both ICE and RICE frameworks, showing that **hypotheses №7, 0, and 8 are top priorities in both methods. Among them, hypothesis №7 stands out as the most attractive choice**. It ranks in the top 3 for both frameworks and has the highest reach effect, which serves as a multiplier of its impact and potential value/revenues."
   ]
  },
  {
   "cell_type": "markdown",
   "metadata": {},
   "source": [
    "# A/B Test Analysis"
   ]
  },
  {
   "cell_type": "markdown",
   "metadata": {},
   "source": [
    "**Let's observe our tasks in this part of the project**\n",
    "\n",
    "1. Graph cumulative revenue by group.\n",
    "1. Graph cumulative average order size by group.\n",
    "1. Graph the relative difference in cumulative average order size for group B compared with group A. \n",
    "1. Calculate each group's conversion rate as the ratio of orders to the number of visits for each day. Plot the daily conversion rates of the two groups and describe the difference. \n",
    "1. Plot a scatter chart of the number of orders per user. \n",
    "1. Calculate the 95th and 99th percentiles for the number of orders per user. Define the point at which a data point becomes an anomaly.\n",
    "1. Plot a scatter chart of order prices. \n",
    "1. Calculate the 95th and 99th percentiles of order prices. Define the point at which a data point becomes an anomaly.\n",
    "1. Find the statistical significance of the difference in conversion between the groups using the raw data. \n",
    "1. Find the statistical significance of the difference in average order size between the groups using the raw data. \n",
    "1. Find the statistical significance of the difference in conversion between the groups using the filtered data. \n",
    "1. Find the statistical significance of the difference in average order size between the groups using the filtered data. \n",
    "1. Make a decision based on the test results. The possible decisions are: 1. Stop the test, consider one of the groups the leader. 2. Stop the test, conclude that there is no difference between the groups. 3. Continue the test."
   ]
  },
  {
   "cell_type": "markdown",
   "metadata": {},
   "source": [
    "### 1. Graph cumulative revenue by group."
   ]
  },
  {
   "cell_type": "code",
   "execution_count": 36,
   "metadata": {},
   "outputs": [
    {
     "data": {
      "text/html": [
       "<div>\n",
       "<style scoped>\n",
       "    .dataframe tbody tr th:only-of-type {\n",
       "        vertical-align: middle;\n",
       "    }\n",
       "\n",
       "    .dataframe tbody tr th {\n",
       "        vertical-align: top;\n",
       "    }\n",
       "\n",
       "    .dataframe thead th {\n",
       "        text-align: right;\n",
       "    }\n",
       "</style>\n",
       "<table border=\"1\" class=\"dataframe\">\n",
       "  <thead>\n",
       "    <tr style=\"text-align: right;\">\n",
       "      <th></th>\n",
       "      <th>date</th>\n",
       "      <th>group</th>\n",
       "    </tr>\n",
       "  </thead>\n",
       "  <tbody>\n",
       "    <tr>\n",
       "      <th>769</th>\n",
       "      <td>2019-08-21</td>\n",
       "      <td>A</td>\n",
       "    </tr>\n",
       "    <tr>\n",
       "      <th>581</th>\n",
       "      <td>2019-08-07</td>\n",
       "      <td>B</td>\n",
       "    </tr>\n",
       "    <tr>\n",
       "      <th>298</th>\n",
       "      <td>2019-08-24</td>\n",
       "      <td>B</td>\n",
       "    </tr>\n",
       "    <tr>\n",
       "      <th>789</th>\n",
       "      <td>2019-08-08</td>\n",
       "      <td>B</td>\n",
       "    </tr>\n",
       "    <tr>\n",
       "      <th>540</th>\n",
       "      <td>2019-08-20</td>\n",
       "      <td>A</td>\n",
       "    </tr>\n",
       "  </tbody>\n",
       "</table>\n",
       "</div>"
      ],
      "text/plain": [
       "          date group\n",
       "769 2019-08-21     A\n",
       "581 2019-08-07     B\n",
       "298 2019-08-24     B\n",
       "789 2019-08-08     B\n",
       "540 2019-08-20     A"
      ]
     },
     "execution_count": 36,
     "metadata": {},
     "output_type": "execute_result"
    }
   ],
   "source": [
    "# building an array with unique paired date-group values \n",
    "dates_groups = orders_cleaned_df[['date','group']].drop_duplicates()\n",
    "dates_groups.sample(5)"
   ]
  },
  {
   "cell_type": "code",
   "execution_count": 37,
   "metadata": {
    "tags": []
   },
   "outputs": [
    {
     "name": "stdout",
     "output_type": "stream",
     "text": [
      "<class 'pandas.core.frame.DataFrame'>\n",
      "RangeIndex: 62 entries, 0 to 61\n",
      "Data columns (total 3 columns):\n",
      " #   Column  Non-Null Count  Dtype         \n",
      "---  ------  --------------  -----         \n",
      " 0   date    62 non-null     datetime64[ns]\n",
      " 1   group   62 non-null     category      \n",
      " 2   visits  62 non-null     int64         \n",
      "dtypes: category(1), datetime64[ns](1), int64(1)\n",
      "memory usage: 1.3 KB\n"
     ]
    }
   ],
   "source": [
    "visits_df.info()"
   ]
  },
  {
   "cell_type": "code",
   "execution_count": 38,
   "metadata": {},
   "outputs": [],
   "source": [
    "# converting 'group' columns  into ordered categorical variable, allowing use operations like max() without encountering the TypeError.\n",
    "# the .cat.categories attribute returns the unique values of the categorical data as an Index object.\n",
    "\n",
    "orders_df['group'] = pd.Categorical(orders_df['group'], categories=orders_df['group'].cat.categories, ordered=True)\n",
    "visits_df['group'] = pd.Categorical(visits_df['group'], categories=visits_df['group'].cat.categories, ordered=True)"
   ]
  },
  {
   "cell_type": "code",
   "execution_count": 39,
   "metadata": {},
   "outputs": [],
   "source": [
    "# Getting aggregated cumulative daily data on orders. \n",
    "# With this code, it's as if we've been calculating the results of our test every day up to the current date \n",
    "# and storing them in the rows of the orders_aggregated table\n",
    "\n",
    "orders_aggregated = dates_groups.apply(\n",
    "    lambda x: orders_df[\n",
    "        np.logical_and(            \n",
    "            orders_df['date'] <= x['date'], # the rows of the orders_cleaned_df where the date is less than or equal to the date of the dates_groups element\n",
    "            orders_df['group'] == x['group'] # the test group is the same as in dates_groups\n",
    "        )\n",
    "    ].agg(\n",
    "        {\n",
    "            'date': 'max',\n",
    "            'group': 'max',\n",
    "            'transaction_id': pd.Series.nunique,\n",
    "            'visitor_id': pd.Series.nunique,\n",
    "            'revenue': 'sum',\n",
    "        }\n",
    "    ),\n",
    "    axis=1,\n",
    ").sort_values(by=['date', 'group'])"
   ]
  },
  {
   "cell_type": "code",
   "execution_count": 40,
   "metadata": {},
   "outputs": [
    {
     "data": {
      "text/html": [
       "<div>\n",
       "<style scoped>\n",
       "    .dataframe tbody tr th:only-of-type {\n",
       "        vertical-align: middle;\n",
       "    }\n",
       "\n",
       "    .dataframe tbody tr th {\n",
       "        vertical-align: top;\n",
       "    }\n",
       "\n",
       "    .dataframe thead th {\n",
       "        text-align: right;\n",
       "    }\n",
       "</style>\n",
       "<table border=\"1\" class=\"dataframe\">\n",
       "  <thead>\n",
       "    <tr style=\"text-align: right;\">\n",
       "      <th></th>\n",
       "      <th>date</th>\n",
       "      <th>group</th>\n",
       "      <th>transaction_id</th>\n",
       "      <th>visitor_id</th>\n",
       "      <th>revenue</th>\n",
       "    </tr>\n",
       "  </thead>\n",
       "  <tbody>\n",
       "    <tr>\n",
       "      <th>55</th>\n",
       "      <td>2019-08-01</td>\n",
       "      <td>A</td>\n",
       "      <td>23</td>\n",
       "      <td>19</td>\n",
       "      <td>2266.6</td>\n",
       "    </tr>\n",
       "    <tr>\n",
       "      <th>66</th>\n",
       "      <td>2019-08-01</td>\n",
       "      <td>B</td>\n",
       "      <td>17</td>\n",
       "      <td>17</td>\n",
       "      <td>967.2</td>\n",
       "    </tr>\n",
       "    <tr>\n",
       "      <th>175</th>\n",
       "      <td>2019-08-02</td>\n",
       "      <td>A</td>\n",
       "      <td>42</td>\n",
       "      <td>36</td>\n",
       "      <td>3734.9</td>\n",
       "    </tr>\n",
       "    <tr>\n",
       "      <th>173</th>\n",
       "      <td>2019-08-02</td>\n",
       "      <td>B</td>\n",
       "      <td>40</td>\n",
       "      <td>39</td>\n",
       "      <td>3535.3</td>\n",
       "    </tr>\n",
       "    <tr>\n",
       "      <th>291</th>\n",
       "      <td>2019-08-03</td>\n",
       "      <td>A</td>\n",
       "      <td>66</td>\n",
       "      <td>60</td>\n",
       "      <td>5550.1</td>\n",
       "    </tr>\n",
       "    <tr>\n",
       "      <th>383</th>\n",
       "      <td>2019-08-03</td>\n",
       "      <td>B</td>\n",
       "      <td>54</td>\n",
       "      <td>53</td>\n",
       "      <td>4606.9</td>\n",
       "    </tr>\n",
       "  </tbody>\n",
       "</table>\n",
       "</div>"
      ],
      "text/plain": [
       "          date group  transaction_id  visitor_id  revenue\n",
       "55  2019-08-01     A              23          19   2266.6\n",
       "66  2019-08-01     B              17          17    967.2\n",
       "175 2019-08-02     A              42          36   3734.9\n",
       "173 2019-08-02     B              40          39   3535.3\n",
       "291 2019-08-03     A              66          60   5550.1\n",
       "383 2019-08-03     B              54          53   4606.9"
      ]
     },
     "execution_count": 40,
     "metadata": {},
     "output_type": "execute_result"
    }
   ],
   "source": [
    "orders_aggregated.head(6)"
   ]
  },
  {
   "cell_type": "code",
   "execution_count": 41,
   "metadata": {},
   "outputs": [],
   "source": [
    "# Getting aggregated cumulative daily data on visitors. \n",
    "visitorsAggregated = dates_groups.apply(\n",
    "    lambda x: visits_df[\n",
    "        np.logical_and(            \n",
    "            visits_df['date'] <= x['date'], # the rows of the visits_df where the date is less than or equal to the date of the dates_groups element\n",
    "            visits_df['group'] == x['group'] # the test group is the same as in dates_groups\n",
    "        )\n",
    "    ].agg(\n",
    "        {\n",
    "            'date': 'max',\n",
    "            'group': 'max',\n",
    "            'visits' : 'sum'\n",
    "        }\n",
    "    ),\n",
    "    axis=1,\n",
    ").sort_values(by=['date', 'group'])"
   ]
  },
  {
   "cell_type": "code",
   "execution_count": 42,
   "metadata": {},
   "outputs": [
    {
     "data": {
      "text/html": [
       "<div>\n",
       "<style scoped>\n",
       "    .dataframe tbody tr th:only-of-type {\n",
       "        vertical-align: middle;\n",
       "    }\n",
       "\n",
       "    .dataframe tbody tr th {\n",
       "        vertical-align: top;\n",
       "    }\n",
       "\n",
       "    .dataframe thead th {\n",
       "        text-align: right;\n",
       "    }\n",
       "</style>\n",
       "<table border=\"1\" class=\"dataframe\">\n",
       "  <thead>\n",
       "    <tr style=\"text-align: right;\">\n",
       "      <th></th>\n",
       "      <th>date</th>\n",
       "      <th>group</th>\n",
       "      <th>visits</th>\n",
       "    </tr>\n",
       "  </thead>\n",
       "  <tbody>\n",
       "    <tr>\n",
       "      <th>55</th>\n",
       "      <td>2019-08-01</td>\n",
       "      <td>A</td>\n",
       "      <td>719</td>\n",
       "    </tr>\n",
       "    <tr>\n",
       "      <th>66</th>\n",
       "      <td>2019-08-01</td>\n",
       "      <td>B</td>\n",
       "      <td>713</td>\n",
       "    </tr>\n",
       "    <tr>\n",
       "      <th>175</th>\n",
       "      <td>2019-08-02</td>\n",
       "      <td>A</td>\n",
       "      <td>1338</td>\n",
       "    </tr>\n",
       "    <tr>\n",
       "      <th>173</th>\n",
       "      <td>2019-08-02</td>\n",
       "      <td>B</td>\n",
       "      <td>1294</td>\n",
       "    </tr>\n",
       "    <tr>\n",
       "      <th>291</th>\n",
       "      <td>2019-08-03</td>\n",
       "      <td>A</td>\n",
       "      <td>1845</td>\n",
       "    </tr>\n",
       "    <tr>\n",
       "      <th>383</th>\n",
       "      <td>2019-08-03</td>\n",
       "      <td>B</td>\n",
       "      <td>1803</td>\n",
       "    </tr>\n",
       "  </tbody>\n",
       "</table>\n",
       "</div>"
      ],
      "text/plain": [
       "          date group  visits\n",
       "55  2019-08-01     A     719\n",
       "66  2019-08-01     B     713\n",
       "175 2019-08-02     A    1338\n",
       "173 2019-08-02     B    1294\n",
       "291 2019-08-03     A    1845\n",
       "383 2019-08-03     B    1803"
      ]
     },
     "execution_count": 42,
     "metadata": {},
     "output_type": "execute_result"
    }
   ],
   "source": [
    "visitorsAggregated.head(6)"
   ]
  },
  {
   "cell_type": "code",
   "execution_count": 43,
   "metadata": {},
   "outputs": [],
   "source": [
    "# merging the two tables into one and giving its columns descriptive names\n",
    "cumulative_data = orders_aggregated.merge(visitorsAggregated, left_on=['date', 'group'], right_on=['date', 'group'])\n",
    "cumulative_data.columns = ['date', 'group', 'orders', 'buyers', 'revenue', 'visitors']"
   ]
  },
  {
   "cell_type": "code",
   "execution_count": 44,
   "metadata": {},
   "outputs": [
    {
     "data": {
      "text/html": [
       "<div>\n",
       "<style scoped>\n",
       "    .dataframe tbody tr th:only-of-type {\n",
       "        vertical-align: middle;\n",
       "    }\n",
       "\n",
       "    .dataframe tbody tr th {\n",
       "        vertical-align: top;\n",
       "    }\n",
       "\n",
       "    .dataframe thead th {\n",
       "        text-align: right;\n",
       "    }\n",
       "</style>\n",
       "<table border=\"1\" class=\"dataframe\">\n",
       "  <thead>\n",
       "    <tr style=\"text-align: right;\">\n",
       "      <th></th>\n",
       "      <th>date</th>\n",
       "      <th>group</th>\n",
       "      <th>orders</th>\n",
       "      <th>buyers</th>\n",
       "      <th>revenue</th>\n",
       "      <th>visitors</th>\n",
       "    </tr>\n",
       "  </thead>\n",
       "  <tbody>\n",
       "    <tr>\n",
       "      <th>0</th>\n",
       "      <td>2019-08-01</td>\n",
       "      <td>A</td>\n",
       "      <td>23</td>\n",
       "      <td>19</td>\n",
       "      <td>2266.6</td>\n",
       "      <td>719</td>\n",
       "    </tr>\n",
       "    <tr>\n",
       "      <th>1</th>\n",
       "      <td>2019-08-01</td>\n",
       "      <td>B</td>\n",
       "      <td>17</td>\n",
       "      <td>17</td>\n",
       "      <td>967.2</td>\n",
       "      <td>713</td>\n",
       "    </tr>\n",
       "    <tr>\n",
       "      <th>2</th>\n",
       "      <td>2019-08-02</td>\n",
       "      <td>A</td>\n",
       "      <td>42</td>\n",
       "      <td>36</td>\n",
       "      <td>3734.9</td>\n",
       "      <td>1338</td>\n",
       "    </tr>\n",
       "    <tr>\n",
       "      <th>3</th>\n",
       "      <td>2019-08-02</td>\n",
       "      <td>B</td>\n",
       "      <td>40</td>\n",
       "      <td>39</td>\n",
       "      <td>3535.3</td>\n",
       "      <td>1294</td>\n",
       "    </tr>\n",
       "    <tr>\n",
       "      <th>4</th>\n",
       "      <td>2019-08-03</td>\n",
       "      <td>A</td>\n",
       "      <td>66</td>\n",
       "      <td>60</td>\n",
       "      <td>5550.1</td>\n",
       "      <td>1845</td>\n",
       "    </tr>\n",
       "  </tbody>\n",
       "</table>\n",
       "</div>"
      ],
      "text/plain": [
       "        date group  orders  buyers  revenue  visitors\n",
       "0 2019-08-01     A      23      19   2266.6       719\n",
       "1 2019-08-01     B      17      17    967.2       713\n",
       "2 2019-08-02     A      42      36   3734.9      1338\n",
       "3 2019-08-02     B      40      39   3535.3      1294\n",
       "4 2019-08-03     A      66      60   5550.1      1845"
      ]
     },
     "execution_count": 44,
     "metadata": {},
     "output_type": "execute_result"
    }
   ],
   "source": [
    "cumulative_data.head()"
   ]
  },
  {
   "cell_type": "code",
   "execution_count": 45,
   "metadata": {},
   "outputs": [],
   "source": [
    "# dataframe with cumulative orders and cumulative revenue by day, group A\n",
    "cumulative_revenue_a = cumulative_data[cumulative_data['group']=='A'][['date','revenue', 'orders']]\n",
    "\n",
    "# dataframe with cumulative orders and cumulative revenue by day, group B\n",
    "cumulative_revenue_b = cumulative_data[cumulative_data['group']=='B'][['date','revenue', 'orders']]"
   ]
  },
  {
   "cell_type": "code",
   "execution_count": 46,
   "metadata": {},
   "outputs": [
    {
     "data": {
      "text/html": [
       "<div>\n",
       "<style scoped>\n",
       "    .dataframe tbody tr th:only-of-type {\n",
       "        vertical-align: middle;\n",
       "    }\n",
       "\n",
       "    .dataframe tbody tr th {\n",
       "        vertical-align: top;\n",
       "    }\n",
       "\n",
       "    .dataframe thead th {\n",
       "        text-align: right;\n",
       "    }\n",
       "</style>\n",
       "<table border=\"1\" class=\"dataframe\">\n",
       "  <thead>\n",
       "    <tr style=\"text-align: right;\">\n",
       "      <th></th>\n",
       "      <th>date</th>\n",
       "      <th>revenue</th>\n",
       "      <th>orders</th>\n",
       "    </tr>\n",
       "  </thead>\n",
       "  <tbody>\n",
       "    <tr>\n",
       "      <th>0</th>\n",
       "      <td>2019-08-01</td>\n",
       "      <td>2266.6</td>\n",
       "      <td>23</td>\n",
       "    </tr>\n",
       "    <tr>\n",
       "      <th>2</th>\n",
       "      <td>2019-08-02</td>\n",
       "      <td>3734.9</td>\n",
       "      <td>42</td>\n",
       "    </tr>\n",
       "    <tr>\n",
       "      <th>4</th>\n",
       "      <td>2019-08-03</td>\n",
       "      <td>5550.1</td>\n",
       "      <td>66</td>\n",
       "    </tr>\n",
       "  </tbody>\n",
       "</table>\n",
       "</div>"
      ],
      "text/plain": [
       "        date  revenue  orders\n",
       "0 2019-08-01   2266.6      23\n",
       "2 2019-08-02   3734.9      42\n",
       "4 2019-08-03   5550.1      66"
      ]
     },
     "execution_count": 46,
     "metadata": {},
     "output_type": "execute_result"
    },
    {
     "data": {
      "text/html": [
       "<div>\n",
       "<style scoped>\n",
       "    .dataframe tbody tr th:only-of-type {\n",
       "        vertical-align: middle;\n",
       "    }\n",
       "\n",
       "    .dataframe tbody tr th {\n",
       "        vertical-align: top;\n",
       "    }\n",
       "\n",
       "    .dataframe thead th {\n",
       "        text-align: right;\n",
       "    }\n",
       "</style>\n",
       "<table border=\"1\" class=\"dataframe\">\n",
       "  <thead>\n",
       "    <tr style=\"text-align: right;\">\n",
       "      <th></th>\n",
       "      <th>date</th>\n",
       "      <th>revenue</th>\n",
       "      <th>orders</th>\n",
       "    </tr>\n",
       "  </thead>\n",
       "  <tbody>\n",
       "    <tr>\n",
       "      <th>1</th>\n",
       "      <td>2019-08-01</td>\n",
       "      <td>967.2</td>\n",
       "      <td>17</td>\n",
       "    </tr>\n",
       "    <tr>\n",
       "      <th>3</th>\n",
       "      <td>2019-08-02</td>\n",
       "      <td>3535.3</td>\n",
       "      <td>40</td>\n",
       "    </tr>\n",
       "    <tr>\n",
       "      <th>5</th>\n",
       "      <td>2019-08-03</td>\n",
       "      <td>4606.9</td>\n",
       "      <td>54</td>\n",
       "    </tr>\n",
       "  </tbody>\n",
       "</table>\n",
       "</div>"
      ],
      "text/plain": [
       "        date  revenue  orders\n",
       "1 2019-08-01    967.2      17\n",
       "3 2019-08-02   3535.3      40\n",
       "5 2019-08-03   4606.9      54"
      ]
     },
     "execution_count": 46,
     "metadata": {},
     "output_type": "execute_result"
    }
   ],
   "source": [
    "# checking result\n",
    "cumulative_revenue_a.head(3)\n",
    "cumulative_revenue_b.head(3)"
   ]
  },
  {
   "cell_type": "code",
   "execution_count": 47,
   "metadata": {
    "tags": []
   },
   "outputs": [
    {
     "data": {
      "image/png": "[encoded data removed]",
      "text/plain": [
       "<Figure size 1000x500 with 1 Axes>"
      ]
     },
     "metadata": {},
     "output_type": "display_data"
    }
   ],
   "source": [
    "# plotting cumulative revenue graphs by day and A/B test group\n",
    "\n",
    "plt.figure(figsize=(10, 5))\n",
    "plt.title('Cumulative revenue per group and date',fontsize=14)\n",
    "\n",
    "# Plotting the group A revenue graph \n",
    "plt.plot(cumulative_revenue_a['date'], cumulative_revenue_a['revenue'], \n",
    "         linewidth=3, marker='o', markersize=7, label='Group A')\n",
    "\n",
    "# Plotting the group B revenue graph \n",
    "plt.plot(cumulative_revenue_b['date'], cumulative_revenue_b['revenue'], \n",
    "         linewidth=3, marker='o', markersize=7, label='Group B')\n",
    "plt.grid(True, color='lightgray')\n",
    "\n",
    "plt.xlabel('Date')\n",
    "plt.ylabel('Cumulative revenue')\n",
    "plt.legend();"
   ]
  },
  {
   "cell_type": "code",
   "execution_count": 48,
   "metadata": {},
   "outputs": [
    {
     "data": {
      "text/html": [
       "<div>\n",
       "<style scoped>\n",
       "    .dataframe tbody tr th:only-of-type {\n",
       "        vertical-align: middle;\n",
       "    }\n",
       "\n",
       "    .dataframe tbody tr th {\n",
       "        vertical-align: top;\n",
       "    }\n",
       "\n",
       "    .dataframe thead th {\n",
       "        text-align: right;\n",
       "    }\n",
       "</style>\n",
       "<table border=\"1\" class=\"dataframe\">\n",
       "  <thead>\n",
       "    <tr style=\"text-align: right;\">\n",
       "      <th></th>\n",
       "      <th>date</th>\n",
       "      <th>group</th>\n",
       "      <th>orders</th>\n",
       "      <th>buyers</th>\n",
       "      <th>revenue</th>\n",
       "      <th>visitors</th>\n",
       "      <th>revenue_difference</th>\n",
       "      <th>orders_difference</th>\n",
       "    </tr>\n",
       "  </thead>\n",
       "  <tbody>\n",
       "    <tr>\n",
       "      <th>34</th>\n",
       "      <td>2019-08-18</td>\n",
       "      <td>A</td>\n",
       "      <td>278</td>\n",
       "      <td>264</td>\n",
       "      <td>29735.7</td>\n",
       "      <td>11127</td>\n",
       "      <td>965.6</td>\n",
       "      <td>13.0</td>\n",
       "    </tr>\n",
       "    <tr>\n",
       "      <th>35</th>\n",
       "      <td>2019-08-18</td>\n",
       "      <td>B</td>\n",
       "      <td>327</td>\n",
       "      <td>321</td>\n",
       "      <td>34684.7</td>\n",
       "      <td>11171</td>\n",
       "      <td>568.5</td>\n",
       "      <td>7.0</td>\n",
       "    </tr>\n",
       "    <tr>\n",
       "      <th>36</th>\n",
       "      <td>2019-08-19</td>\n",
       "      <td>A</td>\n",
       "      <td>299</td>\n",
       "      <td>283</td>\n",
       "      <td>32389.3</td>\n",
       "      <td>11629</td>\n",
       "      <td>2653.6</td>\n",
       "      <td>21.0</td>\n",
       "    </tr>\n",
       "    <tr>\n",
       "      <th>37</th>\n",
       "      <td>2019-08-19</td>\n",
       "      <td>B</td>\n",
       "      <td>348</td>\n",
       "      <td>341</td>\n",
       "      <td>56749.6</td>\n",
       "      <td>11658</td>\n",
       "      <td>22064.9</td>\n",
       "      <td>21.0</td>\n",
       "    </tr>\n",
       "    <tr>\n",
       "      <th>38</th>\n",
       "      <td>2019-08-20</td>\n",
       "      <td>A</td>\n",
       "      <td>309</td>\n",
       "      <td>293</td>\n",
       "      <td>33325.3</td>\n",
       "      <td>12204</td>\n",
       "      <td>936.0</td>\n",
       "      <td>10.0</td>\n",
       "    </tr>\n",
       "    <tr>\n",
       "      <th>39</th>\n",
       "      <td>2019-08-20</td>\n",
       "      <td>B</td>\n",
       "      <td>368</td>\n",
       "      <td>360</td>\n",
       "      <td>59074.2</td>\n",
       "      <td>12218</td>\n",
       "      <td>2324.6</td>\n",
       "      <td>20.0</td>\n",
       "    </tr>\n",
       "  </tbody>\n",
       "</table>\n",
       "</div>"
      ],
      "text/plain": [
       "         date group  orders  buyers  revenue  visitors  revenue_difference  \\\n",
       "34 2019-08-18     A     278     264  29735.7     11127               965.6   \n",
       "35 2019-08-18     B     327     321  34684.7     11171               568.5   \n",
       "36 2019-08-19     A     299     283  32389.3     11629              2653.6   \n",
       "37 2019-08-19     B     348     341  56749.6     11658             22064.9   \n",
       "38 2019-08-20     A     309     293  33325.3     12204               936.0   \n",
       "39 2019-08-20     B     368     360  59074.2     12218              2324.6   \n",
       "\n",
       "    orders_difference  \n",
       "34               13.0  \n",
       "35                7.0  \n",
       "36               21.0  \n",
       "37               21.0  \n",
       "38               10.0  \n",
       "39               20.0  "
      ]
     },
     "execution_count": 48,
     "metadata": {},
     "output_type": "execute_result"
    }
   ],
   "source": [
    "# checking daily difference in revenues and numbers of orders per group \n",
    "cumulative_data['revenue_difference'] = cumulative_data['revenue'] - cumulative_data['revenue'].shift(2)\n",
    "cumulative_data['orders_difference'] = cumulative_data['orders'] - cumulative_data['orders'].shift(2)\n",
    "\n",
    "# filtering the period of boost in revenues of group B\n",
    "cumulative_data.query('\"2019-08-17\" < date < \"2019-08-21\"')"
   ]
  },
  {
   "cell_type": "code",
   "execution_count": 49,
   "metadata": {},
   "outputs": [
    {
     "name": "stdout",
     "output_type": "stream",
     "text": [
      "average daily growth of revenue in group B: 2622\n",
      "the peak daily growth of revenue in group B on 2019-08-19: 22064\n",
      "the peak to average ratio: 8.4\n"
     ]
    }
   ],
   "source": [
    "# checking the peak daily growth of revenue in group B comparing to its average value\n",
    "average_revenue_difference_b = cumulative_data[cumulative_data['group'] == 'B']['revenue_difference'].mean()\n",
    "peak_revenue_difference_b = cumulative_data[(cumulative_data['group'] == 'B') & (cumulative_data['date'] == pd.to_datetime('2019-08-19'))]['revenue_difference'].sum()\n",
    "\n",
    "print('average daily growth of revenue in group B:', int(average_revenue_difference_b))\n",
    "print('the peak daily growth of revenue in group B on 2019-08-19:', int(peak_revenue_difference_b))\n",
    "print('the peak to average ratio:', round(peak_revenue_difference_b / average_revenue_difference_b, 1))"
   ]
  },
  {
   "cell_type": "code",
   "execution_count": 50,
   "metadata": {},
   "outputs": [],
   "source": [
    "# getting rid of columns that we don't need anymore \n",
    "cumulative_data.drop(['revenue_difference','orders_difference'], axis=1, inplace=True)"
   ]
  },
  {
   "cell_type": "code",
   "execution_count": 51,
   "metadata": {},
   "outputs": [
    {
     "data": {
      "text/html": [
       "<div>\n",
       "<style scoped>\n",
       "    .dataframe tbody tr th:only-of-type {\n",
       "        vertical-align: middle;\n",
       "    }\n",
       "\n",
       "    .dataframe tbody tr th {\n",
       "        vertical-align: top;\n",
       "    }\n",
       "\n",
       "    .dataframe thead th {\n",
       "        text-align: right;\n",
       "    }\n",
       "</style>\n",
       "<table border=\"1\" class=\"dataframe\">\n",
       "  <thead>\n",
       "    <tr style=\"text-align: right;\">\n",
       "      <th></th>\n",
       "      <th>date</th>\n",
       "      <th>group</th>\n",
       "      <th>orders</th>\n",
       "      <th>buyers</th>\n",
       "      <th>revenue</th>\n",
       "      <th>visitors</th>\n",
       "    </tr>\n",
       "  </thead>\n",
       "  <tbody>\n",
       "  </tbody>\n",
       "</table>\n",
       "</div>"
      ],
      "text/plain": [
       "Empty DataFrame\n",
       "Columns: [date, group, orders, buyers, revenue, visitors]\n",
       "Index: []"
      ]
     },
     "execution_count": 51,
     "metadata": {},
     "output_type": "execute_result"
    }
   ],
   "source": [
    "# checking result\n",
    "cumulative_data.head(0)"
   ]
  },
  {
   "cell_type": "markdown",
   "metadata": {},
   "source": [
    "- Until 2019-08-19 cumulative revenue growth is prity similar for both A and B test groups. At some points like 2019-08-05 and 2019-08-13 there are spikes in graphs. Despite the overall similarity in cumulative revenue growth, the B group shows a slight lead over the A group in terms of revenue generation. But in general they are comparable during this period.\n",
    "\n",
    "- Since 2019-08-19, growth of B group is much higher. From this date onward, the revenue growth for the B group started to diverge and showed a significant increase compared to the A group.\n",
    "\n",
    "- The increase in revenue growth for the B group on 2019-08-19 is attributed to specific, potentially large, and significant order(s) made on that day.\n",
    "\n",
    "- Average purchase size of that day in group B is 8.4 times higher than the average order value across all dates in this group."
   ]
  },
  {
   "cell_type": "markdown",
   "metadata": {},
   "source": [
    "### 2. Graph cumulative average order size by group."
   ]
  },
  {
   "cell_type": "code",
   "execution_count": 54,
   "metadata": {},
   "outputs": [
    {
     "data": {
      "image/png": "[encoded data removed]",
      "text/plain": [
       "<Figure size 1000x500 with 1 Axes>"
      ]
     },
     "metadata": {},
     "output_type": "display_data"
    }
   ],
   "source": [
    "# plotting average purchase size by group. \n",
    "\n",
    "plt.figure(figsize=(10, 5))\n",
    "plt.title('Average purchase size per group and date (cumulative data)',fontsize=14)\n",
    "\n",
    "# Plotting the group A  average purchase size\n",
    "plt.plot(cumulative_revenue_a['date'], cumulative_revenue_a['revenue']/cumulative_revenue_a['orders'], \n",
    "         linewidth=3, marker='o', markersize=7, label='Group A')\n",
    "plt.grid(True, color='lightgray')\n",
    "\n",
    "# Plotting the group B average purchase size\n",
    "plt.plot(cumulative_revenue_b['date'], cumulative_revenue_b['revenue']/cumulative_revenue_b['orders'], \n",
    "         linewidth=3, marker='o', markersize=7, label='Group B')\n",
    "\n",
    "plt.xlabel('Date')\n",
    "plt.ylabel('Average purchase size')\n",
    "plt.legend();"
   ]
  },
  {
   "cell_type": "markdown",
   "metadata": {},
   "source": [
    "- In the second half of the test, the average purchase size shows a consistent pattern. \n",
    "- For group A, it remains relatively stable, while for group B, it continues to decline since 2019-08-21. \n",
    "- This decline is attributed to significant order(s) that occurred on this date in group B, as we previously uncovered."
   ]
  },
  {
   "cell_type": "markdown",
   "metadata": {},
   "source": [
    "### 3. Graph the relative difference in cumulative average order size for group B compared with group A. "
   ]
  },
  {
   "cell_type": "code",
   "execution_count": 57,
   "metadata": {},
   "outputs": [
    {
     "data": {
      "text/html": [
       "<div>\n",
       "<style scoped>\n",
       "    .dataframe tbody tr th:only-of-type {\n",
       "        vertical-align: middle;\n",
       "    }\n",
       "\n",
       "    .dataframe tbody tr th {\n",
       "        vertical-align: top;\n",
       "    }\n",
       "\n",
       "    .dataframe thead th {\n",
       "        text-align: right;\n",
       "    }\n",
       "</style>\n",
       "<table border=\"1\" class=\"dataframe\">\n",
       "  <thead>\n",
       "    <tr style=\"text-align: right;\">\n",
       "      <th></th>\n",
       "      <th>date</th>\n",
       "      <th>revenue_a</th>\n",
       "      <th>orders_a</th>\n",
       "      <th>revenue_b</th>\n",
       "      <th>orders_b</th>\n",
       "    </tr>\n",
       "  </thead>\n",
       "  <tbody>\n",
       "    <tr>\n",
       "      <th>0</th>\n",
       "      <td>2019-08-01</td>\n",
       "      <td>2266.6</td>\n",
       "      <td>23</td>\n",
       "      <td>967.2</td>\n",
       "      <td>17</td>\n",
       "    </tr>\n",
       "    <tr>\n",
       "      <th>1</th>\n",
       "      <td>2019-08-02</td>\n",
       "      <td>3734.9</td>\n",
       "      <td>42</td>\n",
       "      <td>3535.3</td>\n",
       "      <td>40</td>\n",
       "    </tr>\n",
       "    <tr>\n",
       "      <th>2</th>\n",
       "      <td>2019-08-03</td>\n",
       "      <td>5550.1</td>\n",
       "      <td>66</td>\n",
       "      <td>4606.9</td>\n",
       "      <td>54</td>\n",
       "    </tr>\n",
       "  </tbody>\n",
       "</table>\n",
       "</div>"
      ],
      "text/plain": [
       "        date  revenue_a  orders_a  revenue_b  orders_b\n",
       "0 2019-08-01     2266.6        23      967.2        17\n",
       "1 2019-08-02     3734.9        42     3535.3        40\n",
       "2 2019-08-03     5550.1        66     4606.9        54"
      ]
     },
     "execution_count": 57,
     "metadata": {},
     "output_type": "execute_result"
    }
   ],
   "source": [
    "# gathering the data into one dataframe\n",
    "merged_cumulative_revenue = cumulative_revenue_a.merge(\n",
    "    cumulative_revenue_b, left_on='date', right_on='date', how='left', suffixes=['_a', '_b'])\n",
    "\n",
    "merged_cumulative_revenue.head(3)"
   ]
  },
  {
   "cell_type": "code",
   "execution_count": 58,
   "metadata": {},
   "outputs": [
    {
     "data": {
      "image/png": "[encoded data removed]",
      "text/plain": [
       "<Figure size 1000x500 with 1 Axes>"
      ]
     },
     "metadata": {},
     "output_type": "display_data"
    }
   ],
   "source": [
    "# plotting a relative difference graph for the average purchase sizes\n",
    "\n",
    "plt.figure(figsize=(10, 5))\n",
    "plt.title('Relative difference graph for the average purchase sizes', fontsize=14)\n",
    "\n",
    "plt.plot(merged_cumulative_revenue['date'], \n",
    "         (merged_cumulative_revenue['revenue_b']/merged_cumulative_revenue['orders_b'])\n",
    "         /(merged_cumulative_revenue['revenue_a']/merged_cumulative_revenue['orders_a'])\n",
    "         -1\n",
    "        , label='Relative difference in avg. order size: Group B vs. Group A',\n",
    "        linewidth=3, marker='o', markersize=7)\n",
    "\n",
    "plt.grid(True, color='lightgray')\n",
    "plt.xlabel('Date')\n",
    "plt.ylabel('%')\n",
    "\n",
    "# adding the X axis\n",
    "plt.axhline(y=0, color='darkgrey', linewidth=3, linestyle='--')\n",
    "plt.legend(); "
   ]
  },
  {
   "cell_type": "markdown",
   "metadata": {},
   "source": [
    "At several points the difference between the segments spikes. This may be due to some major orders."
   ]
  },
  {
   "cell_type": "markdown",
   "metadata": {},
   "source": [
    "### 4. Calculate each group's conversion rate as the ratio of orders to the number of visits for each day. Plot the daily conversion rates of the two groups and describe the difference. "
   ]
  },
  {
   "cell_type": "code",
   "execution_count": 61,
   "metadata": {},
   "outputs": [],
   "source": [
    "# calculating cumulative conversion\n",
    "cumulative_data['conversion'] = cumulative_data['orders']/cumulative_data['visitors']\n",
    "\n",
    "# selecting data on group A and B\n",
    "cumulative_data_a = cumulative_data[cumulative_data['group']=='A']\n",
    "cumulative_data_b = cumulative_data[cumulative_data['group']=='B']"
   ]
  },
  {
   "cell_type": "code",
   "execution_count": 62,
   "metadata": {},
   "outputs": [
    {
     "data": {
      "text/html": [
       "<div>\n",
       "<style scoped>\n",
       "    .dataframe tbody tr th:only-of-type {\n",
       "        vertical-align: middle;\n",
       "    }\n",
       "\n",
       "    .dataframe tbody tr th {\n",
       "        vertical-align: top;\n",
       "    }\n",
       "\n",
       "    .dataframe thead th {\n",
       "        text-align: right;\n",
       "    }\n",
       "</style>\n",
       "<table border=\"1\" class=\"dataframe\">\n",
       "  <thead>\n",
       "    <tr style=\"text-align: right;\">\n",
       "      <th></th>\n",
       "      <th>date</th>\n",
       "      <th>group</th>\n",
       "      <th>orders</th>\n",
       "      <th>buyers</th>\n",
       "      <th>revenue</th>\n",
       "      <th>visitors</th>\n",
       "      <th>conversion</th>\n",
       "    </tr>\n",
       "  </thead>\n",
       "  <tbody>\n",
       "    <tr>\n",
       "      <th>0</th>\n",
       "      <td>2019-08-01</td>\n",
       "      <td>A</td>\n",
       "      <td>23</td>\n",
       "      <td>19</td>\n",
       "      <td>2266.6</td>\n",
       "      <td>719</td>\n",
       "      <td>0.031989</td>\n",
       "    </tr>\n",
       "    <tr>\n",
       "      <th>2</th>\n",
       "      <td>2019-08-02</td>\n",
       "      <td>A</td>\n",
       "      <td>42</td>\n",
       "      <td>36</td>\n",
       "      <td>3734.9</td>\n",
       "      <td>1338</td>\n",
       "      <td>0.031390</td>\n",
       "    </tr>\n",
       "    <tr>\n",
       "      <th>4</th>\n",
       "      <td>2019-08-03</td>\n",
       "      <td>A</td>\n",
       "      <td>66</td>\n",
       "      <td>60</td>\n",
       "      <td>5550.1</td>\n",
       "      <td>1845</td>\n",
       "      <td>0.035772</td>\n",
       "    </tr>\n",
       "  </tbody>\n",
       "</table>\n",
       "</div>"
      ],
      "text/plain": [
       "        date group  orders  buyers  revenue  visitors  conversion\n",
       "0 2019-08-01     A      23      19   2266.6       719    0.031989\n",
       "2 2019-08-02     A      42      36   3734.9      1338    0.031390\n",
       "4 2019-08-03     A      66      60   5550.1      1845    0.035772"
      ]
     },
     "execution_count": 62,
     "metadata": {},
     "output_type": "execute_result"
    },
    {
     "data": {
      "text/html": [
       "<div>\n",
       "<style scoped>\n",
       "    .dataframe tbody tr th:only-of-type {\n",
       "        vertical-align: middle;\n",
       "    }\n",
       "\n",
       "    .dataframe tbody tr th {\n",
       "        vertical-align: top;\n",
       "    }\n",
       "\n",
       "    .dataframe thead th {\n",
       "        text-align: right;\n",
       "    }\n",
       "</style>\n",
       "<table border=\"1\" class=\"dataframe\">\n",
       "  <thead>\n",
       "    <tr style=\"text-align: right;\">\n",
       "      <th></th>\n",
       "      <th>date</th>\n",
       "      <th>group</th>\n",
       "      <th>orders</th>\n",
       "      <th>buyers</th>\n",
       "      <th>revenue</th>\n",
       "      <th>visitors</th>\n",
       "      <th>conversion</th>\n",
       "    </tr>\n",
       "  </thead>\n",
       "  <tbody>\n",
       "    <tr>\n",
       "      <th>1</th>\n",
       "      <td>2019-08-01</td>\n",
       "      <td>B</td>\n",
       "      <td>17</td>\n",
       "      <td>17</td>\n",
       "      <td>967.2</td>\n",
       "      <td>713</td>\n",
       "      <td>0.023843</td>\n",
       "    </tr>\n",
       "    <tr>\n",
       "      <th>3</th>\n",
       "      <td>2019-08-02</td>\n",
       "      <td>B</td>\n",
       "      <td>40</td>\n",
       "      <td>39</td>\n",
       "      <td>3535.3</td>\n",
       "      <td>1294</td>\n",
       "      <td>0.030912</td>\n",
       "    </tr>\n",
       "    <tr>\n",
       "      <th>5</th>\n",
       "      <td>2019-08-03</td>\n",
       "      <td>B</td>\n",
       "      <td>54</td>\n",
       "      <td>53</td>\n",
       "      <td>4606.9</td>\n",
       "      <td>1803</td>\n",
       "      <td>0.029950</td>\n",
       "    </tr>\n",
       "  </tbody>\n",
       "</table>\n",
       "</div>"
      ],
      "text/plain": [
       "        date group  orders  buyers  revenue  visitors  conversion\n",
       "1 2019-08-01     B      17      17    967.2       713    0.023843\n",
       "3 2019-08-02     B      40      39   3535.3      1294    0.030912\n",
       "5 2019-08-03     B      54      53   4606.9      1803    0.029950"
      ]
     },
     "execution_count": 62,
     "metadata": {},
     "output_type": "execute_result"
    }
   ],
   "source": [
    "# checking result\n",
    "cumulative_data_a.head(3)\n",
    "cumulative_data_b.head(3)"
   ]
  },
  {
   "cell_type": "code",
   "execution_count": 63,
   "metadata": {},
   "outputs": [
    {
     "data": {
      "image/png": "[encoded data removed]",
      "text/plain": [
       "<Figure size 1000x500 with 1 Axes>"
      ]
     },
     "metadata": {},
     "output_type": "display_data"
    }
   ],
   "source": [
    "# Plotting a conversion rate graph for the average purchase sizes\n",
    "plt.figure(figsize=(10, 5))\n",
    "plt.title('Conversion rate per group',fontsize=14)\n",
    "\n",
    "# Plotting the group A cumulative conversion\n",
    "plt.plot(cumulative_data_a['date'], cumulative_data_a['conversion'], \n",
    "         linewidth=3, marker='o', markersize=7, label='Group A')\n",
    "plt.grid(True, color='lightgray')\n",
    "\n",
    "# Plotting the group B cumulative conversion\n",
    "plt.plot(cumulative_data_b['date'], cumulative_data_b['conversion'], \n",
    "         linewidth=3, marker='o', markersize=7, label='Group B')\n",
    "\n",
    "plt.xlabel('Date')\n",
    "plt.ylabel('Conversion rate, %')\n",
    "plt.legend();"
   ]
  },
  {
   "cell_type": "markdown",
   "metadata": {},
   "source": [
    "- Group A initially held the lead in the conversion rate, but on 2019-08-07, Group B surpassed them. \n",
    "- Following this, both groups stabilized, with Group B maintaining an edge over Group A.\n",
    "- Since the second week of August 2019, the conversation rates of both groups have been vaguely declining."
   ]
  },
  {
   "cell_type": "code",
   "execution_count": 65,
   "metadata": {},
   "outputs": [
    {
     "data": {
      "text/html": [
       "<div>\n",
       "<style scoped>\n",
       "    .dataframe tbody tr th:only-of-type {\n",
       "        vertical-align: middle;\n",
       "    }\n",
       "\n",
       "    .dataframe tbody tr th {\n",
       "        vertical-align: top;\n",
       "    }\n",
       "\n",
       "    .dataframe thead th {\n",
       "        text-align: right;\n",
       "    }\n",
       "</style>\n",
       "<table border=\"1\" class=\"dataframe\">\n",
       "  <thead>\n",
       "    <tr style=\"text-align: right;\">\n",
       "      <th></th>\n",
       "      <th>date</th>\n",
       "      <th>conversion_a</th>\n",
       "      <th>conversion_b</th>\n",
       "    </tr>\n",
       "  </thead>\n",
       "  <tbody>\n",
       "    <tr>\n",
       "      <th>0</th>\n",
       "      <td>2019-08-01</td>\n",
       "      <td>0.031989</td>\n",
       "      <td>0.023843</td>\n",
       "    </tr>\n",
       "    <tr>\n",
       "      <th>1</th>\n",
       "      <td>2019-08-02</td>\n",
       "      <td>0.031390</td>\n",
       "      <td>0.030912</td>\n",
       "    </tr>\n",
       "    <tr>\n",
       "      <th>2</th>\n",
       "      <td>2019-08-03</td>\n",
       "      <td>0.035772</td>\n",
       "      <td>0.029950</td>\n",
       "    </tr>\n",
       "  </tbody>\n",
       "</table>\n",
       "</div>"
      ],
      "text/plain": [
       "        date  conversion_a  conversion_b\n",
       "0 2019-08-01      0.031989      0.023843\n",
       "1 2019-08-02      0.031390      0.030912\n",
       "2 2019-08-03      0.035772      0.029950"
      ]
     },
     "execution_count": 65,
     "metadata": {},
     "output_type": "execute_result"
    }
   ],
   "source": [
    "# merging data on conversions by groups\n",
    "merged_cumulative_conversions = cumulative_data_a[['date','conversion']].merge(\n",
    "    cumulative_data_b[['date','conversion']], left_on='date', right_on='date', how='left', suffixes=['_a', '_b'])\n",
    "\n",
    "merged_cumulative_conversions.head(3)"
   ]
  },
  {
   "cell_type": "code",
   "execution_count": 66,
   "metadata": {},
   "outputs": [
    {
     "data": {
      "image/png": "[encoded data removed]",
      "text/plain": [
       "<Figure size 1000x500 with 1 Axes>"
      ]
     },
     "metadata": {},
     "output_type": "display_data"
    }
   ],
   "source": [
    "# Let's plot a relative difference graph for the cumulative conversion rates:\n",
    "\n",
    "plt.figure(figsize=(10, 5))\n",
    "plt.title('Relative difference in cumulative conversion rates between A and B groups',fontsize=14)\n",
    "\n",
    "plt.plot(\n",
    "    merged_cumulative_conversions['date'], \n",
    "    merged_cumulative_conversions['conversion_b']/merged_cumulative_conversions['conversion_a']-1, \n",
    "    label='Relative difference in cumulative conversion rates: Group B vs. Group A',\n",
    "    linewidth=3, marker='o', markersize=7\n",
    ") \n",
    "\n",
    "plt.grid(True, color='lightgray')\n",
    "plt.legend()\n",
    "plt.xlabel('Date')\n",
    "plt.ylabel('%')\n",
    "\n",
    "# adding the X axis\n",
    "plt.axhline(y=0, color='darkgrey', linewidth=3, linestyle='--');"
   ]
  },
  {
   "cell_type": "markdown",
   "metadata": {},
   "source": [
    "- At the start of the test, Group B was significantly behind Group A in terms of conversion rate. \n",
    "- However, it later surged ahead, and experienced another decline in conversion on 2019-08-03. \n",
    "- Since 2019-08-07 Group B is gradually showing improvement in comparison with group A.\n",
    "- It's crucial to examine any anomalies, as they could potentially influence the results and change the overall outlook."
   ]
  },
  {
   "cell_type": "markdown",
   "metadata": {},
   "source": [
    "### 5. Plot a scatter chart of the number of orders per user. "
   ]
  },
  {
   "cell_type": "code",
   "execution_count": 69,
   "metadata": {},
   "outputs": [],
   "source": [
    "# creating a dataframe showing number of orders per user\n",
    "orders_per_user = (\n",
    "    orders_df.groupby('visitor_id',as_index=False)['transaction_id']\n",
    "                   .nunique()\n",
    "                  # .sort_values(by='transaction_id',ascending=False)\n",
    ")\n",
    "orders_per_user.columns = ['user','orders']"
   ]
  },
  {
   "cell_type": "code",
   "execution_count": 70,
   "metadata": {},
   "outputs": [
    {
     "data": {
      "text/html": [
       "<div>\n",
       "<style scoped>\n",
       "    .dataframe tbody tr th:only-of-type {\n",
       "        vertical-align: middle;\n",
       "    }\n",
       "\n",
       "    .dataframe tbody tr th {\n",
       "        vertical-align: top;\n",
       "    }\n",
       "\n",
       "    .dataframe thead th {\n",
       "        text-align: right;\n",
       "    }\n",
       "</style>\n",
       "<table border=\"1\" class=\"dataframe\">\n",
       "  <thead>\n",
       "    <tr style=\"text-align: right;\">\n",
       "      <th></th>\n",
       "      <th>user</th>\n",
       "      <th>orders</th>\n",
       "    </tr>\n",
       "  </thead>\n",
       "  <tbody>\n",
       "    <tr>\n",
       "      <th>221</th>\n",
       "      <td>950626008</td>\n",
       "      <td>1</td>\n",
       "    </tr>\n",
       "    <tr>\n",
       "      <th>113</th>\n",
       "      <td>492739583</td>\n",
       "      <td>1</td>\n",
       "    </tr>\n",
       "    <tr>\n",
       "      <th>645</th>\n",
       "      <td>2803209166</td>\n",
       "      <td>1</td>\n",
       "    </tr>\n",
       "  </tbody>\n",
       "</table>\n",
       "</div>"
      ],
      "text/plain": [
       "           user  orders\n",
       "221   950626008       1\n",
       "113   492739583       1\n",
       "645  2803209166       1"
      ]
     },
     "execution_count": 70,
     "metadata": {},
     "output_type": "execute_result"
    }
   ],
   "source": [
    "# checking result\n",
    "orders_per_user.sample(3)"
   ]
  },
  {
   "cell_type": "code",
   "execution_count": 71,
   "metadata": {},
   "outputs": [
    {
     "data": {
      "text/html": [
       "<div>\n",
       "<style scoped>\n",
       "    .dataframe tbody tr th:only-of-type {\n",
       "        vertical-align: middle;\n",
       "    }\n",
       "\n",
       "    .dataframe tbody tr th {\n",
       "        vertical-align: top;\n",
       "    }\n",
       "\n",
       "    .dataframe thead th {\n",
       "        text-align: right;\n",
       "    }\n",
       "</style>\n",
       "<table border=\"1\" class=\"dataframe\">\n",
       "  <thead>\n",
       "    <tr style=\"text-align: right;\">\n",
       "      <th></th>\n",
       "      <th>user</th>\n",
       "      <th>orders</th>\n",
       "    </tr>\n",
       "  </thead>\n",
       "  <tbody>\n",
       "    <tr>\n",
       "      <th>0</th>\n",
       "      <td>5114589</td>\n",
       "      <td>1</td>\n",
       "    </tr>\n",
       "    <tr>\n",
       "      <th>636</th>\n",
       "      <td>2758621772</td>\n",
       "      <td>1</td>\n",
       "    </tr>\n",
       "    <tr>\n",
       "      <th>637</th>\n",
       "      <td>2761566146</td>\n",
       "      <td>1</td>\n",
       "    </tr>\n",
       "    <tr>\n",
       "      <th>638</th>\n",
       "      <td>2763027084</td>\n",
       "      <td>1</td>\n",
       "    </tr>\n",
       "    <tr>\n",
       "      <th>639</th>\n",
       "      <td>2771749575</td>\n",
       "      <td>1</td>\n",
       "    </tr>\n",
       "    <tr>\n",
       "      <th>...</th>\n",
       "      <td>...</td>\n",
       "      <td>...</td>\n",
       "    </tr>\n",
       "    <tr>\n",
       "      <th>138</th>\n",
       "      <td>611059232</td>\n",
       "      <td>3</td>\n",
       "    </tr>\n",
       "    <tr>\n",
       "      <th>908</th>\n",
       "      <td>3967698036</td>\n",
       "      <td>3</td>\n",
       "    </tr>\n",
       "    <tr>\n",
       "      <th>632</th>\n",
       "      <td>2742574263</td>\n",
       "      <td>3</td>\n",
       "    </tr>\n",
       "    <tr>\n",
       "      <th>890</th>\n",
       "      <td>3908431265</td>\n",
       "      <td>3</td>\n",
       "    </tr>\n",
       "    <tr>\n",
       "      <th>55</th>\n",
       "      <td>249864742</td>\n",
       "      <td>3</td>\n",
       "    </tr>\n",
       "  </tbody>\n",
       "</table>\n",
       "<p>973 rows × 2 columns</p>\n",
       "</div>"
      ],
      "text/plain": [
       "           user  orders\n",
       "0       5114589       1\n",
       "636  2758621772       1\n",
       "637  2761566146       1\n",
       "638  2763027084       1\n",
       "639  2771749575       1\n",
       "..          ...     ...\n",
       "138   611059232       3\n",
       "908  3967698036       3\n",
       "632  2742574263       3\n",
       "890  3908431265       3\n",
       "55    249864742       3\n",
       "\n",
       "[973 rows x 2 columns]"
      ]
     },
     "execution_count": 71,
     "metadata": {},
     "output_type": "execute_result"
    }
   ],
   "source": [
    "orders_per_user.sort_values(by='orders')"
   ]
  },
  {
   "cell_type": "code",
   "execution_count": 72,
   "metadata": {},
   "outputs": [
    {
     "data": {
      "image/png": "[encoded data removed]",
      "text/plain": [
       "<Figure size 1000x500 with 1 Axes>"
      ]
     },
     "metadata": {},
     "output_type": "display_data"
    }
   ],
   "source": [
    "# plotting a scatter plot а the number of orders per user\n",
    "plt.figure(figsize=(10, 5)) \n",
    "plt.title('Number of orders per user',fontsize=14)\n",
    "\n",
    "x_values = pd.Series(range(0, len(orders_per_user)))\n",
    "plt.scatter(x_values, orders_per_user['orders'])\n",
    "\n",
    "plt.xlabel('Orders')\n",
    "plt.xlabel('Users range');"
   ]
  },
  {
   "cell_type": "code",
   "execution_count": 73,
   "metadata": {},
   "outputs": [
    {
     "data": {
      "text/html": [
       "<div>\n",
       "<style scoped>\n",
       "    .dataframe tbody tr th:only-of-type {\n",
       "        vertical-align: middle;\n",
       "    }\n",
       "\n",
       "    .dataframe tbody tr th {\n",
       "        vertical-align: top;\n",
       "    }\n",
       "\n",
       "    .dataframe thead th {\n",
       "        text-align: right;\n",
       "    }\n",
       "</style>\n",
       "<table border=\"1\" class=\"dataframe\">\n",
       "  <thead>\n",
       "    <tr style=\"text-align: right;\">\n",
       "      <th></th>\n",
       "      <th>orders_per_user</th>\n",
       "      <th>sum</th>\n",
       "    </tr>\n",
       "  </thead>\n",
       "  <tbody>\n",
       "    <tr>\n",
       "      <th>0</th>\n",
       "      <td>1</td>\n",
       "      <td>937</td>\n",
       "    </tr>\n",
       "    <tr>\n",
       "      <th>1</th>\n",
       "      <td>2</td>\n",
       "      <td>29</td>\n",
       "    </tr>\n",
       "    <tr>\n",
       "      <th>2</th>\n",
       "      <td>3</td>\n",
       "      <td>7</td>\n",
       "    </tr>\n",
       "  </tbody>\n",
       "</table>\n",
       "</div>"
      ],
      "text/plain": [
       "   orders_per_user  sum\n",
       "0                1  937\n",
       "1                2   29\n",
       "2                3    7"
      ]
     },
     "execution_count": 73,
     "metadata": {},
     "output_type": "execute_result"
    }
   ],
   "source": [
    "# checking distribution of number of orders made by users \n",
    "orders_per_user_totals = orders_per_user['orders'].value_counts().reset_index()\n",
    "orders_per_user_totals.columns = ['orders_per_user', 'sum']\n",
    "orders_per_user_totals"
   ]
  },
  {
   "cell_type": "code",
   "execution_count": 74,
   "metadata": {},
   "outputs": [
    {
     "data": {
      "image/png": "[encoded data removed]",
      "text/plain": [
       "<Figure size 400x400 with 1 Axes>"
      ]
     },
     "metadata": {},
     "output_type": "display_data"
    }
   ],
   "source": [
    "# let's display the distribution of number of orders per user on the pie-chart\n",
    "plt.figure(figsize=(4, 4))\n",
    "explode = [0.2, 0.1, 0]\n",
    "plt.pie(data=orders_per_user_totals,\n",
    "        x='sum',\n",
    "        labels = 'orders_per_user',\n",
    "        explode=explode,\n",
    "        autopct='%.0f%%',\n",
    "        pctdistance =0.85)\n",
    "plt.title('Distribution of number of orders per user',fontsize=14); "
   ]
  },
  {
   "cell_type": "markdown",
   "metadata": {},
   "source": [
    "Just a minority - 4% of users made over one order."
   ]
  },
  {
   "cell_type": "markdown",
   "metadata": {},
   "source": [
    "### 6. Calculate the 95th and 99th percentiles for the number of orders per user. Define the point at which a data point becomes an anomaly."
   ]
  },
  {
   "cell_type": "code",
   "execution_count": 77,
   "metadata": {},
   "outputs": [
    {
     "data": {
      "text/plain": [
       "array([1., 2.])"
      ]
     },
     "execution_count": 77,
     "metadata": {},
     "output_type": "execute_result"
    }
   ],
   "source": [
    "# checking the 95 and 99 percentile\n",
    "np.percentile(orders_per_user['orders'], [95, 99])"
   ]
  },
  {
   "cell_type": "markdown",
   "metadata": {},
   "source": [
    "- The nth percentile marks the value below which n percent of observations fall.\n",
    "- So 95% percent of users made 1 or less orders, and 99% percent of users made 2 or less orders."
   ]
  },
  {
   "cell_type": "code",
   "execution_count": 79,
   "metadata": {},
   "outputs": [
    {
     "data": {
      "image/png": "[encoded data removed]",
      "text/plain": [
       "<Figure size 1200x300 with 2 Axes>"
      ]
     },
     "metadata": {},
     "output_type": "display_data"
    },
    {
     "name": "stdout",
     "output_type": "stream",
     "text": [
      "---------------------------------------\n",
      "min border: 1\n",
      "max border: 1\n",
      "The outliers are considered to be values below 1 and above 1\n"
     ]
    }
   ],
   "source": [
    "# checking outliers with by use of \"1.5*IQR approach\" (whiskers of boxplot). \n",
    "fig, axes = plt.subplots(1, 2, figsize=(12, 3))\n",
    "x_data = orders_per_user['orders']\n",
    "sns.boxplot(x=x_data, showfliers=True, ax=axes[0]).set(title='Orders boxplot with outliers')\n",
    "sns.boxplot(x=x_data, showfliers=False, ax=axes[1]).set(title='Orders boxplot without outliers')\n",
    "plt.show();\n",
    " \n",
    "# calculating and displaying the IQR and outlier borders\n",
    "Q1 = round(x_data.quantile(0.25))\n",
    "Q3 = round(x_data.quantile(0.75))\n",
    "IQR = Q3-Q1\n",
    "min_iqr=Q1-round(1.5*IQR) \n",
    "max_iqr=Q3+round(1.5*IQR)\n",
    "\n",
    "print('---------------------------------------')\n",
    "print('min border:',min_iqr)\n",
    "print('max border:',max_iqr)\n",
    "print('The outliers are considered to be values below',min_iqr, \"and above\",max_iqr);"
   ]
  },
  {
   "cell_type": "markdown",
   "metadata": {},
   "source": [
    "\"1.5\\*IQR approach\" recommends us to treat all cases of making over 1 order per user as outliers."
   ]
  },
  {
   "cell_type": "markdown",
   "metadata": {},
   "source": [
    "### 7. Plot a scatter chart of order prices."
   ]
  },
  {
   "cell_type": "code",
   "execution_count": 82,
   "metadata": {},
   "outputs": [
    {
     "data": {
      "image/png": "[encoded data removed]",
      "text/plain": [
       "<Figure size 1000x500 with 1 Axes>"
      ]
     },
     "metadata": {},
     "output_type": "display_data"
    }
   ],
   "source": [
    "# plotting a scatter plot а the of orders prices\n",
    "\n",
    "plt.figure(figsize=(10, 5)) \n",
    "plt.title('Order prices',fontsize=14)\n",
    "\n",
    "x_values = pd.Series(range(0, len(orders_df)))\n",
    "plt.scatter(x_values, orders_df['revenue'])\n",
    "\n",
    "plt.xlabel('Orders range')\n",
    "plt.ylabel('Prices');"
   ]
  },
  {
   "cell_type": "code",
   "execution_count": 221,
   "metadata": {},
   "outputs": [
    {
     "data": {
      "text/html": [
       "<div>\n",
       "<style scoped>\n",
       "    .dataframe tbody tr th:only-of-type {\n",
       "        vertical-align: middle;\n",
       "    }\n",
       "\n",
       "    .dataframe tbody tr th {\n",
       "        vertical-align: top;\n",
       "    }\n",
       "\n",
       "    .dataframe thead th {\n",
       "        text-align: right;\n",
       "    }\n",
       "</style>\n",
       "<table border=\"1\" class=\"dataframe\">\n",
       "  <thead>\n",
       "    <tr style=\"text-align: right;\">\n",
       "      <th></th>\n",
       "      <th>transaction_id</th>\n",
       "      <th>visitor_id</th>\n",
       "      <th>date</th>\n",
       "      <th>revenue</th>\n",
       "      <th>group</th>\n",
       "    </tr>\n",
       "  </thead>\n",
       "  <tbody>\n",
       "    <tr>\n",
       "      <th>425</th>\n",
       "      <td>590470918</td>\n",
       "      <td>1920142716</td>\n",
       "      <td>2019-08-19</td>\n",
       "      <td>19920.4</td>\n",
       "      <td>B</td>\n",
       "    </tr>\n",
       "    <tr>\n",
       "      <th>1196</th>\n",
       "      <td>3936777065</td>\n",
       "      <td>2108080724</td>\n",
       "      <td>2019-08-15</td>\n",
       "      <td>3120.1</td>\n",
       "      <td>B</td>\n",
       "    </tr>\n",
       "  </tbody>\n",
       "</table>\n",
       "</div>"
      ],
      "text/plain": [
       "      transaction_id  visitor_id       date  revenue group\n",
       "425        590470918  1920142716 2019-08-19  19920.4     B\n",
       "1196      3936777065  2108080724 2019-08-15   3120.1     B"
      ]
     },
     "execution_count": 221,
     "metadata": {},
     "output_type": "execute_result"
    }
   ],
   "source": [
    "# checking orders worth over 2500\n",
    "orders_df.query('revenue > 2500')"
   ]
  },
  {
   "cell_type": "markdown",
   "metadata": {},
   "source": [
    "- We see two outstanding orders, both from B group. One of them, made on 2019-08-19, is many times higher than averages. It could be either some anomalies in user expenditure or a mistake, e.g., during payment processing. We \n",
    "- We could see before how it affected our analysis of cumulative revenue and average order size  per group."
   ]
  },
  {
   "cell_type": "markdown",
   "metadata": {},
   "source": [
    "\n",
    "### 8. Calculate the 95th and 99th percentiles of order prices. Define the point at which a data point becomes an anomaly."
   ]
  },
  {
   "cell_type": "code",
   "execution_count": 225,
   "metadata": {},
   "outputs": [
    {
     "data": {
      "text/plain": [
       "array([414.275, 830.3  ])"
      ]
     },
     "execution_count": 225,
     "metadata": {},
     "output_type": "execute_result"
    }
   ],
   "source": [
    "# checking the 95 and 99 percentile\n",
    "np.percentile(orders_df['revenue'], [95, 99])"
   ]
  },
  {
   "cell_type": "markdown",
   "metadata": {},
   "source": [
    "- The nth percentile marks the value below which n percent of observations fall.\n",
    "- So 95% percent of orders were below 414 and 99% percent of orders were below 830."
   ]
  },
  {
   "cell_type": "code",
   "execution_count": 227,
   "metadata": {},
   "outputs": [
    {
     "data": {
      "image/png": "[encoded data removed]",
      "text/plain": [
       "<Figure size 1200x300 with 2 Axes>"
      ]
     },
     "metadata": {},
     "output_type": "display_data"
    },
    {
     "name": "stdout",
     "output_type": "stream",
     "text": [
      "---------------------------------------\n",
      "min border: -138\n",
      "max border: 286\n",
      "The outliers are considered to be values below -138 and above 286\n"
     ]
    }
   ],
   "source": [
    "# checking outliers with by use of \"1.5*IQR approach\" (whiskers of boxplot). \n",
    "fig, axes = plt.subplots(1, 2, figsize=(12, 3))\n",
    "x_data = orders_df['revenue']\n",
    "sns.boxplot(x=x_data, showfliers=True, ax=axes[0]).set(title='Orders boxplot with outliers')\n",
    "sns.boxplot(x=x_data, showfliers=False, ax=axes[1]).set(title='Orders boxplot without outliers')\n",
    "plt.show();\n",
    "\n",
    "# calculating and displaying the IQR and outlier borders\n",
    "Q1 = round(x_data.quantile(0.25))\n",
    "Q3 = round(x_data.quantile(0.75))\n",
    "IQR = Q3-Q1\n",
    "min_iqr=Q1-round(1.5*IQR) \n",
    "max_iqr=Q3+round(1.5*IQR)\n",
    "\n",
    "print('---------------------------------------')\n",
    "print('min border:',min_iqr)\n",
    "print('max border:',max_iqr)\n",
    "print('The outliers are considered to be values below',min_iqr, \"and above\",max_iqr);"
   ]
  },
  {
   "cell_type": "markdown",
   "metadata": {},
   "source": [
    "\"1.5*IQR approach\" recommends us to treat all cases with order prices above 286 as outliers."
   ]
  },
  {
   "cell_type": "markdown",
   "metadata": {},
   "source": [
    "The presence of outliers could significantly affect our next analysis, potentially skewing the results and influencing the overall conclusions we draw.\n",
    "\n",
    "In this case, it seems prudent to follow the most accurate approach and focus on removing only the 2 most outstanding outliers—those with extremely high values—that are clearly visible on the scatter plot above. Despite the dataset not being very large, eliminating all orders above certain thresholds (e.g., 286 or 830) as recommended by different approaches might lead to the loss of valuable data and insights that could be present in these outlier cases.\n",
    "\n",
    "To ensure a comprehensive understanding of the data's characteristics, we will create a new dataframe for the filtered data, allowing us to compare the results of our analysis between the original data and the filtered data."
   ]
  },
  {
   "cell_type": "code",
   "execution_count": 230,
   "metadata": {},
   "outputs": [],
   "source": [
    "# creating a new dataframe for the filtered data (without outliers)\n",
    "orders_df_filtered = orders_df.query('revenue <= 2500')"
   ]
  },
  {
   "cell_type": "code",
   "execution_count": 231,
   "metadata": {},
   "outputs": [
    {
     "data": {
      "text/html": [
       "<div>\n",
       "<style scoped>\n",
       "    .dataframe tbody tr th:only-of-type {\n",
       "        vertical-align: middle;\n",
       "    }\n",
       "\n",
       "    .dataframe tbody tr th {\n",
       "        vertical-align: top;\n",
       "    }\n",
       "\n",
       "    .dataframe thead th {\n",
       "        text-align: right;\n",
       "    }\n",
       "</style>\n",
       "<table border=\"1\" class=\"dataframe\">\n",
       "  <thead>\n",
       "    <tr style=\"text-align: right;\">\n",
       "      <th></th>\n",
       "      <th>transaction_id</th>\n",
       "      <th>visitor_id</th>\n",
       "      <th>date</th>\n",
       "      <th>revenue</th>\n",
       "      <th>group</th>\n",
       "    </tr>\n",
       "  </thead>\n",
       "  <tbody>\n",
       "    <tr>\n",
       "      <th>0</th>\n",
       "      <td>3667963787</td>\n",
       "      <td>3312258926</td>\n",
       "      <td>2019-08-15</td>\n",
       "      <td>30.4</td>\n",
       "      <td>B</td>\n",
       "    </tr>\n",
       "    <tr>\n",
       "      <th>1</th>\n",
       "      <td>2804400009</td>\n",
       "      <td>3642806036</td>\n",
       "      <td>2019-08-15</td>\n",
       "      <td>15.2</td>\n",
       "      <td>B</td>\n",
       "    </tr>\n",
       "    <tr>\n",
       "      <th>3</th>\n",
       "      <td>3797467345</td>\n",
       "      <td>1196621759</td>\n",
       "      <td>2019-08-15</td>\n",
       "      <td>155.1</td>\n",
       "      <td>B</td>\n",
       "    </tr>\n",
       "    <tr>\n",
       "      <th>4</th>\n",
       "      <td>2282983706</td>\n",
       "      <td>2322279887</td>\n",
       "      <td>2019-08-15</td>\n",
       "      <td>40.5</td>\n",
       "      <td>B</td>\n",
       "    </tr>\n",
       "    <tr>\n",
       "      <th>5</th>\n",
       "      <td>182168103</td>\n",
       "      <td>935554773</td>\n",
       "      <td>2019-08-15</td>\n",
       "      <td>35.0</td>\n",
       "      <td>B</td>\n",
       "    </tr>\n",
       "    <tr>\n",
       "      <th>...</th>\n",
       "      <td>...</td>\n",
       "      <td>...</td>\n",
       "      <td>...</td>\n",
       "      <td>...</td>\n",
       "      <td>...</td>\n",
       "    </tr>\n",
       "    <tr>\n",
       "      <th>1190</th>\n",
       "      <td>38478481</td>\n",
       "      <td>1197745035</td>\n",
       "      <td>2019-08-14</td>\n",
       "      <td>135.3</td>\n",
       "      <td>B</td>\n",
       "    </tr>\n",
       "    <tr>\n",
       "      <th>1191</th>\n",
       "      <td>3592955527</td>\n",
       "      <td>608641596</td>\n",
       "      <td>2019-08-14</td>\n",
       "      <td>255.7</td>\n",
       "      <td>B</td>\n",
       "    </tr>\n",
       "    <tr>\n",
       "      <th>1192</th>\n",
       "      <td>2662137336</td>\n",
       "      <td>3733762160</td>\n",
       "      <td>2019-08-14</td>\n",
       "      <td>100.8</td>\n",
       "      <td>B</td>\n",
       "    </tr>\n",
       "    <tr>\n",
       "      <th>1193</th>\n",
       "      <td>2203539145</td>\n",
       "      <td>370388673</td>\n",
       "      <td>2019-08-14</td>\n",
       "      <td>50.1</td>\n",
       "      <td>A</td>\n",
       "    </tr>\n",
       "    <tr>\n",
       "      <th>1194</th>\n",
       "      <td>1807773912</td>\n",
       "      <td>573423106</td>\n",
       "      <td>2019-08-14</td>\n",
       "      <td>165.3</td>\n",
       "      <td>A</td>\n",
       "    </tr>\n",
       "  </tbody>\n",
       "</table>\n",
       "<p>1014 rows × 5 columns</p>\n",
       "</div>"
      ],
      "text/plain": [
       "      transaction_id  visitor_id       date  revenue group\n",
       "0         3667963787  3312258926 2019-08-15     30.4     B\n",
       "1         2804400009  3642806036 2019-08-15     15.2     B\n",
       "3         3797467345  1196621759 2019-08-15    155.1     B\n",
       "4         2282983706  2322279887 2019-08-15     40.5     B\n",
       "5          182168103   935554773 2019-08-15     35.0     B\n",
       "...              ...         ...        ...      ...   ...\n",
       "1190        38478481  1197745035 2019-08-14    135.3     B\n",
       "1191      3592955527   608641596 2019-08-14    255.7     B\n",
       "1192      2662137336  3733762160 2019-08-14    100.8     B\n",
       "1193      2203539145   370388673 2019-08-14     50.1     A\n",
       "1194      1807773912   573423106 2019-08-14    165.3     A\n",
       "\n",
       "[1014 rows x 5 columns]"
      ]
     },
     "execution_count": 231,
     "metadata": {},
     "output_type": "execute_result"
    }
   ],
   "source": [
    "# checking result\n",
    "orders_df_filtered"
   ]
  },
  {
   "cell_type": "code",
   "execution_count": 232,
   "metadata": {},
   "outputs": [
    {
     "data": {
      "image/png": "[encoded data removed]",
      "text/plain": [
       "<Figure size 1000x500 with 1 Axes>"
      ]
     },
     "metadata": {},
     "output_type": "display_data"
    }
   ],
   "source": [
    "# plotting a scatter plot а the of orders prices on filtered data\n",
    "\n",
    "plt.figure(figsize=(10, 5)) \n",
    "plt.title('Order prices without outliers',fontsize=14)\n",
    "\n",
    "x_values = pd.Series(range(0, len(orders_df_filtered)))\n",
    "plt.scatter(x_values, orders_df_filtered['revenue'])\n",
    "\n",
    "plt.xlabel('Orders range')\n",
    "plt.ylabel('Prices');"
   ]
  },
  {
   "cell_type": "markdown",
   "metadata": {},
   "source": [
    "From the scatter plot with filtered data, it seems that treating just two extreme values as outliers was the right decision. Removing only these extreme values helped manage the impact of outliers while retaining valuable data."
   ]
  },
  {
   "cell_type": "markdown",
   "metadata": {},
   "source": [
    "### 9. Find the statistical significance of the difference in conversion between the groups using the raw data. "
   ]
  },
  {
   "cell_type": "markdown",
   "metadata": {},
   "source": [
    "Let's establish our hypotheses:\n",
    "- null Hypothesis (H0): there are no differences in conversion between the groups.\n",
    "- alternative Hypothesis (H1): we lack sufficient evidence to conclude that there are no differences in conversion\\* between the groups.\n",
    "\n",
    "\\*Later on, we will use the same formulations for the null and alternative hypotheses, but the parameter under study could be different."
   ]
  },
  {
   "cell_type": "code",
   "execution_count": 236,
   "metadata": {},
   "outputs": [
    {
     "data": {
      "text/html": [
       "<div>\n",
       "<style scoped>\n",
       "    .dataframe tbody tr th:only-of-type {\n",
       "        vertical-align: middle;\n",
       "    }\n",
       "\n",
       "    .dataframe tbody tr th {\n",
       "        vertical-align: top;\n",
       "    }\n",
       "\n",
       "    .dataframe thead th {\n",
       "        text-align: right;\n",
       "    }\n",
       "</style>\n",
       "<table border=\"1\" class=\"dataframe\">\n",
       "  <thead>\n",
       "    <tr style=\"text-align: right;\">\n",
       "      <th></th>\n",
       "      <th>transaction_id</th>\n",
       "      <th>visitor_id</th>\n",
       "      <th>date</th>\n",
       "      <th>revenue</th>\n",
       "      <th>group</th>\n",
       "    </tr>\n",
       "  </thead>\n",
       "  <tbody>\n",
       "    <tr>\n",
       "      <th>1145</th>\n",
       "      <td>3768600702</td>\n",
       "      <td>3320079367</td>\n",
       "      <td>2019-08-13</td>\n",
       "      <td>80.4</td>\n",
       "      <td>B</td>\n",
       "    </tr>\n",
       "    <tr>\n",
       "      <th>101</th>\n",
       "      <td>3847160695</td>\n",
       "      <td>1830791924</td>\n",
       "      <td>2019-08-01</td>\n",
       "      <td>40.2</td>\n",
       "      <td>A</td>\n",
       "    </tr>\n",
       "    <tr>\n",
       "      <th>103</th>\n",
       "      <td>2951399376</td>\n",
       "      <td>2019355024</td>\n",
       "      <td>2019-08-01</td>\n",
       "      <td>40.2</td>\n",
       "      <td>B</td>\n",
       "    </tr>\n",
       "    <tr>\n",
       "      <th>541</th>\n",
       "      <td>2425764900</td>\n",
       "      <td>3713138051</td>\n",
       "      <td>2019-08-20</td>\n",
       "      <td>40.2</td>\n",
       "      <td>B</td>\n",
       "    </tr>\n",
       "    <tr>\n",
       "      <th>705</th>\n",
       "      <td>2541328114</td>\n",
       "      <td>1426761187</td>\n",
       "      <td>2019-08-07</td>\n",
       "      <td>180.8</td>\n",
       "      <td>A</td>\n",
       "    </tr>\n",
       "  </tbody>\n",
       "</table>\n",
       "</div>"
      ],
      "text/plain": [
       "      transaction_id  visitor_id       date  revenue group\n",
       "1145      3768600702  3320079367 2019-08-13     80.4     B\n",
       "101       3847160695  1830791924 2019-08-01     40.2     A\n",
       "103       2951399376  2019355024 2019-08-01     40.2     B\n",
       "541       2425764900  3713138051 2019-08-20     40.2     B\n",
       "705       2541328114  1426761187 2019-08-07    180.8     A"
      ]
     },
     "execution_count": 236,
     "metadata": {},
     "output_type": "execute_result"
    },
    {
     "data": {
      "text/html": [
       "<div>\n",
       "<style scoped>\n",
       "    .dataframe tbody tr th:only-of-type {\n",
       "        vertical-align: middle;\n",
       "    }\n",
       "\n",
       "    .dataframe tbody tr th {\n",
       "        vertical-align: top;\n",
       "    }\n",
       "\n",
       "    .dataframe thead th {\n",
       "        text-align: right;\n",
       "    }\n",
       "</style>\n",
       "<table border=\"1\" class=\"dataframe\">\n",
       "  <thead>\n",
       "    <tr style=\"text-align: right;\">\n",
       "      <th></th>\n",
       "      <th>date</th>\n",
       "      <th>group</th>\n",
       "      <th>visits</th>\n",
       "    </tr>\n",
       "  </thead>\n",
       "  <tbody>\n",
       "    <tr>\n",
       "      <th>56</th>\n",
       "      <td>2019-08-26</td>\n",
       "      <td>B</td>\n",
       "      <td>676</td>\n",
       "    </tr>\n",
       "    <tr>\n",
       "      <th>2</th>\n",
       "      <td>2019-08-03</td>\n",
       "      <td>A</td>\n",
       "      <td>507</td>\n",
       "    </tr>\n",
       "    <tr>\n",
       "      <th>8</th>\n",
       "      <td>2019-08-09</td>\n",
       "      <td>A</td>\n",
       "      <td>617</td>\n",
       "    </tr>\n",
       "    <tr>\n",
       "      <th>26</th>\n",
       "      <td>2019-08-27</td>\n",
       "      <td>A</td>\n",
       "      <td>711</td>\n",
       "    </tr>\n",
       "    <tr>\n",
       "      <th>25</th>\n",
       "      <td>2019-08-26</td>\n",
       "      <td>A</td>\n",
       "      <td>722</td>\n",
       "    </tr>\n",
       "  </tbody>\n",
       "</table>\n",
       "</div>"
      ],
      "text/plain": [
       "         date group  visits\n",
       "56 2019-08-26     B     676\n",
       "2  2019-08-03     A     507\n",
       "8  2019-08-09     A     617\n",
       "26 2019-08-27     A     711\n",
       "25 2019-08-26     A     722"
      ]
     },
     "execution_count": 236,
     "metadata": {},
     "output_type": "execute_result"
    }
   ],
   "source": [
    "# cheking the datasets we are going to operate with\n",
    "orders_df.sample(5)\n",
    "visits_df.sample(5)"
   ]
  },
  {
   "cell_type": "markdown",
   "metadata": {},
   "source": [
    "We are comparing the performance of two groups using two different approaches:\n",
    "\n",
    "- the first approach involves checking total conversion rates, treating visits as trials and orders as successes. We could compare the proportions of successes/trials for both groups using the z-value and the appropriate p-value.\n",
    "\n",
    "- in the second approach, we could focus on comparing the average daily numbers in each group. Depending on the normality of the data sets, we could either use a t-test for independent samples if the data is normally distributed, or the Mann-Whitney U test if the data does not meet the assumptions of normality. Both tests would check whether there is a statistically significant difference in the datasets.\n",
    "\n",
    "For the current case we would rather choose the second approach for its flexibility in handling normal and non-normal data sets."
   ]
  },
  {
   "cell_type": "code",
   "execution_count": 238,
   "metadata": {},
   "outputs": [],
   "source": [
    "# create the variables orders_by_users_a and orders_by_users_b to store the columns ['user_id', 'orders'] for each group\n",
    "orders_by_users_a = (orders_df[orders_df['group']=='A'].groupby('visitor_id', as_index=False)\n",
    "                  .agg({'transaction_id' : pd.Series.nunique}) # indicating the number of orders made (for users with at least one order)\n",
    "                 ) \n",
    "orders_by_users_a.columns = ['user_id', 'orders']\n",
    "\n",
    "orders_by_users_b = (orders_df[orders_df['group']=='B'].groupby('visitor_id', as_index=False)\n",
    "                  .agg({'transaction_id' : pd.Series.nunique}) # indicating the number of orders made (for users with at least one order)\n",
    "                 )\n",
    "orders_by_users_b.columns = ['user_id', 'orders']  "
   ]
  },
  {
   "cell_type": "code",
   "execution_count": 239,
   "metadata": {},
   "outputs": [
    {
     "data": {
      "text/html": [
       "<div>\n",
       "<style scoped>\n",
       "    .dataframe tbody tr th:only-of-type {\n",
       "        vertical-align: middle;\n",
       "    }\n",
       "\n",
       "    .dataframe tbody tr th {\n",
       "        vertical-align: top;\n",
       "    }\n",
       "\n",
       "    .dataframe thead th {\n",
       "        text-align: right;\n",
       "    }\n",
       "</style>\n",
       "<table border=\"1\" class=\"dataframe\">\n",
       "  <thead>\n",
       "    <tr style=\"text-align: right;\">\n",
       "      <th></th>\n",
       "      <th>user_id</th>\n",
       "      <th>orders</th>\n",
       "    </tr>\n",
       "  </thead>\n",
       "  <tbody>\n",
       "    <tr>\n",
       "      <th>203</th>\n",
       "      <td>2041539477</td>\n",
       "      <td>1</td>\n",
       "    </tr>\n",
       "    <tr>\n",
       "      <th>9</th>\n",
       "      <td>138252163</td>\n",
       "      <td>1</td>\n",
       "    </tr>\n",
       "    <tr>\n",
       "      <th>93</th>\n",
       "      <td>926057494</td>\n",
       "      <td>1</td>\n",
       "    </tr>\n",
       "  </tbody>\n",
       "</table>\n",
       "</div>"
      ],
      "text/plain": [
       "        user_id  orders\n",
       "203  2041539477       1\n",
       "9     138252163       1\n",
       "93    926057494       1"
      ]
     },
     "execution_count": 239,
     "metadata": {},
     "output_type": "execute_result"
    },
    {
     "data": {
      "text/html": [
       "<div>\n",
       "<style scoped>\n",
       "    .dataframe tbody tr th:only-of-type {\n",
       "        vertical-align: middle;\n",
       "    }\n",
       "\n",
       "    .dataframe tbody tr th {\n",
       "        vertical-align: top;\n",
       "    }\n",
       "\n",
       "    .dataframe thead th {\n",
       "        text-align: right;\n",
       "    }\n",
       "</style>\n",
       "<table border=\"1\" class=\"dataframe\">\n",
       "  <thead>\n",
       "    <tr style=\"text-align: right;\">\n",
       "      <th></th>\n",
       "      <th>user_id</th>\n",
       "      <th>orders</th>\n",
       "    </tr>\n",
       "  </thead>\n",
       "  <tbody>\n",
       "    <tr>\n",
       "      <th>310</th>\n",
       "      <td>2445878741</td>\n",
       "      <td>1</td>\n",
       "    </tr>\n",
       "    <tr>\n",
       "      <th>371</th>\n",
       "      <td>2953427180</td>\n",
       "      <td>1</td>\n",
       "    </tr>\n",
       "    <tr>\n",
       "      <th>345</th>\n",
       "      <td>2710492161</td>\n",
       "      <td>1</td>\n",
       "    </tr>\n",
       "  </tbody>\n",
       "</table>\n",
       "</div>"
      ],
      "text/plain": [
       "        user_id  orders\n",
       "310  2445878741       1\n",
       "371  2953427180       1\n",
       "345  2710492161       1"
      ]
     },
     "execution_count": 239,
     "metadata": {},
     "output_type": "execute_result"
    }
   ],
   "source": [
    "# cheking result\n",
    "orders_by_users_a.sample(3)\n",
    "orders_by_users_b.sample(3)"
   ]
  },
  {
   "cell_type": "code",
   "execution_count": 240,
   "metadata": {},
   "outputs": [],
   "source": [
    "# Declaring the variables sample_a and sample_b, with users from different groups and corresponding numbers of orders. \n",
    "# Those who didn't order anything will have 0. This is necessary to prepare the samples for the Mann-Whitney test.\n",
    "\n",
    "sample_a = pd.concat(\n",
    "    [\n",
    "    orders_by_users_a['orders'],pd.Series(\n",
    "            0,index = np.arange(\n",
    "                visits_df[visits_df['group'] == 'A']['visits'].sum() - len(orders_by_users_a['orders'])\n",
    "            ), name ='orders'\n",
    "        )\n",
    "    ],axis=0\n",
    ")\n",
    "\n",
    "sample_b = pd.concat(\n",
    "    [\n",
    "        orders_by_users_b['orders'],pd.Series(\n",
    "            0,index = np.arange(\n",
    "                visits_df[visits_df['group'] == 'B']['visits'].sum() - len(orders_by_users_b['orders'])\n",
    "            ), name ='orders'\n",
    "        )\n",
    "    ],axis=0\n",
    ")"
   ]
  },
  {
   "cell_type": "code",
   "execution_count": 241,
   "metadata": {},
   "outputs": [
    {
     "data": {
      "text/plain": [
       "0        1\n",
       "1        1\n",
       "2        1\n",
       "3        1\n",
       "4        1\n",
       "        ..\n",
       "18286    0\n",
       "18287    0\n",
       "18288    0\n",
       "18289    0\n",
       "18290    0\n",
       "Name: orders, Length: 18736, dtype: int64"
      ]
     },
     "execution_count": 241,
     "metadata": {},
     "output_type": "execute_result"
    },
    {
     "data": {
      "text/plain": [
       "0        1\n",
       "1        1\n",
       "2        1\n",
       "3        1\n",
       "4        1\n",
       "        ..\n",
       "18383    0\n",
       "18384    0\n",
       "18385    0\n",
       "18386    0\n",
       "18387    0\n",
       "Name: orders, Length: 18916, dtype: int64"
      ]
     },
     "execution_count": 241,
     "metadata": {},
     "output_type": "execute_result"
    }
   ],
   "source": [
    "# cheking result\n",
    "sample_a\n",
    "sample_b"
   ]
  },
  {
   "cell_type": "code",
   "execution_count": 242,
   "metadata": {},
   "outputs": [],
   "source": [
    "# creating a function that compares two samples' means using either a t-test (if the data is approximately normal) \n",
    "# or a Mann-Whitney U test (if the data is non-normal) and prints the p-value along with the test result.\n",
    "\n",
    "def testing_average(sample1, sample2, alpha=0.05):\n",
    "    \"\"\"\n",
    "    Perform a hypothesis test to compare the means of two samples.\n",
    "\n",
    "    Parameters:\n",
    "        - sample1 (array-like): First sample data.\n",
    "        - sample2 (array-like): Second sample data.\n",
    "        - alpha (float): Significance level (default is 0.05).\n",
    "\n",
    "    Returns:\n",
    "        None. Prints the result of the hypothesis test.\n",
    "    \"\"\"\n",
    "\n",
    "    # Checking for normality in both samples using Shapiro-Wilk test\n",
    "    stat1, p1_norm = stats.shapiro(sample1)\n",
    "    stat2, p2_norm = stats.shapiro(sample2)\n",
    "\n",
    "    if p1_norm > alpha and p2_norm > alpha:\n",
    "        # If both samples are normal, perform a t-test\n",
    "        # Also check the equality of variances using Levene's test\n",
    "        statslev, p_levene = stats.levene(sample1, sample2)\n",
    "\n",
    "        if p_levene < alpha:\n",
    "            # Variances are not equal, use Welch's t-test (unequal variances)\n",
    "            stat_t, p_value = stats.ttest_ind(sample1, sample2, equal_var=False)\n",
    "            test_choiсe = 'Welch\\'s t-test performed (as both samples are normal but variances are not equal)'\n",
    "        else:\n",
    "            # Variances are equal, use Student's t-test (equal variances)\n",
    "            stat_t, p_value = stats.ttest_ind(sample1, sample2, equal_var=True)\n",
    "            test_choiсe = 't-test performed (as both samples are normal and variances are equal)'            \n",
    "    else:\n",
    "        # If one or both samples are not normal, perform a Mann-Whitney U test (non-parametric)\n",
    "        stat_t, p_value = stats.mannwhitneyu(sample1, sample2)\n",
    "        test_choiсe = 'Mann-Whitney U test performed (as one or both samples are not normal)'\n",
    "    \n",
    "    print(test_choiсe)\n",
    "    print('-'*14)\n",
    "    print(f'P-value: {p_value:.3f}')\n",
    "    if p_value < alpha:\n",
    "        print('Reject the null hypothesis (H0): there are significant differences between the groups.')\n",
    "    else:\n",
    "        print('Fail to reject the null hypothesis (H0): there is no significant evidence of differences between the groups.')\n",
    "    \n",
    "    # calculating relative growth for the sample2\n",
    "    relative_growth_for_sample2 = (sample2.mean()/sample1.mean()-1)*100\n",
    "   \n",
    "    print(f'Relative growth for the sample2: {relative_growth_for_sample2:.1f}%') "
   ]
  },
  {
   "cell_type": "code",
   "execution_count": 243,
   "metadata": {},
   "outputs": [
    {
     "name": "stdout",
     "output_type": "stream",
     "text": [
      "Mann-Whitney U test performed (as one or both samples are not normal)\n",
      "--------------\n",
      "P-value: 0.011\n",
      "Reject the null hypothesis (H0): there are significant differences between the groups.\n",
      "Relative growth for the sample2: 16.0%\n"
     ]
    }
   ],
   "source": [
    "# running the 'testing_average' function\n",
    "testing_average(sample_a, sample_b, alpha=0.05)"
   ]
  },
  {
   "cell_type": "markdown",
   "metadata": {},
   "source": [
    "- there is a statistically significant difference between groups A and B based on the raw data, as evidenced by the p-value being lower than the significance level.\n",
    "\n",
    "- additionally, the relative growth of group B is substantial, with a notable increase of 16%."
   ]
  },
  {
   "cell_type": "markdown",
   "metadata": {},
   "source": [
    "### 10. Find the statistical significance of the difference in average order size between the groups using the raw data."
   ]
  },
  {
   "cell_type": "code",
   "execution_count": 246,
   "metadata": {},
   "outputs": [
    {
     "name": "stdout",
     "output_type": "stream",
     "text": [
      "Mann-Whitney U test performed (as one or both samples are not normal)\n",
      "--------------\n",
      "P-value: 0.862\n",
      "Fail to reject the null hypothesis (H0): there is no significant evidence of differences between the groups.\n",
      "Relative growth for the sample2: 27.8%\n"
     ]
    }
   ],
   "source": [
    "# running the 'testing_average' function\n",
    "testing_average(\n",
    "    orders_df[orders_df['group'] == 'A']['revenue'],\n",
    "    orders_df[orders_df['group'] == 'B']['revenue'], \n",
    "    alpha=0.05\n",
    ")"
   ]
  },
  {
   "cell_type": "markdown",
   "metadata": {},
   "source": [
    "- the p-value of 0.431 suggests that we fail to reject the null hypothesis (H0). This indicates that the data does not provide sufficient evidence to support the claim of significant differences between the groups. As a result, we do not have strong support for the idea that the groups are truly different.\n",
    "\n",
    "- the relative growth of 27.8% in average revenue for group B compared to group A could be influenced by outliers present in the original dataset. We will further investigate this assumption in subsequent steps. One way to validate this is by using the median instead of mean values while calculating the relative growth between the datasets. The median is less affected by extreme values and works better when dealing with data containing significant outliers and non-normal distributions."
   ]
  },
  {
   "cell_type": "code",
   "execution_count": 248,
   "metadata": {},
   "outputs": [
    {
     "data": {
      "text/plain": [
       "-8.383233532934142"
      ]
     },
     "execution_count": 248,
     "metadata": {},
     "output_type": "execute_result"
    }
   ],
   "source": [
    "# calculating relative growth for the sample2 by use of median values instead of mean\n",
    "(\n",
    "    orders_df[orders_df['group'] == 'B']['revenue'].median()\n",
    "    /orders_df[orders_df['group'] == 'A']['revenue'].median()\n",
    "    -1\n",
    ") * 100"
   ]
  },
  {
   "cell_type": "markdown",
   "metadata": {},
   "source": [
    "As expected, when using the median instead of the mean, we observe a negative growth - an 8.4% decline in average revenue for group B compared to group A. This aligns with our earlier assumption that outliers in the original dataset were influencing the mean and leading to an overestimated relative growth."
   ]
  },
  {
   "cell_type": "markdown",
   "metadata": {},
   "source": [
    "### 11. Find the statistical significance of the difference in conversion between the groups using the filtered data."
   ]
  },
  {
   "cell_type": "code",
   "execution_count": 251,
   "metadata": {},
   "outputs": [],
   "source": [
    "# create the variables orders_by_users_a_filtered and orders_by_users_b_filtered to store the columns ['user_id', 'orders'] for each group\n",
    "orders_by_users_a_filtered = (orders_df_filtered[orders_df_filtered['group']=='A'].groupby('visitor_id', as_index=False)\n",
    "                  .agg({'transaction_id' : pd.Series.nunique}) # indicating the number of orders made (for users with at least one order)\n",
    "                 ) \n",
    "orders_by_users_a_filtered.columns = ['user_id', 'orders']\n",
    "\n",
    "orders_by_users_b_filtered = (orders_df_filtered[orders_df_filtered['group']=='B'].groupby('visitor_id', as_index=False)\n",
    "                  .agg({'transaction_id' : pd.Series.nunique}) # indicating the number of orders made (for users with at least one order)\n",
    "                 )\n",
    "orders_by_users_b_filtered.columns = ['user_id', 'orders']  "
   ]
  },
  {
   "cell_type": "code",
   "execution_count": 252,
   "metadata": {},
   "outputs": [],
   "source": [
    "# Declaring the variables sample_a and sample_b, with users from different groups and corresponding numbers of orders. \n",
    "# Those who didn't order anything will have 0. This is necessary to prepare the samples for the Mann-Whitney test.\n",
    "\n",
    "sample_a_filtered = pd.concat(\n",
    "    [\n",
    "        orders_by_users_a_filtered['orders'],pd.Series(\n",
    "            0,index = np.arange(\n",
    "                visits_df[visits_df['group'] == 'A']['visits'].sum() - len(orders_by_users_a_filtered['orders'])\n",
    "            ),name ='orders'\n",
    "        )\n",
    "    ],axis=0\n",
    ")\n",
    "\n",
    "sample_b_filtered = pd.concat(\n",
    "    [\n",
    "        orders_by_users_b_filtered['orders'],pd.Series(\n",
    "            0,index = np.arange(\n",
    "                visits_df[visits_df['group'] == 'B']['visits'].sum() - len(orders_by_users_b_filtered['orders'])\n",
    "            ),name ='orders'\n",
    "        )\n",
    "    ],axis=0\n",
    ")"
   ]
  },
  {
   "cell_type": "code",
   "execution_count": 253,
   "metadata": {},
   "outputs": [
    {
     "name": "stdout",
     "output_type": "stream",
     "text": [
      "Mann-Whitney U test performed (as one or both samples are not normal)\n",
      "--------------\n",
      "P-value: 0.013\n",
      "Reject the null hypothesis (H0): there are significant differences between the groups.\n",
      "Relative growth for the sample2: 15.6%\n"
     ]
    }
   ],
   "source": [
    "# running the 'testing_average' function\n",
    "testing_average(sample_a_filtered, sample_b_filtered, alpha=0.05)"
   ]
  },
  {
   "cell_type": "markdown",
   "metadata": {},
   "source": [
    "- the result of studying the difference in conversion between the groups is the same for filtered and raw data: there is a statistically significant difference between groups A and B based on the raw data, as evidenced by the p-value being lower than the significance level.\n",
    "\n",
    "- the p-value and relative growth of conversion between the groups remain almost the same."
   ]
  },
  {
   "cell_type": "markdown",
   "metadata": {},
   "source": [
    "### 12. Find the statistical significance of the difference in average order size between the groups using the filtered data."
   ]
  },
  {
   "cell_type": "code",
   "execution_count": 256,
   "metadata": {},
   "outputs": [
    {
     "name": "stdout",
     "output_type": "stream",
     "text": [
      "Mann-Whitney U test performed (as one or both samples are not normal)\n",
      "--------------\n",
      "P-value: 0.784\n",
      "Fail to reject the null hypothesis (H0): there is no significant evidence of differences between the groups.\n",
      "Relative growth for the sample2: -8.8%\n"
     ]
    }
   ],
   "source": [
    "# running the 'testing_average' function\n",
    "testing_average(\n",
    "    orders_df_filtered[orders_df_filtered['group'] == 'A']['revenue'],\n",
    "    orders_df_filtered[orders_df_filtered['group'] == 'B']['revenue'], \n",
    "    alpha=0.05\n",
    ")"
   ]
  },
  {
   "cell_type": "markdown",
   "metadata": {},
   "source": [
    "The result of studying the difference in average order size between the groups is the same for filtered and raw data: we fail to reject the null hypothesis (H0). We do not have strong support for the idea that the groups are truly different.\n",
    "\n",
    "The negative growth - an 8.8% decline in average order size for group B compared to group A is totally opposite to what we saw in the case of raw data (27.8% growth). And it perfectly matches with our small investigation - a test of the same parameter on the raw data but with the use of the median instead of the mean while calculating relative growth (we saw there -8.4% decline)."
   ]
  },
  {
   "cell_type": "markdown",
   "metadata": {},
   "source": [
    "### 13. Make a decision based on the test results: \n",
    "- Stop the test, consider one of the groups the leader.\n",
    "- Stop the test, conclude that there is no difference between the groups.\n",
    "- Continue the test."
   ]
  },
  {
   "cell_type": "markdown",
   "metadata": {},
   "source": [
    "For answering this question, let's first visualize key metrics of A and B groups using filtered data (without major outliers in B group):\n",
    "- cumulative revenue \n",
    "- relative difference in average order size between the groups\n",
    "- conversion"
   ]
  },
  {
   "cell_type": "markdown",
   "metadata": {},
   "source": [
    "#### Cumulative revenue, filtered data"
   ]
  },
  {
   "cell_type": "code",
   "execution_count": 261,
   "metadata": {},
   "outputs": [],
   "source": [
    "# building an array with unique paired date-group values. FILTERED DATA. \n",
    "#dates_groups_filtered = orders_df_filtered[['date','group']].drop_duplicates()"
   ]
  },
  {
   "cell_type": "code",
   "execution_count": 262,
   "metadata": {},
   "outputs": [],
   "source": [
    "# Getting aggregated cumulative daily data on orders. FILTERED DATA.\n",
    "\n",
    "orders_aggregated_filtered = dates_groups.apply(\n",
    "    lambda x: orders_df_filtered[\n",
    "        np.logical_and(            \n",
    "            orders_df_filtered['date'] <= x['date'], # the rows of the orders_cleaned_df where the date is less than or equal to the date of the dates_groups element\n",
    "            orders_df_filtered['group'] == x['group'] # the test group is the same as in dates_groups\n",
    "        )\n",
    "    ].agg(\n",
    "        {\n",
    "            'date': 'max',\n",
    "            'group': 'max',\n",
    "            'transaction_id': pd.Series.nunique,\n",
    "            'visitor_id': pd.Series.nunique,\n",
    "            'revenue': 'sum',\n",
    "        }\n",
    "    ),\n",
    "    axis=1,\n",
    ").sort_values(by=['date', 'group'])"
   ]
  },
  {
   "cell_type": "code",
   "execution_count": 263,
   "metadata": {},
   "outputs": [],
   "source": [
    "# merging the two tables into one and giving its columns descriptive names. FILTERED DATA.\n",
    "cumulative_data_filtered = orders_aggregated_filtered.merge(visitorsAggregated, left_on=['date', 'group'], right_on=['date', 'group'])\n",
    "cumulative_data_filtered.columns = ['date', 'group', 'orders', 'buyers', 'revenue', 'visitors']"
   ]
  },
  {
   "cell_type": "code",
   "execution_count": 264,
   "metadata": {},
   "outputs": [],
   "source": [
    "# dataframe with cumulative orders and cumulative revenue by day, group A. FILTERED DATA.\n",
    "cumulative_revenue_a_filtered = cumulative_data_filtered[cumulative_data_filtered['group']=='A'][['date','revenue', 'orders']]\n",
    "\n",
    "# dataframe with cumulative orders and cumulative revenue by day, group B. FILTERED DATA.\n",
    "cumulative_revenue_b_filtered = cumulative_data_filtered[cumulative_data_filtered['group']=='B'][['date','revenue', 'orders']]"
   ]
  },
  {
   "cell_type": "code",
   "execution_count": 265,
   "metadata": {},
   "outputs": [
    {
     "data": {
      "image/png": "[encoded data removed]",
      "text/plain": [
       "<Figure size 1000x500 with 1 Axes>"
      ]
     },
     "metadata": {},
     "output_type": "display_data"
    }
   ],
   "source": [
    "# plotting cumulative revenue graphs by day and A/B test group. FILTERED DATA.\n",
    "\n",
    "plt.figure(figsize=(10, 5))\n",
    "plt.title('Cumulative revenue per group and date. FILTERED DATA.',fontsize=14)\n",
    "\n",
    "# Plotting the group A revenue graph \n",
    "plt.plot(cumulative_revenue_a_filtered['date'], cumulative_revenue_a_filtered['revenue'], \n",
    "         linewidth=3, marker='o', markersize=7, label='Group A')\n",
    "\n",
    "# Plotting the group B revenue graph \n",
    "plt.plot(cumulative_revenue_b_filtered['date'], cumulative_revenue_b_filtered['revenue'], \n",
    "         linewidth=3, marker='o', markersize=7, label='Group B')\n",
    "\n",
    "plt.grid(True, color='lightgray')\n",
    "plt.xlabel('Date')\n",
    "plt.ylabel('Cumulative revenue')\n",
    "plt.legend();"
   ]
  },
  {
   "cell_type": "markdown",
   "metadata": {},
   "source": [
    "#### Relative difference in average order size between the groups, filtered data"
   ]
  },
  {
   "cell_type": "code",
   "execution_count": 267,
   "metadata": {},
   "outputs": [],
   "source": [
    "# gathering the data into one dataframe. FILTERED DATA.\n",
    "merged_cumulative_revenue_filtered = cumulative_revenue_a_filtered.merge(\n",
    "    cumulative_revenue_b_filtered, left_on='date', right_on='date', how='left', suffixes=['_a', '_b'])"
   ]
  },
  {
   "cell_type": "code",
   "execution_count": 268,
   "metadata": {},
   "outputs": [
    {
     "data": {
      "image/png": "[encoded data removed]",
      "text/plain": [
       "<Figure size 1000x500 with 1 Axes>"
      ]
     },
     "metadata": {},
     "output_type": "display_data"
    }
   ],
   "source": [
    "# plotting a relative difference graph for the average purchase sizes. FILTERED DATA.\n",
    "\n",
    "plt.figure(figsize=(10, 5))\n",
    "plt.title('Relative difference graph for the average purchase sizes. FILTERED DATA.',fontsize=14)\n",
    "\n",
    "plt.plot(merged_cumulative_revenue_filtered['date'], \n",
    "         (merged_cumulative_revenue_filtered['revenue_b']/merged_cumulative_revenue_filtered['orders_b'])\n",
    "         /(merged_cumulative_revenue_filtered['revenue_a']/merged_cumulative_revenue_filtered['orders_a'])\n",
    "         -1\n",
    "        , label='Relative difference in avg. order size: Group B vs. Group A. FILTERED DATA.',\n",
    "        linewidth=3, marker='o', markersize=7)\n",
    "\n",
    "plt.xlabel('Date')\n",
    "plt.ylabel('%')\n",
    "plt.grid(True, color='lightgray')\n",
    "\n",
    "# adding the X axis\n",
    "plt.axhline(y=0, color='darkgrey', linewidth=3, linestyle='--')\n",
    "plt.legend(); "
   ]
  },
  {
   "cell_type": "markdown",
   "metadata": {},
   "source": [
    "#### Conversion, filtered data"
   ]
  },
  {
   "cell_type": "code",
   "execution_count": 270,
   "metadata": {},
   "outputs": [],
   "source": [
    "# calculating cumulative conversion. FILTERED DATA.\n",
    "cumulative_data_filtered['conversion'] = cumulative_data_filtered['orders']/cumulative_data_filtered['visitors']\n",
    "\n",
    "# selecting data on group A  and B\n",
    "cumulative_data_a_filtered = cumulative_data_filtered[cumulative_data_filtered['group']=='A']\n",
    "cumulative_data_b_filtered = cumulative_data_filtered[cumulative_data_filtered['group']=='B']"
   ]
  },
  {
   "cell_type": "code",
   "execution_count": 271,
   "metadata": {},
   "outputs": [
    {
     "data": {
      "image/png": "[encoded data removed]",
      "text/plain": [
       "<Figure size 1000x500 with 1 Axes>"
      ]
     },
     "metadata": {},
     "output_type": "display_data"
    }
   ],
   "source": [
    "# Plotting a conversion rate graph for the average purchase sizes. FILTERED DATA.\n",
    "plt.figure(figsize=(10, 5))\n",
    "plt.title('Conversion rate per group. FILTERED DATA.',fontsize=14)\n",
    "\n",
    "# Plotting the group A cumulative conversion\n",
    "plt.plot(cumulative_data_a_filtered['date'], cumulative_data_a_filtered['conversion'], \n",
    "         linewidth=3, marker='o', markersize=7, label='Group A')\n",
    "\n",
    "# Plotting the group B cumulative conversion\n",
    "plt.plot(cumulative_data_b_filtered['date'], cumulative_data_b_filtered['conversion'], \n",
    "         linewidth=3, marker='o', markersize=7, label='Group B')\n",
    "\n",
    "plt.grid(True, color='lightgray')\n",
    "plt.xlabel('Date')\n",
    "plt.ylabel('Conversion rate, %')\n",
    "plt.legend();"
   ]
  },
  {
   "cell_type": "markdown",
   "metadata": {},
   "source": [
    "#### Let's summarize our observations.\n",
    "Here we will display the key metrics that we investigated mostly visualy while comparing A and B groups. \n",
    "\n",
    "We will display only **group B against group A**. And put the following marks: \n",
    "- \"++\" if we see that metric of group B is much better, \n",
    "- \"+\" if metric of group B is slightly better, \n",
    "- \"--\" if metric of group B is much weaker,\n",
    "- \"-\" if metric of group B is slightly weaker"
   ]
  },
  {
   "cell_type": "markdown",
   "metadata": {},
   "source": [
    "|Metric / Group| B|B, filtered data|\n",
    "|---|---|---|\n",
    "|Cumulative revenue|++|+|\n",
    "|Av. order size|++|-|\n",
    "|Conversion rate|++|++|"
   ]
  },
  {
   "cell_type": "markdown",
   "metadata": {},
   "source": [
    "As we see from the table above **B group has better cumulative revenue and conversation rates for both filtered and non-filtered data. However, when considering filtered data without outliers, the average order size decreases compared to Group A**. It seems like the feature introduced for Group B has made the purchase decision easier, resulting in an improved conversion rate, but it has slightly decreased the overall order value. Nevertheless, **the cumulative revenue has seen an increase**, though not dramatically."
   ]
  },
  {
   "cell_type": "markdown",
   "metadata": {},
   "source": [
    "####  Let's summarize our observations on hypothesis testing\n",
    "|Testing Metric| Data type|Test Result|Relative Growth of Metric: Group B comparing to Group A|\n",
    "|:---|:---|:---|:---|\n",
    "|<strong>Difference in conversion</strong> |raw|<font color=\"#8B0000\"> <strong>Reject H0: </strong> differences between the groups are significant</font|16%|\n",
    "|<strong>Difference in conversion</strong> |filtered|<font color=\"#8B0000\"><strong>Reject H0: </strong> differences between the groups are significant</font>|16%|\n",
    "|||||\n",
    "|||||\n",
    "|<strong>Difference in average order size</strong>  |raw|<font color=\"green\"><strong>Failed to reject H0:</strong> no significant evidence of differences between the groups</font>|28%|\n",
    "|<strong>Difference in average order size </strong> |filtered|<font color=\"green\"><strong>Failed to reject H0: </strong> no significant evidence of differences between the groups</font>|-9%|"
   ]
  },
  {
   "cell_type": "markdown",
   "metadata": {},
   "source": [
    "####  Overal conclusions\n",
    "\n",
    "Our observations on the graphs and hypothesis testing match quite well. The minor difference is that while analyzing graphs, we can see that the average order size decreased for group B (with filtered data without outliers). However, hypothesis testing didn't show a significant difference in average order sizes between group B and group A. Most likely, this is due to the low accuracy of p-value measurements on large datasets like ours (as indicated by the notice received during the Mann-Whitney U tests).\n",
    "\n",
    "Nevertheless, we have two factors that lead us to **make a decision to stop the test and consider group B as the leader**:\n",
    "\n",
    "- we observe a significant conversion improvement for group B, and more importantly, a positive trend in cumulative revenue (a key metric). Even the slight decrease in the average order value does not significantly affect the overall picture.\n",
    "- the figures stabilized by the middle of the test, allowing us to treat the outcomes as stable."
   ]
  }
 ],
 "metadata": {
  "kernelspec": {
   "display_name": "Python 3 (ipykernel)",
   "language": "python",
   "name": "python3"
  },
  "language_info": {
   "codemirror_mode": {
    "name": "ipython",
    "version": 3
   },
   "file_extension": ".py",
   "mimetype": "text/x-python",
   "name": "python",
   "nbconvert_exporter": "python",
   "pygments_lexer": "ipython3",
   "version": "3.11.7"
  },
  "toc": {
   "base_numbering": 1,
   "nav_menu": {},
   "number_sections": true,
   "sideBar": true,
   "skip_h1_title": true,
   "title_cell": "Table of Contents",
   "title_sidebar": "Contents",
   "toc_cell": false,
   "toc_position": {},
   "toc_section_display": true,
   "toc_window_display": false
  }
 },
 "nbformat": 4,
 "nbformat_minor": 4
}
