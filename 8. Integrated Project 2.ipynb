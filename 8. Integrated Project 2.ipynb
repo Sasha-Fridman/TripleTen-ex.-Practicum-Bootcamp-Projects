version https://git-lfs.github.com/spec/v1
oid sha256:953885045068c56a40d445b09d7bf3bd63f29b0ba3f201a6a2ab9c8c57da75ef
size 46298760
