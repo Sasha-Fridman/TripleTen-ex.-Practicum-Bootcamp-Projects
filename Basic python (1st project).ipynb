{
 "cells": [
  {
   "cell_type": "markdown",
   "metadata": {},
   "source": [
    "<div style=\"border:solid green 2px; padding: 20px\"> <h1 style=\"color:green; margin-bottom:20px\">Reviewer's comment v1</h1>\n",
    "\n",
    "Hello Alexander, my name is Dmitrii. I'm going to review your project! Nice to meet you! 🙌\n",
    "\n",
    "You can find my comments under the heading **«Review»**. I will categorize my comments in green, blue or red boxes like this:\n",
    "\n",
    "<div class=\"alert alert-success\">\n",
    "    <b>Success:</b> if everything is done successfully\n",
    "</div>\n",
    "<div class=\"alert alert-warning\">\n",
    "    <b>Remarks:</b> if I can give some recommendations or ways to improve the project\n",
    "   \n",
    "</div>\n",
    "<div class=\"alert alert-danger\">\n",
    "    <b>Needs fixing:</b> if the block requires some corrections. Work can't be accepted with the red comments\n",
    "</div>\n",
    "\n",
    "Please don't remove my comments :) If you have any questions don't hesitate to respond to my comments in a different section. \n",
    "<div class=\"alert alert-info\"> <b>Student comments:</b>  Hello, Dmitrii! Thank you for reviewing my first project, for your support and advice! :) </div>   \n",
    "   "
   ]
  },
  {
   "cell_type": "markdown",
   "metadata": {},
   "source": [
    "<div style=\"border:solid green 2px; padding: 20px\">\n",
    "<b>Reviewer's comment v1:</b>\n",
    "    \n",
    "<b>Overall Feedback</b> \n",
    "    \n",
    "- Overall well done! I can see that a lot of effort has been made! Your project looks very good and you accomplished impressive results.\n",
    "- No critical issues are left, so your project has been accepted. Congratulations! However, I want to send it back to you in case you have any questions along the way or you want to make additional changes to the project.\n",
    "  \n",
    "And of course, if you have any questions along the way, remember that you can always reach out to your tutor for any clarification.\n",
    "    \n",
    "I will wait for you to send me a new version of the project :)\n",
    "\n",
    "    \n",
    "</div>"
   ]
  },
  {
   "cell_type": "markdown",
   "metadata": {},
   "source": [
    "<div style=\"border:solid green 2px; padding: 20px\">\n",
    "<b>Reviewer's comment v2:</b>\n",
    "    \n",
    "<b>Overall Feedback</b> \n",
    "\n",
    "Hello Alexander, Hopefully smth was useful 😇\n",
    "    \n",
    "Please keep up great work and don't hesitate to use this project as a reference in your future sprints. \n",
    "   \n",
    "Good luck with the next project 🍀 \n",
    "</div>"
   ]
  },
  {
   "cell_type": "markdown",
   "metadata": {
    "id": "E0vqbgi9ay0H"
   },
   "source": [
    "# Yandex.Music"
   ]
  },
  {
   "cell_type": "markdown",
   "metadata": {
    "id": "fhq_eyov_Zcs"
   },
   "source": [
    "# Contents <a id='back'></a>\n",
    "\n",
    "* [Introduction](#intro)\n",
    "* [Stage 1. Data overview](#data_review)\n",
    "    * [Conclusions](#data_review_conclusions)\n",
    "* [Stage 2. Data preprocessing](#data_preprocessing)\n",
    "    * [2.1 Header style](#header_style)\n",
    "    * [2.2 Missing values](#missing_values)\n",
    "    * [2.3 Duplicates](#duplicates)\n",
    "    * [2.4 Conclusions](#data_preprocessing_conclusions)\n",
    "* [Stage 3. Testing the hypotheses](#hypotheses)\n",
    "    * [3.1 Hypothesis 1: user activity in the two cities](#activity)\n",
    "    * [3.2 Hypothesis 2: music preferences on Monday and Friday](#week)\n",
    "    * [3.3 Hypothesis 3: genre preferences in Springfield and Shelbyville](#genre)\n",
    "* [Findings](#end)"
   ]
  },
  {
   "cell_type": "markdown",
   "metadata": {
    "id": "VUC88oWjTJw2"
   },
   "source": [
    "## Introduction <a id='intro'></a>\n",
    "Whenever we're doing research, we need to formulate hypotheses that we can then test. Sometimes we accept these hypotheses; other times, we reject them. To make the right decisions, a business must be able to understand whether or not it's making the right assumptions.\n",
    "\n",
    "In this project, you'll compare the music preferences of the cities of Springfield and Shelbyville. You'll study real Yandex.Music data to test the hypotheses below and compare user behavior for these two cities.\n",
    "\n",
    "### Goal: \n",
    "Test three hypotheses:\n",
    "1. User activity differs depending on the day of the week and from city to city. \n",
    "2. On Monday mornings, Springfield and Shelbyville residents listen to different genres. This is also true for Friday evenings. \n",
    "3. Springfield and Shelbyville listeners have different preferences. In Springfield, they prefer pop, while Shelbyville has more rap fans.\n",
    "\n",
    "### Stages \n",
    "Data on user behavior is stored in the file `/datasets/music_project_en.csv`. There is no information about the quality of the data, so you will need to explore it before testing the hypotheses. \n",
    "\n",
    "First, you'll evaluate the quality of the data and see whether its issues are significant. Then, during data preprocessing, you will try to account for the most critical problems.\n",
    " \n",
    "Your project will consist of three stages:\n",
    " 1. Data overview\n",
    " 2. Data preprocessing\n",
    " 3. Testing the hypotheses\n",
    " \n",
    "[Back to Contents](#back)"
   ]
  },
  {
   "cell_type": "markdown",
   "metadata": {},
   "source": [
    "<div class=\"alert alert-success\">\n",
    "<b>Reviewer's comment v1:</b>\n",
    "    \n",
    "Great that you added additional information about project tasks. It gives an overview of what you are going to achieve in this project.\n"
   ]
  },
  {
   "cell_type": "markdown",
   "metadata": {
    "id": "Ml1hmfXC_Zcs"
   },
   "source": [
    "## Stage 1. Data overview <a id='data_review'></a>\n",
    "\n",
    "Open the data on Yandex.Music and explore it."
   ]
  },
  {
   "cell_type": "markdown",
   "metadata": {
    "id": "57eAOGIz_Zcs"
   },
   "source": [
    "You'll need `pandas`, so import it."
   ]
  },
  {
   "cell_type": "code",
   "execution_count": 1,
   "metadata": {
    "id": "AXN7PHPN_Zcs"
   },
   "outputs": [],
   "source": [
    "# importing pandas\n",
    "import pandas as pd\n",
    "\n",
    "df = pd.read_csv('/datasets/music_project_en.csv')\n"
   ]
  },
  {
   "cell_type": "markdown",
   "metadata": {
    "id": "SG23P8tt_Zcs"
   },
   "source": [
    "Read the file `music_project_en.csv` from the `/datasets/` folder and save it in the `df` variable:"
   ]
  },
  {
   "cell_type": "code",
   "execution_count": 2,
   "metadata": {
    "id": "fFVu7vqh_Zct"
   },
   "outputs": [
    {
     "data": {
      "text/html": [
       "<div>\n",
       "<style scoped>\n",
       "    .dataframe tbody tr th:only-of-type {\n",
       "        vertical-align: middle;\n",
       "    }\n",
       "\n",
       "    .dataframe tbody tr th {\n",
       "        vertical-align: top;\n",
       "    }\n",
       "\n",
       "    .dataframe thead th {\n",
       "        text-align: right;\n",
       "    }\n",
       "</style>\n",
       "<table border=\"1\" class=\"dataframe\">\n",
       "  <thead>\n",
       "    <tr style=\"text-align: right;\">\n",
       "      <th></th>\n",
       "      <th>userID</th>\n",
       "      <th>Track</th>\n",
       "      <th>artist</th>\n",
       "      <th>genre</th>\n",
       "      <th>City</th>\n",
       "      <th>time</th>\n",
       "      <th>Day</th>\n",
       "    </tr>\n",
       "  </thead>\n",
       "  <tbody>\n",
       "    <tr>\n",
       "      <th>count</th>\n",
       "      <td>65079</td>\n",
       "      <td>63736</td>\n",
       "      <td>57512</td>\n",
       "      <td>63881</td>\n",
       "      <td>65079</td>\n",
       "      <td>65079</td>\n",
       "      <td>65079</td>\n",
       "    </tr>\n",
       "    <tr>\n",
       "      <th>unique</th>\n",
       "      <td>41748</td>\n",
       "      <td>39666</td>\n",
       "      <td>37806</td>\n",
       "      <td>268</td>\n",
       "      <td>2</td>\n",
       "      <td>20392</td>\n",
       "      <td>3</td>\n",
       "    </tr>\n",
       "    <tr>\n",
       "      <th>top</th>\n",
       "      <td>A8AE9169</td>\n",
       "      <td>Brand</td>\n",
       "      <td>Kartvelli</td>\n",
       "      <td>pop</td>\n",
       "      <td>Springfield</td>\n",
       "      <td>08:14:07</td>\n",
       "      <td>Friday</td>\n",
       "    </tr>\n",
       "    <tr>\n",
       "      <th>freq</th>\n",
       "      <td>76</td>\n",
       "      <td>136</td>\n",
       "      <td>136</td>\n",
       "      <td>8850</td>\n",
       "      <td>45360</td>\n",
       "      <td>14</td>\n",
       "      <td>23149</td>\n",
       "    </tr>\n",
       "  </tbody>\n",
       "</table>\n",
       "</div>"
      ],
      "text/plain": [
       "          userID  Track     artist  genre       City        time     Day\n",
       "count      65079  63736      57512  63881        65079     65079   65079\n",
       "unique     41748  39666      37806    268            2     20392       3\n",
       "top     A8AE9169  Brand  Kartvelli    pop  Springfield  08:14:07  Friday\n",
       "freq          76    136        136   8850        45360        14   23149"
      ]
     },
     "execution_count": 2,
     "metadata": {},
     "output_type": "execute_result"
    }
   ],
   "source": [
    "# reading the file and storing it to df\n",
    "df.describe()"
   ]
  },
  {
   "cell_type": "markdown",
   "metadata": {
    "id": "rDoOMd3uTqnZ"
   },
   "source": [
    "Print the first 10 table rows:"
   ]
  },
  {
   "cell_type": "code",
   "execution_count": 3,
   "metadata": {
    "id": "oWTVX3gW_Zct"
   },
   "outputs": [
    {
     "data": {
      "text/html": [
       "<div>\n",
       "<style scoped>\n",
       "    .dataframe tbody tr th:only-of-type {\n",
       "        vertical-align: middle;\n",
       "    }\n",
       "\n",
       "    .dataframe tbody tr th {\n",
       "        vertical-align: top;\n",
       "    }\n",
       "\n",
       "    .dataframe thead th {\n",
       "        text-align: right;\n",
       "    }\n",
       "</style>\n",
       "<table border=\"1\" class=\"dataframe\">\n",
       "  <thead>\n",
       "    <tr style=\"text-align: right;\">\n",
       "      <th></th>\n",
       "      <th>userID</th>\n",
       "      <th>Track</th>\n",
       "      <th>artist</th>\n",
       "      <th>genre</th>\n",
       "      <th>City</th>\n",
       "      <th>time</th>\n",
       "      <th>Day</th>\n",
       "    </tr>\n",
       "  </thead>\n",
       "  <tbody>\n",
       "    <tr>\n",
       "      <th>0</th>\n",
       "      <td>FFB692EC</td>\n",
       "      <td>Kamigata To Boots</td>\n",
       "      <td>The Mass Missile</td>\n",
       "      <td>rock</td>\n",
       "      <td>Shelbyville</td>\n",
       "      <td>20:28:33</td>\n",
       "      <td>Wednesday</td>\n",
       "    </tr>\n",
       "    <tr>\n",
       "      <th>1</th>\n",
       "      <td>55204538</td>\n",
       "      <td>Delayed Because of Accident</td>\n",
       "      <td>Andreas Rönnberg</td>\n",
       "      <td>rock</td>\n",
       "      <td>Springfield</td>\n",
       "      <td>14:07:09</td>\n",
       "      <td>Friday</td>\n",
       "    </tr>\n",
       "    <tr>\n",
       "      <th>2</th>\n",
       "      <td>20EC38</td>\n",
       "      <td>Funiculì funiculà</td>\n",
       "      <td>Mario Lanza</td>\n",
       "      <td>pop</td>\n",
       "      <td>Shelbyville</td>\n",
       "      <td>20:58:07</td>\n",
       "      <td>Wednesday</td>\n",
       "    </tr>\n",
       "    <tr>\n",
       "      <th>3</th>\n",
       "      <td>A3DD03C9</td>\n",
       "      <td>Dragons in the Sunset</td>\n",
       "      <td>Fire + Ice</td>\n",
       "      <td>folk</td>\n",
       "      <td>Shelbyville</td>\n",
       "      <td>08:37:09</td>\n",
       "      <td>Monday</td>\n",
       "    </tr>\n",
       "    <tr>\n",
       "      <th>4</th>\n",
       "      <td>E2DC1FAE</td>\n",
       "      <td>Soul People</td>\n",
       "      <td>Space Echo</td>\n",
       "      <td>dance</td>\n",
       "      <td>Springfield</td>\n",
       "      <td>08:34:34</td>\n",
       "      <td>Monday</td>\n",
       "    </tr>\n",
       "    <tr>\n",
       "      <th>5</th>\n",
       "      <td>842029A1</td>\n",
       "      <td>Chains</td>\n",
       "      <td>Obladaet</td>\n",
       "      <td>rusrap</td>\n",
       "      <td>Shelbyville</td>\n",
       "      <td>13:09:41</td>\n",
       "      <td>Friday</td>\n",
       "    </tr>\n",
       "    <tr>\n",
       "      <th>6</th>\n",
       "      <td>4CB90AA5</td>\n",
       "      <td>True</td>\n",
       "      <td>Roman Messer</td>\n",
       "      <td>dance</td>\n",
       "      <td>Springfield</td>\n",
       "      <td>13:00:07</td>\n",
       "      <td>Wednesday</td>\n",
       "    </tr>\n",
       "    <tr>\n",
       "      <th>7</th>\n",
       "      <td>F03E1C1F</td>\n",
       "      <td>Feeling This Way</td>\n",
       "      <td>Polina Griffith</td>\n",
       "      <td>dance</td>\n",
       "      <td>Springfield</td>\n",
       "      <td>20:47:49</td>\n",
       "      <td>Wednesday</td>\n",
       "    </tr>\n",
       "    <tr>\n",
       "      <th>8</th>\n",
       "      <td>8FA1D3BE</td>\n",
       "      <td>L’estate</td>\n",
       "      <td>Julia Dalia</td>\n",
       "      <td>ruspop</td>\n",
       "      <td>Springfield</td>\n",
       "      <td>09:17:40</td>\n",
       "      <td>Friday</td>\n",
       "    </tr>\n",
       "    <tr>\n",
       "      <th>9</th>\n",
       "      <td>E772D5C0</td>\n",
       "      <td>Pessimist</td>\n",
       "      <td>NaN</td>\n",
       "      <td>dance</td>\n",
       "      <td>Shelbyville</td>\n",
       "      <td>21:20:49</td>\n",
       "      <td>Wednesday</td>\n",
       "    </tr>\n",
       "  </tbody>\n",
       "</table>\n",
       "</div>"
      ],
      "text/plain": [
       "     userID                        Track            artist   genre  \\\n",
       "0  FFB692EC            Kamigata To Boots  The Mass Missile    rock   \n",
       "1  55204538  Delayed Because of Accident  Andreas Rönnberg    rock   \n",
       "2    20EC38            Funiculì funiculà       Mario Lanza     pop   \n",
       "3  A3DD03C9        Dragons in the Sunset        Fire + Ice    folk   \n",
       "4  E2DC1FAE                  Soul People        Space Echo   dance   \n",
       "5  842029A1                       Chains          Obladaet  rusrap   \n",
       "6  4CB90AA5                         True      Roman Messer   dance   \n",
       "7  F03E1C1F             Feeling This Way   Polina Griffith   dance   \n",
       "8  8FA1D3BE                     L’estate       Julia Dalia  ruspop   \n",
       "9  E772D5C0                    Pessimist               NaN   dance   \n",
       "\n",
       "        City        time        Day  \n",
       "0  Shelbyville  20:28:33  Wednesday  \n",
       "1  Springfield  14:07:09     Friday  \n",
       "2  Shelbyville  20:58:07  Wednesday  \n",
       "3  Shelbyville  08:37:09     Monday  \n",
       "4  Springfield  08:34:34     Monday  \n",
       "5  Shelbyville  13:09:41     Friday  \n",
       "6  Springfield  13:00:07  Wednesday  \n",
       "7  Springfield  20:47:49  Wednesday  \n",
       "8  Springfield  09:17:40     Friday  \n",
       "9  Shelbyville  21:20:49  Wednesday  "
      ]
     },
     "execution_count": 3,
     "metadata": {},
     "output_type": "execute_result"
    }
   ],
   "source": [
    "# obtaining the first 10 rows from the df table\n",
    "\n",
    "df.head(10)"
   ]
  },
  {
   "cell_type": "markdown",
   "metadata": {},
   "source": [
    "<div class=\"alert alert-success\">\n",
    "<b>Reviewer's comment v1:</b>\n",
    "    \n",
    "You can also use here other methods like `.sample(n)` or `.tail(n)` to show sample of data. \n",
    "    \n",
    "You can read about it here: https://pandas.pydata.org/docs/reference/api/pandas.DataFrame.sample.html\n",
    "    "
   ]
  },
  {
   "cell_type": "markdown",
   "metadata": {
    "id": "EO73Kwic_Zct"
   },
   "source": [
    "Obtaining the general information about the table with one command:"
   ]
  },
  {
   "cell_type": "code",
   "execution_count": 4,
   "metadata": {
    "id": "DSf2kIb-_Zct"
   },
   "outputs": [
    {
     "name": "stdout",
     "output_type": "stream",
     "text": [
      "<class 'pandas.core.frame.DataFrame'>\n",
      "RangeIndex: 65079 entries, 0 to 65078\n",
      "Data columns (total 7 columns):\n",
      " #   Column    Non-Null Count  Dtype \n",
      "---  ------    --------------  ----- \n",
      " 0     userID  65079 non-null  object\n",
      " 1   Track     63736 non-null  object\n",
      " 2   artist    57512 non-null  object\n",
      " 3   genre     63881 non-null  object\n",
      " 4     City    65079 non-null  object\n",
      " 5   time      65079 non-null  object\n",
      " 6   Day       65079 non-null  object\n",
      "dtypes: object(7)\n",
      "memory usage: 3.5+ MB\n"
     ]
    }
   ],
   "source": [
    "# obtaining general information about the data in df\n",
    "df.info()"
   ]
  },
  {
   "cell_type": "markdown",
   "metadata": {},
   "source": [
    "<div class=\"alert alert-warning\">\n",
    "<b>Reviewer's comment v1:</b>\n",
    "       \n",
    "Btw you can omit print() method in project notebooks as JupyterHub by default provides correct output. "
   ]
  },
  {
   "cell_type": "markdown",
   "metadata": {
    "id": "TaQ2Iwbr_Zct"
   },
   "source": [
    "The table contains seven columns. They all store the same data type: `object`.\n",
    "\n",
    "According to the documentation:\n",
    "- `'userID'` — user identifier\n",
    "- `'Track'` — track title\n",
    "- `'artist'` — artist's name\n",
    "- `'genre'`\n",
    "- `'City'` — user's city\n",
    "- `'time'` — the exact time the track was played\n",
    "- `'Day'` — day of the week\n",
    "\n",
    "We can see three issues with style in the column names:\n",
    "1. Some names are uppercase, some are lowercase.\n",
    "2. There are spaces in some names.\n",
    "3. One name is made up of two words without underline between them.\n",
    "4. There is a lack of clarity in some names. Apparently, e.g. \"user_city\" name would sound more explicitly than just \"city\", since thus from the very beginning we see, that it's connected to a user and not somehow a track. `This revision hadn't been implemented in order to match the names used in the further part of the project`\n",
    "\n",
    "The number of column values is different. This means the data contains missing values.\n"
   ]
  },
  {
   "cell_type": "markdown",
   "metadata": {
    "id": "MCB6-dXG_Zct"
   },
   "source": [
    "### Conclusions <a id='data_review_conclusions'></a> \n",
    "\n",
    "Each row in the table stores data on a track that was played. Some columns describe the track itself: its title, artist and genre. The rest convey information about the user: the city they come from, the time they played the track. \n",
    "\n",
    "It's clear that the data is sufficient to test the hypotheses. However, there are missing values.\n",
    "\n",
    "To move forward, we need to preprocess the data."
   ]
  },
  {
   "cell_type": "markdown",
   "metadata": {},
   "source": [
    "<div class=\"alert alert-success\">\n",
    "<b>Reviewer's comment v1:</b>\n",
    "    \n",
    "Great data overview and correct conclusions. "
   ]
  },
  {
   "cell_type": "markdown",
   "metadata": {
    "id": "3eL__vcwViOi"
   },
   "source": [
    "[Back to Contents](#back)"
   ]
  },
  {
   "cell_type": "markdown",
   "metadata": {
    "id": "SjYF6Ub9_Zct"
   },
   "source": [
    "## Stage 2. Data preprocessing <a id='data_preprocessing'></a>\n",
    "Correct the formatting in the column headers and deal with the missing values. Then, check whether there are duplicates in the data."
   ]
  },
  {
   "cell_type": "markdown",
   "metadata": {
    "id": "dIaKXr29_Zct"
   },
   "source": [
    "### Header style <a id='header_style'></a>\n",
    "Print the column header:"
   ]
  },
  {
   "cell_type": "code",
   "execution_count": 5,
   "metadata": {
    "id": "oKOTdF_Q_Zct"
   },
   "outputs": [
    {
     "data": {
      "text/plain": [
       "Index(['  userID', 'Track', 'artist', 'genre', '  City  ', 'time', 'Day'], dtype='object')"
      ]
     },
     "execution_count": 5,
     "metadata": {},
     "output_type": "execute_result"
    }
   ],
   "source": [
    "# the list of column names in the df table\n",
    "df.columns"
   ]
  },
  {
   "cell_type": "markdown",
   "metadata": {
    "id": "zj5534cv_Zct"
   },
   "source": [
    "Change column names according to the rules of good style:\n",
    "* If the name has several words, use snake_case\n",
    "* All characters must be lowercase\n",
    "* Delete spaces"
   ]
  },
  {
   "cell_type": "code",
   "execution_count": 6,
   "metadata": {
    "id": "ISlFqs5y_Zct"
   },
   "outputs": [],
   "source": [
    "# renaming columns\n",
    "df = df.rename(\n",
    "    columns={\n",
    "        '  userID': 'user_id',\n",
    "        'Track' : 'track',\n",
    "        '  City  ' : 'city',\n",
    "        'time': 'time',\n",
    "        'Day' : 'day'\n",
    "    }\n",
    ") "
   ]
  },
  {
   "cell_type": "markdown",
   "metadata": {},
   "source": [
    "<div class=\"alert alert-success\">\n",
    "<b>Reviewer's comment v1:</b>\n",
    "    \n",
    "It is great that you correctly applied rename method. "
   ]
  },
  {
   "cell_type": "markdown",
   "metadata": {
    "id": "1dqbh00J_Zct"
   },
   "source": [
    "Check the result. Print the names of the columns once more:"
   ]
  },
  {
   "cell_type": "code",
   "execution_count": 7,
   "metadata": {
    "id": "d4NOAmTW_Zct"
   },
   "outputs": [
    {
     "data": {
      "text/plain": [
       "Index(['user_id', 'track', 'artist', 'genre', 'city', 'time', 'day'], dtype='object')"
      ]
     },
     "execution_count": 7,
     "metadata": {},
     "output_type": "execute_result"
    }
   ],
   "source": [
    "# checking result: the list of column names\n",
    "df.columns"
   ]
  },
  {
   "cell_type": "markdown",
   "metadata": {
    "id": "xYJk6ksJVpOl"
   },
   "source": [
    "[Back to Contents](#back)"
   ]
  },
  {
   "cell_type": "markdown",
   "metadata": {
    "id": "5ISfbcfY_Zct"
   },
   "source": [
    "### Missing values <a id='missing_values'></a>\n",
    "First, find the number of missing values in the table. To do so, use two `pandas` methods:"
   ]
  },
  {
   "cell_type": "code",
   "execution_count": 8,
   "metadata": {
    "id": "RskX29qr_Zct"
   },
   "outputs": [
    {
     "data": {
      "text/plain": [
       "user_id       0\n",
       "track      1343\n",
       "artist     7567\n",
       "genre      1198\n",
       "city          0\n",
       "time          0\n",
       "day           0\n",
       "dtype: int64"
      ]
     },
     "execution_count": 8,
     "metadata": {},
     "output_type": "execute_result"
    }
   ],
   "source": [
    "# calculating missing values\n",
    "df.isna().sum()"
   ]
  },
  {
   "cell_type": "code",
   "execution_count": 9,
   "metadata": {},
   "outputs": [
    {
     "data": {
      "text/plain": [
       "user_id     0.000000\n",
       "track       2.063646\n",
       "artist     11.627407\n",
       "genre       1.840840\n",
       "city        0.000000\n",
       "time        0.000000\n",
       "day         0.000000\n",
       "dtype: float64"
      ]
     },
     "execution_count": 9,
     "metadata": {},
     "output_type": "execute_result"
    }
   ],
   "source": [
    "# checking percentage of missing values\n",
    "df.isnull().sum()/len(df)*100"
   ]
  },
  {
   "cell_type": "markdown",
   "metadata": {},
   "source": [
    "<div class=\"alert alert-success\">\n",
    "<b>Reviewer's comment v1</b>\n",
    "    \n",
    "Great that you selected `isna()` method to find missing values! \n",
    "\n",
    "It is also sometimes helpful to check not only the total amount of missing values in each column but also look at the percentage of missing values. It helps to understand the overall impact. You can check percentage using, for example, this code:\n",
    "\n",
    "`df.isnull().sum()/len(df)`"
   ]
  },
  {
   "cell_type": "markdown",
   "metadata": {
    "id": "qubhgnlO_Zct"
   },
   "source": [
    "Not all missing values affect the research. For instance, the missing values in `track` and `artist` are not critical. You can simply replace them with clear markers.\n",
    "\n",
    "But missing values in `'genre'` can affect the comparison of music preferences in Springfield and Shelbyville. In real life, it would be useful to learn the reasons why the data is missing and try to make up for them. But we do not have that opportunity in this project. So you will have to:\n",
    "* Fill in these missing values with markers\n",
    "* Evaluate how much the missing values may affect your computations"
   ]
  },
  {
   "cell_type": "markdown",
   "metadata": {
    "id": "fSv2laPA_Zct"
   },
   "source": [
    "Replace the missing values in `'track'`, `'artist'`, and `'genre'` with the string `'unknown'`. To do this, create the `columns_to_replace` list, loop over it with `for`, and replace the missing values in each of the columns:"
   ]
  },
  {
   "cell_type": "code",
   "execution_count": 10,
   "metadata": {
    "id": "KplB5qWs_Zct"
   },
   "outputs": [],
   "source": [
    "# looping over column names and replacing missing values with 'unknown'\n",
    "\n",
    "columns_to_replace = ['track', 'artist', 'genre']\n",
    "\n",
    "for column in columns_to_replace:\n",
    "    df[column] = df[column].fillna('unknown')"
   ]
  },
  {
   "cell_type": "markdown",
   "metadata": {
    "id": "Ilsm-MZo_Zct"
   },
   "source": [
    "Make sure the table contains no more missing values. Count the missing values again."
   ]
  },
  {
   "cell_type": "code",
   "execution_count": 11,
   "metadata": {
    "id": "Tq4nYRX4_Zct"
   },
   "outputs": [
    {
     "data": {
      "text/plain": [
       "user_id    0\n",
       "track      0\n",
       "artist     0\n",
       "genre      0\n",
       "city       0\n",
       "time       0\n",
       "day        0\n",
       "dtype: int64"
      ]
     },
     "execution_count": 11,
     "metadata": {},
     "output_type": "execute_result"
    }
   ],
   "source": [
    "# counting missing values\n",
    "df.isna().sum()"
   ]
  },
  {
   "cell_type": "markdown",
   "metadata": {},
   "source": [
    "<div class=\"alert alert-success\">\n",
    "<b>Reviewer's comment v1:</b>\n",
    "    \n",
    "Everything is correct here!"
   ]
  },
  {
   "cell_type": "markdown",
   "metadata": {
    "id": "74ZIBmq9VrsK"
   },
   "source": [
    "[Back to Contents](#back)"
   ]
  },
  {
   "cell_type": "markdown",
   "metadata": {
    "id": "BWKRtBJ3_Zct"
   },
   "source": [
    "### Duplicates <a id='duplicates'></a>\n",
    "Find the number of obvious duplicates in the table using one command:"
   ]
  },
  {
   "cell_type": "code",
   "execution_count": 12,
   "metadata": {
    "id": "36eES_S0_Zct"
   },
   "outputs": [
    {
     "data": {
      "text/plain": [
       "3826"
      ]
     },
     "execution_count": 12,
     "metadata": {},
     "output_type": "execute_result"
    }
   ],
   "source": [
    "# counting clear duplicates\n",
    "df.duplicated().sum()"
   ]
  },
  {
   "cell_type": "markdown",
   "metadata": {
    "id": "Ot25h6XR_Zct"
   },
   "source": [
    "Call the `pandas` method for getting rid of obvious duplicates:"
   ]
  },
  {
   "cell_type": "code",
   "execution_count": 13,
   "metadata": {
    "id": "exFHq6tt_Zct"
   },
   "outputs": [],
   "source": [
    "# removing obvious duplicates\n",
    "\n",
    "df = df.drop_duplicates().reset_index()\n",
    "#df\n"
   ]
  },
  {
   "cell_type": "markdown",
   "metadata": {
    "id": "Im2YwBEG_Zct"
   },
   "source": [
    "Count obvious duplicates once more to make sure you have removed all of them:"
   ]
  },
  {
   "cell_type": "code",
   "execution_count": 14,
   "metadata": {
    "id": "-8PuNWQ0_Zct"
   },
   "outputs": [
    {
     "data": {
      "text/plain": [
       "0"
      ]
     },
     "execution_count": 14,
     "metadata": {},
     "output_type": "execute_result"
    }
   ],
   "source": [
    "# checking for duplicates\n",
    "df.duplicated().sum()"
   ]
  },
  {
   "cell_type": "markdown",
   "metadata": {},
   "source": [
    "<div class=\"alert alert-warning\">\n",
    "<b>Reviewer's comment v1</b>\n",
    "    \n",
    "Note that it is also required additionally to re-create the indexes in your dataframe. To achieve that, you can use `reset_index()`.\n",
    "    \n",
    "Without that, the index column will not be ordinal anymore, as `drop_duplicates()` deleted some lines, hence the dataframe becomes less informative.\n",
    "    \n",
    "    \n",
    "You can read about it here: https://pandas.pydata.org/docs/reference/api/pandas.DataFrame.reset_index.html\n",
    "    \n",
    "And parameter `drop=True` could be helpful to rewrite existent index instead of creating a second ordinal column."
   ]
  },
  {
   "cell_type": "markdown",
   "metadata": {
    "id": "QlFBsxAr_Zct"
   },
   "source": [
    "Now get rid of implicit duplicates in the `genre` column. For example, the name of a genre can be written in different ways. Such errors will also affect the result."
   ]
  },
  {
   "cell_type": "markdown",
   "metadata": {
    "id": "eSjWwsOh_Zct"
   },
   "source": [
    "Print a list of unique genre names, sorted in alphabetical order. To do so:\n",
    "* Retrieve the intended DataFrame column \n",
    "* Apply a sorting method to it\n",
    "* For the sorted column, call the method that will return all unique column values"
   ]
  },
  {
   "cell_type": "code",
   "execution_count": 15,
   "metadata": {
    "id": "JIUcqzZN_Zct"
   },
   "outputs": [
    {
     "data": {
      "text/plain": [
       "array(['acid', 'acoustic', 'action', 'adult', 'africa', 'afrikaans',\n",
       "       'alternative', 'ambient', 'americana', 'animated', 'anime',\n",
       "       'arabesk', 'arabic', 'arena', 'argentinetango', 'art', 'audiobook',\n",
       "       'avantgarde', 'axé', 'baile', 'balkan', 'beats', 'bigroom',\n",
       "       'black', 'bluegrass', 'blues', 'bollywood', 'bossa', 'brazilian',\n",
       "       'breakbeat', 'breaks', 'broadway', 'cantautori', 'cantopop',\n",
       "       'canzone', 'caribbean', 'caucasian', 'celtic', 'chamber',\n",
       "       'children', 'chill', 'chinese', 'choral', 'christian', 'christmas',\n",
       "       'classical', 'classicmetal', 'club', 'colombian', 'comedy',\n",
       "       'conjazz', 'contemporary', 'country', 'cuban', 'dance',\n",
       "       'dancehall', 'dancepop', 'dark', 'death', 'deep', 'deutschrock',\n",
       "       'deutschspr', 'dirty', 'disco', 'dnb', 'documentary', 'downbeat',\n",
       "       'downtempo', 'drum', 'dub', 'dubstep', 'eastern', 'easy',\n",
       "       'electronic', 'electropop', 'emo', 'entehno', 'epicmetal',\n",
       "       'estrada', 'ethnic', 'eurofolk', 'european', 'experimental',\n",
       "       'extrememetal', 'fado', 'film', 'fitness', 'flamenco', 'folk',\n",
       "       'folklore', 'folkmetal', 'folkrock', 'folktronica', 'forró',\n",
       "       'frankreich', 'französisch', 'french', 'funk', 'future', 'gangsta',\n",
       "       'garage', 'german', 'ghazal', 'gitarre', 'glitch', 'gospel',\n",
       "       'gothic', 'grime', 'grunge', 'gypsy', 'handsup', \"hard'n'heavy\",\n",
       "       'hardcore', 'hardstyle', 'hardtechno', 'hip', 'hip-hop', 'hiphop',\n",
       "       'historisch', 'holiday', 'hop', 'horror', 'house', 'idm',\n",
       "       'independent', 'indian', 'indie', 'indipop', 'industrial',\n",
       "       'inspirational', 'instrumental', 'international', 'irish', 'jam',\n",
       "       'japanese', 'jazz', 'jewish', 'jpop', 'jungle', 'k-pop',\n",
       "       'karadeniz', 'karaoke', 'kayokyoku', 'korean', 'laiko', 'latin',\n",
       "       'latino', 'leftfield', 'local', 'lounge', 'loungeelectronic',\n",
       "       'lovers', 'malaysian', 'mandopop', 'marschmusik', 'meditative',\n",
       "       'mediterranean', 'melodic', 'metal', 'metalcore', 'mexican',\n",
       "       'middle', 'minimal', 'miscellaneous', 'modern', 'mood', 'mpb',\n",
       "       'muslim', 'native', 'neoklassik', 'neue', 'new', 'newage',\n",
       "       'newwave', 'nu', 'nujazz', 'numetal', 'oceania', 'old', 'opera',\n",
       "       'orchestral', 'other', 'piano', 'pop', 'popelectronic',\n",
       "       'popeurodance', 'post', 'posthardcore', 'postrock', 'power',\n",
       "       'progmetal', 'progressive', 'psychedelic', 'punjabi', 'punk',\n",
       "       'quebecois', 'ragga', 'ram', 'rancheras', 'rap', 'rave', 'reggae',\n",
       "       'reggaeton', 'regional', 'relax', 'religious', 'retro', 'rhythm',\n",
       "       'rnb', 'rnr', 'rock', 'rockabilly', 'romance', 'roots', 'ruspop',\n",
       "       'rusrap', 'rusrock', 'salsa', 'samba', 'schlager', 'self',\n",
       "       'sertanejo', 'shoegazing', 'showtunes', 'singer', 'ska', 'slow',\n",
       "       'smooth', 'soul', 'soulful', 'sound', 'soundtrack', 'southern',\n",
       "       'specialty', 'speech', 'spiritual', 'sport', 'stonerrock', 'surf',\n",
       "       'swing', 'synthpop', 'sängerportrait', 'tango', 'tanzorchester',\n",
       "       'taraftar', 'tech', 'techno', 'thrash', 'top', 'traditional',\n",
       "       'tradjazz', 'trance', 'tribal', 'trip', 'triphop', 'tropical',\n",
       "       'türk', 'türkçe', 'unknown', 'urban', 'uzbek', 'variété', 'vi',\n",
       "       'videogame', 'vocal', 'western', 'world', 'worldbeat', 'ïîï'],\n",
       "      dtype=object)"
      ]
     },
     "execution_count": 15,
     "metadata": {},
     "output_type": "execute_result"
    }
   ],
   "source": [
    "# viewing unique genre names\n",
    "df['genre'].sort_values().unique()"
   ]
  },
  {
   "cell_type": "markdown",
   "metadata": {},
   "source": [
    "<div class=\"alert alert-success\">\n",
    "<b>Reviewer's comment v1</b>\n",
    "    \n",
    "Well done! You correctly applied a `.unique()` and `.sort_values()` methods. \n",
    "    \n"
   ]
  },
  {
   "cell_type": "markdown",
   "metadata": {
    "id": "qej-Qmuo_Zct"
   },
   "source": [
    "Look through the list to find implicit duplicates of the genre `hiphop`. These could be names written incorrectly or alternative names of the same genre.\n",
    "\n",
    "You will see the following implicit duplicates:\n",
    "* `hip`\n",
    "* `hop`\n",
    "* `hip-hop`\n",
    "\n",
    "To get rid of them, declare the function `replace_wrong_genres()` with two parameters: \n",
    "* `wrong_genres=` — the list of duplicates\n",
    "* `correct_genre=` — the string with the correct value\n",
    "\n",
    "The function should correct the names in the `'genre'` column from the `df` table, i.e. replace each value from the `wrong_genres` list with the value in `correct_genre`."
   ]
  },
  {
   "cell_type": "code",
   "execution_count": 16,
   "metadata": {
    "id": "ErNDkmns_Zct"
   },
   "outputs": [],
   "source": [
    "# function for replacing implicit duplicates\n",
    "def replace_wrong_genres(wrong_genres, correct_genre):\n",
    "#    for genre_title in df['genre']:\n",
    "#        for wrong_genre_tilte in wrong_genres:\n",
    "#            if genre_title == wrong_genre_tilte:\n",
    "#                genre_title = correct_genre\n",
    "\n",
    "    for wrong_genre in wrong_genres:\n",
    "        df['genre'] = df['genre'].replace(wrong_genre, correct_genre)                "
   ]
  },
  {
   "cell_type": "markdown",
   "metadata": {
    "id": "aDoBJxbA_Zct"
   },
   "source": [
    "Call `replace_wrong_genres()` and pass it arguments so that it clears implicit duplcates (`hip`, `hop`, and `hip-hop`) and replaces them with `hiphop`:"
   ]
  },
  {
   "cell_type": "code",
   "execution_count": 17,
   "metadata": {
    "id": "YN5i2hpmSo09"
   },
   "outputs": [],
   "source": [
    "# removing implicit duplicates\n",
    "wrong_genres = ['hip', 'hop', 'hip-hop']\n",
    "correct_genre = 'hiphop'\n",
    "\n",
    "replace_wrong_genres(wrong_genres, correct_genre)"
   ]
  },
  {
   "cell_type": "markdown",
   "metadata": {},
   "source": [
    "<div class=\"alert alert-success\">\n",
    "<b>Reviewer's comment v1</b>\n",
    "    \n",
    "Your function works perfectly fine.\n",
    "    \n",
    "Btw you can also just pass values in your function:\n",
    "    \n",
    "    `replace_wrong_genres(['hip', 'hop', 'hip-hop'], 'hiphop')`\n",
    "    \n",
    "If you want to check the output of the function you can add the following line at the end.\n",
    "    \n",
    "    `return(wrong_genres, correct_genre)`"
   ]
  },
  {
   "cell_type": "markdown",
   "metadata": {
    "id": "zQKF16_RG15m"
   },
   "source": [
    "Make sure the duplicate names were removed. Print the list of unique values from the `'genre'` column:"
   ]
  },
  {
   "cell_type": "code",
   "execution_count": 18,
   "metadata": {
    "id": "wvixALnFG15m"
   },
   "outputs": [
    {
     "data": {
      "text/plain": [
       "array(['acid', 'acoustic', 'action', 'adult', 'africa', 'afrikaans',\n",
       "       'alternative', 'ambient', 'americana', 'animated', 'anime',\n",
       "       'arabesk', 'arabic', 'arena', 'argentinetango', 'art', 'audiobook',\n",
       "       'avantgarde', 'axé', 'baile', 'balkan', 'beats', 'bigroom',\n",
       "       'black', 'bluegrass', 'blues', 'bollywood', 'bossa', 'brazilian',\n",
       "       'breakbeat', 'breaks', 'broadway', 'cantautori', 'cantopop',\n",
       "       'canzone', 'caribbean', 'caucasian', 'celtic', 'chamber',\n",
       "       'children', 'chill', 'chinese', 'choral', 'christian', 'christmas',\n",
       "       'classical', 'classicmetal', 'club', 'colombian', 'comedy',\n",
       "       'conjazz', 'contemporary', 'country', 'cuban', 'dance',\n",
       "       'dancehall', 'dancepop', 'dark', 'death', 'deep', 'deutschrock',\n",
       "       'deutschspr', 'dirty', 'disco', 'dnb', 'documentary', 'downbeat',\n",
       "       'downtempo', 'drum', 'dub', 'dubstep', 'eastern', 'easy',\n",
       "       'electronic', 'electropop', 'emo', 'entehno', 'epicmetal',\n",
       "       'estrada', 'ethnic', 'eurofolk', 'european', 'experimental',\n",
       "       'extrememetal', 'fado', 'film', 'fitness', 'flamenco', 'folk',\n",
       "       'folklore', 'folkmetal', 'folkrock', 'folktronica', 'forró',\n",
       "       'frankreich', 'französisch', 'french', 'funk', 'future', 'gangsta',\n",
       "       'garage', 'german', 'ghazal', 'gitarre', 'glitch', 'gospel',\n",
       "       'gothic', 'grime', 'grunge', 'gypsy', 'handsup', \"hard'n'heavy\",\n",
       "       'hardcore', 'hardstyle', 'hardtechno', 'hiphop', 'historisch',\n",
       "       'holiday', 'horror', 'house', 'idm', 'independent', 'indian',\n",
       "       'indie', 'indipop', 'industrial', 'inspirational', 'instrumental',\n",
       "       'international', 'irish', 'jam', 'japanese', 'jazz', 'jewish',\n",
       "       'jpop', 'jungle', 'k-pop', 'karadeniz', 'karaoke', 'kayokyoku',\n",
       "       'korean', 'laiko', 'latin', 'latino', 'leftfield', 'local',\n",
       "       'lounge', 'loungeelectronic', 'lovers', 'malaysian', 'mandopop',\n",
       "       'marschmusik', 'meditative', 'mediterranean', 'melodic', 'metal',\n",
       "       'metalcore', 'mexican', 'middle', 'minimal', 'miscellaneous',\n",
       "       'modern', 'mood', 'mpb', 'muslim', 'native', 'neoklassik', 'neue',\n",
       "       'new', 'newage', 'newwave', 'nu', 'nujazz', 'numetal', 'oceania',\n",
       "       'old', 'opera', 'orchestral', 'other', 'piano', 'pop',\n",
       "       'popelectronic', 'popeurodance', 'post', 'posthardcore',\n",
       "       'postrock', 'power', 'progmetal', 'progressive', 'psychedelic',\n",
       "       'punjabi', 'punk', 'quebecois', 'ragga', 'ram', 'rancheras', 'rap',\n",
       "       'rave', 'reggae', 'reggaeton', 'regional', 'relax', 'religious',\n",
       "       'retro', 'rhythm', 'rnb', 'rnr', 'rock', 'rockabilly', 'romance',\n",
       "       'roots', 'ruspop', 'rusrap', 'rusrock', 'salsa', 'samba',\n",
       "       'schlager', 'self', 'sertanejo', 'shoegazing', 'showtunes',\n",
       "       'singer', 'ska', 'slow', 'smooth', 'soul', 'soulful', 'sound',\n",
       "       'soundtrack', 'southern', 'specialty', 'speech', 'spiritual',\n",
       "       'sport', 'stonerrock', 'surf', 'swing', 'synthpop',\n",
       "       'sängerportrait', 'tango', 'tanzorchester', 'taraftar', 'tech',\n",
       "       'techno', 'thrash', 'top', 'traditional', 'tradjazz', 'trance',\n",
       "       'tribal', 'trip', 'triphop', 'tropical', 'türk', 'türkçe',\n",
       "       'unknown', 'urban', 'uzbek', 'variété', 'vi', 'videogame', 'vocal',\n",
       "       'western', 'world', 'worldbeat', 'ïîï'], dtype=object)"
      ]
     },
     "execution_count": 18,
     "metadata": {},
     "output_type": "execute_result"
    }
   ],
   "source": [
    "# checking for implicit duplicates\n",
    "df['genre'].sort_values().unique()"
   ]
  },
  {
   "cell_type": "markdown",
   "metadata": {
    "id": "ALgNbvF3VtPA"
   },
   "source": [
    "[Back to Contents](#back)"
   ]
  },
  {
   "cell_type": "markdown",
   "metadata": {
    "id": "jz6a9-7HQUDd"
   },
   "source": [
    "### Conclusions <a id='data_preprocessing_conclusions'></a>\n",
    "We detected three issues with the data:\n",
    "\n",
    "- Incorrect header styles\n",
    "- Missing values\n",
    "- Obvious and implicit duplicates\n",
    "\n",
    "The headers have been cleaned up to make processing the table simpler.\n",
    "\n",
    "All missing values have been replaced with `'unknown'`. But we still have to see whether the missing values in `'genre'` will affect our calculations.\n",
    "\n",
    "The absence of duplicates will make the results more precise and easier to understand.\n",
    "\n",
    "Now we can move on to testing hypotheses. "
   ]
  },
  {
   "cell_type": "markdown",
   "metadata": {
    "id": "eK1es74rVujj"
   },
   "source": [
    "[Back to Contents](#back)"
   ]
  },
  {
   "cell_type": "markdown",
   "metadata": {},
   "source": [
    "<div class=\"alert alert-success\">\n",
    "<b>Reviewer's comment v1:</b>\n",
    "    \n",
    "Great, you correctly identified and fixed missing values and duplicates."
   ]
  },
  {
   "cell_type": "markdown",
   "metadata": {
    "id": "WttZHXH0SqKk"
   },
   "source": [
    "## Stage 3. Testing hypotheses <a id='hypotheses'></a>"
   ]
  },
  {
   "cell_type": "markdown",
   "metadata": {
    "id": "Im936VVi_Zcu"
   },
   "source": [
    "### Hypothesis 1: comparing user behavior in two cities <a id='activity'></a>"
   ]
  },
  {
   "cell_type": "markdown",
   "metadata": {
    "id": "nwt_MuaL_Zcu"
   },
   "source": [
    "According to the first hypothesis, users from Springfield and Shelbyville listen to music differently. Test this using the data on three days of the week: Monday, Wednesday, and Friday.\n",
    "\n",
    "* Divide the users into groups by city.\n",
    "* Compare how many tracks each group played on Monday, Wednesday, and Friday.\n"
   ]
  },
  {
   "cell_type": "markdown",
   "metadata": {
    "id": "8Dw_YMmT_Zcu"
   },
   "source": [
    "For the sake of practice, perform each computation separately. \n",
    "\n",
    "Evaluate user activity in each city. Group the data by city and find the number of songs played in each group.\n",
    "\n"
   ]
  },
  {
   "cell_type": "code",
   "execution_count": 19,
   "metadata": {
    "id": "0_Qs96oh_Zcu"
   },
   "outputs": [
    {
     "data": {
      "text/plain": [
       "city\n",
       "Shelbyville    18512\n",
       "Springfield    42741\n",
       "Name: track, dtype: int64"
      ]
     },
     "execution_count": 19,
     "metadata": {},
     "output_type": "execute_result"
    }
   ],
   "source": [
    "# Counting up the tracks played in each city\n",
    "df_by_city = df.groupby('city').count()['track']\n",
    "df_by_city\n"
   ]
  },
  {
   "cell_type": "markdown",
   "metadata": {},
   "source": [
    "<div class=\"alert alert-success\">\n",
    "<b>Reviewer's comment v1:</b>\n",
    "    \n",
    "Great that you applied groupby method here.\n"
   ]
  },
  {
   "cell_type": "markdown",
   "metadata": {
    "id": "dzli3w8o_Zcu"
   },
   "source": [
    "Springfield has more tracks played than Shelbyville. But that does not imply that citizens of Springfield listen to music more often. This city is simply bigger, and there are more users.\n",
    "\n",
    "Now group the data by day of the week and find the number of tracks played on Monday, Wednesday, and Friday.\n"
   ]
  },
  {
   "cell_type": "code",
   "execution_count": 20,
   "metadata": {
    "id": "uZMKjiJz_Zcu"
   },
   "outputs": [
    {
     "data": {
      "text/plain": [
       "day\n",
       "Friday       21840\n",
       "Monday       21354\n",
       "Wednesday    18059\n",
       "Name: track, dtype: int64"
      ]
     },
     "execution_count": 20,
     "metadata": {},
     "output_type": "execute_result"
    }
   ],
   "source": [
    "# Calculating tracks played on each of the three days\n",
    "df_by_day = df.groupby('day').count()['track']\n",
    "df_by_day\n"
   ]
  },
  {
   "cell_type": "markdown",
   "metadata": {
    "id": "cC2tNrlL_Zcu"
   },
   "source": [
    "Wednesday is the quietest day overall. But if we consider the two cities separately, we might come to a different conclusion."
   ]
  },
  {
   "cell_type": "markdown",
   "metadata": {
    "id": "POzs8bGa_Zcu"
   },
   "source": [
    "You have seen how grouping by city or day works. Now write a function that will group by both.\n",
    "\n",
    "Create the `number_tracks()` function to calculate the number of songs played for a given day and city. It will require two parameters:\n",
    "* day of the week\n",
    "* name of the city\n",
    "\n",
    "In the function, use a variable to store the rows from the original table, where:\n",
    "  * `'day'` column value is equal to the `day` parameter\n",
    "  * `'city'` column value is equal to the `city` parameter\n",
    "\n",
    "Apply consecutive filtering with logical indexing.\n",
    "\n",
    "Then calculate the `'user_id'` column values in the resulting table. Store the result to a new variable. Return this variable from the function."
   ]
  },
  {
   "cell_type": "code",
   "execution_count": 21,
   "metadata": {
    "id": "Nz3GdQB1_Zcu"
   },
   "outputs": [],
   "source": [
    "# <creating the function number_tracks()>\n",
    "# We'll declare a function with two parameters: day=, city=.\n",
    "# Let the track_list variable store the df rows where\n",
    "# the value in the 'day' column is equal to the day= parameter and, at the same time, \n",
    "# the value in the 'city' column is equal to the city= parameter (apply consecutive filtering \n",
    "# with logical indexing).\n",
    "# Let the track_list_count variable store the number of 'user_id' column values in track_list\n",
    "# (found with the count() method).\n",
    "# Let the function return a number: the value of track_list_count.\n",
    "\n",
    "# The function counts tracked played for a certain city and day.\n",
    "# It first retrieves the rows with the intended day from the table,\n",
    "# then filters out the rows with the intended city from the result,\n",
    "# then finds the number of 'user_id' values in the filtered table,\n",
    "# then returns that number.\n",
    "# To see what it returns, wrap the function call in print().\n",
    "\n",
    "def number_tracks(day, city):\n",
    "    \n",
    "    '''This function calculates the number of songs played for a given day and city.'''\n",
    "    \n",
    "    track_list = df[(df['day'] == day) & (df['city'] == city)]\n",
    "    track_list_count = track_list['user_id'].count()\n",
    "    return (track_list_count)"
   ]
  },
  {
   "cell_type": "markdown",
   "metadata": {},
   "source": [
    "<div class=\"alert alert-warning\">\n",
    "<b>Reviewer's comment v1:</b>\n",
    "    \n",
    "Everything is correct here, but only minor remark about how documenting functions.\n",
    "\n",
    "There is a common convention to use docstings to comments functions in python. It helps to keep code clean and embrace transparency and readability when multiple teams are working on the same complex code.\n",
    "\n",
    "You can read about this, for example, here: https://www.datacamp.com/community/tutorials/docstrings-python"
   ]
  },
  {
   "cell_type": "markdown",
   "metadata": {
    "id": "ytf7xFrFJQ2r"
   },
   "source": [
    "Call `number_tracks()` six times, changing the parameter values, so that you retrieve the data on both cities for each of the three days."
   ]
  },
  {
   "cell_type": "code",
   "execution_count": 22,
   "metadata": {
    "id": "rJcRATNQ_Zcu"
   },
   "outputs": [
    {
     "data": {
      "text/plain": [
       "15740"
      ]
     },
     "execution_count": 22,
     "metadata": {},
     "output_type": "execute_result"
    }
   ],
   "source": [
    "# the number of songs played in Springfield on Monday\n",
    "number_tracks('Monday','Springfield')"
   ]
  },
  {
   "cell_type": "code",
   "execution_count": 23,
   "metadata": {
    "id": "hq_ncZ5T_Zcu"
   },
   "outputs": [
    {
     "data": {
      "text/plain": [
       "5614"
      ]
     },
     "execution_count": 23,
     "metadata": {},
     "output_type": "execute_result"
    }
   ],
   "source": [
    "# the number of songs played in Shelbyville on Monday\n",
    "number_tracks('Monday','Shelbyville')"
   ]
  },
  {
   "cell_type": "code",
   "execution_count": 24,
   "metadata": {
    "id": "_NTy2VPU_Zcu"
   },
   "outputs": [
    {
     "data": {
      "text/plain": [
       "11056"
      ]
     },
     "execution_count": 24,
     "metadata": {},
     "output_type": "execute_result"
    }
   ],
   "source": [
    "# the number of songs played in Springfield on Wednesday\n",
    "number_tracks('Wednesday','Springfield')"
   ]
  },
  {
   "cell_type": "code",
   "execution_count": 25,
   "metadata": {
    "id": "j2y3TAwo_Zcu"
   },
   "outputs": [
    {
     "data": {
      "text/plain": [
       "7003"
      ]
     },
     "execution_count": 25,
     "metadata": {},
     "output_type": "execute_result"
    }
   ],
   "source": [
    "# the number of songs played in Shelbyville on Wednesday\n",
    "number_tracks('Wednesday','Shelbyville')"
   ]
  },
  {
   "cell_type": "code",
   "execution_count": 26,
   "metadata": {
    "id": "vYDw5u_K_Zcu"
   },
   "outputs": [
    {
     "data": {
      "text/plain": [
       "15945"
      ]
     },
     "execution_count": 26,
     "metadata": {},
     "output_type": "execute_result"
    }
   ],
   "source": [
    "# the number of songs played in Springfield on Friday\n",
    "number_tracks('Friday','Springfield')"
   ]
  },
  {
   "cell_type": "code",
   "execution_count": 27,
   "metadata": {
    "id": "8_yzFtW3_Zcu"
   },
   "outputs": [
    {
     "data": {
      "text/plain": [
       "5895"
      ]
     },
     "execution_count": 27,
     "metadata": {},
     "output_type": "execute_result"
    }
   ],
   "source": [
    "# the number of songs played in Shelbyville on Friday\n",
    "number_tracks('Friday','Shelbyville')"
   ]
  },
  {
   "cell_type": "markdown",
   "metadata": {
    "id": "7QXffbO-_Zcu"
   },
   "source": [
    "Use `pd.DataFrame` to create a table, where\n",
    "* Column names are: `['city', 'monday', 'wednesday', 'friday']`\n",
    "* The data is the results you got from `number_tracks()`"
   ]
  },
  {
   "cell_type": "code",
   "execution_count": 28,
   "metadata": {
    "id": "APAcLpOr_Zcu"
   },
   "outputs": [
    {
     "data": {
      "text/html": [
       "<div>\n",
       "<style scoped>\n",
       "    .dataframe tbody tr th:only-of-type {\n",
       "        vertical-align: middle;\n",
       "    }\n",
       "\n",
       "    .dataframe tbody tr th {\n",
       "        vertical-align: top;\n",
       "    }\n",
       "\n",
       "    .dataframe thead th {\n",
       "        text-align: right;\n",
       "    }\n",
       "</style>\n",
       "<table border=\"1\" class=\"dataframe\">\n",
       "  <thead>\n",
       "    <tr style=\"text-align: right;\">\n",
       "      <th></th>\n",
       "      <th>city</th>\n",
       "      <th>monday</th>\n",
       "      <th>wednesday</th>\n",
       "      <th>friday</th>\n",
       "    </tr>\n",
       "  </thead>\n",
       "  <tbody>\n",
       "    <tr>\n",
       "      <th>0</th>\n",
       "      <td>Springfield</td>\n",
       "      <td>15740</td>\n",
       "      <td>11056</td>\n",
       "      <td>15945</td>\n",
       "    </tr>\n",
       "    <tr>\n",
       "      <th>1</th>\n",
       "      <td>Shelbyville</td>\n",
       "      <td>5614</td>\n",
       "      <td>7003</td>\n",
       "      <td>5895</td>\n",
       "    </tr>\n",
       "  </tbody>\n",
       "</table>\n",
       "</div>"
      ],
      "text/plain": [
       "          city  monday  wednesday  friday\n",
       "0  Springfield   15740      11056   15945\n",
       "1  Shelbyville    5614       7003    5895"
      ]
     },
     "execution_count": 28,
     "metadata": {},
     "output_type": "execute_result"
    }
   ],
   "source": [
    "# table with results\n",
    "#df_results_H1 = pd.DataFrame([['Springfield',number_tracks('Monday','Springfield'), number_tracks('Wednesday','Springfield'), number_tracks('Friday','Springfield')],\n",
    "#                   ['Shelbyville',number_tracks('Monday','Shelbyville'), number_tracks('Wednesday','Shelbyville'), number_tracks('Friday','Shelbyville')]\n",
    "#                  ], \n",
    "\n",
    "df_results_H1 = pd.DataFrame([['Springfield', 15740, 11056, 15945],\n",
    "                              ['Shelbyville', 5614, 7003, 5895]],\n",
    "columns = ['city', 'monday', 'wednesday', 'friday'])\n",
    "\n",
    "df_results_H1"
   ]
  },
  {
   "cell_type": "markdown",
   "metadata": {
    "id": "-EgPIHYu_Zcu"
   },
   "source": [
    "**Conclusions**\n",
    "\n",
    "The data reveals differences in user behavior:\n",
    "\n",
    "- In Springfield, the number of songs played peaks on Mondays and Fridays, while on Wednesday there is a decrease in activity.\n",
    "- In Shelbyville, on the contrary, users listen to music more on Wednesday. User activity on Monday and Friday is smaller.\n",
    "\n",
    "So the first hypothesis seems to be correct."
   ]
  },
  {
   "cell_type": "markdown",
   "metadata": {},
   "source": [
    "<div class=\"alert alert-success\">\n",
    "<b>Reviewer's comment v1:</b>\n",
    "    \n",
    "Also everything is correct here! "
   ]
  },
  {
   "cell_type": "markdown",
   "metadata": {
    "id": "p7nFQajCVw5B"
   },
   "source": [
    "[Back to Contents](#back)"
   ]
  },
  {
   "cell_type": "markdown",
   "metadata": {
    "id": "atZAxtq4_Zcu"
   },
   "source": [
    "### Hypothesis 2: music at the beginning and end of the week <a id='week'></a>"
   ]
  },
  {
   "cell_type": "markdown",
   "metadata": {
    "id": "eXrQqXFH_Zcu"
   },
   "source": [
    "According to the second hypothesis, on Monday morning and Friday night, citizens of Springfield listen to genres that differ from ones users from Shelbyville enjoy."
   ]
  },
  {
   "cell_type": "markdown",
   "metadata": {
    "id": "S8UcW6Hw_Zcu"
   },
   "source": [
    "Get tables (make sure that the name of your combined table matches the DataFrame given in the two code blocks below):\n",
    "* For Springfield — `spr_general`\n",
    "* For Shelbyville — `shel_general`"
   ]
  },
  {
   "cell_type": "code",
   "execution_count": 29,
   "metadata": {
    "id": "qeaFfM_P_Zcu",
    "pycharm": {
     "is_executing": true
    }
   },
   "outputs": [],
   "source": [
    "# create the spr_general table from the df rows, \n",
    "# where the value in the 'city' column is 'Springfield'\n",
    "spr_general = df[df['city'] == 'Springfield']"
   ]
  },
  {
   "cell_type": "code",
   "execution_count": 30,
   "metadata": {
    "id": "ORaVRKto_Zcu"
   },
   "outputs": [],
   "source": [
    "# create the shel_general from the df rows,\n",
    "# where the value in the 'city' column is 'Shelbyville'\n",
    "shel_general = df[df['city'] == 'Shelbyville']\n"
   ]
  },
  {
   "cell_type": "markdown",
   "metadata": {},
   "source": [
    "<div class=\"alert alert-success\">\n",
    "<b>Reviewer's comment v1:</b>\n",
    "    \n",
    "You correctly used logical indexing to filter data by city! \n",
    "\n",
    "Additionally there are other methods that could be helpful to filter your data, for example:`query()`.\n",
    "\n",
    "    \n",
    "`spr_general = df.query('city == \"Springfield\"')`\n",
    "    \n",
    "You can read about them additionally here: \n",
    "https://towardsdatascience.com/10-examples-that-will-make-you-use-pandas-query-function-more-often-a8fb3e9361cb\n",
    "https://towardsdatascience.com/how-to-use-loc-and-iloc-for-selecting-data-in-pandas-bd09cb4c3d79    "
   ]
  },
  {
   "cell_type": "markdown",
   "metadata": {
    "id": "MEJV-CX2_Zcu"
   },
   "source": [
    "Write the `genre_weekday()` function with four parameters:\n",
    "* A table for data (`df`)\n",
    "* The day of the week (`day`)\n",
    "* The first timestamp, in 'hh:mm' format (`time1`)\n",
    "* The last timestamp, in 'hh:mm' format (`time2`)\n",
    "\n",
    "The function should return info on the 15 most popular genres on a given day within the period between the two timestamps."
   ]
  },
  {
   "cell_type": "code",
   "execution_count": 31,
   "metadata": {
    "id": "laJT9BYl_Zcu"
   },
   "outputs": [],
   "source": [
    "# 1) Let the genre_df variable store the rows that meet several conditions:\n",
    "#    - the value in the 'day' column is equal to the value of the day= argument\n",
    "#    - the value in the 'time' column is greater than the value of the time1= argument\n",
    "#    - the value in the 'time' column is smaller than the value of the time2= argument\n",
    "#    Use consecutive filtering with logical indexing.\n",
    "   \n",
    "# 2) Group genre_df by the 'genre' column, take one of its columns, \n",
    "#    and use the count() method to find the number of entries for each of \n",
    "#    the represented genres; store the resulting Series to the\n",
    "#    genre_df_count variable\n",
    "\n",
    "# 3) Sort genre_df_count in descending order of frequency and store the result\n",
    "#    to the genre_df_sorted variable\n",
    "\n",
    "# 4) Return a Series object with the first 15 genre_df_sorted value - the 15 most\n",
    "#    popular genres (on a given day, within a certain timeframe)\n",
    "\n",
    "\n",
    "# Write your function here\n",
    "\n",
    "def genre_weekday(df, day, time1, time2):\n",
    "\n",
    "    # consecutive filtering\n",
    "    # Create the variable genre_df which will store only those df rows where the day is equal to day=\n",
    "    genre_df = df[df['day'] == day] # write your code here\n",
    "    \n",
    "\n",
    "    # filter again so that genre_df will store only those rows where the time is smaller than time2=\n",
    "    genre_df = genre_df[genre_df['time'] < time2] # write your code here\n",
    "\n",
    "    # filter once more so that genre_df will store only rows where the time is greater than time1=\n",
    "    genre_df = genre_df[genre_df['time'] > time1]\n",
    "\n",
    "    # group the filtered DataFrame by the column with the names of genres, take the genre column, and find the number of rows for each genre with the count() method\n",
    "    genre_df_count = genre_df.groupby('genre')['genre'].count()# write your code here\n",
    "\n",
    "    # sort the result in descending order (so that the most popular genres come first in the Series object)\n",
    "    genre_df_sorted = genre_df_count.sort_values(ascending = False) # write your code here\n",
    "\n",
    "    # we will return the Series object storing the 15 most popular genres on a given day in a given timeframe\n",
    "    return genre_df_sorted[:15]"
   ]
  },
  {
   "cell_type": "markdown",
   "metadata": {
    "id": "la2s2_PF_Zcu"
   },
   "source": [
    "Compare the results of the `genre_weekday()` function for Springfield and Shelbyville on Monday morning (from 7AM to 11AM) and on Friday evening (from 17:00 to 23:00):"
   ]
  },
  {
   "cell_type": "code",
   "execution_count": 32,
   "metadata": {
    "id": "yz7itPUQ_Zcu"
   },
   "outputs": [
    {
     "data": {
      "text/plain": [
       "genre\n",
       "pop            781\n",
       "dance          549\n",
       "electronic     480\n",
       "rock           474\n",
       "hiphop         286\n",
       "ruspop         186\n",
       "world          181\n",
       "rusrap         175\n",
       "alternative    164\n",
       "unknown        161\n",
       "classical      157\n",
       "metal          120\n",
       "jazz           100\n",
       "folk            97\n",
       "soundtrack      95\n",
       "Name: genre, dtype: int64"
      ]
     },
     "execution_count": 32,
     "metadata": {},
     "output_type": "execute_result"
    }
   ],
   "source": [
    "# calling the function for Monday morning in Springfield (use spr_general instead of the df table)\n",
    "genre_weekday(spr_general, 'Monday', '07:00', '11:00')"
   ]
  },
  {
   "cell_type": "code",
   "execution_count": 33,
   "metadata": {
    "id": "kwUcHPdy_Zcu"
   },
   "outputs": [
    {
     "data": {
      "text/plain": [
       "genre\n",
       "pop            218\n",
       "dance          182\n",
       "rock           162\n",
       "electronic     147\n",
       "hiphop          80\n",
       "ruspop          64\n",
       "alternative     58\n",
       "rusrap          55\n",
       "jazz            44\n",
       "classical       40\n",
       "world           36\n",
       "rap             32\n",
       "soundtrack      31\n",
       "rnb             27\n",
       "metal           27\n",
       "Name: genre, dtype: int64"
      ]
     },
     "execution_count": 33,
     "metadata": {},
     "output_type": "execute_result"
    }
   ],
   "source": [
    "# calling the function for Monday morning in Shelbyville (use shel_general instead of the df table)\n",
    "genre_weekday(shel_general, 'Monday', '07:00', '11:00')"
   ]
  },
  {
   "cell_type": "code",
   "execution_count": 34,
   "metadata": {
    "id": "EzXVRE1o_Zcu"
   },
   "outputs": [
    {
     "data": {
      "text/plain": [
       "genre\n",
       "pop            713\n",
       "rock           517\n",
       "dance          495\n",
       "electronic     482\n",
       "hiphop         273\n",
       "world          208\n",
       "ruspop         170\n",
       "classical      163\n",
       "alternative    163\n",
       "rusrap         142\n",
       "jazz           111\n",
       "unknown        110\n",
       "soundtrack     105\n",
       "rnb             90\n",
       "metal           88\n",
       "Name: genre, dtype: int64"
      ]
     },
     "execution_count": 34,
     "metadata": {},
     "output_type": "execute_result"
    }
   ],
   "source": [
    "# calling the function for Friday evening in Springfield\n",
    "genre_weekday(spr_general, 'Friday', '17:00', '23:00')"
   ]
  },
  {
   "cell_type": "code",
   "execution_count": 35,
   "metadata": {
    "id": "JZaEKu5v_Zcu"
   },
   "outputs": [
    {
     "data": {
      "text/plain": [
       "genre\n",
       "pop            256\n",
       "rock           216\n",
       "electronic     216\n",
       "dance          210\n",
       "hiphop          97\n",
       "alternative     63\n",
       "jazz            61\n",
       "classical       60\n",
       "rusrap          59\n",
       "world           54\n",
       "unknown         47\n",
       "ruspop          47\n",
       "soundtrack      40\n",
       "metal           39\n",
       "rap             36\n",
       "Name: genre, dtype: int64"
      ]
     },
     "execution_count": 35,
     "metadata": {},
     "output_type": "execute_result"
    }
   ],
   "source": [
    "# calling the function for Friday evening in Shelbyville\n",
    "genre_weekday(shel_general, 'Friday', '17:00', '23:00')\n"
   ]
  },
  {
   "cell_type": "markdown",
   "metadata": {
    "id": "wrCe4MNX_Zcu"
   },
   "source": [
    "**Conclusion**\n",
    "\n",
    "Having compared the top 15 genres on Monday morning, we can draw the following conclusions:\n",
    "\n",
    "1. Users from Springfield and Shelbyville listen to similar music. The top five genres are the same, only rock and electronic have switched places.\n",
    "\n",
    "2. In Springfield, the number of missing values turned out to be so big that the value `'unknown'` came in 10th. This means that missing values make up a considerable portion of the data, which may be a basis for questioning the reliability of our conclusions.\n",
    "\n",
    "For Friday evening, the situation is similar. Individual genres vary somewhat, but on the whole, the top 15 is similar for the two cities.\n",
    "\n",
    "Thus, the second hypothesis has been partially proven true:\n",
    "* Users listen to similar music at the beginning and end of the week.\n",
    "* There is no major difference between Springfield and Shelbyville. In both cities, pop is the most popular genre.\n",
    "\n",
    "However, the number of missing values makes this result questionable. In Springfield, there are so many that they affect our top 15. Were we not missing these values, things might look different."
   ]
  },
  {
   "cell_type": "markdown",
   "metadata": {},
   "source": [
    "<div class=\"alert alert-success\">\n",
    "<b>Reviewer's comment v1:</b>\n",
    "    \n",
    "Everything works perfectly. "
   ]
  },
  {
   "cell_type": "markdown",
   "metadata": {
    "id": "jLmXgdanVyhP"
   },
   "source": [
    "[Back to Contents](#back)"
   ]
  },
  {
   "cell_type": "markdown",
   "metadata": {
    "id": "JolODAqr_Zcu"
   },
   "source": [
    "### Hypothesis 3: genre preferences in Springfield and Shelbyville <a id='genre'></a>\n",
    "\n",
    "Hypothesis: Shelbyville loves rap music. Springfield's citizens are more into pop."
   ]
  },
  {
   "cell_type": "markdown",
   "metadata": {
    "id": "DlegSvaT_Zcu"
   },
   "source": [
    "Group the `spr_general` table by genre and find the number of songs played for each genre with the `count()` method. Then sort the result in descending order and store it to `spr_genres`."
   ]
  },
  {
   "cell_type": "code",
   "execution_count": 36,
   "metadata": {
    "id": "r19lIPke_Zcu"
   },
   "outputs": [],
   "source": [
    "# on one line: group the spr_general table by the 'genre' column, \n",
    "# count the 'genre' values with count() in the grouping, \n",
    "# sort the resulting Series in descending order, and store it to spr_genres\n",
    "\n",
    "spr_genres = spr_general.groupby('genre')['genre'].count().sort_values(ascending = False)"
   ]
  },
  {
   "cell_type": "markdown",
   "metadata": {
    "id": "6kMuomxTiIr8"
   },
   "source": [
    "Print the first 10 rows from `spr_genres`:"
   ]
  },
  {
   "cell_type": "code",
   "execution_count": 37,
   "metadata": {
    "id": "WhCSooF8_Zcv"
   },
   "outputs": [
    {
     "data": {
      "text/plain": [
       "genre\n",
       "pop            5892\n",
       "dance          4435\n",
       "rock           3965\n",
       "electronic     3786\n",
       "hiphop         2096\n",
       "classical      1616\n",
       "world          1432\n",
       "alternative    1379\n",
       "ruspop         1372\n",
       "rusrap         1161\n",
       "Name: genre, dtype: int64"
      ]
     },
     "execution_count": 37,
     "metadata": {},
     "output_type": "execute_result"
    }
   ],
   "source": [
    "# printing the first 10 rows of spr_genres\n",
    "spr_genres[:10]"
   ]
  },
  {
   "cell_type": "markdown",
   "metadata": {
    "id": "cnPG2vnN_Zcv"
   },
   "source": [
    "Now do the same with the data on Shelbyville.\n",
    "\n",
    "Group the `shel_general` table by genre and find the number of songs played for each genre. Then sort the result in descending order and store it to the `shel_genres` table:\n"
   ]
  },
  {
   "cell_type": "code",
   "execution_count": 38,
   "metadata": {
    "id": "gluLIpE7_Zcv"
   },
   "outputs": [],
   "source": [
    "# on one line: group the shel_general table by the 'genre' column, \n",
    "# count the 'genre' values in the grouping with count(), \n",
    "# sort the resulting Series in descending order and store it to shel_genres\n",
    "shel_genres = shel_general.groupby('genre')['genre'].count().sort_values(ascending = False)"
   ]
  },
  {
   "cell_type": "markdown",
   "metadata": {},
   "source": [
    "<div class=\"alert alert-success\">\n",
    "<b>Reviewer's comment v1:</b>\n",
    "    \n",
    "Great that you applied groupby method here. \n"
   ]
  },
  {
   "cell_type": "markdown",
   "metadata": {
    "id": "5Doha_ODgyQ8"
   },
   "source": [
    "Print the first 10 rows of `shel_genres`:"
   ]
  },
  {
   "cell_type": "code",
   "execution_count": 39,
   "metadata": {
    "id": "uaGJHjVU_Zcv"
   },
   "outputs": [
    {
     "data": {
      "text/plain": [
       "genre\n",
       "pop            2431\n",
       "dance          1932\n",
       "rock           1879\n",
       "electronic     1736\n",
       "hiphop          960\n",
       "alternative     649\n",
       "classical       646\n",
       "rusrap          564\n",
       "ruspop          538\n",
       "world           515\n",
       "Name: genre, dtype: int64"
      ]
     },
     "execution_count": 39,
     "metadata": {},
     "output_type": "execute_result"
    }
   ],
   "source": [
    "# printing the first 10 rows from shel_genres\n",
    "shel_genres[:10]"
   ]
  },
  {
   "cell_type": "markdown",
   "metadata": {
    "id": "RY51YJYu_Zcv"
   },
   "source": [
    "**Conclusion**"
   ]
  },
  {
   "cell_type": "markdown",
   "metadata": {
    "id": "nVhnJEm__Zcv"
   },
   "source": [
    "The hypothesis has been partially proven true:\n",
    "* Pop music is the most popular genre in Springfield, as expected.\n",
    "* However, pop music turned out to be equally popular in Springfield and Shelbyville, and rap wasn't in the top 5 for either city.\n"
   ]
  },
  {
   "cell_type": "markdown",
   "metadata": {},
   "source": [
    "<div class=\"alert alert-success\">\n",
    "<b>Reviewer's comment v1:</b>\n",
    "    \n",
    "👏"
   ]
  },
  {
   "cell_type": "markdown",
   "metadata": {
    "id": "Byr0RfpPVz14"
   },
   "source": [
    "[Back to Contents](#back)"
   ]
  },
  {
   "cell_type": "markdown",
   "metadata": {
    "id": "ykKQ0N65_Zcv"
   },
   "source": [
    "# Findings <a id='end'></a>"
   ]
  },
  {
   "cell_type": "markdown",
   "metadata": {
    "id": "tjUwbHb3_Zcv"
   },
   "source": [
    "We have tested the following three hypotheses:\n",
    "\n",
    "1. User activity differs depending on the day of the week and from city to city. \n",
    "2. On Monday mornings, Springfield and Shelbyville residents listen to different genres. This is also true for Friday evenings. \n",
    "3. Springfield and Shelbyville listeners have different preferences. In both Springfield and Shelbyville, they prefer pop.\n",
    "\n",
    "After analyzing the data, we concluded:\n",
    "\n",
    "1. User activity in Springfield and Shelbyville depends on the day of the week, though the cities vary in different ways. \n",
    "\n",
    "The first hypothesis is fully accepted.\n",
    "\n",
    "2. Musical preferences do not vary significantly over the course of the week in both Springfield and Shelbyville. We can see small differences in order on Mondays, but:\n",
    "* In Springfield and Shelbyville, people listen to pop music most.\n",
    "\n",
    "So we can't accept this hypothesis. We must also keep in mind that the result could have been different if not for the missing values.\n",
    "\n",
    "3. It turns out that the musical preferences of users from Springfield and Shelbyville are quite similar.\n",
    "\n",
    "The third hypothesis is rejected. If there is any difference in preferences, it cannot be seen from this data.\n",
    "\n",
    "### Note \n",
    "In real projects, research involves statistical hypothesis testing, which is more precise and more quantitative. Also note that you cannot always draw conclusions about an entire city based on the data from just one source.\n",
    "\n",
    "You will study hypothesis testing in the sprint on statistical data analysis."
   ]
  },
  {
   "cell_type": "markdown",
   "metadata": {},
   "source": [
    "<div class=\"alert alert-success\">\n",
    "<b>Reviewer's comment v1:</b>\n",
    " \n",
    "Overall you did a great research. I only left some feedback in the notebook.\n",
    "    \n",
    "A small tip regarding overall conclusion in the project: \n",
    "    It represents the overall work progress that you achieved. On a real project, this is probably the only thing the business will read. Therefore, it is crucial to indicate in a structured way all conclusions that you made on each step in the project.\n",
    "\n",
    "For example:\n",
    "\n",
    "- Replaced missing values in the following data with the following method.\n",
    "- Replaced data types in the following columns.\n",
    "- etc.\n",
    "- We observe that ... factors impact ... \n",
    "- My analysis show ...\n",
    "- I can recommend the following next steps / activities ...\n",
    "\n",
    "It is also important to provide explanations and interpretations that will be interesting for business based on your analysis.\n",
    "\n",
    "</div>"
   ]
  },
  {
   "cell_type": "markdown",
   "metadata": {
    "id": "Ju4AHDSgV1FE"
   },
   "source": [
    "[Back to Contents](#back)"
   ]
  }
 ],
 "metadata": {
  "ExecuteTimeLog": [
   {
    "duration": 4,
    "start_time": "2022-08-03T10:41:34.763Z"
   },
   {
    "duration": 50,
    "start_time": "2022-08-03T10:41:34.768Z"
   },
   {
    "duration": 0,
    "start_time": "2022-08-03T10:41:34.820Z"
   },
   {
    "duration": 0,
    "start_time": "2022-08-03T10:41:34.821Z"
   },
   {
    "duration": 0,
    "start_time": "2022-08-03T10:41:34.821Z"
   },
   {
    "duration": 0,
    "start_time": "2022-08-03T10:41:34.823Z"
   },
   {
    "duration": 0,
    "start_time": "2022-08-03T10:41:34.823Z"
   },
   {
    "duration": 0,
    "start_time": "2022-08-03T10:41:34.824Z"
   },
   {
    "duration": 0,
    "start_time": "2022-08-03T10:41:34.825Z"
   },
   {
    "duration": 0,
    "start_time": "2022-08-03T10:41:34.826Z"
   },
   {
    "duration": 0,
    "start_time": "2022-08-03T10:41:34.827Z"
   },
   {
    "duration": 0,
    "start_time": "2022-08-03T10:41:34.829Z"
   },
   {
    "duration": 0,
    "start_time": "2022-08-03T10:41:34.830Z"
   },
   {
    "duration": 0,
    "start_time": "2022-08-03T10:41:34.832Z"
   },
   {
    "duration": 0,
    "start_time": "2022-08-03T10:41:34.833Z"
   },
   {
    "duration": 0,
    "start_time": "2022-08-03T10:41:34.834Z"
   },
   {
    "duration": 0,
    "start_time": "2022-08-03T10:41:34.835Z"
   },
   {
    "duration": 0,
    "start_time": "2022-08-03T10:41:34.835Z"
   },
   {
    "duration": 0,
    "start_time": "2022-08-03T10:41:34.836Z"
   },
   {
    "duration": 0,
    "start_time": "2022-08-03T10:41:34.837Z"
   },
   {
    "duration": 2,
    "start_time": "2022-08-03T10:41:34.841Z"
   },
   {
    "duration": 5,
    "start_time": "2022-08-03T10:41:34.844Z"
   },
   {
    "duration": 4,
    "start_time": "2022-08-03T10:41:34.850Z"
   },
   {
    "duration": 56,
    "start_time": "2022-08-03T10:41:34.855Z"
   },
   {
    "duration": 2,
    "start_time": "2022-08-03T10:41:34.913Z"
   },
   {
    "duration": 6,
    "start_time": "2022-08-03T10:41:34.916Z"
   },
   {
    "duration": 5,
    "start_time": "2022-08-03T10:41:34.923Z"
   },
   {
    "duration": 3,
    "start_time": "2022-08-03T10:41:34.930Z"
   },
   {
    "duration": 4,
    "start_time": "2022-08-03T10:41:34.934Z"
   },
   {
    "duration": 125,
    "start_time": "2022-08-03T10:41:34.939Z"
   },
   {
    "duration": 0,
    "start_time": "2022-08-03T10:41:35.066Z"
   },
   {
    "duration": 0,
    "start_time": "2022-08-03T10:41:35.067Z"
   },
   {
    "duration": 0,
    "start_time": "2022-08-03T10:41:35.068Z"
   },
   {
    "duration": 0,
    "start_time": "2022-08-03T10:41:35.069Z"
   },
   {
    "duration": 0,
    "start_time": "2022-08-03T10:41:35.070Z"
   },
   {
    "duration": 0,
    "start_time": "2022-08-03T10:41:35.071Z"
   },
   {
    "duration": 0,
    "start_time": "2022-08-03T10:41:35.072Z"
   },
   {
    "duration": 0,
    "start_time": "2022-08-03T10:41:35.073Z"
   },
   {
    "duration": 438,
    "start_time": "2022-08-13T14:12:15.425Z"
   },
   {
    "duration": 5,
    "start_time": "2022-08-13T14:12:27.623Z"
   },
   {
    "duration": 94,
    "start_time": "2022-08-13T14:13:36.150Z"
   },
   {
    "duration": 232,
    "start_time": "2022-08-13T14:16:27.963Z"
   },
   {
    "duration": 168,
    "start_time": "2022-08-13T14:16:43.701Z"
   },
   {
    "duration": 197,
    "start_time": "2022-08-13T14:16:54.682Z"
   },
   {
    "duration": 202,
    "start_time": "2022-08-13T14:17:17.102Z"
   },
   {
    "duration": 169,
    "start_time": "2022-08-13T14:17:40.033Z"
   },
   {
    "duration": 165,
    "start_time": "2022-08-13T14:18:16.402Z"
   },
   {
    "duration": 131,
    "start_time": "2022-08-13T14:18:36.228Z"
   },
   {
    "duration": 3,
    "start_time": "2022-08-13T14:20:32.040Z"
   },
   {
    "duration": 7,
    "start_time": "2022-08-13T14:20:37.730Z"
   },
   {
    "duration": 123,
    "start_time": "2022-08-13T14:23:22.941Z"
   },
   {
    "duration": 27,
    "start_time": "2022-08-13T14:24:44.461Z"
   },
   {
    "duration": 172,
    "start_time": "2022-08-13T14:27:03.601Z"
   },
   {
    "duration": 6,
    "start_time": "2022-08-13T14:27:10.761Z"
   },
   {
    "duration": 7,
    "start_time": "2022-08-13T14:28:35.391Z"
   },
   {
    "duration": 3,
    "start_time": "2022-08-13T16:06:34.491Z"
   },
   {
    "duration": 89,
    "start_time": "2022-08-13T16:15:04.850Z"
   },
   {
    "duration": 106,
    "start_time": "2022-08-13T16:15:23.271Z"
   },
   {
    "duration": 10,
    "start_time": "2022-08-13T16:15:34.830Z"
   },
   {
    "duration": 9,
    "start_time": "2022-08-13T16:16:40.470Z"
   },
   {
    "duration": 9,
    "start_time": "2022-08-13T16:16:44.791Z"
   },
   {
    "duration": 2,
    "start_time": "2022-08-13T16:17:10.469Z"
   },
   {
    "duration": 62,
    "start_time": "2022-08-13T16:19:03.958Z"
   },
   {
    "duration": 24,
    "start_time": "2022-08-13T16:19:12.909Z"
   },
   {
    "duration": 24,
    "start_time": "2022-08-13T16:20:49.250Z"
   },
   {
    "duration": 29,
    "start_time": "2022-08-13T16:20:57.275Z"
   },
   {
    "duration": 24,
    "start_time": "2022-08-13T16:21:20.107Z"
   },
   {
    "duration": 36,
    "start_time": "2022-08-13T16:22:29.830Z"
   },
   {
    "duration": 25,
    "start_time": "2022-08-13T17:19:09.672Z"
   },
   {
    "duration": 25,
    "start_time": "2022-08-13T17:19:32.352Z"
   },
   {
    "duration": 26,
    "start_time": "2022-08-13T17:21:47.702Z"
   },
   {
    "duration": 36,
    "start_time": "2022-08-13T17:22:48.113Z"
   },
   {
    "duration": 22,
    "start_time": "2022-08-13T17:22:53.370Z"
   },
   {
    "duration": 35,
    "start_time": "2022-08-13T17:22:59.670Z"
   },
   {
    "duration": 24,
    "start_time": "2022-08-13T17:31:16.449Z"
   },
   {
    "duration": 9,
    "start_time": "2022-08-13T17:31:56.568Z"
   },
   {
    "duration": 3,
    "start_time": "2022-08-13T17:32:00.268Z"
   },
   {
    "duration": 12,
    "start_time": "2022-08-13T17:32:12.309Z"
   },
   {
    "duration": 4,
    "start_time": "2022-08-13T17:32:16.321Z"
   },
   {
    "duration": 14,
    "start_time": "2022-08-13T17:32:27.609Z"
   },
   {
    "duration": 121,
    "start_time": "2022-08-13T17:33:08.569Z"
   },
   {
    "duration": 26,
    "start_time": "2022-08-13T17:33:55.705Z"
   },
   {
    "duration": 8,
    "start_time": "2022-08-13T17:41:06.061Z"
   },
   {
    "duration": 4,
    "start_time": "2022-08-13T17:54:08.021Z"
   },
   {
    "duration": 21,
    "start_time": "2022-08-13T17:57:56.182Z"
   },
   {
    "duration": 20,
    "start_time": "2022-08-13T17:58:47.002Z"
   },
   {
    "duration": 39,
    "start_time": "2022-08-13T17:59:06.762Z"
   },
   {
    "duration": 24,
    "start_time": "2022-08-13T17:59:42.832Z"
   },
   {
    "duration": 28,
    "start_time": "2022-08-13T17:59:45.822Z"
   },
   {
    "duration": 7,
    "start_time": "2022-08-13T18:01:29.592Z"
   },
   {
    "duration": 9,
    "start_time": "2022-08-13T18:01:50.512Z"
   },
   {
    "duration": 54,
    "start_time": "2022-08-13T18:01:58.402Z"
   },
   {
    "duration": 7,
    "start_time": "2022-08-13T18:02:42.670Z"
   },
   {
    "duration": 65,
    "start_time": "2022-08-13T18:02:51.573Z"
   },
   {
    "duration": 51,
    "start_time": "2022-08-13T19:10:55.115Z"
   },
   {
    "duration": 63,
    "start_time": "2022-08-13T19:11:05.524Z"
   },
   {
    "duration": 54,
    "start_time": "2022-08-13T19:11:10.052Z"
   },
   {
    "duration": 78,
    "start_time": "2022-08-13T19:11:35.952Z"
   },
   {
    "duration": 4,
    "start_time": "2022-08-13T19:14:52.094Z"
   },
   {
    "duration": 60,
    "start_time": "2022-08-13T19:14:59.863Z"
   },
   {
    "duration": 65,
    "start_time": "2022-08-13T19:18:19.463Z"
   },
   {
    "duration": 73,
    "start_time": "2022-08-13T19:19:45.558Z"
   },
   {
    "duration": 55,
    "start_time": "2022-08-13T19:19:50.296Z"
   },
   {
    "duration": 97,
    "start_time": "2022-08-13T19:25:44.573Z"
   },
   {
    "duration": 81,
    "start_time": "2022-08-13T19:25:52.010Z"
   },
   {
    "duration": 7,
    "start_time": "2022-08-13T19:26:02.592Z"
   },
   {
    "duration": 10,
    "start_time": "2022-08-13T19:34:42.652Z"
   },
   {
    "duration": 7,
    "start_time": "2022-08-13T19:35:08.448Z"
   },
   {
    "duration": 10,
    "start_time": "2022-08-13T19:35:55.193Z"
   },
   {
    "duration": 195,
    "start_time": "2022-08-13T19:36:29.612Z"
   },
   {
    "duration": 10,
    "start_time": "2022-08-13T19:36:36.382Z"
   },
   {
    "duration": 9,
    "start_time": "2022-08-13T19:37:40.569Z"
   },
   {
    "duration": 14,
    "start_time": "2022-08-13T19:37:58.737Z"
   },
   {
    "duration": 6,
    "start_time": "2022-08-13T19:38:07.982Z"
   },
   {
    "duration": 10,
    "start_time": "2022-08-13T19:38:44.861Z"
   },
   {
    "duration": 6,
    "start_time": "2022-08-13T19:45:28.789Z"
   },
   {
    "duration": 9,
    "start_time": "2022-08-13T19:45:49.762Z"
   },
   {
    "duration": 6,
    "start_time": "2022-08-13T19:45:56.941Z"
   },
   {
    "duration": 10,
    "start_time": "2022-08-13T19:49:24.168Z"
   },
   {
    "duration": 6,
    "start_time": "2022-08-13T19:54:00.670Z"
   },
   {
    "duration": 9,
    "start_time": "2022-08-13T19:54:51.780Z"
   },
   {
    "duration": 10,
    "start_time": "2022-08-13T19:55:59.317Z"
   },
   {
    "duration": 9,
    "start_time": "2022-08-13T19:56:26.218Z"
   },
   {
    "duration": 10,
    "start_time": "2022-08-13T19:56:49.469Z"
   },
   {
    "duration": 9,
    "start_time": "2022-08-13T19:56:57.060Z"
   },
   {
    "duration": 3,
    "start_time": "2022-08-13T19:59:17.029Z"
   },
   {
    "duration": 37,
    "start_time": "2022-08-13T20:02:57.359Z"
   },
   {
    "duration": 48,
    "start_time": "2022-08-13T20:04:05.930Z"
   },
   {
    "duration": 11,
    "start_time": "2022-08-13T20:05:10.852Z"
   },
   {
    "duration": 39,
    "start_time": "2022-08-13T20:05:40.930Z"
   },
   {
    "duration": 93,
    "start_time": "2022-08-14T07:26:55.088Z"
   },
   {
    "duration": 67,
    "start_time": "2022-08-14T07:27:03.859Z"
   },
   {
    "duration": 47,
    "start_time": "2022-08-14T07:27:10.341Z"
   },
   {
    "duration": 587,
    "start_time": "2022-08-14T07:27:50.513Z"
   },
   {
    "duration": 112,
    "start_time": "2022-08-14T07:27:52.612Z"
   },
   {
    "duration": 6,
    "start_time": "2022-08-14T07:27:53.449Z"
   },
   {
    "duration": 26,
    "start_time": "2022-08-14T07:27:53.882Z"
   },
   {
    "duration": 3,
    "start_time": "2022-08-14T07:27:57.501Z"
   },
   {
    "duration": 12,
    "start_time": "2022-08-14T07:27:58.802Z"
   },
   {
    "duration": 3,
    "start_time": "2022-08-14T07:27:59.853Z"
   },
   {
    "duration": 22,
    "start_time": "2022-08-14T07:28:01.738Z"
   },
   {
    "duration": 15,
    "start_time": "2022-08-14T07:28:02.421Z"
   },
   {
    "duration": 22,
    "start_time": "2022-08-14T07:28:02.842Z"
   },
   {
    "duration": 51,
    "start_time": "2022-08-14T07:28:04.083Z"
   },
   {
    "duration": 56,
    "start_time": "2022-08-14T07:28:05.262Z"
   },
   {
    "duration": 52,
    "start_time": "2022-08-14T07:28:06.482Z"
   },
   {
    "duration": 35,
    "start_time": "2022-08-14T07:28:11.282Z"
   },
   {
    "duration": 15,
    "start_time": "2022-08-14T07:28:13.683Z"
   },
   {
    "duration": 12,
    "start_time": "2022-08-14T07:28:19.122Z"
   },
   {
    "duration": 41,
    "start_time": "2022-08-14T07:28:50.732Z"
   },
   {
    "duration": 35,
    "start_time": "2022-08-14T07:29:03.921Z"
   },
   {
    "duration": 12,
    "start_time": "2022-08-14T07:29:15.153Z"
   },
   {
    "duration": 9,
    "start_time": "2022-08-14T07:35:30.999Z"
   },
   {
    "duration": 35,
    "start_time": "2022-08-14T07:35:48.119Z"
   },
   {
    "duration": 10,
    "start_time": "2022-08-14T07:36:29.629Z"
   },
   {
    "duration": 34,
    "start_time": "2022-08-14T07:36:33.769Z"
   },
   {
    "duration": 7,
    "start_time": "2022-08-14T07:56:21.129Z"
   },
   {
    "duration": 7,
    "start_time": "2022-08-14T08:09:03.050Z"
   },
   {
    "duration": 3,
    "start_time": "2022-08-14T08:09:05.480Z"
   },
   {
    "duration": 144,
    "start_time": "2022-08-14T08:09:21.699Z"
   },
   {
    "duration": 109,
    "start_time": "2022-08-14T08:09:22.677Z"
   },
   {
    "duration": 7,
    "start_time": "2022-08-14T08:09:24.509Z"
   },
   {
    "duration": 26,
    "start_time": "2022-08-14T08:09:26.716Z"
   },
   {
    "duration": 3,
    "start_time": "2022-08-14T08:09:32.609Z"
   },
   {
    "duration": 8,
    "start_time": "2022-08-14T08:09:35.179Z"
   },
   {
    "duration": 3,
    "start_time": "2022-08-14T08:09:36.259Z"
   },
   {
    "duration": 22,
    "start_time": "2022-08-14T08:09:44.377Z"
   },
   {
    "duration": 16,
    "start_time": "2022-08-14T08:09:45.719Z"
   },
   {
    "duration": 22,
    "start_time": "2022-08-14T08:09:46.519Z"
   },
   {
    "duration": 54,
    "start_time": "2022-08-14T08:09:47.689Z"
   },
   {
    "duration": 65,
    "start_time": "2022-08-14T08:09:49.039Z"
   },
   {
    "duration": 48,
    "start_time": "2022-08-14T08:09:49.849Z"
   },
   {
    "duration": 36,
    "start_time": "2022-08-14T08:09:51.050Z"
   },
   {
    "duration": 3,
    "start_time": "2022-08-14T08:09:53.069Z"
   },
   {
    "duration": 10,
    "start_time": "2022-08-14T08:09:54.377Z"
   },
   {
    "duration": 34,
    "start_time": "2022-08-14T08:09:55.919Z"
   },
   {
    "duration": 26,
    "start_time": "2022-08-14T08:14:38.359Z"
   },
   {
    "duration": 3,
    "start_time": "2022-08-14T08:15:30.839Z"
   },
   {
    "duration": 3722,
    "start_time": "2022-08-14T08:17:00.939Z"
   },
   {
    "duration": 28,
    "start_time": "2022-08-14T08:17:47.489Z"
   },
   {
    "duration": 28,
    "start_time": "2022-08-14T08:20:33.369Z"
   },
   {
    "duration": 2,
    "start_time": "2022-08-14T09:07:15.402Z"
   },
   {
    "duration": 4,
    "start_time": "2022-08-14T09:08:50.132Z"
   },
   {
    "duration": 3,
    "start_time": "2022-08-14T09:10:03.492Z"
   },
   {
    "duration": 95,
    "start_time": "2022-08-14T09:10:19.092Z"
   },
   {
    "duration": 378,
    "start_time": "2022-08-14T09:11:00.452Z"
   },
   {
    "duration": 9,
    "start_time": "2022-08-14T09:12:05.732Z"
   },
   {
    "duration": 7,
    "start_time": "2022-08-14T09:12:21.043Z"
   },
   {
    "duration": 135,
    "start_time": "2022-08-14T09:12:41.392Z"
   },
   {
    "duration": 111,
    "start_time": "2022-08-14T09:12:41.752Z"
   },
   {
    "duration": 6,
    "start_time": "2022-08-14T09:12:42.092Z"
   },
   {
    "duration": 30,
    "start_time": "2022-08-14T09:12:42.472Z"
   },
   {
    "duration": 3,
    "start_time": "2022-08-14T09:12:43.730Z"
   },
   {
    "duration": 17,
    "start_time": "2022-08-14T09:12:44.383Z"
   },
   {
    "duration": 4,
    "start_time": "2022-08-14T09:12:45.020Z"
   },
   {
    "duration": 25,
    "start_time": "2022-08-14T09:12:46.066Z"
   },
   {
    "duration": 15,
    "start_time": "2022-08-14T09:12:48.222Z"
   },
   {
    "duration": 21,
    "start_time": "2022-08-14T09:12:50.212Z"
   },
   {
    "duration": 50,
    "start_time": "2022-08-14T09:12:52.712Z"
   },
   {
    "duration": 55,
    "start_time": "2022-08-14T09:12:53.961Z"
   },
   {
    "duration": 48,
    "start_time": "2022-08-14T09:12:54.852Z"
   },
   {
    "duration": 34,
    "start_time": "2022-08-14T09:12:56.562Z"
   },
   {
    "duration": 4,
    "start_time": "2022-08-14T09:12:57.883Z"
   },
   {
    "duration": 12,
    "start_time": "2022-08-14T09:12:59.002Z"
   },
   {
    "duration": 37,
    "start_time": "2022-08-14T09:13:00.142Z"
   },
   {
    "duration": 28,
    "start_time": "2022-08-14T09:13:07.863Z"
   },
   {
    "duration": 27,
    "start_time": "2022-08-14T09:13:09.082Z"
   },
   {
    "duration": 8,
    "start_time": "2022-08-14T09:13:14.393Z"
   },
   {
    "duration": 10,
    "start_time": "2022-08-14T09:13:44.552Z"
   },
   {
    "duration": 8,
    "start_time": "2022-08-14T09:17:38.172Z"
   },
   {
    "duration": 10,
    "start_time": "2022-08-14T09:18:20.450Z"
   },
   {
    "duration": 7,
    "start_time": "2022-08-14T09:18:30.683Z"
   },
   {
    "duration": 9,
    "start_time": "2022-08-14T09:19:03.482Z"
   },
   {
    "duration": 7,
    "start_time": "2022-08-14T09:19:33.852Z"
   },
   {
    "duration": 8,
    "start_time": "2022-08-14T09:19:59.772Z"
   },
   {
    "duration": 14,
    "start_time": "2022-08-14T09:20:34.213Z"
   },
   {
    "duration": 15,
    "start_time": "2022-08-14T09:21:20.890Z"
   },
   {
    "duration": 16,
    "start_time": "2022-08-14T09:21:29.712Z"
   },
   {
    "duration": 3,
    "start_time": "2022-08-14T09:21:52.152Z"
   },
   {
    "duration": 334,
    "start_time": "2022-08-14T09:22:05.402Z"
   },
   {
    "duration": 14,
    "start_time": "2022-08-14T09:23:11.143Z"
   },
   {
    "duration": 20,
    "start_time": "2022-08-14T09:23:28.290Z"
   },
   {
    "duration": 40,
    "start_time": "2022-08-14T09:26:24.137Z"
   },
   {
    "duration": 24,
    "start_time": "2022-08-14T09:26:29.356Z"
   },
   {
    "duration": 26,
    "start_time": "2022-08-14T09:26:33.518Z"
   },
   {
    "duration": 27,
    "start_time": "2022-08-14T09:26:43.406Z"
   },
   {
    "duration": 19,
    "start_time": "2022-08-14T09:27:00.581Z"
   },
   {
    "duration": 347,
    "start_time": "2022-08-14T09:30:23.423Z"
   },
   {
    "duration": 17,
    "start_time": "2022-08-14T09:31:23.823Z"
   },
   {
    "duration": 18,
    "start_time": "2022-08-14T09:41:24.654Z"
   },
   {
    "duration": 11,
    "start_time": "2022-08-14T09:41:35.133Z"
   },
   {
    "duration": 14,
    "start_time": "2022-08-14T09:41:55.614Z"
   },
   {
    "duration": 4,
    "start_time": "2022-08-14T09:42:42.893Z"
   },
   {
    "duration": 3,
    "start_time": "2022-08-14T09:45:07.574Z"
   },
   {
    "duration": 16,
    "start_time": "2022-08-14T09:45:08.384Z"
   },
   {
    "duration": 13,
    "start_time": "2022-08-14T09:45:09.163Z"
   },
   {
    "duration": 15,
    "start_time": "2022-08-14T09:45:09.513Z"
   },
   {
    "duration": 13,
    "start_time": "2022-08-14T09:45:09.993Z"
   },
   {
    "duration": 14,
    "start_time": "2022-08-14T09:45:10.603Z"
   },
   {
    "duration": 15,
    "start_time": "2022-08-14T09:45:11.073Z"
   },
   {
    "duration": 4,
    "start_time": "2022-08-14T09:45:55.952Z"
   },
   {
    "duration": 15,
    "start_time": "2022-08-14T09:45:57.323Z"
   },
   {
    "duration": 13,
    "start_time": "2022-08-14T09:45:58.043Z"
   },
   {
    "duration": 14,
    "start_time": "2022-08-14T09:45:58.703Z"
   },
   {
    "duration": 13,
    "start_time": "2022-08-14T09:45:59.342Z"
   },
   {
    "duration": 15,
    "start_time": "2022-08-14T09:45:59.943Z"
   },
   {
    "duration": 13,
    "start_time": "2022-08-14T09:46:00.625Z"
   },
   {
    "duration": 3,
    "start_time": "2022-08-14T09:46:11.403Z"
   },
   {
    "duration": 15,
    "start_time": "2022-08-14T09:46:12.523Z"
   },
   {
    "duration": 14,
    "start_time": "2022-08-14T09:46:14.733Z"
   },
   {
    "duration": 14,
    "start_time": "2022-08-14T09:46:20.553Z"
   },
   {
    "duration": 14,
    "start_time": "2022-08-14T09:46:20.903Z"
   },
   {
    "duration": 16,
    "start_time": "2022-08-14T09:46:21.567Z"
   },
   {
    "duration": 13,
    "start_time": "2022-08-14T09:46:22.133Z"
   },
   {
    "duration": 3,
    "start_time": "2022-08-14T09:46:45.513Z"
   },
   {
    "duration": 25,
    "start_time": "2022-08-14T09:46:46.623Z"
   },
   {
    "duration": 3,
    "start_time": "2022-08-14T09:47:06.603Z"
   },
   {
    "duration": 21,
    "start_time": "2022-08-14T09:47:07.823Z"
   },
   {
    "duration": 3,
    "start_time": "2022-08-14T09:47:29.912Z"
   },
   {
    "duration": 15,
    "start_time": "2022-08-14T09:47:30.913Z"
   },
   {
    "duration": 13,
    "start_time": "2022-08-14T09:47:31.573Z"
   },
   {
    "duration": 13,
    "start_time": "2022-08-14T09:47:31.923Z"
   },
   {
    "duration": 13,
    "start_time": "2022-08-14T09:47:32.133Z"
   },
   {
    "duration": 15,
    "start_time": "2022-08-14T09:47:32.323Z"
   },
   {
    "duration": 13,
    "start_time": "2022-08-14T09:47:32.743Z"
   },
   {
    "duration": 3,
    "start_time": "2022-08-14T09:55:27.333Z"
   },
   {
    "duration": 15,
    "start_time": "2022-08-14T09:55:28.123Z"
   },
   {
    "duration": 13,
    "start_time": "2022-08-14T09:55:28.503Z"
   },
   {
    "duration": 16,
    "start_time": "2022-08-14T09:55:28.903Z"
   },
   {
    "duration": 12,
    "start_time": "2022-08-14T09:55:29.333Z"
   },
   {
    "duration": 17,
    "start_time": "2022-08-14T09:55:29.693Z"
   },
   {
    "duration": 13,
    "start_time": "2022-08-14T09:55:30.063Z"
   },
   {
    "duration": 96,
    "start_time": "2022-08-14T09:55:32.503Z"
   },
   {
    "duration": 15,
    "start_time": "2022-08-14T09:55:58.241Z"
   },
   {
    "duration": 16,
    "start_time": "2022-08-14T09:55:58.863Z"
   },
   {
    "duration": 61,
    "start_time": "2022-08-14T09:56:00.373Z"
   },
   {
    "duration": 1465,
    "start_time": "2022-08-14T09:56:57.654Z"
   },
   {
    "duration": 1318,
    "start_time": "2022-08-14T09:57:34.980Z"
   },
   {
    "duration": 0,
    "start_time": "2022-08-14T09:57:36.299Z"
   },
   {
    "duration": 0,
    "start_time": "2022-08-14T09:57:36.300Z"
   },
   {
    "duration": 0,
    "start_time": "2022-08-14T09:57:36.302Z"
   },
   {
    "duration": 0,
    "start_time": "2022-08-14T09:57:36.303Z"
   },
   {
    "duration": 0,
    "start_time": "2022-08-14T09:57:36.304Z"
   },
   {
    "duration": 1372,
    "start_time": "2022-08-14T09:57:37.849Z"
   },
   {
    "duration": 1563,
    "start_time": "2022-08-14T10:02:20.199Z"
   },
   {
    "duration": 1496,
    "start_time": "2022-08-14T10:03:02.310Z"
   },
   {
    "duration": 138,
    "start_time": "2022-08-14T10:03:20.080Z"
   },
   {
    "duration": 107,
    "start_time": "2022-08-14T10:03:20.365Z"
   },
   {
    "duration": 5,
    "start_time": "2022-08-14T10:03:20.700Z"
   },
   {
    "duration": 26,
    "start_time": "2022-08-14T10:03:21.050Z"
   },
   {
    "duration": 3,
    "start_time": "2022-08-14T10:03:22.210Z"
   },
   {
    "duration": 8,
    "start_time": "2022-08-14T10:03:22.519Z"
   },
   {
    "duration": 3,
    "start_time": "2022-08-14T10:03:22.920Z"
   },
   {
    "duration": 22,
    "start_time": "2022-08-14T10:03:23.490Z"
   },
   {
    "duration": 17,
    "start_time": "2022-08-14T10:03:24.229Z"
   },
   {
    "duration": 23,
    "start_time": "2022-08-14T10:03:24.449Z"
   },
   {
    "duration": 52,
    "start_time": "2022-08-14T10:03:25.010Z"
   },
   {
    "duration": 52,
    "start_time": "2022-08-14T10:03:25.542Z"
   },
   {
    "duration": 47,
    "start_time": "2022-08-14T10:03:25.780Z"
   },
   {
    "duration": 35,
    "start_time": "2022-08-14T10:03:26.439Z"
   },
   {
    "duration": 3,
    "start_time": "2022-08-14T10:03:27.459Z"
   },
   {
    "duration": 8,
    "start_time": "2022-08-14T10:03:28.780Z"
   },
   {
    "duration": 35,
    "start_time": "2022-08-14T10:03:30.030Z"
   },
   {
    "duration": 29,
    "start_time": "2022-08-14T10:03:34.990Z"
   },
   {
    "duration": 28,
    "start_time": "2022-08-14T10:03:36.040Z"
   },
   {
    "duration": 3,
    "start_time": "2022-08-14T10:03:37.158Z"
   },
   {
    "duration": 15,
    "start_time": "2022-08-14T10:03:38.521Z"
   },
   {
    "duration": 13,
    "start_time": "2022-08-14T10:03:39.310Z"
   },
   {
    "duration": 13,
    "start_time": "2022-08-14T10:03:39.747Z"
   },
   {
    "duration": 13,
    "start_time": "2022-08-14T10:03:40.649Z"
   },
   {
    "duration": 15,
    "start_time": "2022-08-14T10:03:40.664Z"
   },
   {
    "duration": 14,
    "start_time": "2022-08-14T10:03:41.500Z"
   },
   {
    "duration": 6,
    "start_time": "2022-08-14T10:07:16.780Z"
   },
   {
    "duration": 18,
    "start_time": "2022-08-14T10:44:00.834Z"
   },
   {
    "duration": 95,
    "start_time": "2022-08-14T10:51:13.035Z"
   },
   {
    "duration": 125,
    "start_time": "2022-08-14T11:07:07.298Z"
   },
   {
    "duration": 133,
    "start_time": "2022-08-14T11:07:16.397Z"
   },
   {
    "duration": 214,
    "start_time": "2022-08-14T11:07:43.788Z"
   },
   {
    "duration": 4,
    "start_time": "2022-08-14T11:08:05.188Z"
   },
   {
    "duration": 3,
    "start_time": "2022-08-14T11:08:11.778Z"
   },
   {
    "duration": 4,
    "start_time": "2022-08-14T11:08:24.125Z"
   },
   {
    "duration": 189,
    "start_time": "2022-08-14T11:08:31.858Z"
   },
   {
    "duration": 83,
    "start_time": "2022-08-14T11:08:41.050Z"
   },
   {
    "duration": 16,
    "start_time": "2022-08-14T11:09:19.007Z"
   },
   {
    "duration": 11,
    "start_time": "2022-08-14T11:09:22.517Z"
   },
   {
    "duration": 9,
    "start_time": "2022-08-14T11:09:23.257Z"
   },
   {
    "duration": 6,
    "start_time": "2022-08-14T11:09:30.673Z"
   },
   {
    "duration": 12,
    "start_time": "2022-08-14T11:09:33.749Z"
   },
   {
    "duration": 10,
    "start_time": "2022-08-14T11:09:34.567Z"
   },
   {
    "duration": 84,
    "start_time": "2022-08-14T11:09:36.167Z"
   },
   {
    "duration": 30,
    "start_time": "2022-08-14T11:09:58.858Z"
   },
   {
    "duration": 129,
    "start_time": "2022-08-14T11:16:52.469Z"
   },
   {
    "duration": 112,
    "start_time": "2022-08-14T11:18:49.605Z"
   },
   {
    "duration": 82,
    "start_time": "2022-08-14T11:19:14.418Z"
   },
   {
    "duration": 4,
    "start_time": "2022-08-14T11:20:32.437Z"
   },
   {
    "duration": 5,
    "start_time": "2022-08-14T11:20:35.086Z"
   },
   {
    "duration": 15,
    "start_time": "2022-08-14T11:25:26.287Z"
   },
   {
    "duration": 19,
    "start_time": "2022-08-14T11:26:08.235Z"
   },
   {
    "duration": 17,
    "start_time": "2022-08-14T11:26:36.727Z"
   },
   {
    "duration": 15,
    "start_time": "2022-08-14T11:27:13.181Z"
   },
   {
    "duration": 3,
    "start_time": "2022-08-14T11:27:40.328Z"
   },
   {
    "duration": 17,
    "start_time": "2022-08-14T11:27:42.947Z"
   },
   {
    "duration": 11,
    "start_time": "2022-08-14T11:29:18.057Z"
   },
   {
    "duration": 16,
    "start_time": "2022-08-14T11:30:31.976Z"
   },
   {
    "duration": 15,
    "start_time": "2022-08-14T11:30:43.406Z"
   },
   {
    "duration": 18,
    "start_time": "2022-08-14T11:30:50.934Z"
   },
   {
    "duration": 16,
    "start_time": "2022-08-14T11:31:02.236Z"
   },
   {
    "duration": 15,
    "start_time": "2022-08-14T11:31:09.977Z"
   },
   {
    "duration": 16,
    "start_time": "2022-08-14T11:31:15.736Z"
   },
   {
    "duration": 16,
    "start_time": "2022-08-14T11:31:22.046Z"
   },
   {
    "duration": 16,
    "start_time": "2022-08-14T11:31:26.583Z"
   },
   {
    "duration": 15,
    "start_time": "2022-08-14T11:31:32.657Z"
   },
   {
    "duration": 14,
    "start_time": "2022-08-14T11:31:39.359Z"
   },
   {
    "duration": 17,
    "start_time": "2022-08-14T11:31:45.786Z"
   },
   {
    "duration": 17,
    "start_time": "2022-08-14T11:32:07.466Z"
   },
   {
    "duration": 4,
    "start_time": "2022-08-14T11:32:13.865Z"
   },
   {
    "duration": 18,
    "start_time": "2022-08-14T11:32:14.608Z"
   },
   {
    "duration": 16,
    "start_time": "2022-08-14T11:32:14.936Z"
   },
   {
    "duration": 24,
    "start_time": "2022-08-14T11:32:16.467Z"
   },
   {
    "duration": 5,
    "start_time": "2022-08-14T11:32:27.965Z"
   },
   {
    "duration": 16,
    "start_time": "2022-08-14T11:32:28.166Z"
   },
   {
    "duration": 11,
    "start_time": "2022-08-14T11:32:28.291Z"
   },
   {
    "duration": 17,
    "start_time": "2022-08-14T11:32:28.457Z"
   },
   {
    "duration": 2,
    "start_time": "2022-08-14T11:32:30.565Z"
   },
   {
    "duration": 2,
    "start_time": "2022-08-14T11:32:42.336Z"
   },
   {
    "duration": 13,
    "start_time": "2022-08-15T10:11:36.542Z"
   },
   {
    "duration": 48,
    "start_time": "2022-08-15T10:11:38.152Z"
   },
   {
    "duration": 915,
    "start_time": "2022-08-15T10:11:48.633Z"
   },
   {
    "duration": 164,
    "start_time": "2022-08-15T10:11:49.551Z"
   },
   {
    "duration": 9,
    "start_time": "2022-08-15T10:11:49.717Z"
   },
   {
    "duration": 51,
    "start_time": "2022-08-15T10:11:49.732Z"
   },
   {
    "duration": 3,
    "start_time": "2022-08-15T10:11:50.961Z"
   },
   {
    "duration": 13,
    "start_time": "2022-08-15T10:11:51.323Z"
   },
   {
    "duration": 4,
    "start_time": "2022-08-15T10:11:52.382Z"
   },
   {
    "duration": 24,
    "start_time": "2022-08-15T10:11:53.242Z"
   },
   {
    "duration": 20,
    "start_time": "2022-08-15T10:11:53.861Z"
   },
   {
    "duration": 25,
    "start_time": "2022-08-15T10:11:54.262Z"
   },
   {
    "duration": 68,
    "start_time": "2022-08-15T10:11:54.893Z"
   },
   {
    "duration": 87,
    "start_time": "2022-08-15T10:11:55.283Z"
   },
   {
    "duration": 83,
    "start_time": "2022-08-15T10:11:55.693Z"
   },
   {
    "duration": 44,
    "start_time": "2022-08-15T10:11:56.370Z"
   },
   {
    "duration": 4,
    "start_time": "2022-08-15T10:11:56.634Z"
   },
   {
    "duration": 11,
    "start_time": "2022-08-15T10:11:57.020Z"
   },
   {
    "duration": 37,
    "start_time": "2022-08-15T10:11:57.393Z"
   },
   {
    "duration": 35,
    "start_time": "2022-08-15T10:11:59.683Z"
   },
   {
    "duration": 35,
    "start_time": "2022-08-15T10:12:00.733Z"
   },
   {
    "duration": 3,
    "start_time": "2022-08-15T10:12:02.533Z"
   },
   {
    "duration": 17,
    "start_time": "2022-08-15T10:12:05.893Z"
   },
   {
    "duration": 14,
    "start_time": "2022-08-15T10:12:06.043Z"
   },
   {
    "duration": 14,
    "start_time": "2022-08-15T10:12:06.253Z"
   },
   {
    "duration": 21,
    "start_time": "2022-08-15T10:12:06.464Z"
   },
   {
    "duration": 21,
    "start_time": "2022-08-15T10:12:06.663Z"
   },
   {
    "duration": 16,
    "start_time": "2022-08-15T10:12:06.852Z"
   },
   {
    "duration": 7,
    "start_time": "2022-08-15T10:12:07.253Z"
   },
   {
    "duration": 13,
    "start_time": "2022-08-15T10:12:10.362Z"
   },
   {
    "duration": 9,
    "start_time": "2022-08-15T10:12:10.603Z"
   },
   {
    "duration": 6,
    "start_time": "2022-08-15T10:12:11.411Z"
   },
   {
    "duration": 21,
    "start_time": "2022-08-15T10:12:12.383Z"
   },
   {
    "duration": 15,
    "start_time": "2022-08-15T10:12:14.953Z"
   },
   {
    "duration": 22,
    "start_time": "2022-08-15T10:12:20.522Z"
   },
   {
    "duration": 16,
    "start_time": "2022-08-15T10:12:23.072Z"
   },
   {
    "duration": 8,
    "start_time": "2022-08-15T10:12:33.533Z"
   },
   {
    "duration": 34,
    "start_time": "2022-08-15T10:12:35.152Z"
   },
   {
    "duration": 4,
    "start_time": "2022-08-15T10:13:26.118Z"
   },
   {
    "duration": 7,
    "start_time": "2022-08-15T10:13:33.800Z"
   },
   {
    "duration": 7,
    "start_time": "2022-08-15T11:25:03.615Z"
   },
   {
    "duration": 8,
    "start_time": "2022-08-15T11:25:07.414Z"
   },
   {
    "duration": 7,
    "start_time": "2022-08-15T11:25:21.934Z"
   },
   {
    "duration": 5,
    "start_time": "2022-08-15T11:26:06.034Z"
   },
   {
    "duration": 678,
    "start_time": "2022-08-15T18:54:24.654Z"
   },
   {
    "duration": 131,
    "start_time": "2022-08-15T18:54:25.334Z"
   },
   {
    "duration": 5,
    "start_time": "2022-08-15T18:54:25.467Z"
   },
   {
    "duration": 59,
    "start_time": "2022-08-15T18:54:25.474Z"
   },
   {
    "duration": 4,
    "start_time": "2022-08-15T18:54:25.535Z"
   },
   {
    "duration": 26,
    "start_time": "2022-08-15T18:54:25.541Z"
   },
   {
    "duration": 6,
    "start_time": "2022-08-15T18:54:25.569Z"
   },
   {
    "duration": 45,
    "start_time": "2022-08-15T18:54:25.576Z"
   },
   {
    "duration": 22,
    "start_time": "2022-08-15T18:54:25.622Z"
   },
   {
    "duration": 23,
    "start_time": "2022-08-15T18:54:25.648Z"
   },
   {
    "duration": 87,
    "start_time": "2022-08-15T18:54:25.672Z"
   },
   {
    "duration": 84,
    "start_time": "2022-08-15T18:54:25.761Z"
   },
   {
    "duration": 70,
    "start_time": "2022-08-15T18:54:25.846Z"
   },
   {
    "duration": 38,
    "start_time": "2022-08-15T18:54:25.918Z"
   },
   {
    "duration": 4,
    "start_time": "2022-08-15T18:54:25.957Z"
   },
   {
    "duration": 37,
    "start_time": "2022-08-15T18:54:25.963Z"
   },
   {
    "duration": 75,
    "start_time": "2022-08-15T18:54:26.003Z"
   },
   {
    "duration": 45,
    "start_time": "2022-08-15T18:54:26.080Z"
   },
   {
    "duration": 27,
    "start_time": "2022-08-15T18:54:26.127Z"
   },
   {
    "duration": 3,
    "start_time": "2022-08-15T18:54:26.156Z"
   },
   {
    "duration": 39,
    "start_time": "2022-08-15T18:54:26.193Z"
   },
   {
    "duration": 38,
    "start_time": "2022-08-15T18:54:26.235Z"
   },
   {
    "duration": 21,
    "start_time": "2022-08-15T18:54:26.275Z"
   },
   {
    "duration": 58,
    "start_time": "2022-08-15T18:54:26.300Z"
   },
   {
    "duration": 16,
    "start_time": "2022-08-15T18:54:26.360Z"
   },
   {
    "duration": 24,
    "start_time": "2022-08-15T18:54:26.378Z"
   },
   {
    "duration": 24,
    "start_time": "2022-08-15T18:54:26.405Z"
   },
   {
    "duration": 22,
    "start_time": "2022-08-15T18:54:26.433Z"
   },
   {
    "duration": 14,
    "start_time": "2022-08-15T18:54:26.457Z"
   },
   {
    "duration": 17,
    "start_time": "2022-08-15T18:54:26.473Z"
   },
   {
    "duration": 53,
    "start_time": "2022-08-15T18:54:26.493Z"
   },
   {
    "duration": 16,
    "start_time": "2022-08-15T18:54:26.548Z"
   },
   {
    "duration": 43,
    "start_time": "2022-08-15T18:54:26.566Z"
   },
   {
    "duration": 27,
    "start_time": "2022-08-15T18:54:26.611Z"
   },
   {
    "duration": 8,
    "start_time": "2022-08-15T18:54:26.640Z"
   },
   {
    "duration": 16,
    "start_time": "2022-08-15T18:54:26.650Z"
   },
   {
    "duration": 64,
    "start_time": "2022-08-15T18:54:26.669Z"
   },
   {
    "duration": 37,
    "start_time": "2022-08-15T18:54:26.738Z"
   },
   {
    "duration": 0,
    "start_time": "2022-08-21T08:53:58.274Z"
   },
   {
    "duration": 98,
    "start_time": "2022-08-21T08:55:13.614Z"
   },
   {
    "duration": 84,
    "start_time": "2022-08-21T08:55:51.621Z"
   },
   {
    "duration": 81,
    "start_time": "2022-08-21T08:56:08.837Z"
   },
   {
    "duration": 78,
    "start_time": "2022-08-21T08:56:22.093Z"
   },
   {
    "duration": 88,
    "start_time": "2022-08-21T08:56:37.137Z"
   },
   {
    "duration": 88,
    "start_time": "2022-08-21T08:56:45.236Z"
   },
   {
    "duration": 45,
    "start_time": "2022-08-21T08:59:14.732Z"
   },
   {
    "duration": 603,
    "start_time": "2022-08-21T08:59:35.668Z"
   },
   {
    "duration": 122,
    "start_time": "2022-08-21T08:59:36.438Z"
   },
   {
    "duration": 9,
    "start_time": "2022-08-21T08:59:38.186Z"
   },
   {
    "duration": 7,
    "start_time": "2022-08-21T09:00:00.718Z"
   },
   {
    "duration": 42,
    "start_time": "2022-08-21T09:00:30.804Z"
   },
   {
    "duration": 147,
    "start_time": "2022-08-21T09:00:39.140Z"
   },
   {
    "duration": 13,
    "start_time": "2022-08-21T09:01:30.481Z"
   },
   {
    "duration": 41,
    "start_time": "2022-08-21T09:01:49.797Z"
   },
   {
    "duration": 21,
    "start_time": "2022-08-21T09:02:49.713Z"
   },
   {
    "duration": 31,
    "start_time": "2022-08-21T09:06:59.094Z"
   },
   {
    "duration": 3,
    "start_time": "2022-08-21T09:11:51.752Z"
   },
   {
    "duration": 3,
    "start_time": "2022-08-21T09:12:09.311Z"
   },
   {
    "duration": 54,
    "start_time": "2022-08-21T09:13:44.878Z"
   },
   {
    "duration": 10,
    "start_time": "2022-08-21T09:13:47.652Z"
   },
   {
    "duration": 140,
    "start_time": "2022-08-21T09:14:11.086Z"
   },
   {
    "duration": 118,
    "start_time": "2022-08-21T09:14:12.360Z"
   },
   {
    "duration": 9,
    "start_time": "2022-08-21T09:14:13.966Z"
   },
   {
    "duration": 23,
    "start_time": "2022-08-21T09:14:16.836Z"
   },
   {
    "duration": 3,
    "start_time": "2022-08-21T09:14:21.207Z"
   },
   {
    "duration": 10,
    "start_time": "2022-08-21T09:14:22.221Z"
   },
   {
    "duration": 4,
    "start_time": "2022-08-21T09:14:24.304Z"
   },
   {
    "duration": 19,
    "start_time": "2022-08-21T09:14:26.032Z"
   },
   {
    "duration": 20,
    "start_time": "2022-08-21T09:14:26.601Z"
   },
   {
    "duration": 16,
    "start_time": "2022-08-21T09:14:33.110Z"
   },
   {
    "duration": 19,
    "start_time": "2022-08-21T09:14:34.190Z"
   },
   {
    "duration": 58,
    "start_time": "2022-08-21T09:14:37.839Z"
   },
   {
    "duration": 61,
    "start_time": "2022-08-21T09:14:39.070Z"
   },
   {
    "duration": 61,
    "start_time": "2022-08-21T09:14:40.150Z"
   },
   {
    "duration": 39,
    "start_time": "2022-08-21T09:14:45.769Z"
   },
   {
    "duration": 2,
    "start_time": "2022-08-21T09:14:50.219Z"
   },
   {
    "duration": 9,
    "start_time": "2022-08-21T09:14:52.040Z"
   },
   {
    "duration": 39,
    "start_time": "2022-08-21T09:14:55.579Z"
   },
   {
    "duration": 40,
    "start_time": "2022-08-21T09:15:02.323Z"
   },
   {
    "duration": 27,
    "start_time": "2022-08-21T09:15:11.859Z"
   },
   {
    "duration": 36,
    "start_time": "2022-08-21T09:15:20.632Z"
   },
   {
    "duration": 24,
    "start_time": "2022-08-21T09:15:25.760Z"
   },
   {
    "duration": 27,
    "start_time": "2022-08-21T09:15:28.357Z"
   },
   {
    "duration": 24,
    "start_time": "2022-08-21T09:15:46.548Z"
   },
   {
    "duration": 3,
    "start_time": "2022-08-21T09:15:57.414Z"
   },
   {
    "duration": 14,
    "start_time": "2022-08-21T09:15:58.702Z"
   },
   {
    "duration": 161,
    "start_time": "2022-08-21T09:17:09.141Z"
   },
   {
    "duration": 110,
    "start_time": "2022-08-21T09:17:09.303Z"
   },
   {
    "duration": 8,
    "start_time": "2022-08-21T09:17:09.415Z"
   },
   {
    "duration": 28,
    "start_time": "2022-08-21T09:17:09.425Z"
   },
   {
    "duration": 4,
    "start_time": "2022-08-21T09:17:09.455Z"
   },
   {
    "duration": 7,
    "start_time": "2022-08-21T09:17:09.461Z"
   },
   {
    "duration": 6,
    "start_time": "2022-08-21T09:17:09.469Z"
   },
   {
    "duration": 52,
    "start_time": "2022-08-21T09:17:09.476Z"
   },
   {
    "duration": 19,
    "start_time": "2022-08-21T09:17:09.530Z"
   },
   {
    "duration": 14,
    "start_time": "2022-08-21T09:17:09.551Z"
   },
   {
    "duration": 23,
    "start_time": "2022-08-21T09:17:09.566Z"
   },
   {
    "duration": 55,
    "start_time": "2022-08-21T09:17:09.611Z"
   },
   {
    "duration": 68,
    "start_time": "2022-08-21T09:17:09.667Z"
   },
   {
    "duration": 49,
    "start_time": "2022-08-21T09:17:09.736Z"
   },
   {
    "duration": 53,
    "start_time": "2022-08-21T09:17:09.787Z"
   },
   {
    "duration": 2,
    "start_time": "2022-08-21T09:17:09.842Z"
   },
   {
    "duration": 11,
    "start_time": "2022-08-21T09:17:09.846Z"
   },
   {
    "duration": 53,
    "start_time": "2022-08-21T09:17:09.858Z"
   },
   {
    "duration": 25,
    "start_time": "2022-08-21T09:17:09.913Z"
   },
   {
    "duration": 23,
    "start_time": "2022-08-21T09:17:09.939Z"
   },
   {
    "duration": 2,
    "start_time": "2022-08-21T09:17:09.964Z"
   },
   {
    "duration": 16,
    "start_time": "2022-08-21T09:17:09.968Z"
   },
   {
    "duration": 33,
    "start_time": "2022-08-21T09:17:09.986Z"
   },
   {
    "duration": 15,
    "start_time": "2022-08-21T09:17:10.020Z"
   },
   {
    "duration": 16,
    "start_time": "2022-08-21T09:17:10.036Z"
   },
   {
    "duration": 14,
    "start_time": "2022-08-21T09:17:10.053Z"
   },
   {
    "duration": 17,
    "start_time": "2022-08-21T09:17:10.068Z"
   },
   {
    "duration": 7,
    "start_time": "2022-08-21T09:17:10.088Z"
   },
   {
    "duration": 22,
    "start_time": "2022-08-21T09:17:10.096Z"
   },
   {
    "duration": 8,
    "start_time": "2022-08-21T09:17:10.120Z"
   },
   {
    "duration": 6,
    "start_time": "2022-08-21T09:17:10.129Z"
   },
   {
    "duration": 19,
    "start_time": "2022-08-21T09:17:10.136Z"
   },
   {
    "duration": 11,
    "start_time": "2022-08-21T09:17:10.156Z"
   },
   {
    "duration": 43,
    "start_time": "2022-08-21T09:17:10.168Z"
   },
   {
    "duration": 12,
    "start_time": "2022-08-21T09:17:10.213Z"
   },
   {
    "duration": 8,
    "start_time": "2022-08-21T09:17:10.227Z"
   },
   {
    "duration": 4,
    "start_time": "2022-08-21T09:17:10.237Z"
   },
   {
    "duration": 12,
    "start_time": "2022-08-21T09:17:10.243Z"
   },
   {
    "duration": 7,
    "start_time": "2022-08-21T09:17:10.256Z"
   },
   {
    "duration": 12,
    "start_time": "2022-08-21T09:17:35.394Z"
   },
   {
    "duration": 69,
    "start_time": "2022-08-21T09:20:09.520Z"
   },
   {
    "duration": 57,
    "start_time": "2022-08-21T09:21:37.821Z"
   },
   {
    "duration": 0,
    "start_time": "2022-08-21T09:22:11.121Z"
   },
   {
    "duration": 0,
    "start_time": "2022-08-21T09:22:29.322Z"
   },
   {
    "duration": 13,
    "start_time": "2022-08-21T09:22:30.739Z"
   },
   {
    "duration": 26,
    "start_time": "2022-08-21T09:22:30.753Z"
   },
   {
    "duration": 652,
    "start_time": "2022-08-21T09:34:34.095Z"
   },
   {
    "duration": 4,
    "start_time": "2022-08-21T09:47:15.282Z"
   },
   {
    "duration": 3,
    "start_time": "2022-08-21T09:47:18.796Z"
   },
   {
    "duration": 16,
    "start_time": "2022-08-21T09:47:27.065Z"
   },
   {
    "duration": 14,
    "start_time": "2022-08-21T09:47:31.605Z"
   },
   {
    "duration": 13,
    "start_time": "2022-08-21T09:47:32.380Z"
   },
   {
    "duration": 15,
    "start_time": "2022-08-21T09:47:32.405Z"
   },
   {
    "duration": 17,
    "start_time": "2022-08-21T09:47:32.590Z"
   },
   {
    "duration": 13,
    "start_time": "2022-08-21T09:47:32.779Z"
   },
   {
    "duration": 9,
    "start_time": "2022-08-21T09:47:33.119Z"
   },
   {
    "duration": 11,
    "start_time": "2022-08-21T09:47:34.732Z"
   },
   {
    "duration": 9,
    "start_time": "2022-08-21T09:47:34.922Z"
   },
   {
    "duration": 4,
    "start_time": "2022-08-21T09:47:35.442Z"
   },
   {
    "duration": 15,
    "start_time": "2022-08-21T09:47:35.807Z"
   },
   {
    "duration": 11,
    "start_time": "2022-08-21T09:47:35.987Z"
   },
   {
    "duration": 17,
    "start_time": "2022-08-21T09:47:36.206Z"
   },
   {
    "duration": 11,
    "start_time": "2022-08-21T09:47:36.382Z"
   },
   {
    "duration": 9,
    "start_time": "2022-08-21T09:47:37.521Z"
   },
   {
    "duration": 4,
    "start_time": "2022-08-21T09:47:37.940Z"
   },
   {
    "duration": 5,
    "start_time": "2022-08-21T09:47:38.342Z"
   },
   {
    "duration": 149,
    "start_time": "2022-08-21T09:50:10.834Z"
   },
   {
    "duration": 102,
    "start_time": "2022-08-21T09:50:10.985Z"
   },
   {
    "duration": 9,
    "start_time": "2022-08-21T09:50:11.088Z"
   },
   {
    "duration": 22,
    "start_time": "2022-08-21T09:50:11.110Z"
   },
   {
    "duration": 4,
    "start_time": "2022-08-21T09:50:11.134Z"
   },
   {
    "duration": 11,
    "start_time": "2022-08-21T09:50:11.139Z"
   },
   {
    "duration": 4,
    "start_time": "2022-08-21T09:50:11.151Z"
   },
   {
    "duration": 26,
    "start_time": "2022-08-21T09:50:11.156Z"
   },
   {
    "duration": 36,
    "start_time": "2022-08-21T09:50:11.184Z"
   },
   {
    "duration": 13,
    "start_time": "2022-08-21T09:50:11.251Z"
   },
   {
    "duration": 19,
    "start_time": "2022-08-21T09:50:11.311Z"
   },
   {
    "duration": 52,
    "start_time": "2022-08-21T09:50:11.332Z"
   },
   {
    "duration": 64,
    "start_time": "2022-08-21T09:50:11.431Z"
   },
   {
    "duration": 51,
    "start_time": "2022-08-21T09:50:11.496Z"
   },
   {
    "duration": 36,
    "start_time": "2022-08-21T09:50:11.581Z"
   },
   {
    "duration": 3,
    "start_time": "2022-08-21T09:50:11.721Z"
   },
   {
    "duration": 8,
    "start_time": "2022-08-21T09:50:11.791Z"
   },
   {
    "duration": 36,
    "start_time": "2022-08-21T09:50:11.831Z"
   },
   {
    "duration": 25,
    "start_time": "2022-08-21T09:50:11.971Z"
   },
   {
    "duration": 25,
    "start_time": "2022-08-21T09:50:12.091Z"
   },
   {
    "duration": 3,
    "start_time": "2022-08-21T09:50:13.101Z"
   },
   {
    "duration": 15,
    "start_time": "2022-08-21T09:50:13.321Z"
   },
   {
    "duration": 14,
    "start_time": "2022-08-21T09:50:13.471Z"
   },
   {
    "duration": 14,
    "start_time": "2022-08-21T09:50:13.631Z"
   },
   {
    "duration": 13,
    "start_time": "2022-08-21T09:50:13.671Z"
   },
   {
    "duration": 14,
    "start_time": "2022-08-21T09:50:13.711Z"
   },
   {
    "duration": 12,
    "start_time": "2022-08-21T09:50:13.762Z"
   },
   {
    "duration": 8,
    "start_time": "2022-08-21T09:50:13.881Z"
   },
   {
    "duration": 11,
    "start_time": "2022-08-21T09:50:13.981Z"
   },
   {
    "duration": 9,
    "start_time": "2022-08-21T09:50:14.190Z"
   },
   {
    "duration": 4,
    "start_time": "2022-08-21T09:50:15.347Z"
   },
   {
    "duration": 16,
    "start_time": "2022-08-21T09:50:15.756Z"
   },
   {
    "duration": 9,
    "start_time": "2022-08-21T09:50:15.774Z"
   },
   {
    "duration": 16,
    "start_time": "2022-08-21T09:50:17.482Z"
   },
   {
    "duration": 11,
    "start_time": "2022-08-21T09:50:17.500Z"
   },
   {
    "duration": 8,
    "start_time": "2022-08-21T09:50:17.512Z"
   },
   {
    "duration": 7,
    "start_time": "2022-08-21T09:50:17.521Z"
   },
   {
    "duration": 6,
    "start_time": "2022-08-21T09:50:17.530Z"
   },
   {
    "duration": 4,
    "start_time": "2022-08-21T09:50:17.716Z"
   },
   {
    "duration": 5,
    "start_time": "2022-08-21T09:50:36.951Z"
   },
   {
    "duration": 3,
    "start_time": "2022-08-21T09:50:57.375Z"
   },
   {
    "duration": 4,
    "start_time": "2022-08-21T09:51:03.131Z"
   },
   {
    "duration": 20,
    "start_time": "2022-08-21T09:52:09.776Z"
   },
   {
    "duration": 0,
    "start_time": "2022-08-21T09:52:56.656Z"
   },
   {
    "duration": 20,
    "start_time": "2022-08-21T09:53:12.228Z"
   },
   {
    "duration": 21,
    "start_time": "2022-08-21T09:53:23.924Z"
   },
   {
    "duration": 19,
    "start_time": "2022-08-21T09:53:35.993Z"
   },
   {
    "duration": 20,
    "start_time": "2022-08-21T09:53:44.081Z"
   },
   {
    "duration": 18,
    "start_time": "2022-08-21T09:53:49.217Z"
   },
   {
    "duration": 144,
    "start_time": "2022-08-21T09:53:56.840Z"
   },
   {
    "duration": 103,
    "start_time": "2022-08-21T09:53:57.660Z"
   },
   {
    "duration": 10,
    "start_time": "2022-08-21T09:53:59.137Z"
   },
   {
    "duration": 22,
    "start_time": "2022-08-21T09:54:02.855Z"
   },
   {
    "duration": 3,
    "start_time": "2022-08-21T09:54:06.344Z"
   },
   {
    "duration": 6,
    "start_time": "2022-08-21T09:54:06.750Z"
   },
   {
    "duration": 4,
    "start_time": "2022-08-21T09:54:07.251Z"
   },
   {
    "duration": 20,
    "start_time": "2022-08-21T09:54:08.263Z"
   },
   {
    "duration": 20,
    "start_time": "2022-08-21T09:54:09.283Z"
   },
   {
    "duration": 20,
    "start_time": "2022-08-21T09:54:18.828Z"
   },
   {
    "duration": 14,
    "start_time": "2022-08-21T09:54:45.740Z"
   },
   {
    "duration": 18,
    "start_time": "2022-08-21T09:54:45.755Z"
   },
   {
    "duration": 53,
    "start_time": "2022-08-21T09:54:45.775Z"
   },
   {
    "duration": 56,
    "start_time": "2022-08-21T09:54:45.829Z"
   },
   {
    "duration": 60,
    "start_time": "2022-08-21T09:54:45.887Z"
   },
   {
    "duration": 44,
    "start_time": "2022-08-21T09:54:57.419Z"
   },
   {
    "duration": 2,
    "start_time": "2022-08-21T09:54:58.876Z"
   },
   {
    "duration": 10,
    "start_time": "2022-08-21T09:54:59.231Z"
   },
   {
    "duration": 37,
    "start_time": "2022-08-21T09:55:01.808Z"
   },
   {
    "duration": 27,
    "start_time": "2022-08-21T09:55:03.346Z"
   },
   {
    "duration": 23,
    "start_time": "2022-08-21T09:55:03.374Z"
   },
   {
    "duration": 4,
    "start_time": "2022-08-21T09:55:05.230Z"
   },
   {
    "duration": 15,
    "start_time": "2022-08-21T09:55:05.763Z"
   },
   {
    "duration": 14,
    "start_time": "2022-08-21T09:55:05.946Z"
   },
   {
    "duration": 13,
    "start_time": "2022-08-21T09:55:06.131Z"
   },
   {
    "duration": 12,
    "start_time": "2022-08-21T09:55:06.313Z"
   },
   {
    "duration": 14,
    "start_time": "2022-08-21T09:55:06.515Z"
   },
   {
    "duration": 13,
    "start_time": "2022-08-21T09:55:06.691Z"
   },
   {
    "duration": 8,
    "start_time": "2022-08-21T09:55:07.086Z"
   },
   {
    "duration": 11,
    "start_time": "2022-08-21T09:55:08.400Z"
   },
   {
    "duration": 10,
    "start_time": "2022-08-21T09:55:08.579Z"
   },
   {
    "duration": 4,
    "start_time": "2022-08-21T09:55:09.164Z"
   },
   {
    "duration": 16,
    "start_time": "2022-08-21T09:55:09.548Z"
   },
   {
    "duration": 12,
    "start_time": "2022-08-21T09:55:09.763Z"
   },
   {
    "duration": 16,
    "start_time": "2022-08-21T09:55:09.965Z"
   },
   {
    "duration": 12,
    "start_time": "2022-08-21T09:55:10.136Z"
   },
   {
    "duration": 8,
    "start_time": "2022-08-21T09:55:11.365Z"
   },
   {
    "duration": 4,
    "start_time": "2022-08-21T09:55:11.758Z"
   },
   {
    "duration": 5,
    "start_time": "2022-08-21T09:55:12.185Z"
   },
   {
    "duration": 4,
    "start_time": "2022-08-21T09:55:12.746Z"
   },
   {
    "duration": 823,
    "start_time": "2022-08-22T06:39:04.005Z"
   },
   {
    "duration": 672,
    "start_time": "2022-08-22T06:39:04.830Z"
   },
   {
    "duration": 97,
    "start_time": "2022-08-22T06:39:05.505Z"
   },
   {
    "duration": 297,
    "start_time": "2022-08-22T06:39:05.604Z"
   },
   {
    "duration": 7,
    "start_time": "2022-08-22T06:39:05.903Z"
   },
   {
    "duration": 76,
    "start_time": "2022-08-22T06:39:05.912Z"
   },
   {
    "duration": 33,
    "start_time": "2022-08-22T06:39:05.998Z"
   },
   {
    "duration": 180,
    "start_time": "2022-08-22T06:39:06.035Z"
   },
   {
    "duration": 103,
    "start_time": "2022-08-22T06:39:06.219Z"
   },
   {
    "duration": 93,
    "start_time": "2022-08-22T06:39:06.326Z"
   },
   {
    "duration": 90,
    "start_time": "2022-08-22T06:39:06.422Z"
   },
   {
    "duration": 96,
    "start_time": "2022-08-22T06:39:06.516Z"
   },
   {
    "duration": 125,
    "start_time": "2022-08-22T06:39:06.616Z"
   },
   {
    "duration": 181,
    "start_time": "2022-08-22T06:39:06.743Z"
   },
   {
    "duration": 78,
    "start_time": "2022-08-22T06:39:06.926Z"
   },
   {
    "duration": 3,
    "start_time": "2022-08-22T06:39:07.007Z"
   },
   {
    "duration": 16,
    "start_time": "2022-08-22T06:39:07.012Z"
   },
   {
    "duration": 42,
    "start_time": "2022-08-22T06:39:07.029Z"
   },
   {
    "duration": 52,
    "start_time": "2022-08-22T06:39:07.073Z"
   },
   {
    "duration": 34,
    "start_time": "2022-08-22T06:39:07.127Z"
   },
   {
    "duration": 4,
    "start_time": "2022-08-22T06:39:07.163Z"
   },
   {
    "duration": 26,
    "start_time": "2022-08-22T06:39:07.187Z"
   },
   {
    "duration": 22,
    "start_time": "2022-08-22T06:39:07.215Z"
   },
   {
    "duration": 17,
    "start_time": "2022-08-22T06:39:07.239Z"
   },
   {
    "duration": 52,
    "start_time": "2022-08-22T06:39:07.258Z"
   },
   {
    "duration": 17,
    "start_time": "2022-08-22T06:39:07.312Z"
   },
   {
    "duration": 18,
    "start_time": "2022-08-22T06:39:07.330Z"
   },
   {
    "duration": 45,
    "start_time": "2022-08-22T06:39:07.351Z"
   },
   {
    "duration": 16,
    "start_time": "2022-08-22T06:39:07.402Z"
   },
   {
    "duration": 11,
    "start_time": "2022-08-22T06:39:07.419Z"
   },
   {
    "duration": 5,
    "start_time": "2022-08-22T06:39:07.431Z"
   },
   {
    "duration": 24,
    "start_time": "2022-08-22T06:39:07.438Z"
   },
   {
    "duration": 32,
    "start_time": "2022-08-22T06:39:07.463Z"
   },
   {
    "duration": 25,
    "start_time": "2022-08-22T06:39:07.497Z"
   },
   {
    "duration": 17,
    "start_time": "2022-08-22T06:39:07.524Z"
   },
   {
    "duration": 15,
    "start_time": "2022-08-22T06:39:07.543Z"
   },
   {
    "duration": 33,
    "start_time": "2022-08-22T06:39:07.560Z"
   },
   {
    "duration": 22,
    "start_time": "2022-08-22T06:39:07.601Z"
   },
   {
    "duration": 10,
    "start_time": "2022-08-22T06:39:07.625Z"
   }
  ],
  "colab": {
   "collapsed_sections": [
    "E0vqbgi9ay0H",
    "VUC88oWjTJw2",
    "atZAxtq4_Zcu"
   ],
   "name": "EmptyFinalProject.ipynb\"",
   "provenance": []
  },
  "kernelspec": {
   "display_name": "Python 3",
   "language": "python",
   "name": "python3"
  },
  "language_info": {
   "codemirror_mode": {
    "name": "ipython",
    "version": 3
   },
   "file_extension": ".py",
   "mimetype": "text/x-python",
   "name": "python",
   "nbconvert_exporter": "python",
   "pygments_lexer": "ipython3",
   "version": "3.8.5"
  },
  "toc": {
   "base_numbering": 1,
   "nav_menu": {},
   "number_sections": true,
   "sideBar": true,
   "skip_h1_title": true,
   "title_cell": "Table of Contents",
   "title_sidebar": "Contents",
   "toc_cell": false,
   "toc_position": {},
   "toc_section_display": true,
   "toc_window_display": false
  }
 },
 "nbformat": 4,
 "nbformat_minor": 4
}
